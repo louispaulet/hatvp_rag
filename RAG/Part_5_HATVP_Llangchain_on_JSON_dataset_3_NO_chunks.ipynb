{
  "nbformat": 4,
  "nbformat_minor": 0,
  "metadata": {
    "colab": {
      "provenance": []
    },
    "kernelspec": {
      "name": "python3",
      "display_name": "Python 3"
    },
    "language_info": {
      "name": "python"
    },
    "widgets": {
      "application/vnd.jupyter.widget-state+json": {
        "db110b9b90e94707a90720b165bfac69": {
          "model_module": "@jupyter-widgets/controls",
          "model_name": "HBoxModel",
          "model_module_version": "1.5.0",
          "state": {
            "_dom_classes": [],
            "_model_module": "@jupyter-widgets/controls",
            "_model_module_version": "1.5.0",
            "_model_name": "HBoxModel",
            "_view_count": null,
            "_view_module": "@jupyter-widgets/controls",
            "_view_module_version": "1.5.0",
            "_view_name": "HBoxView",
            "box_style": "",
            "children": [
              "IPY_MODEL_fa4992e1a4124a2eb83cd7b2cf5672fe",
              "IPY_MODEL_e1ff5596797b4ef996cae02361991366",
              "IPY_MODEL_b1916971085145c0a625258aa5832739"
            ],
            "layout": "IPY_MODEL_17655bf877784ca1aaeed1d2db674900"
          }
        },
        "fa4992e1a4124a2eb83cd7b2cf5672fe": {
          "model_module": "@jupyter-widgets/controls",
          "model_name": "HTMLModel",
          "model_module_version": "1.5.0",
          "state": {
            "_dom_classes": [],
            "_model_module": "@jupyter-widgets/controls",
            "_model_module_version": "1.5.0",
            "_model_name": "HTMLModel",
            "_view_count": null,
            "_view_module": "@jupyter-widgets/controls",
            "_view_module_version": "1.5.0",
            "_view_name": "HTMLView",
            "description": "",
            "description_tooltip": null,
            "layout": "IPY_MODEL_aa5d5753c8b64a54a757e431d05c3565",
            "placeholder": "​",
            "style": "IPY_MODEL_4a5c280bbf994611bf1dde87c6415121",
            "value": "Downloading readme: 100%"
          }
        },
        "e1ff5596797b4ef996cae02361991366": {
          "model_module": "@jupyter-widgets/controls",
          "model_name": "FloatProgressModel",
          "model_module_version": "1.5.0",
          "state": {
            "_dom_classes": [],
            "_model_module": "@jupyter-widgets/controls",
            "_model_module_version": "1.5.0",
            "_model_name": "FloatProgressModel",
            "_view_count": null,
            "_view_module": "@jupyter-widgets/controls",
            "_view_module_version": "1.5.0",
            "_view_name": "ProgressView",
            "bar_style": "success",
            "description": "",
            "description_tooltip": null,
            "layout": "IPY_MODEL_0ab7a03d642d41198fcdac10961bffa8",
            "max": 456,
            "min": 0,
            "orientation": "horizontal",
            "style": "IPY_MODEL_2094eaedc52542c99187671843861a1e",
            "value": 456
          }
        },
        "b1916971085145c0a625258aa5832739": {
          "model_module": "@jupyter-widgets/controls",
          "model_name": "HTMLModel",
          "model_module_version": "1.5.0",
          "state": {
            "_dom_classes": [],
            "_model_module": "@jupyter-widgets/controls",
            "_model_module_version": "1.5.0",
            "_model_name": "HTMLModel",
            "_view_count": null,
            "_view_module": "@jupyter-widgets/controls",
            "_view_module_version": "1.5.0",
            "_view_name": "HTMLView",
            "description": "",
            "description_tooltip": null,
            "layout": "IPY_MODEL_52d0ebbaa8cb4b1da6c5ff31eb50f32f",
            "placeholder": "​",
            "style": "IPY_MODEL_07b51736b0364419a669af5f18d3d20a",
            "value": " 456/456 [00:00&lt;00:00, 13.6kB/s]"
          }
        },
        "17655bf877784ca1aaeed1d2db674900": {
          "model_module": "@jupyter-widgets/base",
          "model_name": "LayoutModel",
          "model_module_version": "1.2.0",
          "state": {
            "_model_module": "@jupyter-widgets/base",
            "_model_module_version": "1.2.0",
            "_model_name": "LayoutModel",
            "_view_count": null,
            "_view_module": "@jupyter-widgets/base",
            "_view_module_version": "1.2.0",
            "_view_name": "LayoutView",
            "align_content": null,
            "align_items": null,
            "align_self": null,
            "border": null,
            "bottom": null,
            "display": null,
            "flex": null,
            "flex_flow": null,
            "grid_area": null,
            "grid_auto_columns": null,
            "grid_auto_flow": null,
            "grid_auto_rows": null,
            "grid_column": null,
            "grid_gap": null,
            "grid_row": null,
            "grid_template_areas": null,
            "grid_template_columns": null,
            "grid_template_rows": null,
            "height": null,
            "justify_content": null,
            "justify_items": null,
            "left": null,
            "margin": null,
            "max_height": null,
            "max_width": null,
            "min_height": null,
            "min_width": null,
            "object_fit": null,
            "object_position": null,
            "order": null,
            "overflow": null,
            "overflow_x": null,
            "overflow_y": null,
            "padding": null,
            "right": null,
            "top": null,
            "visibility": null,
            "width": null
          }
        },
        "aa5d5753c8b64a54a757e431d05c3565": {
          "model_module": "@jupyter-widgets/base",
          "model_name": "LayoutModel",
          "model_module_version": "1.2.0",
          "state": {
            "_model_module": "@jupyter-widgets/base",
            "_model_module_version": "1.2.0",
            "_model_name": "LayoutModel",
            "_view_count": null,
            "_view_module": "@jupyter-widgets/base",
            "_view_module_version": "1.2.0",
            "_view_name": "LayoutView",
            "align_content": null,
            "align_items": null,
            "align_self": null,
            "border": null,
            "bottom": null,
            "display": null,
            "flex": null,
            "flex_flow": null,
            "grid_area": null,
            "grid_auto_columns": null,
            "grid_auto_flow": null,
            "grid_auto_rows": null,
            "grid_column": null,
            "grid_gap": null,
            "grid_row": null,
            "grid_template_areas": null,
            "grid_template_columns": null,
            "grid_template_rows": null,
            "height": null,
            "justify_content": null,
            "justify_items": null,
            "left": null,
            "margin": null,
            "max_height": null,
            "max_width": null,
            "min_height": null,
            "min_width": null,
            "object_fit": null,
            "object_position": null,
            "order": null,
            "overflow": null,
            "overflow_x": null,
            "overflow_y": null,
            "padding": null,
            "right": null,
            "top": null,
            "visibility": null,
            "width": null
          }
        },
        "4a5c280bbf994611bf1dde87c6415121": {
          "model_module": "@jupyter-widgets/controls",
          "model_name": "DescriptionStyleModel",
          "model_module_version": "1.5.0",
          "state": {
            "_model_module": "@jupyter-widgets/controls",
            "_model_module_version": "1.5.0",
            "_model_name": "DescriptionStyleModel",
            "_view_count": null,
            "_view_module": "@jupyter-widgets/base",
            "_view_module_version": "1.2.0",
            "_view_name": "StyleView",
            "description_width": ""
          }
        },
        "0ab7a03d642d41198fcdac10961bffa8": {
          "model_module": "@jupyter-widgets/base",
          "model_name": "LayoutModel",
          "model_module_version": "1.2.0",
          "state": {
            "_model_module": "@jupyter-widgets/base",
            "_model_module_version": "1.2.0",
            "_model_name": "LayoutModel",
            "_view_count": null,
            "_view_module": "@jupyter-widgets/base",
            "_view_module_version": "1.2.0",
            "_view_name": "LayoutView",
            "align_content": null,
            "align_items": null,
            "align_self": null,
            "border": null,
            "bottom": null,
            "display": null,
            "flex": null,
            "flex_flow": null,
            "grid_area": null,
            "grid_auto_columns": null,
            "grid_auto_flow": null,
            "grid_auto_rows": null,
            "grid_column": null,
            "grid_gap": null,
            "grid_row": null,
            "grid_template_areas": null,
            "grid_template_columns": null,
            "grid_template_rows": null,
            "height": null,
            "justify_content": null,
            "justify_items": null,
            "left": null,
            "margin": null,
            "max_height": null,
            "max_width": null,
            "min_height": null,
            "min_width": null,
            "object_fit": null,
            "object_position": null,
            "order": null,
            "overflow": null,
            "overflow_x": null,
            "overflow_y": null,
            "padding": null,
            "right": null,
            "top": null,
            "visibility": null,
            "width": null
          }
        },
        "2094eaedc52542c99187671843861a1e": {
          "model_module": "@jupyter-widgets/controls",
          "model_name": "ProgressStyleModel",
          "model_module_version": "1.5.0",
          "state": {
            "_model_module": "@jupyter-widgets/controls",
            "_model_module_version": "1.5.0",
            "_model_name": "ProgressStyleModel",
            "_view_count": null,
            "_view_module": "@jupyter-widgets/base",
            "_view_module_version": "1.2.0",
            "_view_name": "StyleView",
            "bar_color": null,
            "description_width": ""
          }
        },
        "52d0ebbaa8cb4b1da6c5ff31eb50f32f": {
          "model_module": "@jupyter-widgets/base",
          "model_name": "LayoutModel",
          "model_module_version": "1.2.0",
          "state": {
            "_model_module": "@jupyter-widgets/base",
            "_model_module_version": "1.2.0",
            "_model_name": "LayoutModel",
            "_view_count": null,
            "_view_module": "@jupyter-widgets/base",
            "_view_module_version": "1.2.0",
            "_view_name": "LayoutView",
            "align_content": null,
            "align_items": null,
            "align_self": null,
            "border": null,
            "bottom": null,
            "display": null,
            "flex": null,
            "flex_flow": null,
            "grid_area": null,
            "grid_auto_columns": null,
            "grid_auto_flow": null,
            "grid_auto_rows": null,
            "grid_column": null,
            "grid_gap": null,
            "grid_row": null,
            "grid_template_areas": null,
            "grid_template_columns": null,
            "grid_template_rows": null,
            "height": null,
            "justify_content": null,
            "justify_items": null,
            "left": null,
            "margin": null,
            "max_height": null,
            "max_width": null,
            "min_height": null,
            "min_width": null,
            "object_fit": null,
            "object_position": null,
            "order": null,
            "overflow": null,
            "overflow_x": null,
            "overflow_y": null,
            "padding": null,
            "right": null,
            "top": null,
            "visibility": null,
            "width": null
          }
        },
        "07b51736b0364419a669af5f18d3d20a": {
          "model_module": "@jupyter-widgets/controls",
          "model_name": "DescriptionStyleModel",
          "model_module_version": "1.5.0",
          "state": {
            "_model_module": "@jupyter-widgets/controls",
            "_model_module_version": "1.5.0",
            "_model_name": "DescriptionStyleModel",
            "_view_count": null,
            "_view_module": "@jupyter-widgets/base",
            "_view_module_version": "1.2.0",
            "_view_name": "StyleView",
            "description_width": ""
          }
        },
        "4a530311d91040f7b669fff478d44de4": {
          "model_module": "@jupyter-widgets/controls",
          "model_name": "HBoxModel",
          "model_module_version": "1.5.0",
          "state": {
            "_dom_classes": [],
            "_model_module": "@jupyter-widgets/controls",
            "_model_module_version": "1.5.0",
            "_model_name": "HBoxModel",
            "_view_count": null,
            "_view_module": "@jupyter-widgets/controls",
            "_view_module_version": "1.5.0",
            "_view_name": "HBoxView",
            "box_style": "",
            "children": [
              "IPY_MODEL_29f043d8e44c4a5f9861b6db4b3be929",
              "IPY_MODEL_8aa454c2116d46a78e172c8ac94fc6ad",
              "IPY_MODEL_59052aba3e874466b1b9acff4162abb6"
            ],
            "layout": "IPY_MODEL_c863d0546ade4c2e928128d36017804d"
          }
        },
        "29f043d8e44c4a5f9861b6db4b3be929": {
          "model_module": "@jupyter-widgets/controls",
          "model_name": "HTMLModel",
          "model_module_version": "1.5.0",
          "state": {
            "_dom_classes": [],
            "_model_module": "@jupyter-widgets/controls",
            "_model_module_version": "1.5.0",
            "_model_name": "HTMLModel",
            "_view_count": null,
            "_view_module": "@jupyter-widgets/controls",
            "_view_module_version": "1.5.0",
            "_view_name": "HTMLView",
            "description": "",
            "description_tooltip": null,
            "layout": "IPY_MODEL_b03cc169f0e944cf8a77957872867852",
            "placeholder": "​",
            "style": "IPY_MODEL_b9877948e2e94094a14c7b1075e8dfea",
            "value": "Downloading data: 100%"
          }
        },
        "8aa454c2116d46a78e172c8ac94fc6ad": {
          "model_module": "@jupyter-widgets/controls",
          "model_name": "FloatProgressModel",
          "model_module_version": "1.5.0",
          "state": {
            "_dom_classes": [],
            "_model_module": "@jupyter-widgets/controls",
            "_model_module_version": "1.5.0",
            "_model_name": "FloatProgressModel",
            "_view_count": null,
            "_view_module": "@jupyter-widgets/controls",
            "_view_module_version": "1.5.0",
            "_view_name": "ProgressView",
            "bar_style": "success",
            "description": "",
            "description_tooltip": null,
            "layout": "IPY_MODEL_ac163b935e9d4abba35dda66444ff6de",
            "max": 29172608,
            "min": 0,
            "orientation": "horizontal",
            "style": "IPY_MODEL_af0b755a1a0941cd9cfd21bfebfc0ad8",
            "value": 29172608
          }
        },
        "59052aba3e874466b1b9acff4162abb6": {
          "model_module": "@jupyter-widgets/controls",
          "model_name": "HTMLModel",
          "model_module_version": "1.5.0",
          "state": {
            "_dom_classes": [],
            "_model_module": "@jupyter-widgets/controls",
            "_model_module_version": "1.5.0",
            "_model_name": "HTMLModel",
            "_view_count": null,
            "_view_module": "@jupyter-widgets/controls",
            "_view_module_version": "1.5.0",
            "_view_name": "HTMLView",
            "description": "",
            "description_tooltip": null,
            "layout": "IPY_MODEL_9ff21fb942844e82908fed63b4870a0d",
            "placeholder": "​",
            "style": "IPY_MODEL_5a68ace4a44d45ea9c148a4d727710d3",
            "value": " 29.2M/29.2M [00:00&lt;00:00, 28.5MB/s]"
          }
        },
        "c863d0546ade4c2e928128d36017804d": {
          "model_module": "@jupyter-widgets/base",
          "model_name": "LayoutModel",
          "model_module_version": "1.2.0",
          "state": {
            "_model_module": "@jupyter-widgets/base",
            "_model_module_version": "1.2.0",
            "_model_name": "LayoutModel",
            "_view_count": null,
            "_view_module": "@jupyter-widgets/base",
            "_view_module_version": "1.2.0",
            "_view_name": "LayoutView",
            "align_content": null,
            "align_items": null,
            "align_self": null,
            "border": null,
            "bottom": null,
            "display": null,
            "flex": null,
            "flex_flow": null,
            "grid_area": null,
            "grid_auto_columns": null,
            "grid_auto_flow": null,
            "grid_auto_rows": null,
            "grid_column": null,
            "grid_gap": null,
            "grid_row": null,
            "grid_template_areas": null,
            "grid_template_columns": null,
            "grid_template_rows": null,
            "height": null,
            "justify_content": null,
            "justify_items": null,
            "left": null,
            "margin": null,
            "max_height": null,
            "max_width": null,
            "min_height": null,
            "min_width": null,
            "object_fit": null,
            "object_position": null,
            "order": null,
            "overflow": null,
            "overflow_x": null,
            "overflow_y": null,
            "padding": null,
            "right": null,
            "top": null,
            "visibility": null,
            "width": null
          }
        },
        "b03cc169f0e944cf8a77957872867852": {
          "model_module": "@jupyter-widgets/base",
          "model_name": "LayoutModel",
          "model_module_version": "1.2.0",
          "state": {
            "_model_module": "@jupyter-widgets/base",
            "_model_module_version": "1.2.0",
            "_model_name": "LayoutModel",
            "_view_count": null,
            "_view_module": "@jupyter-widgets/base",
            "_view_module_version": "1.2.0",
            "_view_name": "LayoutView",
            "align_content": null,
            "align_items": null,
            "align_self": null,
            "border": null,
            "bottom": null,
            "display": null,
            "flex": null,
            "flex_flow": null,
            "grid_area": null,
            "grid_auto_columns": null,
            "grid_auto_flow": null,
            "grid_auto_rows": null,
            "grid_column": null,
            "grid_gap": null,
            "grid_row": null,
            "grid_template_areas": null,
            "grid_template_columns": null,
            "grid_template_rows": null,
            "height": null,
            "justify_content": null,
            "justify_items": null,
            "left": null,
            "margin": null,
            "max_height": null,
            "max_width": null,
            "min_height": null,
            "min_width": null,
            "object_fit": null,
            "object_position": null,
            "order": null,
            "overflow": null,
            "overflow_x": null,
            "overflow_y": null,
            "padding": null,
            "right": null,
            "top": null,
            "visibility": null,
            "width": null
          }
        },
        "b9877948e2e94094a14c7b1075e8dfea": {
          "model_module": "@jupyter-widgets/controls",
          "model_name": "DescriptionStyleModel",
          "model_module_version": "1.5.0",
          "state": {
            "_model_module": "@jupyter-widgets/controls",
            "_model_module_version": "1.5.0",
            "_model_name": "DescriptionStyleModel",
            "_view_count": null,
            "_view_module": "@jupyter-widgets/base",
            "_view_module_version": "1.2.0",
            "_view_name": "StyleView",
            "description_width": ""
          }
        },
        "ac163b935e9d4abba35dda66444ff6de": {
          "model_module": "@jupyter-widgets/base",
          "model_name": "LayoutModel",
          "model_module_version": "1.2.0",
          "state": {
            "_model_module": "@jupyter-widgets/base",
            "_model_module_version": "1.2.0",
            "_model_name": "LayoutModel",
            "_view_count": null,
            "_view_module": "@jupyter-widgets/base",
            "_view_module_version": "1.2.0",
            "_view_name": "LayoutView",
            "align_content": null,
            "align_items": null,
            "align_self": null,
            "border": null,
            "bottom": null,
            "display": null,
            "flex": null,
            "flex_flow": null,
            "grid_area": null,
            "grid_auto_columns": null,
            "grid_auto_flow": null,
            "grid_auto_rows": null,
            "grid_column": null,
            "grid_gap": null,
            "grid_row": null,
            "grid_template_areas": null,
            "grid_template_columns": null,
            "grid_template_rows": null,
            "height": null,
            "justify_content": null,
            "justify_items": null,
            "left": null,
            "margin": null,
            "max_height": null,
            "max_width": null,
            "min_height": null,
            "min_width": null,
            "object_fit": null,
            "object_position": null,
            "order": null,
            "overflow": null,
            "overflow_x": null,
            "overflow_y": null,
            "padding": null,
            "right": null,
            "top": null,
            "visibility": null,
            "width": null
          }
        },
        "af0b755a1a0941cd9cfd21bfebfc0ad8": {
          "model_module": "@jupyter-widgets/controls",
          "model_name": "ProgressStyleModel",
          "model_module_version": "1.5.0",
          "state": {
            "_model_module": "@jupyter-widgets/controls",
            "_model_module_version": "1.5.0",
            "_model_name": "ProgressStyleModel",
            "_view_count": null,
            "_view_module": "@jupyter-widgets/base",
            "_view_module_version": "1.2.0",
            "_view_name": "StyleView",
            "bar_color": null,
            "description_width": ""
          }
        },
        "9ff21fb942844e82908fed63b4870a0d": {
          "model_module": "@jupyter-widgets/base",
          "model_name": "LayoutModel",
          "model_module_version": "1.2.0",
          "state": {
            "_model_module": "@jupyter-widgets/base",
            "_model_module_version": "1.2.0",
            "_model_name": "LayoutModel",
            "_view_count": null,
            "_view_module": "@jupyter-widgets/base",
            "_view_module_version": "1.2.0",
            "_view_name": "LayoutView",
            "align_content": null,
            "align_items": null,
            "align_self": null,
            "border": null,
            "bottom": null,
            "display": null,
            "flex": null,
            "flex_flow": null,
            "grid_area": null,
            "grid_auto_columns": null,
            "grid_auto_flow": null,
            "grid_auto_rows": null,
            "grid_column": null,
            "grid_gap": null,
            "grid_row": null,
            "grid_template_areas": null,
            "grid_template_columns": null,
            "grid_template_rows": null,
            "height": null,
            "justify_content": null,
            "justify_items": null,
            "left": null,
            "margin": null,
            "max_height": null,
            "max_width": null,
            "min_height": null,
            "min_width": null,
            "object_fit": null,
            "object_position": null,
            "order": null,
            "overflow": null,
            "overflow_x": null,
            "overflow_y": null,
            "padding": null,
            "right": null,
            "top": null,
            "visibility": null,
            "width": null
          }
        },
        "5a68ace4a44d45ea9c148a4d727710d3": {
          "model_module": "@jupyter-widgets/controls",
          "model_name": "DescriptionStyleModel",
          "model_module_version": "1.5.0",
          "state": {
            "_model_module": "@jupyter-widgets/controls",
            "_model_module_version": "1.5.0",
            "_model_name": "DescriptionStyleModel",
            "_view_count": null,
            "_view_module": "@jupyter-widgets/base",
            "_view_module_version": "1.2.0",
            "_view_name": "StyleView",
            "description_width": ""
          }
        },
        "277545cb6ba9436889eb5105f44c4608": {
          "model_module": "@jupyter-widgets/controls",
          "model_name": "HBoxModel",
          "model_module_version": "1.5.0",
          "state": {
            "_dom_classes": [],
            "_model_module": "@jupyter-widgets/controls",
            "_model_module_version": "1.5.0",
            "_model_name": "HBoxModel",
            "_view_count": null,
            "_view_module": "@jupyter-widgets/controls",
            "_view_module_version": "1.5.0",
            "_view_name": "HBoxView",
            "box_style": "",
            "children": [
              "IPY_MODEL_c87d0db5a9c74747901801dd5abf6744",
              "IPY_MODEL_97dbc6c11f0e4e448afe99c5796b9979",
              "IPY_MODEL_3238489386594fe3889f255a3cf6c589"
            ],
            "layout": "IPY_MODEL_c165068bd10f4e9f8685a6a468c777cb"
          }
        },
        "c87d0db5a9c74747901801dd5abf6744": {
          "model_module": "@jupyter-widgets/controls",
          "model_name": "HTMLModel",
          "model_module_version": "1.5.0",
          "state": {
            "_dom_classes": [],
            "_model_module": "@jupyter-widgets/controls",
            "_model_module_version": "1.5.0",
            "_model_name": "HTMLModel",
            "_view_count": null,
            "_view_module": "@jupyter-widgets/controls",
            "_view_module_version": "1.5.0",
            "_view_name": "HTMLView",
            "description": "",
            "description_tooltip": null,
            "layout": "IPY_MODEL_72f8894f3df64acfa6e9106fb6355500",
            "placeholder": "​",
            "style": "IPY_MODEL_65246f92a6e44ce089b8fcd7b449d9e2",
            "value": "Generating train split: 100%"
          }
        },
        "97dbc6c11f0e4e448afe99c5796b9979": {
          "model_module": "@jupyter-widgets/controls",
          "model_name": "FloatProgressModel",
          "model_module_version": "1.5.0",
          "state": {
            "_dom_classes": [],
            "_model_module": "@jupyter-widgets/controls",
            "_model_module_version": "1.5.0",
            "_model_name": "FloatProgressModel",
            "_view_count": null,
            "_view_module": "@jupyter-widgets/controls",
            "_view_module_version": "1.5.0",
            "_view_name": "ProgressView",
            "bar_style": "success",
            "description": "",
            "description_tooltip": null,
            "layout": "IPY_MODEL_eaa56c9cc81a414a90db454af7d4aae8",
            "max": 10944,
            "min": 0,
            "orientation": "horizontal",
            "style": "IPY_MODEL_6dbc4f8ff2e74d9cb491a6c1faead1e1",
            "value": 10944
          }
        },
        "3238489386594fe3889f255a3cf6c589": {
          "model_module": "@jupyter-widgets/controls",
          "model_name": "HTMLModel",
          "model_module_version": "1.5.0",
          "state": {
            "_dom_classes": [],
            "_model_module": "@jupyter-widgets/controls",
            "_model_module_version": "1.5.0",
            "_model_name": "HTMLModel",
            "_view_count": null,
            "_view_module": "@jupyter-widgets/controls",
            "_view_module_version": "1.5.0",
            "_view_name": "HTMLView",
            "description": "",
            "description_tooltip": null,
            "layout": "IPY_MODEL_db7724e2e82a483296bdda00b8dd84f6",
            "placeholder": "​",
            "style": "IPY_MODEL_bf8096c8c16f49a7a56965a0676a3625",
            "value": " 10944/10944 [00:01&lt;00:00, 8683.07 examples/s]"
          }
        },
        "c165068bd10f4e9f8685a6a468c777cb": {
          "model_module": "@jupyter-widgets/base",
          "model_name": "LayoutModel",
          "model_module_version": "1.2.0",
          "state": {
            "_model_module": "@jupyter-widgets/base",
            "_model_module_version": "1.2.0",
            "_model_name": "LayoutModel",
            "_view_count": null,
            "_view_module": "@jupyter-widgets/base",
            "_view_module_version": "1.2.0",
            "_view_name": "LayoutView",
            "align_content": null,
            "align_items": null,
            "align_self": null,
            "border": null,
            "bottom": null,
            "display": null,
            "flex": null,
            "flex_flow": null,
            "grid_area": null,
            "grid_auto_columns": null,
            "grid_auto_flow": null,
            "grid_auto_rows": null,
            "grid_column": null,
            "grid_gap": null,
            "grid_row": null,
            "grid_template_areas": null,
            "grid_template_columns": null,
            "grid_template_rows": null,
            "height": null,
            "justify_content": null,
            "justify_items": null,
            "left": null,
            "margin": null,
            "max_height": null,
            "max_width": null,
            "min_height": null,
            "min_width": null,
            "object_fit": null,
            "object_position": null,
            "order": null,
            "overflow": null,
            "overflow_x": null,
            "overflow_y": null,
            "padding": null,
            "right": null,
            "top": null,
            "visibility": null,
            "width": null
          }
        },
        "72f8894f3df64acfa6e9106fb6355500": {
          "model_module": "@jupyter-widgets/base",
          "model_name": "LayoutModel",
          "model_module_version": "1.2.0",
          "state": {
            "_model_module": "@jupyter-widgets/base",
            "_model_module_version": "1.2.0",
            "_model_name": "LayoutModel",
            "_view_count": null,
            "_view_module": "@jupyter-widgets/base",
            "_view_module_version": "1.2.0",
            "_view_name": "LayoutView",
            "align_content": null,
            "align_items": null,
            "align_self": null,
            "border": null,
            "bottom": null,
            "display": null,
            "flex": null,
            "flex_flow": null,
            "grid_area": null,
            "grid_auto_columns": null,
            "grid_auto_flow": null,
            "grid_auto_rows": null,
            "grid_column": null,
            "grid_gap": null,
            "grid_row": null,
            "grid_template_areas": null,
            "grid_template_columns": null,
            "grid_template_rows": null,
            "height": null,
            "justify_content": null,
            "justify_items": null,
            "left": null,
            "margin": null,
            "max_height": null,
            "max_width": null,
            "min_height": null,
            "min_width": null,
            "object_fit": null,
            "object_position": null,
            "order": null,
            "overflow": null,
            "overflow_x": null,
            "overflow_y": null,
            "padding": null,
            "right": null,
            "top": null,
            "visibility": null,
            "width": null
          }
        },
        "65246f92a6e44ce089b8fcd7b449d9e2": {
          "model_module": "@jupyter-widgets/controls",
          "model_name": "DescriptionStyleModel",
          "model_module_version": "1.5.0",
          "state": {
            "_model_module": "@jupyter-widgets/controls",
            "_model_module_version": "1.5.0",
            "_model_name": "DescriptionStyleModel",
            "_view_count": null,
            "_view_module": "@jupyter-widgets/base",
            "_view_module_version": "1.2.0",
            "_view_name": "StyleView",
            "description_width": ""
          }
        },
        "eaa56c9cc81a414a90db454af7d4aae8": {
          "model_module": "@jupyter-widgets/base",
          "model_name": "LayoutModel",
          "model_module_version": "1.2.0",
          "state": {
            "_model_module": "@jupyter-widgets/base",
            "_model_module_version": "1.2.0",
            "_model_name": "LayoutModel",
            "_view_count": null,
            "_view_module": "@jupyter-widgets/base",
            "_view_module_version": "1.2.0",
            "_view_name": "LayoutView",
            "align_content": null,
            "align_items": null,
            "align_self": null,
            "border": null,
            "bottom": null,
            "display": null,
            "flex": null,
            "flex_flow": null,
            "grid_area": null,
            "grid_auto_columns": null,
            "grid_auto_flow": null,
            "grid_auto_rows": null,
            "grid_column": null,
            "grid_gap": null,
            "grid_row": null,
            "grid_template_areas": null,
            "grid_template_columns": null,
            "grid_template_rows": null,
            "height": null,
            "justify_content": null,
            "justify_items": null,
            "left": null,
            "margin": null,
            "max_height": null,
            "max_width": null,
            "min_height": null,
            "min_width": null,
            "object_fit": null,
            "object_position": null,
            "order": null,
            "overflow": null,
            "overflow_x": null,
            "overflow_y": null,
            "padding": null,
            "right": null,
            "top": null,
            "visibility": null,
            "width": null
          }
        },
        "6dbc4f8ff2e74d9cb491a6c1faead1e1": {
          "model_module": "@jupyter-widgets/controls",
          "model_name": "ProgressStyleModel",
          "model_module_version": "1.5.0",
          "state": {
            "_model_module": "@jupyter-widgets/controls",
            "_model_module_version": "1.5.0",
            "_model_name": "ProgressStyleModel",
            "_view_count": null,
            "_view_module": "@jupyter-widgets/base",
            "_view_module_version": "1.2.0",
            "_view_name": "StyleView",
            "bar_color": null,
            "description_width": ""
          }
        },
        "db7724e2e82a483296bdda00b8dd84f6": {
          "model_module": "@jupyter-widgets/base",
          "model_name": "LayoutModel",
          "model_module_version": "1.2.0",
          "state": {
            "_model_module": "@jupyter-widgets/base",
            "_model_module_version": "1.2.0",
            "_model_name": "LayoutModel",
            "_view_count": null,
            "_view_module": "@jupyter-widgets/base",
            "_view_module_version": "1.2.0",
            "_view_name": "LayoutView",
            "align_content": null,
            "align_items": null,
            "align_self": null,
            "border": null,
            "bottom": null,
            "display": null,
            "flex": null,
            "flex_flow": null,
            "grid_area": null,
            "grid_auto_columns": null,
            "grid_auto_flow": null,
            "grid_auto_rows": null,
            "grid_column": null,
            "grid_gap": null,
            "grid_row": null,
            "grid_template_areas": null,
            "grid_template_columns": null,
            "grid_template_rows": null,
            "height": null,
            "justify_content": null,
            "justify_items": null,
            "left": null,
            "margin": null,
            "max_height": null,
            "max_width": null,
            "min_height": null,
            "min_width": null,
            "object_fit": null,
            "object_position": null,
            "order": null,
            "overflow": null,
            "overflow_x": null,
            "overflow_y": null,
            "padding": null,
            "right": null,
            "top": null,
            "visibility": null,
            "width": null
          }
        },
        "bf8096c8c16f49a7a56965a0676a3625": {
          "model_module": "@jupyter-widgets/controls",
          "model_name": "DescriptionStyleModel",
          "model_module_version": "1.5.0",
          "state": {
            "_model_module": "@jupyter-widgets/controls",
            "_model_module_version": "1.5.0",
            "_model_name": "DescriptionStyleModel",
            "_view_count": null,
            "_view_module": "@jupyter-widgets/base",
            "_view_module_version": "1.2.0",
            "_view_name": "StyleView",
            "description_width": ""
          }
        },
        "c47b1893eb644392a2f9fe6470056e81": {
          "model_module": "@jupyter-widgets/controls",
          "model_name": "HBoxModel",
          "model_module_version": "1.5.0",
          "state": {
            "_dom_classes": [],
            "_model_module": "@jupyter-widgets/controls",
            "_model_module_version": "1.5.0",
            "_model_name": "HBoxModel",
            "_view_count": null,
            "_view_module": "@jupyter-widgets/controls",
            "_view_module_version": "1.5.0",
            "_view_name": "HBoxView",
            "box_style": "",
            "children": [
              "IPY_MODEL_1761a38ae3454002b00e2eace4ba646e",
              "IPY_MODEL_b40596eb4de049ca9297c560653e2ae2",
              "IPY_MODEL_22e3c62f16e7487092f4ed0ac95c1a3b"
            ],
            "layout": "IPY_MODEL_6aae0890e5144aed8fd584926a100690"
          }
        },
        "1761a38ae3454002b00e2eace4ba646e": {
          "model_module": "@jupyter-widgets/controls",
          "model_name": "HTMLModel",
          "model_module_version": "1.5.0",
          "state": {
            "_dom_classes": [],
            "_model_module": "@jupyter-widgets/controls",
            "_model_module_version": "1.5.0",
            "_model_name": "HTMLModel",
            "_view_count": null,
            "_view_module": "@jupyter-widgets/controls",
            "_view_module_version": "1.5.0",
            "_view_name": "HTMLView",
            "description": "",
            "description_tooltip": null,
            "layout": "IPY_MODEL_1109f622720f4fd186d8d5c22205a611",
            "placeholder": "​",
            "style": "IPY_MODEL_ec4d6985d8654f1a8f006780fcedec53",
            "value": "Map (num_proc=2): 100%"
          }
        },
        "b40596eb4de049ca9297c560653e2ae2": {
          "model_module": "@jupyter-widgets/controls",
          "model_name": "FloatProgressModel",
          "model_module_version": "1.5.0",
          "state": {
            "_dom_classes": [],
            "_model_module": "@jupyter-widgets/controls",
            "_model_module_version": "1.5.0",
            "_model_name": "FloatProgressModel",
            "_view_count": null,
            "_view_module": "@jupyter-widgets/controls",
            "_view_module_version": "1.5.0",
            "_view_name": "ProgressView",
            "bar_style": "success",
            "description": "",
            "description_tooltip": null,
            "layout": "IPY_MODEL_3fa3cea53bbc4539b3c8a6b0cce15055",
            "max": 10944,
            "min": 0,
            "orientation": "horizontal",
            "style": "IPY_MODEL_e49dde89563b43d8b25597cedb658e42",
            "value": 10944
          }
        },
        "22e3c62f16e7487092f4ed0ac95c1a3b": {
          "model_module": "@jupyter-widgets/controls",
          "model_name": "HTMLModel",
          "model_module_version": "1.5.0",
          "state": {
            "_dom_classes": [],
            "_model_module": "@jupyter-widgets/controls",
            "_model_module_version": "1.5.0",
            "_model_name": "HTMLModel",
            "_view_count": null,
            "_view_module": "@jupyter-widgets/controls",
            "_view_module_version": "1.5.0",
            "_view_name": "HTMLView",
            "description": "",
            "description_tooltip": null,
            "layout": "IPY_MODEL_d8193d4cec8d4fc39efb6dfa0ad67227",
            "placeholder": "​",
            "style": "IPY_MODEL_eca5986669284b2fa4eeb084106fb8de",
            "value": " 10944/10944 [15:08&lt;00:00,  7.20 examples/s]"
          }
        },
        "6aae0890e5144aed8fd584926a100690": {
          "model_module": "@jupyter-widgets/base",
          "model_name": "LayoutModel",
          "model_module_version": "1.2.0",
          "state": {
            "_model_module": "@jupyter-widgets/base",
            "_model_module_version": "1.2.0",
            "_model_name": "LayoutModel",
            "_view_count": null,
            "_view_module": "@jupyter-widgets/base",
            "_view_module_version": "1.2.0",
            "_view_name": "LayoutView",
            "align_content": null,
            "align_items": null,
            "align_self": null,
            "border": null,
            "bottom": null,
            "display": null,
            "flex": null,
            "flex_flow": null,
            "grid_area": null,
            "grid_auto_columns": null,
            "grid_auto_flow": null,
            "grid_auto_rows": null,
            "grid_column": null,
            "grid_gap": null,
            "grid_row": null,
            "grid_template_areas": null,
            "grid_template_columns": null,
            "grid_template_rows": null,
            "height": null,
            "justify_content": null,
            "justify_items": null,
            "left": null,
            "margin": null,
            "max_height": null,
            "max_width": null,
            "min_height": null,
            "min_width": null,
            "object_fit": null,
            "object_position": null,
            "order": null,
            "overflow": null,
            "overflow_x": null,
            "overflow_y": null,
            "padding": null,
            "right": null,
            "top": null,
            "visibility": null,
            "width": null
          }
        },
        "1109f622720f4fd186d8d5c22205a611": {
          "model_module": "@jupyter-widgets/base",
          "model_name": "LayoutModel",
          "model_module_version": "1.2.0",
          "state": {
            "_model_module": "@jupyter-widgets/base",
            "_model_module_version": "1.2.0",
            "_model_name": "LayoutModel",
            "_view_count": null,
            "_view_module": "@jupyter-widgets/base",
            "_view_module_version": "1.2.0",
            "_view_name": "LayoutView",
            "align_content": null,
            "align_items": null,
            "align_self": null,
            "border": null,
            "bottom": null,
            "display": null,
            "flex": null,
            "flex_flow": null,
            "grid_area": null,
            "grid_auto_columns": null,
            "grid_auto_flow": null,
            "grid_auto_rows": null,
            "grid_column": null,
            "grid_gap": null,
            "grid_row": null,
            "grid_template_areas": null,
            "grid_template_columns": null,
            "grid_template_rows": null,
            "height": null,
            "justify_content": null,
            "justify_items": null,
            "left": null,
            "margin": null,
            "max_height": null,
            "max_width": null,
            "min_height": null,
            "min_width": null,
            "object_fit": null,
            "object_position": null,
            "order": null,
            "overflow": null,
            "overflow_x": null,
            "overflow_y": null,
            "padding": null,
            "right": null,
            "top": null,
            "visibility": null,
            "width": null
          }
        },
        "ec4d6985d8654f1a8f006780fcedec53": {
          "model_module": "@jupyter-widgets/controls",
          "model_name": "DescriptionStyleModel",
          "model_module_version": "1.5.0",
          "state": {
            "_model_module": "@jupyter-widgets/controls",
            "_model_module_version": "1.5.0",
            "_model_name": "DescriptionStyleModel",
            "_view_count": null,
            "_view_module": "@jupyter-widgets/base",
            "_view_module_version": "1.2.0",
            "_view_name": "StyleView",
            "description_width": ""
          }
        },
        "3fa3cea53bbc4539b3c8a6b0cce15055": {
          "model_module": "@jupyter-widgets/base",
          "model_name": "LayoutModel",
          "model_module_version": "1.2.0",
          "state": {
            "_model_module": "@jupyter-widgets/base",
            "_model_module_version": "1.2.0",
            "_model_name": "LayoutModel",
            "_view_count": null,
            "_view_module": "@jupyter-widgets/base",
            "_view_module_version": "1.2.0",
            "_view_name": "LayoutView",
            "align_content": null,
            "align_items": null,
            "align_self": null,
            "border": null,
            "bottom": null,
            "display": null,
            "flex": null,
            "flex_flow": null,
            "grid_area": null,
            "grid_auto_columns": null,
            "grid_auto_flow": null,
            "grid_auto_rows": null,
            "grid_column": null,
            "grid_gap": null,
            "grid_row": null,
            "grid_template_areas": null,
            "grid_template_columns": null,
            "grid_template_rows": null,
            "height": null,
            "justify_content": null,
            "justify_items": null,
            "left": null,
            "margin": null,
            "max_height": null,
            "max_width": null,
            "min_height": null,
            "min_width": null,
            "object_fit": null,
            "object_position": null,
            "order": null,
            "overflow": null,
            "overflow_x": null,
            "overflow_y": null,
            "padding": null,
            "right": null,
            "top": null,
            "visibility": null,
            "width": null
          }
        },
        "e49dde89563b43d8b25597cedb658e42": {
          "model_module": "@jupyter-widgets/controls",
          "model_name": "ProgressStyleModel",
          "model_module_version": "1.5.0",
          "state": {
            "_model_module": "@jupyter-widgets/controls",
            "_model_module_version": "1.5.0",
            "_model_name": "ProgressStyleModel",
            "_view_count": null,
            "_view_module": "@jupyter-widgets/base",
            "_view_module_version": "1.2.0",
            "_view_name": "StyleView",
            "bar_color": null,
            "description_width": ""
          }
        },
        "d8193d4cec8d4fc39efb6dfa0ad67227": {
          "model_module": "@jupyter-widgets/base",
          "model_name": "LayoutModel",
          "model_module_version": "1.2.0",
          "state": {
            "_model_module": "@jupyter-widgets/base",
            "_model_module_version": "1.2.0",
            "_model_name": "LayoutModel",
            "_view_count": null,
            "_view_module": "@jupyter-widgets/base",
            "_view_module_version": "1.2.0",
            "_view_name": "LayoutView",
            "align_content": null,
            "align_items": null,
            "align_self": null,
            "border": null,
            "bottom": null,
            "display": null,
            "flex": null,
            "flex_flow": null,
            "grid_area": null,
            "grid_auto_columns": null,
            "grid_auto_flow": null,
            "grid_auto_rows": null,
            "grid_column": null,
            "grid_gap": null,
            "grid_row": null,
            "grid_template_areas": null,
            "grid_template_columns": null,
            "grid_template_rows": null,
            "height": null,
            "justify_content": null,
            "justify_items": null,
            "left": null,
            "margin": null,
            "max_height": null,
            "max_width": null,
            "min_height": null,
            "min_width": null,
            "object_fit": null,
            "object_position": null,
            "order": null,
            "overflow": null,
            "overflow_x": null,
            "overflow_y": null,
            "padding": null,
            "right": null,
            "top": null,
            "visibility": null,
            "width": null
          }
        },
        "eca5986669284b2fa4eeb084106fb8de": {
          "model_module": "@jupyter-widgets/controls",
          "model_name": "DescriptionStyleModel",
          "model_module_version": "1.5.0",
          "state": {
            "_model_module": "@jupyter-widgets/controls",
            "_model_module_version": "1.5.0",
            "_model_name": "DescriptionStyleModel",
            "_view_count": null,
            "_view_module": "@jupyter-widgets/base",
            "_view_module_version": "1.2.0",
            "_view_name": "StyleView",
            "description_width": ""
          }
        },
        "f96c57ea8efc4ae28a33f72483a0e9b6": {
          "model_module": "@jupyter-widgets/controls",
          "model_name": "HBoxModel",
          "model_module_version": "1.5.0",
          "state": {
            "_dom_classes": [],
            "_model_module": "@jupyter-widgets/controls",
            "_model_module_version": "1.5.0",
            "_model_name": "HBoxModel",
            "_view_count": null,
            "_view_module": "@jupyter-widgets/controls",
            "_view_module_version": "1.5.0",
            "_view_name": "HBoxView",
            "box_style": "",
            "children": [
              "IPY_MODEL_449b00ceb14f4cce9d61a265905ab343",
              "IPY_MODEL_6b9d4a4e9ccf492d9f321389850a2367",
              "IPY_MODEL_7d52992ecd734e768603e15f5df05e3e"
            ],
            "layout": "IPY_MODEL_2db72c4d56fc4cfeb53e6a1eec0583b2"
          }
        },
        "449b00ceb14f4cce9d61a265905ab343": {
          "model_module": "@jupyter-widgets/controls",
          "model_name": "HTMLModel",
          "model_module_version": "1.5.0",
          "state": {
            "_dom_classes": [],
            "_model_module": "@jupyter-widgets/controls",
            "_model_module_version": "1.5.0",
            "_model_name": "HTMLModel",
            "_view_count": null,
            "_view_module": "@jupyter-widgets/controls",
            "_view_module_version": "1.5.0",
            "_view_name": "HTMLView",
            "description": "",
            "description_tooltip": null,
            "layout": "IPY_MODEL_e7d04257b0a34efdadf8413ab9b1b56c",
            "placeholder": "​",
            "style": "IPY_MODEL_cb06d659341747d080125781d8d364c3",
            "value": "Uploading the dataset shards: 100%"
          }
        },
        "6b9d4a4e9ccf492d9f321389850a2367": {
          "model_module": "@jupyter-widgets/controls",
          "model_name": "FloatProgressModel",
          "model_module_version": "1.5.0",
          "state": {
            "_dom_classes": [],
            "_model_module": "@jupyter-widgets/controls",
            "_model_module_version": "1.5.0",
            "_model_name": "FloatProgressModel",
            "_view_count": null,
            "_view_module": "@jupyter-widgets/controls",
            "_view_module_version": "1.5.0",
            "_view_name": "ProgressView",
            "bar_style": "success",
            "description": "",
            "description_tooltip": null,
            "layout": "IPY_MODEL_7e5b2eae81ee412bac67761b1677a669",
            "max": 1,
            "min": 0,
            "orientation": "horizontal",
            "style": "IPY_MODEL_9ef12ee73cb74419b491887fe3ccd8e5",
            "value": 1
          }
        },
        "7d52992ecd734e768603e15f5df05e3e": {
          "model_module": "@jupyter-widgets/controls",
          "model_name": "HTMLModel",
          "model_module_version": "1.5.0",
          "state": {
            "_dom_classes": [],
            "_model_module": "@jupyter-widgets/controls",
            "_model_module_version": "1.5.0",
            "_model_name": "HTMLModel",
            "_view_count": null,
            "_view_module": "@jupyter-widgets/controls",
            "_view_module_version": "1.5.0",
            "_view_name": "HTMLView",
            "description": "",
            "description_tooltip": null,
            "layout": "IPY_MODEL_98ccdc42f4a2436d9490a00424c4a045",
            "placeholder": "​",
            "style": "IPY_MODEL_b94e6f808bcd403a80a04249d2b0edb2",
            "value": " 1/1 [00:06&lt;00:00,  6.55s/it]"
          }
        },
        "2db72c4d56fc4cfeb53e6a1eec0583b2": {
          "model_module": "@jupyter-widgets/base",
          "model_name": "LayoutModel",
          "model_module_version": "1.2.0",
          "state": {
            "_model_module": "@jupyter-widgets/base",
            "_model_module_version": "1.2.0",
            "_model_name": "LayoutModel",
            "_view_count": null,
            "_view_module": "@jupyter-widgets/base",
            "_view_module_version": "1.2.0",
            "_view_name": "LayoutView",
            "align_content": null,
            "align_items": null,
            "align_self": null,
            "border": null,
            "bottom": null,
            "display": null,
            "flex": null,
            "flex_flow": null,
            "grid_area": null,
            "grid_auto_columns": null,
            "grid_auto_flow": null,
            "grid_auto_rows": null,
            "grid_column": null,
            "grid_gap": null,
            "grid_row": null,
            "grid_template_areas": null,
            "grid_template_columns": null,
            "grid_template_rows": null,
            "height": null,
            "justify_content": null,
            "justify_items": null,
            "left": null,
            "margin": null,
            "max_height": null,
            "max_width": null,
            "min_height": null,
            "min_width": null,
            "object_fit": null,
            "object_position": null,
            "order": null,
            "overflow": null,
            "overflow_x": null,
            "overflow_y": null,
            "padding": null,
            "right": null,
            "top": null,
            "visibility": null,
            "width": null
          }
        },
        "e7d04257b0a34efdadf8413ab9b1b56c": {
          "model_module": "@jupyter-widgets/base",
          "model_name": "LayoutModel",
          "model_module_version": "1.2.0",
          "state": {
            "_model_module": "@jupyter-widgets/base",
            "_model_module_version": "1.2.0",
            "_model_name": "LayoutModel",
            "_view_count": null,
            "_view_module": "@jupyter-widgets/base",
            "_view_module_version": "1.2.0",
            "_view_name": "LayoutView",
            "align_content": null,
            "align_items": null,
            "align_self": null,
            "border": null,
            "bottom": null,
            "display": null,
            "flex": null,
            "flex_flow": null,
            "grid_area": null,
            "grid_auto_columns": null,
            "grid_auto_flow": null,
            "grid_auto_rows": null,
            "grid_column": null,
            "grid_gap": null,
            "grid_row": null,
            "grid_template_areas": null,
            "grid_template_columns": null,
            "grid_template_rows": null,
            "height": null,
            "justify_content": null,
            "justify_items": null,
            "left": null,
            "margin": null,
            "max_height": null,
            "max_width": null,
            "min_height": null,
            "min_width": null,
            "object_fit": null,
            "object_position": null,
            "order": null,
            "overflow": null,
            "overflow_x": null,
            "overflow_y": null,
            "padding": null,
            "right": null,
            "top": null,
            "visibility": null,
            "width": null
          }
        },
        "cb06d659341747d080125781d8d364c3": {
          "model_module": "@jupyter-widgets/controls",
          "model_name": "DescriptionStyleModel",
          "model_module_version": "1.5.0",
          "state": {
            "_model_module": "@jupyter-widgets/controls",
            "_model_module_version": "1.5.0",
            "_model_name": "DescriptionStyleModel",
            "_view_count": null,
            "_view_module": "@jupyter-widgets/base",
            "_view_module_version": "1.2.0",
            "_view_name": "StyleView",
            "description_width": ""
          }
        },
        "7e5b2eae81ee412bac67761b1677a669": {
          "model_module": "@jupyter-widgets/base",
          "model_name": "LayoutModel",
          "model_module_version": "1.2.0",
          "state": {
            "_model_module": "@jupyter-widgets/base",
            "_model_module_version": "1.2.0",
            "_model_name": "LayoutModel",
            "_view_count": null,
            "_view_module": "@jupyter-widgets/base",
            "_view_module_version": "1.2.0",
            "_view_name": "LayoutView",
            "align_content": null,
            "align_items": null,
            "align_self": null,
            "border": null,
            "bottom": null,
            "display": null,
            "flex": null,
            "flex_flow": null,
            "grid_area": null,
            "grid_auto_columns": null,
            "grid_auto_flow": null,
            "grid_auto_rows": null,
            "grid_column": null,
            "grid_gap": null,
            "grid_row": null,
            "grid_template_areas": null,
            "grid_template_columns": null,
            "grid_template_rows": null,
            "height": null,
            "justify_content": null,
            "justify_items": null,
            "left": null,
            "margin": null,
            "max_height": null,
            "max_width": null,
            "min_height": null,
            "min_width": null,
            "object_fit": null,
            "object_position": null,
            "order": null,
            "overflow": null,
            "overflow_x": null,
            "overflow_y": null,
            "padding": null,
            "right": null,
            "top": null,
            "visibility": null,
            "width": null
          }
        },
        "9ef12ee73cb74419b491887fe3ccd8e5": {
          "model_module": "@jupyter-widgets/controls",
          "model_name": "ProgressStyleModel",
          "model_module_version": "1.5.0",
          "state": {
            "_model_module": "@jupyter-widgets/controls",
            "_model_module_version": "1.5.0",
            "_model_name": "ProgressStyleModel",
            "_view_count": null,
            "_view_module": "@jupyter-widgets/base",
            "_view_module_version": "1.2.0",
            "_view_name": "StyleView",
            "bar_color": null,
            "description_width": ""
          }
        },
        "98ccdc42f4a2436d9490a00424c4a045": {
          "model_module": "@jupyter-widgets/base",
          "model_name": "LayoutModel",
          "model_module_version": "1.2.0",
          "state": {
            "_model_module": "@jupyter-widgets/base",
            "_model_module_version": "1.2.0",
            "_model_name": "LayoutModel",
            "_view_count": null,
            "_view_module": "@jupyter-widgets/base",
            "_view_module_version": "1.2.0",
            "_view_name": "LayoutView",
            "align_content": null,
            "align_items": null,
            "align_self": null,
            "border": null,
            "bottom": null,
            "display": null,
            "flex": null,
            "flex_flow": null,
            "grid_area": null,
            "grid_auto_columns": null,
            "grid_auto_flow": null,
            "grid_auto_rows": null,
            "grid_column": null,
            "grid_gap": null,
            "grid_row": null,
            "grid_template_areas": null,
            "grid_template_columns": null,
            "grid_template_rows": null,
            "height": null,
            "justify_content": null,
            "justify_items": null,
            "left": null,
            "margin": null,
            "max_height": null,
            "max_width": null,
            "min_height": null,
            "min_width": null,
            "object_fit": null,
            "object_position": null,
            "order": null,
            "overflow": null,
            "overflow_x": null,
            "overflow_y": null,
            "padding": null,
            "right": null,
            "top": null,
            "visibility": null,
            "width": null
          }
        },
        "b94e6f808bcd403a80a04249d2b0edb2": {
          "model_module": "@jupyter-widgets/controls",
          "model_name": "DescriptionStyleModel",
          "model_module_version": "1.5.0",
          "state": {
            "_model_module": "@jupyter-widgets/controls",
            "_model_module_version": "1.5.0",
            "_model_name": "DescriptionStyleModel",
            "_view_count": null,
            "_view_module": "@jupyter-widgets/base",
            "_view_module_version": "1.2.0",
            "_view_name": "StyleView",
            "description_width": ""
          }
        },
        "335b814d8ad84586a2a28b7a5db31747": {
          "model_module": "@jupyter-widgets/controls",
          "model_name": "HBoxModel",
          "model_module_version": "1.5.0",
          "state": {
            "_dom_classes": [],
            "_model_module": "@jupyter-widgets/controls",
            "_model_module_version": "1.5.0",
            "_model_name": "HBoxModel",
            "_view_count": null,
            "_view_module": "@jupyter-widgets/controls",
            "_view_module_version": "1.5.0",
            "_view_name": "HBoxView",
            "box_style": "",
            "children": [
              "IPY_MODEL_f5a6bbbef7c24065a7e783c804722b50",
              "IPY_MODEL_0208d3c7cb6841e5bb774966663cad2e",
              "IPY_MODEL_5b31080c849d473f910f89b342a99556"
            ],
            "layout": "IPY_MODEL_cd0c35fb00594599a5fe948acf411628"
          }
        },
        "f5a6bbbef7c24065a7e783c804722b50": {
          "model_module": "@jupyter-widgets/controls",
          "model_name": "HTMLModel",
          "model_module_version": "1.5.0",
          "state": {
            "_dom_classes": [],
            "_model_module": "@jupyter-widgets/controls",
            "_model_module_version": "1.5.0",
            "_model_name": "HTMLModel",
            "_view_count": null,
            "_view_module": "@jupyter-widgets/controls",
            "_view_module_version": "1.5.0",
            "_view_name": "HTMLView",
            "description": "",
            "description_tooltip": null,
            "layout": "IPY_MODEL_6ae9de185a064d5083e6613866b3cd9a",
            "placeholder": "​",
            "style": "IPY_MODEL_064f323783cc482889e4ac9711c5c8d4",
            "value": "Creating parquet from Arrow format: 100%"
          }
        },
        "0208d3c7cb6841e5bb774966663cad2e": {
          "model_module": "@jupyter-widgets/controls",
          "model_name": "FloatProgressModel",
          "model_module_version": "1.5.0",
          "state": {
            "_dom_classes": [],
            "_model_module": "@jupyter-widgets/controls",
            "_model_module_version": "1.5.0",
            "_model_name": "FloatProgressModel",
            "_view_count": null,
            "_view_module": "@jupyter-widgets/controls",
            "_view_module_version": "1.5.0",
            "_view_name": "ProgressView",
            "bar_style": "success",
            "description": "",
            "description_tooltip": null,
            "layout": "IPY_MODEL_f96a49049a8b441c88a96b277b528b38",
            "max": 11,
            "min": 0,
            "orientation": "horizontal",
            "style": "IPY_MODEL_9b9688a558554881b05736aa7506bbbe",
            "value": 11
          }
        },
        "5b31080c849d473f910f89b342a99556": {
          "model_module": "@jupyter-widgets/controls",
          "model_name": "HTMLModel",
          "model_module_version": "1.5.0",
          "state": {
            "_dom_classes": [],
            "_model_module": "@jupyter-widgets/controls",
            "_model_module_version": "1.5.0",
            "_model_name": "HTMLModel",
            "_view_count": null,
            "_view_module": "@jupyter-widgets/controls",
            "_view_module_version": "1.5.0",
            "_view_name": "HTMLView",
            "description": "",
            "description_tooltip": null,
            "layout": "IPY_MODEL_8de60630889c4319bf40f4e056d99883",
            "placeholder": "​",
            "style": "IPY_MODEL_1d67496b138a4a78bd9c5118571c49a4",
            "value": " 11/11 [00:02&lt;00:00,  4.81ba/s]"
          }
        },
        "cd0c35fb00594599a5fe948acf411628": {
          "model_module": "@jupyter-widgets/base",
          "model_name": "LayoutModel",
          "model_module_version": "1.2.0",
          "state": {
            "_model_module": "@jupyter-widgets/base",
            "_model_module_version": "1.2.0",
            "_model_name": "LayoutModel",
            "_view_count": null,
            "_view_module": "@jupyter-widgets/base",
            "_view_module_version": "1.2.0",
            "_view_name": "LayoutView",
            "align_content": null,
            "align_items": null,
            "align_self": null,
            "border": null,
            "bottom": null,
            "display": null,
            "flex": null,
            "flex_flow": null,
            "grid_area": null,
            "grid_auto_columns": null,
            "grid_auto_flow": null,
            "grid_auto_rows": null,
            "grid_column": null,
            "grid_gap": null,
            "grid_row": null,
            "grid_template_areas": null,
            "grid_template_columns": null,
            "grid_template_rows": null,
            "height": null,
            "justify_content": null,
            "justify_items": null,
            "left": null,
            "margin": null,
            "max_height": null,
            "max_width": null,
            "min_height": null,
            "min_width": null,
            "object_fit": null,
            "object_position": null,
            "order": null,
            "overflow": null,
            "overflow_x": null,
            "overflow_y": null,
            "padding": null,
            "right": null,
            "top": null,
            "visibility": null,
            "width": null
          }
        },
        "6ae9de185a064d5083e6613866b3cd9a": {
          "model_module": "@jupyter-widgets/base",
          "model_name": "LayoutModel",
          "model_module_version": "1.2.0",
          "state": {
            "_model_module": "@jupyter-widgets/base",
            "_model_module_version": "1.2.0",
            "_model_name": "LayoutModel",
            "_view_count": null,
            "_view_module": "@jupyter-widgets/base",
            "_view_module_version": "1.2.0",
            "_view_name": "LayoutView",
            "align_content": null,
            "align_items": null,
            "align_self": null,
            "border": null,
            "bottom": null,
            "display": null,
            "flex": null,
            "flex_flow": null,
            "grid_area": null,
            "grid_auto_columns": null,
            "grid_auto_flow": null,
            "grid_auto_rows": null,
            "grid_column": null,
            "grid_gap": null,
            "grid_row": null,
            "grid_template_areas": null,
            "grid_template_columns": null,
            "grid_template_rows": null,
            "height": null,
            "justify_content": null,
            "justify_items": null,
            "left": null,
            "margin": null,
            "max_height": null,
            "max_width": null,
            "min_height": null,
            "min_width": null,
            "object_fit": null,
            "object_position": null,
            "order": null,
            "overflow": null,
            "overflow_x": null,
            "overflow_y": null,
            "padding": null,
            "right": null,
            "top": null,
            "visibility": null,
            "width": null
          }
        },
        "064f323783cc482889e4ac9711c5c8d4": {
          "model_module": "@jupyter-widgets/controls",
          "model_name": "DescriptionStyleModel",
          "model_module_version": "1.5.0",
          "state": {
            "_model_module": "@jupyter-widgets/controls",
            "_model_module_version": "1.5.0",
            "_model_name": "DescriptionStyleModel",
            "_view_count": null,
            "_view_module": "@jupyter-widgets/base",
            "_view_module_version": "1.2.0",
            "_view_name": "StyleView",
            "description_width": ""
          }
        },
        "f96a49049a8b441c88a96b277b528b38": {
          "model_module": "@jupyter-widgets/base",
          "model_name": "LayoutModel",
          "model_module_version": "1.2.0",
          "state": {
            "_model_module": "@jupyter-widgets/base",
            "_model_module_version": "1.2.0",
            "_model_name": "LayoutModel",
            "_view_count": null,
            "_view_module": "@jupyter-widgets/base",
            "_view_module_version": "1.2.0",
            "_view_name": "LayoutView",
            "align_content": null,
            "align_items": null,
            "align_self": null,
            "border": null,
            "bottom": null,
            "display": null,
            "flex": null,
            "flex_flow": null,
            "grid_area": null,
            "grid_auto_columns": null,
            "grid_auto_flow": null,
            "grid_auto_rows": null,
            "grid_column": null,
            "grid_gap": null,
            "grid_row": null,
            "grid_template_areas": null,
            "grid_template_columns": null,
            "grid_template_rows": null,
            "height": null,
            "justify_content": null,
            "justify_items": null,
            "left": null,
            "margin": null,
            "max_height": null,
            "max_width": null,
            "min_height": null,
            "min_width": null,
            "object_fit": null,
            "object_position": null,
            "order": null,
            "overflow": null,
            "overflow_x": null,
            "overflow_y": null,
            "padding": null,
            "right": null,
            "top": null,
            "visibility": null,
            "width": null
          }
        },
        "9b9688a558554881b05736aa7506bbbe": {
          "model_module": "@jupyter-widgets/controls",
          "model_name": "ProgressStyleModel",
          "model_module_version": "1.5.0",
          "state": {
            "_model_module": "@jupyter-widgets/controls",
            "_model_module_version": "1.5.0",
            "_model_name": "ProgressStyleModel",
            "_view_count": null,
            "_view_module": "@jupyter-widgets/base",
            "_view_module_version": "1.2.0",
            "_view_name": "StyleView",
            "bar_color": null,
            "description_width": ""
          }
        },
        "8de60630889c4319bf40f4e056d99883": {
          "model_module": "@jupyter-widgets/base",
          "model_name": "LayoutModel",
          "model_module_version": "1.2.0",
          "state": {
            "_model_module": "@jupyter-widgets/base",
            "_model_module_version": "1.2.0",
            "_model_name": "LayoutModel",
            "_view_count": null,
            "_view_module": "@jupyter-widgets/base",
            "_view_module_version": "1.2.0",
            "_view_name": "LayoutView",
            "align_content": null,
            "align_items": null,
            "align_self": null,
            "border": null,
            "bottom": null,
            "display": null,
            "flex": null,
            "flex_flow": null,
            "grid_area": null,
            "grid_auto_columns": null,
            "grid_auto_flow": null,
            "grid_auto_rows": null,
            "grid_column": null,
            "grid_gap": null,
            "grid_row": null,
            "grid_template_areas": null,
            "grid_template_columns": null,
            "grid_template_rows": null,
            "height": null,
            "justify_content": null,
            "justify_items": null,
            "left": null,
            "margin": null,
            "max_height": null,
            "max_width": null,
            "min_height": null,
            "min_width": null,
            "object_fit": null,
            "object_position": null,
            "order": null,
            "overflow": null,
            "overflow_x": null,
            "overflow_y": null,
            "padding": null,
            "right": null,
            "top": null,
            "visibility": null,
            "width": null
          }
        },
        "1d67496b138a4a78bd9c5118571c49a4": {
          "model_module": "@jupyter-widgets/controls",
          "model_name": "DescriptionStyleModel",
          "model_module_version": "1.5.0",
          "state": {
            "_model_module": "@jupyter-widgets/controls",
            "_model_module_version": "1.5.0",
            "_model_name": "DescriptionStyleModel",
            "_view_count": null,
            "_view_module": "@jupyter-widgets/base",
            "_view_module_version": "1.2.0",
            "_view_name": "StyleView",
            "description_width": ""
          }
        },
        "9530f234d16447858dcea6b6f5bdc746": {
          "model_module": "@jupyter-widgets/controls",
          "model_name": "HBoxModel",
          "model_module_version": "1.5.0",
          "state": {
            "_dom_classes": [],
            "_model_module": "@jupyter-widgets/controls",
            "_model_module_version": "1.5.0",
            "_model_name": "HBoxModel",
            "_view_count": null,
            "_view_module": "@jupyter-widgets/controls",
            "_view_module_version": "1.5.0",
            "_view_name": "HBoxView",
            "box_style": "",
            "children": [
              "IPY_MODEL_e56d57fedfc4439e9ad0af5dfd015547",
              "IPY_MODEL_fc43884c95a04ff3815d8b3a671e83a0",
              "IPY_MODEL_560438f53c3a4cb1a7ea611472daec18"
            ],
            "layout": "IPY_MODEL_920b68d1ab2d4206891454dd933a9bfb"
          }
        },
        "e56d57fedfc4439e9ad0af5dfd015547": {
          "model_module": "@jupyter-widgets/controls",
          "model_name": "HTMLModel",
          "model_module_version": "1.5.0",
          "state": {
            "_dom_classes": [],
            "_model_module": "@jupyter-widgets/controls",
            "_model_module_version": "1.5.0",
            "_model_name": "HTMLModel",
            "_view_count": null,
            "_view_module": "@jupyter-widgets/controls",
            "_view_module_version": "1.5.0",
            "_view_name": "HTMLView",
            "description": "",
            "description_tooltip": null,
            "layout": "IPY_MODEL_e778d1e474134dbdbbb2a7a57a412953",
            "placeholder": "​",
            "style": "IPY_MODEL_ef14d5f0c8924d9aa3f9f7cef008d17b",
            "value": "README.md: 100%"
          }
        },
        "fc43884c95a04ff3815d8b3a671e83a0": {
          "model_module": "@jupyter-widgets/controls",
          "model_name": "FloatProgressModel",
          "model_module_version": "1.5.0",
          "state": {
            "_dom_classes": [],
            "_model_module": "@jupyter-widgets/controls",
            "_model_module_version": "1.5.0",
            "_model_name": "FloatProgressModel",
            "_view_count": null,
            "_view_module": "@jupyter-widgets/controls",
            "_view_module_version": "1.5.0",
            "_view_name": "ProgressView",
            "bar_style": "success",
            "description": "",
            "description_tooltip": null,
            "layout": "IPY_MODEL_b3cca7faf9f849c2b0e032483b4c5258",
            "max": 512,
            "min": 0,
            "orientation": "horizontal",
            "style": "IPY_MODEL_1efb2b70c5e94d5b9a2f1d4ea38c4b29",
            "value": 512
          }
        },
        "560438f53c3a4cb1a7ea611472daec18": {
          "model_module": "@jupyter-widgets/controls",
          "model_name": "HTMLModel",
          "model_module_version": "1.5.0",
          "state": {
            "_dom_classes": [],
            "_model_module": "@jupyter-widgets/controls",
            "_model_module_version": "1.5.0",
            "_model_name": "HTMLModel",
            "_view_count": null,
            "_view_module": "@jupyter-widgets/controls",
            "_view_module_version": "1.5.0",
            "_view_name": "HTMLView",
            "description": "",
            "description_tooltip": null,
            "layout": "IPY_MODEL_9e365c2ac40e486e91807cafa3c4f963",
            "placeholder": "​",
            "style": "IPY_MODEL_b5c76bc2df114cff947e8ebdab7a2dba",
            "value": " 512/512 [00:00&lt;00:00, 14.0kB/s]"
          }
        },
        "920b68d1ab2d4206891454dd933a9bfb": {
          "model_module": "@jupyter-widgets/base",
          "model_name": "LayoutModel",
          "model_module_version": "1.2.0",
          "state": {
            "_model_module": "@jupyter-widgets/base",
            "_model_module_version": "1.2.0",
            "_model_name": "LayoutModel",
            "_view_count": null,
            "_view_module": "@jupyter-widgets/base",
            "_view_module_version": "1.2.0",
            "_view_name": "LayoutView",
            "align_content": null,
            "align_items": null,
            "align_self": null,
            "border": null,
            "bottom": null,
            "display": null,
            "flex": null,
            "flex_flow": null,
            "grid_area": null,
            "grid_auto_columns": null,
            "grid_auto_flow": null,
            "grid_auto_rows": null,
            "grid_column": null,
            "grid_gap": null,
            "grid_row": null,
            "grid_template_areas": null,
            "grid_template_columns": null,
            "grid_template_rows": null,
            "height": null,
            "justify_content": null,
            "justify_items": null,
            "left": null,
            "margin": null,
            "max_height": null,
            "max_width": null,
            "min_height": null,
            "min_width": null,
            "object_fit": null,
            "object_position": null,
            "order": null,
            "overflow": null,
            "overflow_x": null,
            "overflow_y": null,
            "padding": null,
            "right": null,
            "top": null,
            "visibility": null,
            "width": null
          }
        },
        "e778d1e474134dbdbbb2a7a57a412953": {
          "model_module": "@jupyter-widgets/base",
          "model_name": "LayoutModel",
          "model_module_version": "1.2.0",
          "state": {
            "_model_module": "@jupyter-widgets/base",
            "_model_module_version": "1.2.0",
            "_model_name": "LayoutModel",
            "_view_count": null,
            "_view_module": "@jupyter-widgets/base",
            "_view_module_version": "1.2.0",
            "_view_name": "LayoutView",
            "align_content": null,
            "align_items": null,
            "align_self": null,
            "border": null,
            "bottom": null,
            "display": null,
            "flex": null,
            "flex_flow": null,
            "grid_area": null,
            "grid_auto_columns": null,
            "grid_auto_flow": null,
            "grid_auto_rows": null,
            "grid_column": null,
            "grid_gap": null,
            "grid_row": null,
            "grid_template_areas": null,
            "grid_template_columns": null,
            "grid_template_rows": null,
            "height": null,
            "justify_content": null,
            "justify_items": null,
            "left": null,
            "margin": null,
            "max_height": null,
            "max_width": null,
            "min_height": null,
            "min_width": null,
            "object_fit": null,
            "object_position": null,
            "order": null,
            "overflow": null,
            "overflow_x": null,
            "overflow_y": null,
            "padding": null,
            "right": null,
            "top": null,
            "visibility": null,
            "width": null
          }
        },
        "ef14d5f0c8924d9aa3f9f7cef008d17b": {
          "model_module": "@jupyter-widgets/controls",
          "model_name": "DescriptionStyleModel",
          "model_module_version": "1.5.0",
          "state": {
            "_model_module": "@jupyter-widgets/controls",
            "_model_module_version": "1.5.0",
            "_model_name": "DescriptionStyleModel",
            "_view_count": null,
            "_view_module": "@jupyter-widgets/base",
            "_view_module_version": "1.2.0",
            "_view_name": "StyleView",
            "description_width": ""
          }
        },
        "b3cca7faf9f849c2b0e032483b4c5258": {
          "model_module": "@jupyter-widgets/base",
          "model_name": "LayoutModel",
          "model_module_version": "1.2.0",
          "state": {
            "_model_module": "@jupyter-widgets/base",
            "_model_module_version": "1.2.0",
            "_model_name": "LayoutModel",
            "_view_count": null,
            "_view_module": "@jupyter-widgets/base",
            "_view_module_version": "1.2.0",
            "_view_name": "LayoutView",
            "align_content": null,
            "align_items": null,
            "align_self": null,
            "border": null,
            "bottom": null,
            "display": null,
            "flex": null,
            "flex_flow": null,
            "grid_area": null,
            "grid_auto_columns": null,
            "grid_auto_flow": null,
            "grid_auto_rows": null,
            "grid_column": null,
            "grid_gap": null,
            "grid_row": null,
            "grid_template_areas": null,
            "grid_template_columns": null,
            "grid_template_rows": null,
            "height": null,
            "justify_content": null,
            "justify_items": null,
            "left": null,
            "margin": null,
            "max_height": null,
            "max_width": null,
            "min_height": null,
            "min_width": null,
            "object_fit": null,
            "object_position": null,
            "order": null,
            "overflow": null,
            "overflow_x": null,
            "overflow_y": null,
            "padding": null,
            "right": null,
            "top": null,
            "visibility": null,
            "width": null
          }
        },
        "1efb2b70c5e94d5b9a2f1d4ea38c4b29": {
          "model_module": "@jupyter-widgets/controls",
          "model_name": "ProgressStyleModel",
          "model_module_version": "1.5.0",
          "state": {
            "_model_module": "@jupyter-widgets/controls",
            "_model_module_version": "1.5.0",
            "_model_name": "ProgressStyleModel",
            "_view_count": null,
            "_view_module": "@jupyter-widgets/base",
            "_view_module_version": "1.2.0",
            "_view_name": "StyleView",
            "bar_color": null,
            "description_width": ""
          }
        },
        "9e365c2ac40e486e91807cafa3c4f963": {
          "model_module": "@jupyter-widgets/base",
          "model_name": "LayoutModel",
          "model_module_version": "1.2.0",
          "state": {
            "_model_module": "@jupyter-widgets/base",
            "_model_module_version": "1.2.0",
            "_model_name": "LayoutModel",
            "_view_count": null,
            "_view_module": "@jupyter-widgets/base",
            "_view_module_version": "1.2.0",
            "_view_name": "LayoutView",
            "align_content": null,
            "align_items": null,
            "align_self": null,
            "border": null,
            "bottom": null,
            "display": null,
            "flex": null,
            "flex_flow": null,
            "grid_area": null,
            "grid_auto_columns": null,
            "grid_auto_flow": null,
            "grid_auto_rows": null,
            "grid_column": null,
            "grid_gap": null,
            "grid_row": null,
            "grid_template_areas": null,
            "grid_template_columns": null,
            "grid_template_rows": null,
            "height": null,
            "justify_content": null,
            "justify_items": null,
            "left": null,
            "margin": null,
            "max_height": null,
            "max_width": null,
            "min_height": null,
            "min_width": null,
            "object_fit": null,
            "object_position": null,
            "order": null,
            "overflow": null,
            "overflow_x": null,
            "overflow_y": null,
            "padding": null,
            "right": null,
            "top": null,
            "visibility": null,
            "width": null
          }
        },
        "b5c76bc2df114cff947e8ebdab7a2dba": {
          "model_module": "@jupyter-widgets/controls",
          "model_name": "DescriptionStyleModel",
          "model_module_version": "1.5.0",
          "state": {
            "_model_module": "@jupyter-widgets/controls",
            "_model_module_version": "1.5.0",
            "_model_name": "DescriptionStyleModel",
            "_view_count": null,
            "_view_module": "@jupyter-widgets/base",
            "_view_module_version": "1.2.0",
            "_view_name": "StyleView",
            "description_width": ""
          }
        },
        "4a08293ad26747adb1a3ecab9636de17": {
          "model_module": "@jupyter-widgets/controls",
          "model_name": "HBoxModel",
          "model_module_version": "1.5.0",
          "state": {
            "_dom_classes": [],
            "_model_module": "@jupyter-widgets/controls",
            "_model_module_version": "1.5.0",
            "_model_name": "HBoxModel",
            "_view_count": null,
            "_view_module": "@jupyter-widgets/controls",
            "_view_module_version": "1.5.0",
            "_view_name": "HBoxView",
            "box_style": "",
            "children": [
              "IPY_MODEL_bfa4b9d003ac485eaceceaa3bb35c95d",
              "IPY_MODEL_517ed3675143409f9606029975dea73a",
              "IPY_MODEL_02849d0f1e4d464fa1d38f2e8ffbca2e"
            ],
            "layout": "IPY_MODEL_731f54a7609746f2b597b651890f4c9c"
          }
        },
        "bfa4b9d003ac485eaceceaa3bb35c95d": {
          "model_module": "@jupyter-widgets/controls",
          "model_name": "HTMLModel",
          "model_module_version": "1.5.0",
          "state": {
            "_dom_classes": [],
            "_model_module": "@jupyter-widgets/controls",
            "_model_module_version": "1.5.0",
            "_model_name": "HTMLModel",
            "_view_count": null,
            "_view_module": "@jupyter-widgets/controls",
            "_view_module_version": "1.5.0",
            "_view_name": "HTMLView",
            "description": "",
            "description_tooltip": null,
            "layout": "IPY_MODEL_b76854bc8037440f972b6148a7625840",
            "placeholder": "​",
            "style": "IPY_MODEL_235b607c0a7e44008beeb16a70b67af1",
            "value": "Downloading readme: 100%"
          }
        },
        "517ed3675143409f9606029975dea73a": {
          "model_module": "@jupyter-widgets/controls",
          "model_name": "FloatProgressModel",
          "model_module_version": "1.5.0",
          "state": {
            "_dom_classes": [],
            "_model_module": "@jupyter-widgets/controls",
            "_model_module_version": "1.5.0",
            "_model_name": "FloatProgressModel",
            "_view_count": null,
            "_view_module": "@jupyter-widgets/controls",
            "_view_module_version": "1.5.0",
            "_view_name": "ProgressView",
            "bar_style": "success",
            "description": "",
            "description_tooltip": null,
            "layout": "IPY_MODEL_7f10587e018f4955a86d486e98b8eaf9",
            "max": 512,
            "min": 0,
            "orientation": "horizontal",
            "style": "IPY_MODEL_63f1793f2a36459b9580f12b463f2c6a",
            "value": 512
          }
        },
        "02849d0f1e4d464fa1d38f2e8ffbca2e": {
          "model_module": "@jupyter-widgets/controls",
          "model_name": "HTMLModel",
          "model_module_version": "1.5.0",
          "state": {
            "_dom_classes": [],
            "_model_module": "@jupyter-widgets/controls",
            "_model_module_version": "1.5.0",
            "_model_name": "HTMLModel",
            "_view_count": null,
            "_view_module": "@jupyter-widgets/controls",
            "_view_module_version": "1.5.0",
            "_view_name": "HTMLView",
            "description": "",
            "description_tooltip": null,
            "layout": "IPY_MODEL_86ba0b1a7d8a41448874a51b2048e6fa",
            "placeholder": "​",
            "style": "IPY_MODEL_a11bda00fef24e9792911c563f639bfe",
            "value": " 512/512 [00:00&lt;00:00, 19.6kB/s]"
          }
        },
        "731f54a7609746f2b597b651890f4c9c": {
          "model_module": "@jupyter-widgets/base",
          "model_name": "LayoutModel",
          "model_module_version": "1.2.0",
          "state": {
            "_model_module": "@jupyter-widgets/base",
            "_model_module_version": "1.2.0",
            "_model_name": "LayoutModel",
            "_view_count": null,
            "_view_module": "@jupyter-widgets/base",
            "_view_module_version": "1.2.0",
            "_view_name": "LayoutView",
            "align_content": null,
            "align_items": null,
            "align_self": null,
            "border": null,
            "bottom": null,
            "display": null,
            "flex": null,
            "flex_flow": null,
            "grid_area": null,
            "grid_auto_columns": null,
            "grid_auto_flow": null,
            "grid_auto_rows": null,
            "grid_column": null,
            "grid_gap": null,
            "grid_row": null,
            "grid_template_areas": null,
            "grid_template_columns": null,
            "grid_template_rows": null,
            "height": null,
            "justify_content": null,
            "justify_items": null,
            "left": null,
            "margin": null,
            "max_height": null,
            "max_width": null,
            "min_height": null,
            "min_width": null,
            "object_fit": null,
            "object_position": null,
            "order": null,
            "overflow": null,
            "overflow_x": null,
            "overflow_y": null,
            "padding": null,
            "right": null,
            "top": null,
            "visibility": null,
            "width": null
          }
        },
        "b76854bc8037440f972b6148a7625840": {
          "model_module": "@jupyter-widgets/base",
          "model_name": "LayoutModel",
          "model_module_version": "1.2.0",
          "state": {
            "_model_module": "@jupyter-widgets/base",
            "_model_module_version": "1.2.0",
            "_model_name": "LayoutModel",
            "_view_count": null,
            "_view_module": "@jupyter-widgets/base",
            "_view_module_version": "1.2.0",
            "_view_name": "LayoutView",
            "align_content": null,
            "align_items": null,
            "align_self": null,
            "border": null,
            "bottom": null,
            "display": null,
            "flex": null,
            "flex_flow": null,
            "grid_area": null,
            "grid_auto_columns": null,
            "grid_auto_flow": null,
            "grid_auto_rows": null,
            "grid_column": null,
            "grid_gap": null,
            "grid_row": null,
            "grid_template_areas": null,
            "grid_template_columns": null,
            "grid_template_rows": null,
            "height": null,
            "justify_content": null,
            "justify_items": null,
            "left": null,
            "margin": null,
            "max_height": null,
            "max_width": null,
            "min_height": null,
            "min_width": null,
            "object_fit": null,
            "object_position": null,
            "order": null,
            "overflow": null,
            "overflow_x": null,
            "overflow_y": null,
            "padding": null,
            "right": null,
            "top": null,
            "visibility": null,
            "width": null
          }
        },
        "235b607c0a7e44008beeb16a70b67af1": {
          "model_module": "@jupyter-widgets/controls",
          "model_name": "DescriptionStyleModel",
          "model_module_version": "1.5.0",
          "state": {
            "_model_module": "@jupyter-widgets/controls",
            "_model_module_version": "1.5.0",
            "_model_name": "DescriptionStyleModel",
            "_view_count": null,
            "_view_module": "@jupyter-widgets/base",
            "_view_module_version": "1.2.0",
            "_view_name": "StyleView",
            "description_width": ""
          }
        },
        "7f10587e018f4955a86d486e98b8eaf9": {
          "model_module": "@jupyter-widgets/base",
          "model_name": "LayoutModel",
          "model_module_version": "1.2.0",
          "state": {
            "_model_module": "@jupyter-widgets/base",
            "_model_module_version": "1.2.0",
            "_model_name": "LayoutModel",
            "_view_count": null,
            "_view_module": "@jupyter-widgets/base",
            "_view_module_version": "1.2.0",
            "_view_name": "LayoutView",
            "align_content": null,
            "align_items": null,
            "align_self": null,
            "border": null,
            "bottom": null,
            "display": null,
            "flex": null,
            "flex_flow": null,
            "grid_area": null,
            "grid_auto_columns": null,
            "grid_auto_flow": null,
            "grid_auto_rows": null,
            "grid_column": null,
            "grid_gap": null,
            "grid_row": null,
            "grid_template_areas": null,
            "grid_template_columns": null,
            "grid_template_rows": null,
            "height": null,
            "justify_content": null,
            "justify_items": null,
            "left": null,
            "margin": null,
            "max_height": null,
            "max_width": null,
            "min_height": null,
            "min_width": null,
            "object_fit": null,
            "object_position": null,
            "order": null,
            "overflow": null,
            "overflow_x": null,
            "overflow_y": null,
            "padding": null,
            "right": null,
            "top": null,
            "visibility": null,
            "width": null
          }
        },
        "63f1793f2a36459b9580f12b463f2c6a": {
          "model_module": "@jupyter-widgets/controls",
          "model_name": "ProgressStyleModel",
          "model_module_version": "1.5.0",
          "state": {
            "_model_module": "@jupyter-widgets/controls",
            "_model_module_version": "1.5.0",
            "_model_name": "ProgressStyleModel",
            "_view_count": null,
            "_view_module": "@jupyter-widgets/base",
            "_view_module_version": "1.2.0",
            "_view_name": "StyleView",
            "bar_color": null,
            "description_width": ""
          }
        },
        "86ba0b1a7d8a41448874a51b2048e6fa": {
          "model_module": "@jupyter-widgets/base",
          "model_name": "LayoutModel",
          "model_module_version": "1.2.0",
          "state": {
            "_model_module": "@jupyter-widgets/base",
            "_model_module_version": "1.2.0",
            "_model_name": "LayoutModel",
            "_view_count": null,
            "_view_module": "@jupyter-widgets/base",
            "_view_module_version": "1.2.0",
            "_view_name": "LayoutView",
            "align_content": null,
            "align_items": null,
            "align_self": null,
            "border": null,
            "bottom": null,
            "display": null,
            "flex": null,
            "flex_flow": null,
            "grid_area": null,
            "grid_auto_columns": null,
            "grid_auto_flow": null,
            "grid_auto_rows": null,
            "grid_column": null,
            "grid_gap": null,
            "grid_row": null,
            "grid_template_areas": null,
            "grid_template_columns": null,
            "grid_template_rows": null,
            "height": null,
            "justify_content": null,
            "justify_items": null,
            "left": null,
            "margin": null,
            "max_height": null,
            "max_width": null,
            "min_height": null,
            "min_width": null,
            "object_fit": null,
            "object_position": null,
            "order": null,
            "overflow": null,
            "overflow_x": null,
            "overflow_y": null,
            "padding": null,
            "right": null,
            "top": null,
            "visibility": null,
            "width": null
          }
        },
        "a11bda00fef24e9792911c563f639bfe": {
          "model_module": "@jupyter-widgets/controls",
          "model_name": "DescriptionStyleModel",
          "model_module_version": "1.5.0",
          "state": {
            "_model_module": "@jupyter-widgets/controls",
            "_model_module_version": "1.5.0",
            "_model_name": "DescriptionStyleModel",
            "_view_count": null,
            "_view_module": "@jupyter-widgets/base",
            "_view_module_version": "1.2.0",
            "_view_name": "StyleView",
            "description_width": ""
          }
        },
        "c39986af98f843c5a181e5cce7788760": {
          "model_module": "@jupyter-widgets/controls",
          "model_name": "HBoxModel",
          "model_module_version": "1.5.0",
          "state": {
            "_dom_classes": [],
            "_model_module": "@jupyter-widgets/controls",
            "_model_module_version": "1.5.0",
            "_model_name": "HBoxModel",
            "_view_count": null,
            "_view_module": "@jupyter-widgets/controls",
            "_view_module_version": "1.5.0",
            "_view_name": "HBoxView",
            "box_style": "",
            "children": [
              "IPY_MODEL_da8644c1ba514275a5e7ec5b92d3f8b2",
              "IPY_MODEL_e61e0e639000489193ca13d3edada08e",
              "IPY_MODEL_3ff6dba211be46d8a5fdd6591923dd0b"
            ],
            "layout": "IPY_MODEL_d464ec3a3e274758bcb49640a281ddc2"
          }
        },
        "da8644c1ba514275a5e7ec5b92d3f8b2": {
          "model_module": "@jupyter-widgets/controls",
          "model_name": "HTMLModel",
          "model_module_version": "1.5.0",
          "state": {
            "_dom_classes": [],
            "_model_module": "@jupyter-widgets/controls",
            "_model_module_version": "1.5.0",
            "_model_name": "HTMLModel",
            "_view_count": null,
            "_view_module": "@jupyter-widgets/controls",
            "_view_module_version": "1.5.0",
            "_view_name": "HTMLView",
            "description": "",
            "description_tooltip": null,
            "layout": "IPY_MODEL_e86ea0556e60430aa4bceaf892b6a98d",
            "placeholder": "​",
            "style": "IPY_MODEL_6be9c1ca749b4ec9b9a02ce9e92edb73",
            "value": "Downloading data: 100%"
          }
        },
        "e61e0e639000489193ca13d3edada08e": {
          "model_module": "@jupyter-widgets/controls",
          "model_name": "FloatProgressModel",
          "model_module_version": "1.5.0",
          "state": {
            "_dom_classes": [],
            "_model_module": "@jupyter-widgets/controls",
            "_model_module_version": "1.5.0",
            "_model_name": "FloatProgressModel",
            "_view_count": null,
            "_view_module": "@jupyter-widgets/controls",
            "_view_module_version": "1.5.0",
            "_view_name": "ProgressView",
            "bar_style": "success",
            "description": "",
            "description_tooltip": null,
            "layout": "IPY_MODEL_ff389efa6c3b481794c4403fcc01b1ea",
            "max": 106672890,
            "min": 0,
            "orientation": "horizontal",
            "style": "IPY_MODEL_9ce7a280a580402f8a6988d11d176bb7",
            "value": 106672890
          }
        },
        "3ff6dba211be46d8a5fdd6591923dd0b": {
          "model_module": "@jupyter-widgets/controls",
          "model_name": "HTMLModel",
          "model_module_version": "1.5.0",
          "state": {
            "_dom_classes": [],
            "_model_module": "@jupyter-widgets/controls",
            "_model_module_version": "1.5.0",
            "_model_name": "HTMLModel",
            "_view_count": null,
            "_view_module": "@jupyter-widgets/controls",
            "_view_module_version": "1.5.0",
            "_view_name": "HTMLView",
            "description": "",
            "description_tooltip": null,
            "layout": "IPY_MODEL_07ba50c4947d492587d9ca19d3832aab",
            "placeholder": "​",
            "style": "IPY_MODEL_c00b18e55cfb48e594549ccbc89f7b04",
            "value": " 107M/107M [00:01&lt;00:00, 101MB/s]"
          }
        },
        "d464ec3a3e274758bcb49640a281ddc2": {
          "model_module": "@jupyter-widgets/base",
          "model_name": "LayoutModel",
          "model_module_version": "1.2.0",
          "state": {
            "_model_module": "@jupyter-widgets/base",
            "_model_module_version": "1.2.0",
            "_model_name": "LayoutModel",
            "_view_count": null,
            "_view_module": "@jupyter-widgets/base",
            "_view_module_version": "1.2.0",
            "_view_name": "LayoutView",
            "align_content": null,
            "align_items": null,
            "align_self": null,
            "border": null,
            "bottom": null,
            "display": null,
            "flex": null,
            "flex_flow": null,
            "grid_area": null,
            "grid_auto_columns": null,
            "grid_auto_flow": null,
            "grid_auto_rows": null,
            "grid_column": null,
            "grid_gap": null,
            "grid_row": null,
            "grid_template_areas": null,
            "grid_template_columns": null,
            "grid_template_rows": null,
            "height": null,
            "justify_content": null,
            "justify_items": null,
            "left": null,
            "margin": null,
            "max_height": null,
            "max_width": null,
            "min_height": null,
            "min_width": null,
            "object_fit": null,
            "object_position": null,
            "order": null,
            "overflow": null,
            "overflow_x": null,
            "overflow_y": null,
            "padding": null,
            "right": null,
            "top": null,
            "visibility": null,
            "width": null
          }
        },
        "e86ea0556e60430aa4bceaf892b6a98d": {
          "model_module": "@jupyter-widgets/base",
          "model_name": "LayoutModel",
          "model_module_version": "1.2.0",
          "state": {
            "_model_module": "@jupyter-widgets/base",
            "_model_module_version": "1.2.0",
            "_model_name": "LayoutModel",
            "_view_count": null,
            "_view_module": "@jupyter-widgets/base",
            "_view_module_version": "1.2.0",
            "_view_name": "LayoutView",
            "align_content": null,
            "align_items": null,
            "align_self": null,
            "border": null,
            "bottom": null,
            "display": null,
            "flex": null,
            "flex_flow": null,
            "grid_area": null,
            "grid_auto_columns": null,
            "grid_auto_flow": null,
            "grid_auto_rows": null,
            "grid_column": null,
            "grid_gap": null,
            "grid_row": null,
            "grid_template_areas": null,
            "grid_template_columns": null,
            "grid_template_rows": null,
            "height": null,
            "justify_content": null,
            "justify_items": null,
            "left": null,
            "margin": null,
            "max_height": null,
            "max_width": null,
            "min_height": null,
            "min_width": null,
            "object_fit": null,
            "object_position": null,
            "order": null,
            "overflow": null,
            "overflow_x": null,
            "overflow_y": null,
            "padding": null,
            "right": null,
            "top": null,
            "visibility": null,
            "width": null
          }
        },
        "6be9c1ca749b4ec9b9a02ce9e92edb73": {
          "model_module": "@jupyter-widgets/controls",
          "model_name": "DescriptionStyleModel",
          "model_module_version": "1.5.0",
          "state": {
            "_model_module": "@jupyter-widgets/controls",
            "_model_module_version": "1.5.0",
            "_model_name": "DescriptionStyleModel",
            "_view_count": null,
            "_view_module": "@jupyter-widgets/base",
            "_view_module_version": "1.2.0",
            "_view_name": "StyleView",
            "description_width": ""
          }
        },
        "ff389efa6c3b481794c4403fcc01b1ea": {
          "model_module": "@jupyter-widgets/base",
          "model_name": "LayoutModel",
          "model_module_version": "1.2.0",
          "state": {
            "_model_module": "@jupyter-widgets/base",
            "_model_module_version": "1.2.0",
            "_model_name": "LayoutModel",
            "_view_count": null,
            "_view_module": "@jupyter-widgets/base",
            "_view_module_version": "1.2.0",
            "_view_name": "LayoutView",
            "align_content": null,
            "align_items": null,
            "align_self": null,
            "border": null,
            "bottom": null,
            "display": null,
            "flex": null,
            "flex_flow": null,
            "grid_area": null,
            "grid_auto_columns": null,
            "grid_auto_flow": null,
            "grid_auto_rows": null,
            "grid_column": null,
            "grid_gap": null,
            "grid_row": null,
            "grid_template_areas": null,
            "grid_template_columns": null,
            "grid_template_rows": null,
            "height": null,
            "justify_content": null,
            "justify_items": null,
            "left": null,
            "margin": null,
            "max_height": null,
            "max_width": null,
            "min_height": null,
            "min_width": null,
            "object_fit": null,
            "object_position": null,
            "order": null,
            "overflow": null,
            "overflow_x": null,
            "overflow_y": null,
            "padding": null,
            "right": null,
            "top": null,
            "visibility": null,
            "width": null
          }
        },
        "9ce7a280a580402f8a6988d11d176bb7": {
          "model_module": "@jupyter-widgets/controls",
          "model_name": "ProgressStyleModel",
          "model_module_version": "1.5.0",
          "state": {
            "_model_module": "@jupyter-widgets/controls",
            "_model_module_version": "1.5.0",
            "_model_name": "ProgressStyleModel",
            "_view_count": null,
            "_view_module": "@jupyter-widgets/base",
            "_view_module_version": "1.2.0",
            "_view_name": "StyleView",
            "bar_color": null,
            "description_width": ""
          }
        },
        "07ba50c4947d492587d9ca19d3832aab": {
          "model_module": "@jupyter-widgets/base",
          "model_name": "LayoutModel",
          "model_module_version": "1.2.0",
          "state": {
            "_model_module": "@jupyter-widgets/base",
            "_model_module_version": "1.2.0",
            "_model_name": "LayoutModel",
            "_view_count": null,
            "_view_module": "@jupyter-widgets/base",
            "_view_module_version": "1.2.0",
            "_view_name": "LayoutView",
            "align_content": null,
            "align_items": null,
            "align_self": null,
            "border": null,
            "bottom": null,
            "display": null,
            "flex": null,
            "flex_flow": null,
            "grid_area": null,
            "grid_auto_columns": null,
            "grid_auto_flow": null,
            "grid_auto_rows": null,
            "grid_column": null,
            "grid_gap": null,
            "grid_row": null,
            "grid_template_areas": null,
            "grid_template_columns": null,
            "grid_template_rows": null,
            "height": null,
            "justify_content": null,
            "justify_items": null,
            "left": null,
            "margin": null,
            "max_height": null,
            "max_width": null,
            "min_height": null,
            "min_width": null,
            "object_fit": null,
            "object_position": null,
            "order": null,
            "overflow": null,
            "overflow_x": null,
            "overflow_y": null,
            "padding": null,
            "right": null,
            "top": null,
            "visibility": null,
            "width": null
          }
        },
        "c00b18e55cfb48e594549ccbc89f7b04": {
          "model_module": "@jupyter-widgets/controls",
          "model_name": "DescriptionStyleModel",
          "model_module_version": "1.5.0",
          "state": {
            "_model_module": "@jupyter-widgets/controls",
            "_model_module_version": "1.5.0",
            "_model_name": "DescriptionStyleModel",
            "_view_count": null,
            "_view_module": "@jupyter-widgets/base",
            "_view_module_version": "1.2.0",
            "_view_name": "StyleView",
            "description_width": ""
          }
        },
        "c1543c3f978149ec9459b2c72cbef0e6": {
          "model_module": "@jupyter-widgets/controls",
          "model_name": "HBoxModel",
          "model_module_version": "1.5.0",
          "state": {
            "_dom_classes": [],
            "_model_module": "@jupyter-widgets/controls",
            "_model_module_version": "1.5.0",
            "_model_name": "HBoxModel",
            "_view_count": null,
            "_view_module": "@jupyter-widgets/controls",
            "_view_module_version": "1.5.0",
            "_view_name": "HBoxView",
            "box_style": "",
            "children": [
              "IPY_MODEL_eae056bb722242559b19f0602cd2ca89",
              "IPY_MODEL_eb5f004bd5d84eb486ab7dbf1b9433af",
              "IPY_MODEL_bbd433c2fd03479dbc4591aa558738f0"
            ],
            "layout": "IPY_MODEL_8d599b1f191f40b2ab2aab568fdd8913"
          }
        },
        "eae056bb722242559b19f0602cd2ca89": {
          "model_module": "@jupyter-widgets/controls",
          "model_name": "HTMLModel",
          "model_module_version": "1.5.0",
          "state": {
            "_dom_classes": [],
            "_model_module": "@jupyter-widgets/controls",
            "_model_module_version": "1.5.0",
            "_model_name": "HTMLModel",
            "_view_count": null,
            "_view_module": "@jupyter-widgets/controls",
            "_view_module_version": "1.5.0",
            "_view_name": "HTMLView",
            "description": "",
            "description_tooltip": null,
            "layout": "IPY_MODEL_472e9d1863f446dbafa388098fabf0bb",
            "placeholder": "​",
            "style": "IPY_MODEL_0d6b652a168d4ec2acfc555887242797",
            "value": "Generating train split: 100%"
          }
        },
        "eb5f004bd5d84eb486ab7dbf1b9433af": {
          "model_module": "@jupyter-widgets/controls",
          "model_name": "FloatProgressModel",
          "model_module_version": "1.5.0",
          "state": {
            "_dom_classes": [],
            "_model_module": "@jupyter-widgets/controls",
            "_model_module_version": "1.5.0",
            "_model_name": "FloatProgressModel",
            "_view_count": null,
            "_view_module": "@jupyter-widgets/controls",
            "_view_module_version": "1.5.0",
            "_view_name": "ProgressView",
            "bar_style": "success",
            "description": "",
            "description_tooltip": null,
            "layout": "IPY_MODEL_b15fe9646aa94003ae833a24a558c087",
            "max": 10944,
            "min": 0,
            "orientation": "horizontal",
            "style": "IPY_MODEL_745ba317661748f2b5491a8115b78d35",
            "value": 10944
          }
        },
        "bbd433c2fd03479dbc4591aa558738f0": {
          "model_module": "@jupyter-widgets/controls",
          "model_name": "HTMLModel",
          "model_module_version": "1.5.0",
          "state": {
            "_dom_classes": [],
            "_model_module": "@jupyter-widgets/controls",
            "_model_module_version": "1.5.0",
            "_model_name": "HTMLModel",
            "_view_count": null,
            "_view_module": "@jupyter-widgets/controls",
            "_view_module_version": "1.5.0",
            "_view_name": "HTMLView",
            "description": "",
            "description_tooltip": null,
            "layout": "IPY_MODEL_e82d7a90a41442bc9990c9c85619cc25",
            "placeholder": "​",
            "style": "IPY_MODEL_6d9ab32cbfa84f0aaba4c564ba5e8b86",
            "value": " 10944/10944 [00:02&lt;00:00, 5269.85 examples/s]"
          }
        },
        "8d599b1f191f40b2ab2aab568fdd8913": {
          "model_module": "@jupyter-widgets/base",
          "model_name": "LayoutModel",
          "model_module_version": "1.2.0",
          "state": {
            "_model_module": "@jupyter-widgets/base",
            "_model_module_version": "1.2.0",
            "_model_name": "LayoutModel",
            "_view_count": null,
            "_view_module": "@jupyter-widgets/base",
            "_view_module_version": "1.2.0",
            "_view_name": "LayoutView",
            "align_content": null,
            "align_items": null,
            "align_self": null,
            "border": null,
            "bottom": null,
            "display": null,
            "flex": null,
            "flex_flow": null,
            "grid_area": null,
            "grid_auto_columns": null,
            "grid_auto_flow": null,
            "grid_auto_rows": null,
            "grid_column": null,
            "grid_gap": null,
            "grid_row": null,
            "grid_template_areas": null,
            "grid_template_columns": null,
            "grid_template_rows": null,
            "height": null,
            "justify_content": null,
            "justify_items": null,
            "left": null,
            "margin": null,
            "max_height": null,
            "max_width": null,
            "min_height": null,
            "min_width": null,
            "object_fit": null,
            "object_position": null,
            "order": null,
            "overflow": null,
            "overflow_x": null,
            "overflow_y": null,
            "padding": null,
            "right": null,
            "top": null,
            "visibility": null,
            "width": null
          }
        },
        "472e9d1863f446dbafa388098fabf0bb": {
          "model_module": "@jupyter-widgets/base",
          "model_name": "LayoutModel",
          "model_module_version": "1.2.0",
          "state": {
            "_model_module": "@jupyter-widgets/base",
            "_model_module_version": "1.2.0",
            "_model_name": "LayoutModel",
            "_view_count": null,
            "_view_module": "@jupyter-widgets/base",
            "_view_module_version": "1.2.0",
            "_view_name": "LayoutView",
            "align_content": null,
            "align_items": null,
            "align_self": null,
            "border": null,
            "bottom": null,
            "display": null,
            "flex": null,
            "flex_flow": null,
            "grid_area": null,
            "grid_auto_columns": null,
            "grid_auto_flow": null,
            "grid_auto_rows": null,
            "grid_column": null,
            "grid_gap": null,
            "grid_row": null,
            "grid_template_areas": null,
            "grid_template_columns": null,
            "grid_template_rows": null,
            "height": null,
            "justify_content": null,
            "justify_items": null,
            "left": null,
            "margin": null,
            "max_height": null,
            "max_width": null,
            "min_height": null,
            "min_width": null,
            "object_fit": null,
            "object_position": null,
            "order": null,
            "overflow": null,
            "overflow_x": null,
            "overflow_y": null,
            "padding": null,
            "right": null,
            "top": null,
            "visibility": null,
            "width": null
          }
        },
        "0d6b652a168d4ec2acfc555887242797": {
          "model_module": "@jupyter-widgets/controls",
          "model_name": "DescriptionStyleModel",
          "model_module_version": "1.5.0",
          "state": {
            "_model_module": "@jupyter-widgets/controls",
            "_model_module_version": "1.5.0",
            "_model_name": "DescriptionStyleModel",
            "_view_count": null,
            "_view_module": "@jupyter-widgets/base",
            "_view_module_version": "1.2.0",
            "_view_name": "StyleView",
            "description_width": ""
          }
        },
        "b15fe9646aa94003ae833a24a558c087": {
          "model_module": "@jupyter-widgets/base",
          "model_name": "LayoutModel",
          "model_module_version": "1.2.0",
          "state": {
            "_model_module": "@jupyter-widgets/base",
            "_model_module_version": "1.2.0",
            "_model_name": "LayoutModel",
            "_view_count": null,
            "_view_module": "@jupyter-widgets/base",
            "_view_module_version": "1.2.0",
            "_view_name": "LayoutView",
            "align_content": null,
            "align_items": null,
            "align_self": null,
            "border": null,
            "bottom": null,
            "display": null,
            "flex": null,
            "flex_flow": null,
            "grid_area": null,
            "grid_auto_columns": null,
            "grid_auto_flow": null,
            "grid_auto_rows": null,
            "grid_column": null,
            "grid_gap": null,
            "grid_row": null,
            "grid_template_areas": null,
            "grid_template_columns": null,
            "grid_template_rows": null,
            "height": null,
            "justify_content": null,
            "justify_items": null,
            "left": null,
            "margin": null,
            "max_height": null,
            "max_width": null,
            "min_height": null,
            "min_width": null,
            "object_fit": null,
            "object_position": null,
            "order": null,
            "overflow": null,
            "overflow_x": null,
            "overflow_y": null,
            "padding": null,
            "right": null,
            "top": null,
            "visibility": null,
            "width": null
          }
        },
        "745ba317661748f2b5491a8115b78d35": {
          "model_module": "@jupyter-widgets/controls",
          "model_name": "ProgressStyleModel",
          "model_module_version": "1.5.0",
          "state": {
            "_model_module": "@jupyter-widgets/controls",
            "_model_module_version": "1.5.0",
            "_model_name": "ProgressStyleModel",
            "_view_count": null,
            "_view_module": "@jupyter-widgets/base",
            "_view_module_version": "1.2.0",
            "_view_name": "StyleView",
            "bar_color": null,
            "description_width": ""
          }
        },
        "e82d7a90a41442bc9990c9c85619cc25": {
          "model_module": "@jupyter-widgets/base",
          "model_name": "LayoutModel",
          "model_module_version": "1.2.0",
          "state": {
            "_model_module": "@jupyter-widgets/base",
            "_model_module_version": "1.2.0",
            "_model_name": "LayoutModel",
            "_view_count": null,
            "_view_module": "@jupyter-widgets/base",
            "_view_module_version": "1.2.0",
            "_view_name": "LayoutView",
            "align_content": null,
            "align_items": null,
            "align_self": null,
            "border": null,
            "bottom": null,
            "display": null,
            "flex": null,
            "flex_flow": null,
            "grid_area": null,
            "grid_auto_columns": null,
            "grid_auto_flow": null,
            "grid_auto_rows": null,
            "grid_column": null,
            "grid_gap": null,
            "grid_row": null,
            "grid_template_areas": null,
            "grid_template_columns": null,
            "grid_template_rows": null,
            "height": null,
            "justify_content": null,
            "justify_items": null,
            "left": null,
            "margin": null,
            "max_height": null,
            "max_width": null,
            "min_height": null,
            "min_width": null,
            "object_fit": null,
            "object_position": null,
            "order": null,
            "overflow": null,
            "overflow_x": null,
            "overflow_y": null,
            "padding": null,
            "right": null,
            "top": null,
            "visibility": null,
            "width": null
          }
        },
        "6d9ab32cbfa84f0aaba4c564ba5e8b86": {
          "model_module": "@jupyter-widgets/controls",
          "model_name": "DescriptionStyleModel",
          "model_module_version": "1.5.0",
          "state": {
            "_model_module": "@jupyter-widgets/controls",
            "_model_module_version": "1.5.0",
            "_model_name": "DescriptionStyleModel",
            "_view_count": null,
            "_view_module": "@jupyter-widgets/base",
            "_view_module_version": "1.2.0",
            "_view_name": "StyleView",
            "description_width": ""
          }
        },
        "dc025a43d6cf4e14a41d5056897bba71": {
          "model_module": "@jupyter-widgets/controls",
          "model_name": "HBoxModel",
          "model_module_version": "1.5.0",
          "state": {
            "_dom_classes": [],
            "_model_module": "@jupyter-widgets/controls",
            "_model_module_version": "1.5.0",
            "_model_name": "HBoxModel",
            "_view_count": null,
            "_view_module": "@jupyter-widgets/controls",
            "_view_module_version": "1.5.0",
            "_view_name": "HBoxView",
            "box_style": "",
            "children": [
              "IPY_MODEL_4d0aac439655411cbf2e4543172a8cf4",
              "IPY_MODEL_74517db656f74cada174342ff4e60d69",
              "IPY_MODEL_eb7e9686026c4136b975a66751108f32"
            ],
            "layout": "IPY_MODEL_1581fa477ebd472d9a1bd047a59422d5"
          }
        },
        "4d0aac439655411cbf2e4543172a8cf4": {
          "model_module": "@jupyter-widgets/controls",
          "model_name": "HTMLModel",
          "model_module_version": "1.5.0",
          "state": {
            "_dom_classes": [],
            "_model_module": "@jupyter-widgets/controls",
            "_model_module_version": "1.5.0",
            "_model_name": "HTMLModel",
            "_view_count": null,
            "_view_module": "@jupyter-widgets/controls",
            "_view_module_version": "1.5.0",
            "_view_name": "HTMLView",
            "description": "",
            "description_tooltip": null,
            "layout": "IPY_MODEL_203c721df5e94cbb8aa02864115cf922",
            "placeholder": "​",
            "style": "IPY_MODEL_d6f77bb7b9f24a79805b35bf27e31101",
            "value": "100%"
          }
        },
        "74517db656f74cada174342ff4e60d69": {
          "model_module": "@jupyter-widgets/controls",
          "model_name": "FloatProgressModel",
          "model_module_version": "1.5.0",
          "state": {
            "_dom_classes": [],
            "_model_module": "@jupyter-widgets/controls",
            "_model_module_version": "1.5.0",
            "_model_name": "FloatProgressModel",
            "_view_count": null,
            "_view_module": "@jupyter-widgets/controls",
            "_view_module_version": "1.5.0",
            "_view_name": "ProgressView",
            "bar_style": "success",
            "description": "",
            "description_tooltip": null,
            "layout": "IPY_MODEL_31d6b4eb4ca2447f82c239721252f01a",
            "max": 11,
            "min": 0,
            "orientation": "horizontal",
            "style": "IPY_MODEL_e892dd853ed0419b9d87b74f70effecc",
            "value": 11
          }
        },
        "eb7e9686026c4136b975a66751108f32": {
          "model_module": "@jupyter-widgets/controls",
          "model_name": "HTMLModel",
          "model_module_version": "1.5.0",
          "state": {
            "_dom_classes": [],
            "_model_module": "@jupyter-widgets/controls",
            "_model_module_version": "1.5.0",
            "_model_name": "HTMLModel",
            "_view_count": null,
            "_view_module": "@jupyter-widgets/controls",
            "_view_module_version": "1.5.0",
            "_view_name": "HTMLView",
            "description": "",
            "description_tooltip": null,
            "layout": "IPY_MODEL_95d7b65b73cb41f599d0f810cfca5220",
            "placeholder": "​",
            "style": "IPY_MODEL_66e6e9c2f54c4b15b4e7607cab7a6151",
            "value": " 11/11 [00:00&lt;00:00, 21.48it/s]"
          }
        },
        "1581fa477ebd472d9a1bd047a59422d5": {
          "model_module": "@jupyter-widgets/base",
          "model_name": "LayoutModel",
          "model_module_version": "1.2.0",
          "state": {
            "_model_module": "@jupyter-widgets/base",
            "_model_module_version": "1.2.0",
            "_model_name": "LayoutModel",
            "_view_count": null,
            "_view_module": "@jupyter-widgets/base",
            "_view_module_version": "1.2.0",
            "_view_name": "LayoutView",
            "align_content": null,
            "align_items": null,
            "align_self": null,
            "border": null,
            "bottom": null,
            "display": null,
            "flex": null,
            "flex_flow": null,
            "grid_area": null,
            "grid_auto_columns": null,
            "grid_auto_flow": null,
            "grid_auto_rows": null,
            "grid_column": null,
            "grid_gap": null,
            "grid_row": null,
            "grid_template_areas": null,
            "grid_template_columns": null,
            "grid_template_rows": null,
            "height": null,
            "justify_content": null,
            "justify_items": null,
            "left": null,
            "margin": null,
            "max_height": null,
            "max_width": null,
            "min_height": null,
            "min_width": null,
            "object_fit": null,
            "object_position": null,
            "order": null,
            "overflow": null,
            "overflow_x": null,
            "overflow_y": null,
            "padding": null,
            "right": null,
            "top": null,
            "visibility": null,
            "width": null
          }
        },
        "203c721df5e94cbb8aa02864115cf922": {
          "model_module": "@jupyter-widgets/base",
          "model_name": "LayoutModel",
          "model_module_version": "1.2.0",
          "state": {
            "_model_module": "@jupyter-widgets/base",
            "_model_module_version": "1.2.0",
            "_model_name": "LayoutModel",
            "_view_count": null,
            "_view_module": "@jupyter-widgets/base",
            "_view_module_version": "1.2.0",
            "_view_name": "LayoutView",
            "align_content": null,
            "align_items": null,
            "align_self": null,
            "border": null,
            "bottom": null,
            "display": null,
            "flex": null,
            "flex_flow": null,
            "grid_area": null,
            "grid_auto_columns": null,
            "grid_auto_flow": null,
            "grid_auto_rows": null,
            "grid_column": null,
            "grid_gap": null,
            "grid_row": null,
            "grid_template_areas": null,
            "grid_template_columns": null,
            "grid_template_rows": null,
            "height": null,
            "justify_content": null,
            "justify_items": null,
            "left": null,
            "margin": null,
            "max_height": null,
            "max_width": null,
            "min_height": null,
            "min_width": null,
            "object_fit": null,
            "object_position": null,
            "order": null,
            "overflow": null,
            "overflow_x": null,
            "overflow_y": null,
            "padding": null,
            "right": null,
            "top": null,
            "visibility": null,
            "width": null
          }
        },
        "d6f77bb7b9f24a79805b35bf27e31101": {
          "model_module": "@jupyter-widgets/controls",
          "model_name": "DescriptionStyleModel",
          "model_module_version": "1.5.0",
          "state": {
            "_model_module": "@jupyter-widgets/controls",
            "_model_module_version": "1.5.0",
            "_model_name": "DescriptionStyleModel",
            "_view_count": null,
            "_view_module": "@jupyter-widgets/base",
            "_view_module_version": "1.2.0",
            "_view_name": "StyleView",
            "description_width": ""
          }
        },
        "31d6b4eb4ca2447f82c239721252f01a": {
          "model_module": "@jupyter-widgets/base",
          "model_name": "LayoutModel",
          "model_module_version": "1.2.0",
          "state": {
            "_model_module": "@jupyter-widgets/base",
            "_model_module_version": "1.2.0",
            "_model_name": "LayoutModel",
            "_view_count": null,
            "_view_module": "@jupyter-widgets/base",
            "_view_module_version": "1.2.0",
            "_view_name": "LayoutView",
            "align_content": null,
            "align_items": null,
            "align_self": null,
            "border": null,
            "bottom": null,
            "display": null,
            "flex": null,
            "flex_flow": null,
            "grid_area": null,
            "grid_auto_columns": null,
            "grid_auto_flow": null,
            "grid_auto_rows": null,
            "grid_column": null,
            "grid_gap": null,
            "grid_row": null,
            "grid_template_areas": null,
            "grid_template_columns": null,
            "grid_template_rows": null,
            "height": null,
            "justify_content": null,
            "justify_items": null,
            "left": null,
            "margin": null,
            "max_height": null,
            "max_width": null,
            "min_height": null,
            "min_width": null,
            "object_fit": null,
            "object_position": null,
            "order": null,
            "overflow": null,
            "overflow_x": null,
            "overflow_y": null,
            "padding": null,
            "right": null,
            "top": null,
            "visibility": null,
            "width": null
          }
        },
        "e892dd853ed0419b9d87b74f70effecc": {
          "model_module": "@jupyter-widgets/controls",
          "model_name": "ProgressStyleModel",
          "model_module_version": "1.5.0",
          "state": {
            "_model_module": "@jupyter-widgets/controls",
            "_model_module_version": "1.5.0",
            "_model_name": "ProgressStyleModel",
            "_view_count": null,
            "_view_module": "@jupyter-widgets/base",
            "_view_module_version": "1.2.0",
            "_view_name": "StyleView",
            "bar_color": null,
            "description_width": ""
          }
        },
        "95d7b65b73cb41f599d0f810cfca5220": {
          "model_module": "@jupyter-widgets/base",
          "model_name": "LayoutModel",
          "model_module_version": "1.2.0",
          "state": {
            "_model_module": "@jupyter-widgets/base",
            "_model_module_version": "1.2.0",
            "_model_name": "LayoutModel",
            "_view_count": null,
            "_view_module": "@jupyter-widgets/base",
            "_view_module_version": "1.2.0",
            "_view_name": "LayoutView",
            "align_content": null,
            "align_items": null,
            "align_self": null,
            "border": null,
            "bottom": null,
            "display": null,
            "flex": null,
            "flex_flow": null,
            "grid_area": null,
            "grid_auto_columns": null,
            "grid_auto_flow": null,
            "grid_auto_rows": null,
            "grid_column": null,
            "grid_gap": null,
            "grid_row": null,
            "grid_template_areas": null,
            "grid_template_columns": null,
            "grid_template_rows": null,
            "height": null,
            "justify_content": null,
            "justify_items": null,
            "left": null,
            "margin": null,
            "max_height": null,
            "max_width": null,
            "min_height": null,
            "min_width": null,
            "object_fit": null,
            "object_position": null,
            "order": null,
            "overflow": null,
            "overflow_x": null,
            "overflow_y": null,
            "padding": null,
            "right": null,
            "top": null,
            "visibility": null,
            "width": null
          }
        },
        "66e6e9c2f54c4b15b4e7607cab7a6151": {
          "model_module": "@jupyter-widgets/controls",
          "model_name": "DescriptionStyleModel",
          "model_module_version": "1.5.0",
          "state": {
            "_model_module": "@jupyter-widgets/controls",
            "_model_module_version": "1.5.0",
            "_model_name": "DescriptionStyleModel",
            "_view_count": null,
            "_view_module": "@jupyter-widgets/base",
            "_view_module_version": "1.2.0",
            "_view_name": "StyleView",
            "description_width": ""
          }
        }
      }
    }
  },
  "cells": [
    {
      "cell_type": "markdown",
      "source": [
        "# Whole declaration embedding\n",
        "\n",
        "We ditch the chunking as we cannot get a satisfiying match."
      ],
      "metadata": {
        "id": "v3iLPApOvImn"
      }
    },
    {
      "cell_type": "markdown",
      "source": [
        "## install libs"
      ],
      "metadata": {
        "id": "ZeymZd6evIkB"
      }
    },
    {
      "cell_type": "code",
      "execution_count": null,
      "metadata": {
        "colab": {
          "base_uri": "https://localhost:8080/"
        },
        "id": "KlUQutLGi7dh",
        "outputId": "72d7bd66-95b1-4777-a379-7c10a6722dbf"
      },
      "outputs": [
        {
          "output_type": "stream",
          "name": "stdout",
          "text": [
            "Collecting datasets\n",
            "  Downloading datasets-2.19.0-py3-none-any.whl (542 kB)\n",
            "\u001b[2K     \u001b[90m━━━━━━━━━━━━━━━━━━━━━━━━━━━━━━━━━━━━━━━━\u001b[0m \u001b[32m542.0/542.0 kB\u001b[0m \u001b[31m4.9 MB/s\u001b[0m eta \u001b[36m0:00:00\u001b[0m\n",
            "\u001b[?25hRequirement already satisfied: filelock in /usr/local/lib/python3.10/dist-packages (from datasets) (3.13.4)\n",
            "Requirement already satisfied: numpy>=1.17 in /usr/local/lib/python3.10/dist-packages (from datasets) (1.25.2)\n",
            "Requirement already satisfied: pyarrow>=12.0.0 in /usr/local/lib/python3.10/dist-packages (from datasets) (14.0.2)\n",
            "Requirement already satisfied: pyarrow-hotfix in /usr/local/lib/python3.10/dist-packages (from datasets) (0.6)\n",
            "Collecting dill<0.3.9,>=0.3.0 (from datasets)\n",
            "  Downloading dill-0.3.8-py3-none-any.whl (116 kB)\n",
            "\u001b[2K     \u001b[90m━━━━━━━━━━━━━━━━━━━━━━━━━━━━━━━━━━━━━━━━\u001b[0m \u001b[32m116.3/116.3 kB\u001b[0m \u001b[31m8.7 MB/s\u001b[0m eta \u001b[36m0:00:00\u001b[0m\n",
            "\u001b[?25hRequirement already satisfied: pandas in /usr/local/lib/python3.10/dist-packages (from datasets) (2.0.3)\n",
            "Requirement already satisfied: requests>=2.19.0 in /usr/local/lib/python3.10/dist-packages (from datasets) (2.31.0)\n",
            "Requirement already satisfied: tqdm>=4.62.1 in /usr/local/lib/python3.10/dist-packages (from datasets) (4.66.2)\n",
            "Collecting xxhash (from datasets)\n",
            "  Downloading xxhash-3.4.1-cp310-cp310-manylinux_2_17_x86_64.manylinux2014_x86_64.whl (194 kB)\n",
            "\u001b[2K     \u001b[90m━━━━━━━━━━━━━━━━━━━━━━━━━━━━━━━━━━━━━━━━\u001b[0m \u001b[32m194.1/194.1 kB\u001b[0m \u001b[31m4.7 MB/s\u001b[0m eta \u001b[36m0:00:00\u001b[0m\n",
            "\u001b[?25hCollecting multiprocess (from datasets)\n",
            "  Downloading multiprocess-0.70.16-py310-none-any.whl (134 kB)\n",
            "\u001b[2K     \u001b[90m━━━━━━━━━━━━━━━━━━━━━━━━━━━━━━━━━━━━━━━━\u001b[0m \u001b[32m134.8/134.8 kB\u001b[0m \u001b[31m5.2 MB/s\u001b[0m eta \u001b[36m0:00:00\u001b[0m\n",
            "\u001b[?25hRequirement already satisfied: fsspec[http]<=2024.3.1,>=2023.1.0 in /usr/local/lib/python3.10/dist-packages (from datasets) (2023.6.0)\n",
            "Requirement already satisfied: aiohttp in /usr/local/lib/python3.10/dist-packages (from datasets) (3.9.5)\n",
            "Collecting huggingface-hub>=0.21.2 (from datasets)\n",
            "  Downloading huggingface_hub-0.22.2-py3-none-any.whl (388 kB)\n",
            "\u001b[2K     \u001b[90m━━━━━━━━━━━━━━━━━━━━━━━━━━━━━━━━━━━━━━━━\u001b[0m \u001b[32m388.9/388.9 kB\u001b[0m \u001b[31m5.9 MB/s\u001b[0m eta \u001b[36m0:00:00\u001b[0m\n",
            "\u001b[?25hRequirement already satisfied: packaging in /usr/local/lib/python3.10/dist-packages (from datasets) (24.0)\n",
            "Requirement already satisfied: pyyaml>=5.1 in /usr/local/lib/python3.10/dist-packages (from datasets) (6.0.1)\n",
            "Requirement already satisfied: aiosignal>=1.1.2 in /usr/local/lib/python3.10/dist-packages (from aiohttp->datasets) (1.3.1)\n",
            "Requirement already satisfied: attrs>=17.3.0 in /usr/local/lib/python3.10/dist-packages (from aiohttp->datasets) (23.2.0)\n",
            "Requirement already satisfied: frozenlist>=1.1.1 in /usr/local/lib/python3.10/dist-packages (from aiohttp->datasets) (1.4.1)\n",
            "Requirement already satisfied: multidict<7.0,>=4.5 in /usr/local/lib/python3.10/dist-packages (from aiohttp->datasets) (6.0.5)\n",
            "Requirement already satisfied: yarl<2.0,>=1.0 in /usr/local/lib/python3.10/dist-packages (from aiohttp->datasets) (1.9.4)\n",
            "Requirement already satisfied: async-timeout<5.0,>=4.0 in /usr/local/lib/python3.10/dist-packages (from aiohttp->datasets) (4.0.3)\n",
            "Requirement already satisfied: typing-extensions>=3.7.4.3 in /usr/local/lib/python3.10/dist-packages (from huggingface-hub>=0.21.2->datasets) (4.11.0)\n",
            "Requirement already satisfied: charset-normalizer<4,>=2 in /usr/local/lib/python3.10/dist-packages (from requests>=2.19.0->datasets) (3.3.2)\n",
            "Requirement already satisfied: idna<4,>=2.5 in /usr/local/lib/python3.10/dist-packages (from requests>=2.19.0->datasets) (3.7)\n",
            "Requirement already satisfied: urllib3<3,>=1.21.1 in /usr/local/lib/python3.10/dist-packages (from requests>=2.19.0->datasets) (2.0.7)\n",
            "Requirement already satisfied: certifi>=2017.4.17 in /usr/local/lib/python3.10/dist-packages (from requests>=2.19.0->datasets) (2024.2.2)\n",
            "Requirement already satisfied: python-dateutil>=2.8.2 in /usr/local/lib/python3.10/dist-packages (from pandas->datasets) (2.8.2)\n",
            "Requirement already satisfied: pytz>=2020.1 in /usr/local/lib/python3.10/dist-packages (from pandas->datasets) (2023.4)\n",
            "Requirement already satisfied: tzdata>=2022.1 in /usr/local/lib/python3.10/dist-packages (from pandas->datasets) (2024.1)\n",
            "Requirement already satisfied: six>=1.5 in /usr/local/lib/python3.10/dist-packages (from python-dateutil>=2.8.2->pandas->datasets) (1.16.0)\n",
            "Installing collected packages: xxhash, dill, multiprocess, huggingface-hub, datasets\n",
            "  Attempting uninstall: huggingface-hub\n",
            "    Found existing installation: huggingface-hub 0.20.3\n",
            "    Uninstalling huggingface-hub-0.20.3:\n",
            "      Successfully uninstalled huggingface-hub-0.20.3\n",
            "Successfully installed datasets-2.19.0 dill-0.3.8 huggingface-hub-0.22.2 multiprocess-0.70.16 xxhash-3.4.1\n",
            "Collecting langchain\n",
            "  Downloading langchain-0.1.16-py3-none-any.whl (817 kB)\n",
            "\u001b[2K     \u001b[90m━━━━━━━━━━━━━━━━━━━━━━━━━━━━━━━━━━━━━━━━\u001b[0m \u001b[32m817.7/817.7 kB\u001b[0m \u001b[31m6.0 MB/s\u001b[0m eta \u001b[36m0:00:00\u001b[0m\n",
            "\u001b[?25hRequirement already satisfied: PyYAML>=5.3 in /usr/local/lib/python3.10/dist-packages (from langchain) (6.0.1)\n",
            "Requirement already satisfied: SQLAlchemy<3,>=1.4 in /usr/local/lib/python3.10/dist-packages (from langchain) (2.0.29)\n",
            "Requirement already satisfied: aiohttp<4.0.0,>=3.8.3 in /usr/local/lib/python3.10/dist-packages (from langchain) (3.9.5)\n",
            "Requirement already satisfied: async-timeout<5.0.0,>=4.0.0 in /usr/local/lib/python3.10/dist-packages (from langchain) (4.0.3)\n",
            "Collecting dataclasses-json<0.7,>=0.5.7 (from langchain)\n",
            "  Downloading dataclasses_json-0.6.5-py3-none-any.whl (28 kB)\n",
            "Collecting jsonpatch<2.0,>=1.33 (from langchain)\n",
            "  Downloading jsonpatch-1.33-py2.py3-none-any.whl (12 kB)\n",
            "Collecting langchain-community<0.1,>=0.0.32 (from langchain)\n",
            "  Downloading langchain_community-0.0.34-py3-none-any.whl (1.9 MB)\n",
            "\u001b[2K     \u001b[90m━━━━━━━━━━━━━━━━━━━━━━━━━━━━━━━━━━━━━━━━\u001b[0m \u001b[32m1.9/1.9 MB\u001b[0m \u001b[31m10.6 MB/s\u001b[0m eta \u001b[36m0:00:00\u001b[0m\n",
            "\u001b[?25hCollecting langchain-core<0.2.0,>=0.1.42 (from langchain)\n",
            "  Downloading langchain_core-0.1.46-py3-none-any.whl (299 kB)\n",
            "\u001b[2K     \u001b[90m━━━━━━━━━━━━━━━━━━━━━━━━━━━━━━━━━━━━━━━━\u001b[0m \u001b[32m299.3/299.3 kB\u001b[0m \u001b[31m12.1 MB/s\u001b[0m eta \u001b[36m0:00:00\u001b[0m\n",
            "\u001b[?25hCollecting langchain-text-splitters<0.1,>=0.0.1 (from langchain)\n",
            "  Downloading langchain_text_splitters-0.0.1-py3-none-any.whl (21 kB)\n",
            "Collecting langsmith<0.2.0,>=0.1.17 (from langchain)\n",
            "  Downloading langsmith-0.1.52-py3-none-any.whl (116 kB)\n",
            "\u001b[2K     \u001b[90m━━━━━━━━━━━━━━━━━━━━━━━━━━━━━━━━━━━━━━━━\u001b[0m \u001b[32m116.4/116.4 kB\u001b[0m \u001b[31m9.3 MB/s\u001b[0m eta \u001b[36m0:00:00\u001b[0m\n",
            "\u001b[?25hRequirement already satisfied: numpy<2,>=1 in /usr/local/lib/python3.10/dist-packages (from langchain) (1.25.2)\n",
            "Requirement already satisfied: pydantic<3,>=1 in /usr/local/lib/python3.10/dist-packages (from langchain) (2.7.0)\n",
            "Requirement already satisfied: requests<3,>=2 in /usr/local/lib/python3.10/dist-packages (from langchain) (2.31.0)\n",
            "Requirement already satisfied: tenacity<9.0.0,>=8.1.0 in /usr/local/lib/python3.10/dist-packages (from langchain) (8.2.3)\n",
            "Requirement already satisfied: aiosignal>=1.1.2 in /usr/local/lib/python3.10/dist-packages (from aiohttp<4.0.0,>=3.8.3->langchain) (1.3.1)\n",
            "Requirement already satisfied: attrs>=17.3.0 in /usr/local/lib/python3.10/dist-packages (from aiohttp<4.0.0,>=3.8.3->langchain) (23.2.0)\n",
            "Requirement already satisfied: frozenlist>=1.1.1 in /usr/local/lib/python3.10/dist-packages (from aiohttp<4.0.0,>=3.8.3->langchain) (1.4.1)\n",
            "Requirement already satisfied: multidict<7.0,>=4.5 in /usr/local/lib/python3.10/dist-packages (from aiohttp<4.0.0,>=3.8.3->langchain) (6.0.5)\n",
            "Requirement already satisfied: yarl<2.0,>=1.0 in /usr/local/lib/python3.10/dist-packages (from aiohttp<4.0.0,>=3.8.3->langchain) (1.9.4)\n",
            "Collecting marshmallow<4.0.0,>=3.18.0 (from dataclasses-json<0.7,>=0.5.7->langchain)\n",
            "  Downloading marshmallow-3.21.1-py3-none-any.whl (49 kB)\n",
            "\u001b[2K     \u001b[90m━━━━━━━━━━━━━━━━━━━━━━━━━━━━━━━━━━━━━━━━\u001b[0m \u001b[32m49.4/49.4 kB\u001b[0m \u001b[31m1.9 MB/s\u001b[0m eta \u001b[36m0:00:00\u001b[0m\n",
            "\u001b[?25hCollecting typing-inspect<1,>=0.4.0 (from dataclasses-json<0.7,>=0.5.7->langchain)\n",
            "  Downloading typing_inspect-0.9.0-py3-none-any.whl (8.8 kB)\n",
            "Collecting jsonpointer>=1.9 (from jsonpatch<2.0,>=1.33->langchain)\n",
            "  Downloading jsonpointer-2.4-py2.py3-none-any.whl (7.8 kB)\n",
            "Collecting packaging<24.0,>=23.2 (from langchain-core<0.2.0,>=0.1.42->langchain)\n",
            "  Downloading packaging-23.2-py3-none-any.whl (53 kB)\n",
            "\u001b[2K     \u001b[90m━━━━━━━━━━━━━━━━━━━━━━━━━━━━━━━━━━━━━━━━\u001b[0m \u001b[32m53.0/53.0 kB\u001b[0m \u001b[31m4.6 MB/s\u001b[0m eta \u001b[36m0:00:00\u001b[0m\n",
            "\u001b[?25hCollecting orjson<4.0.0,>=3.9.14 (from langsmith<0.2.0,>=0.1.17->langchain)\n",
            "  Downloading orjson-3.10.1-cp310-cp310-manylinux_2_17_x86_64.manylinux2014_x86_64.whl (141 kB)\n",
            "\u001b[2K     \u001b[90m━━━━━━━━━━━━━━━━━━━━━━━━━━━━━━━━━━━━━━━━\u001b[0m \u001b[32m141.1/141.1 kB\u001b[0m \u001b[31m5.6 MB/s\u001b[0m eta \u001b[36m0:00:00\u001b[0m\n",
            "\u001b[?25hRequirement already satisfied: annotated-types>=0.4.0 in /usr/local/lib/python3.10/dist-packages (from pydantic<3,>=1->langchain) (0.6.0)\n",
            "Requirement already satisfied: pydantic-core==2.18.1 in /usr/local/lib/python3.10/dist-packages (from pydantic<3,>=1->langchain) (2.18.1)\n",
            "Requirement already satisfied: typing-extensions>=4.6.1 in /usr/local/lib/python3.10/dist-packages (from pydantic<3,>=1->langchain) (4.11.0)\n",
            "Requirement already satisfied: charset-normalizer<4,>=2 in /usr/local/lib/python3.10/dist-packages (from requests<3,>=2->langchain) (3.3.2)\n",
            "Requirement already satisfied: idna<4,>=2.5 in /usr/local/lib/python3.10/dist-packages (from requests<3,>=2->langchain) (3.7)\n",
            "Requirement already satisfied: urllib3<3,>=1.21.1 in /usr/local/lib/python3.10/dist-packages (from requests<3,>=2->langchain) (2.0.7)\n",
            "Requirement already satisfied: certifi>=2017.4.17 in /usr/local/lib/python3.10/dist-packages (from requests<3,>=2->langchain) (2024.2.2)\n",
            "Requirement already satisfied: greenlet!=0.4.17 in /usr/local/lib/python3.10/dist-packages (from SQLAlchemy<3,>=1.4->langchain) (3.0.3)\n",
            "Collecting mypy-extensions>=0.3.0 (from typing-inspect<1,>=0.4.0->dataclasses-json<0.7,>=0.5.7->langchain)\n",
            "  Downloading mypy_extensions-1.0.0-py3-none-any.whl (4.7 kB)\n",
            "Installing collected packages: packaging, orjson, mypy-extensions, jsonpointer, typing-inspect, marshmallow, jsonpatch, langsmith, dataclasses-json, langchain-core, langchain-text-splitters, langchain-community, langchain\n",
            "  Attempting uninstall: packaging\n",
            "    Found existing installation: packaging 24.0\n",
            "    Uninstalling packaging-24.0:\n",
            "      Successfully uninstalled packaging-24.0\n",
            "Successfully installed dataclasses-json-0.6.5 jsonpatch-1.33 jsonpointer-2.4 langchain-0.1.16 langchain-community-0.0.34 langchain-core-0.1.46 langchain-text-splitters-0.0.1 langsmith-0.1.52 marshmallow-3.21.1 mypy-extensions-1.0.0 orjson-3.10.1 packaging-23.2 typing-inspect-0.9.0\n",
            "Collecting langchain-groq\n",
            "  Downloading langchain_groq-0.1.3-py3-none-any.whl (11 kB)\n",
            "Collecting groq<1,>=0.4.1 (from langchain-groq)\n",
            "  Downloading groq-0.5.0-py3-none-any.whl (75 kB)\n",
            "\u001b[2K     \u001b[90m━━━━━━━━━━━━━━━━━━━━━━━━━━━━━━━━━━━━━━━━\u001b[0m \u001b[32m75.0/75.0 kB\u001b[0m \u001b[31m2.3 MB/s\u001b[0m eta \u001b[36m0:00:00\u001b[0m\n",
            "\u001b[?25hRequirement already satisfied: langchain-core<0.2.0,>=0.1.45 in /usr/local/lib/python3.10/dist-packages (from langchain-groq) (0.1.46)\n",
            "Requirement already satisfied: anyio<5,>=3.5.0 in /usr/local/lib/python3.10/dist-packages (from groq<1,>=0.4.1->langchain-groq) (3.7.1)\n",
            "Requirement already satisfied: distro<2,>=1.7.0 in /usr/lib/python3/dist-packages (from groq<1,>=0.4.1->langchain-groq) (1.7.0)\n",
            "Collecting httpx<1,>=0.23.0 (from groq<1,>=0.4.1->langchain-groq)\n",
            "  Downloading httpx-0.27.0-py3-none-any.whl (75 kB)\n",
            "\u001b[2K     \u001b[90m━━━━━━━━━━━━━━━━━━━━━━━━━━━━━━━━━━━━━━━━\u001b[0m \u001b[32m75.6/75.6 kB\u001b[0m \u001b[31m4.1 MB/s\u001b[0m eta \u001b[36m0:00:00\u001b[0m\n",
            "\u001b[?25hRequirement already satisfied: pydantic<3,>=1.9.0 in /usr/local/lib/python3.10/dist-packages (from groq<1,>=0.4.1->langchain-groq) (2.7.0)\n",
            "Requirement already satisfied: sniffio in /usr/local/lib/python3.10/dist-packages (from groq<1,>=0.4.1->langchain-groq) (1.3.1)\n",
            "Requirement already satisfied: typing-extensions<5,>=4.7 in /usr/local/lib/python3.10/dist-packages (from groq<1,>=0.4.1->langchain-groq) (4.11.0)\n",
            "Requirement already satisfied: PyYAML>=5.3 in /usr/local/lib/python3.10/dist-packages (from langchain-core<0.2.0,>=0.1.45->langchain-groq) (6.0.1)\n",
            "Requirement already satisfied: jsonpatch<2.0,>=1.33 in /usr/local/lib/python3.10/dist-packages (from langchain-core<0.2.0,>=0.1.45->langchain-groq) (1.33)\n",
            "Requirement already satisfied: langsmith<0.2.0,>=0.1.0 in /usr/local/lib/python3.10/dist-packages (from langchain-core<0.2.0,>=0.1.45->langchain-groq) (0.1.52)\n",
            "Requirement already satisfied: packaging<24.0,>=23.2 in /usr/local/lib/python3.10/dist-packages (from langchain-core<0.2.0,>=0.1.45->langchain-groq) (23.2)\n",
            "Requirement already satisfied: tenacity<9.0.0,>=8.1.0 in /usr/local/lib/python3.10/dist-packages (from langchain-core<0.2.0,>=0.1.45->langchain-groq) (8.2.3)\n",
            "Requirement already satisfied: idna>=2.8 in /usr/local/lib/python3.10/dist-packages (from anyio<5,>=3.5.0->groq<1,>=0.4.1->langchain-groq) (3.7)\n",
            "Requirement already satisfied: exceptiongroup in /usr/local/lib/python3.10/dist-packages (from anyio<5,>=3.5.0->groq<1,>=0.4.1->langchain-groq) (1.2.1)\n",
            "Requirement already satisfied: certifi in /usr/local/lib/python3.10/dist-packages (from httpx<1,>=0.23.0->groq<1,>=0.4.1->langchain-groq) (2024.2.2)\n",
            "Collecting httpcore==1.* (from httpx<1,>=0.23.0->groq<1,>=0.4.1->langchain-groq)\n",
            "  Downloading httpcore-1.0.5-py3-none-any.whl (77 kB)\n",
            "\u001b[2K     \u001b[90m━━━━━━━━━━━━━━━━━━━━━━━━━━━━━━━━━━━━━━━━\u001b[0m \u001b[32m77.9/77.9 kB\u001b[0m \u001b[31m4.2 MB/s\u001b[0m eta \u001b[36m0:00:00\u001b[0m\n",
            "\u001b[?25hCollecting h11<0.15,>=0.13 (from httpcore==1.*->httpx<1,>=0.23.0->groq<1,>=0.4.1->langchain-groq)\n",
            "  Downloading h11-0.14.0-py3-none-any.whl (58 kB)\n",
            "\u001b[2K     \u001b[90m━━━━━━━━━━━━━━━━━━━━━━━━━━━━━━━━━━━━━━━━\u001b[0m \u001b[32m58.3/58.3 kB\u001b[0m \u001b[31m4.7 MB/s\u001b[0m eta \u001b[36m0:00:00\u001b[0m\n",
            "\u001b[?25hRequirement already satisfied: jsonpointer>=1.9 in /usr/local/lib/python3.10/dist-packages (from jsonpatch<2.0,>=1.33->langchain-core<0.2.0,>=0.1.45->langchain-groq) (2.4)\n",
            "Requirement already satisfied: orjson<4.0.0,>=3.9.14 in /usr/local/lib/python3.10/dist-packages (from langsmith<0.2.0,>=0.1.0->langchain-core<0.2.0,>=0.1.45->langchain-groq) (3.10.1)\n",
            "Requirement already satisfied: requests<3,>=2 in /usr/local/lib/python3.10/dist-packages (from langsmith<0.2.0,>=0.1.0->langchain-core<0.2.0,>=0.1.45->langchain-groq) (2.31.0)\n",
            "Requirement already satisfied: annotated-types>=0.4.0 in /usr/local/lib/python3.10/dist-packages (from pydantic<3,>=1.9.0->groq<1,>=0.4.1->langchain-groq) (0.6.0)\n",
            "Requirement already satisfied: pydantic-core==2.18.1 in /usr/local/lib/python3.10/dist-packages (from pydantic<3,>=1.9.0->groq<1,>=0.4.1->langchain-groq) (2.18.1)\n",
            "Requirement already satisfied: charset-normalizer<4,>=2 in /usr/local/lib/python3.10/dist-packages (from requests<3,>=2->langsmith<0.2.0,>=0.1.0->langchain-core<0.2.0,>=0.1.45->langchain-groq) (3.3.2)\n",
            "Requirement already satisfied: urllib3<3,>=1.21.1 in /usr/local/lib/python3.10/dist-packages (from requests<3,>=2->langsmith<0.2.0,>=0.1.0->langchain-core<0.2.0,>=0.1.45->langchain-groq) (2.0.7)\n",
            "Installing collected packages: h11, httpcore, httpx, groq, langchain-groq\n",
            "Successfully installed groq-0.5.0 h11-0.14.0 httpcore-1.0.5 httpx-0.27.0 langchain-groq-0.1.3\n",
            "Collecting openai\n",
            "  Downloading openai-1.24.0-py3-none-any.whl (312 kB)\n",
            "\u001b[2K     \u001b[90m━━━━━━━━━━━━━━━━━━━━━━━━━━━━━━━━━━━━━━━━\u001b[0m \u001b[32m312.3/312.3 kB\u001b[0m \u001b[31m5.4 MB/s\u001b[0m eta \u001b[36m0:00:00\u001b[0m\n",
            "\u001b[?25hRequirement already satisfied: anyio<5,>=3.5.0 in /usr/local/lib/python3.10/dist-packages (from openai) (3.7.1)\n",
            "Requirement already satisfied: distro<2,>=1.7.0 in /usr/lib/python3/dist-packages (from openai) (1.7.0)\n",
            "Requirement already satisfied: httpx<1,>=0.23.0 in /usr/local/lib/python3.10/dist-packages (from openai) (0.27.0)\n",
            "Requirement already satisfied: pydantic<3,>=1.9.0 in /usr/local/lib/python3.10/dist-packages (from openai) (2.7.0)\n",
            "Requirement already satisfied: sniffio in /usr/local/lib/python3.10/dist-packages (from openai) (1.3.1)\n",
            "Requirement already satisfied: tqdm>4 in /usr/local/lib/python3.10/dist-packages (from openai) (4.66.2)\n",
            "Requirement already satisfied: typing-extensions<5,>=4.7 in /usr/local/lib/python3.10/dist-packages (from openai) (4.11.0)\n",
            "Requirement already satisfied: idna>=2.8 in /usr/local/lib/python3.10/dist-packages (from anyio<5,>=3.5.0->openai) (3.7)\n",
            "Requirement already satisfied: exceptiongroup in /usr/local/lib/python3.10/dist-packages (from anyio<5,>=3.5.0->openai) (1.2.1)\n",
            "Requirement already satisfied: certifi in /usr/local/lib/python3.10/dist-packages (from httpx<1,>=0.23.0->openai) (2024.2.2)\n",
            "Requirement already satisfied: httpcore==1.* in /usr/local/lib/python3.10/dist-packages (from httpx<1,>=0.23.0->openai) (1.0.5)\n",
            "Requirement already satisfied: h11<0.15,>=0.13 in /usr/local/lib/python3.10/dist-packages (from httpcore==1.*->httpx<1,>=0.23.0->openai) (0.14.0)\n",
            "Requirement already satisfied: annotated-types>=0.4.0 in /usr/local/lib/python3.10/dist-packages (from pydantic<3,>=1.9.0->openai) (0.6.0)\n",
            "Requirement already satisfied: pydantic-core==2.18.1 in /usr/local/lib/python3.10/dist-packages (from pydantic<3,>=1.9.0->openai) (2.18.1)\n",
            "Installing collected packages: openai\n",
            "Successfully installed openai-1.24.0\n",
            "Collecting tiktoken\n",
            "  Downloading tiktoken-0.6.0-cp310-cp310-manylinux_2_17_x86_64.manylinux2014_x86_64.whl (1.8 MB)\n",
            "\u001b[2K     \u001b[90m━━━━━━━━━━━━━━━━━━━━━━━━━━━━━━━━━━━━━━━━\u001b[0m \u001b[32m1.8/1.8 MB\u001b[0m \u001b[31m9.7 MB/s\u001b[0m eta \u001b[36m0:00:00\u001b[0m\n",
            "\u001b[?25hRequirement already satisfied: regex>=2022.1.18 in /usr/local/lib/python3.10/dist-packages (from tiktoken) (2023.12.25)\n",
            "Requirement already satisfied: requests>=2.26.0 in /usr/local/lib/python3.10/dist-packages (from tiktoken) (2.31.0)\n",
            "Requirement already satisfied: charset-normalizer<4,>=2 in /usr/local/lib/python3.10/dist-packages (from requests>=2.26.0->tiktoken) (3.3.2)\n",
            "Requirement already satisfied: idna<4,>=2.5 in /usr/local/lib/python3.10/dist-packages (from requests>=2.26.0->tiktoken) (3.7)\n",
            "Requirement already satisfied: urllib3<3,>=1.21.1 in /usr/local/lib/python3.10/dist-packages (from requests>=2.26.0->tiktoken) (2.0.7)\n",
            "Requirement already satisfied: certifi>=2017.4.17 in /usr/local/lib/python3.10/dist-packages (from requests>=2.26.0->tiktoken) (2024.2.2)\n",
            "Installing collected packages: tiktoken\n",
            "Successfully installed tiktoken-0.6.0\n",
            "Collecting faiss-cpu\n",
            "  Downloading faiss_cpu-1.8.0-cp310-cp310-manylinux_2_17_x86_64.manylinux2014_x86_64.whl (27.0 MB)\n",
            "\u001b[2K     \u001b[90m━━━━━━━━━━━━━━━━━━━━━━━━━━━━━━━━━━━━━━━━\u001b[0m \u001b[32m27.0/27.0 MB\u001b[0m \u001b[31m36.9 MB/s\u001b[0m eta \u001b[36m0:00:00\u001b[0m\n",
            "\u001b[?25hRequirement already satisfied: numpy in /usr/local/lib/python3.10/dist-packages (from faiss-cpu) (1.25.2)\n",
            "Installing collected packages: faiss-cpu\n",
            "Successfully installed faiss-cpu-1.8.0\n"
          ]
        }
      ],
      "source": [
        "!pip install datasets\n",
        "!pip install langchain\n",
        "!pip install langchain-groq\n",
        "# !pip install -U sentence-transformers #check that session is in GPU mode #switch to openAI for a quick fix\n",
        "!pip install openai\n",
        "!pip install tiktoken # to count the tokens\n",
        "!pip install faiss-cpu"
      ]
    },
    {
      "cell_type": "markdown",
      "source": [
        "## dataset creation (adding embeddings)"
      ],
      "metadata": {
        "id": "_a36D6R-vXPI"
      }
    },
    {
      "cell_type": "code",
      "source": [
        "dataset_creation = True"
      ],
      "metadata": {
        "id": "OAEqGISXjMzj"
      },
      "execution_count": null,
      "outputs": []
    },
    {
      "cell_type": "code",
      "source": [
        "from datasets import load_dataset\n",
        "\n",
        "if dataset_creation:\n",
        "  declaration_ds = load_dataset(\"the-french-artist/hatvp_declarations_xml_plus_json_plus_index\", split='train')"
      ],
      "metadata": {
        "colab": {
          "base_uri": "https://localhost:8080/",
          "height": 217,
          "referenced_widgets": [
            "db110b9b90e94707a90720b165bfac69",
            "fa4992e1a4124a2eb83cd7b2cf5672fe",
            "e1ff5596797b4ef996cae02361991366",
            "b1916971085145c0a625258aa5832739",
            "17655bf877784ca1aaeed1d2db674900",
            "aa5d5753c8b64a54a757e431d05c3565",
            "4a5c280bbf994611bf1dde87c6415121",
            "0ab7a03d642d41198fcdac10961bffa8",
            "2094eaedc52542c99187671843861a1e",
            "52d0ebbaa8cb4b1da6c5ff31eb50f32f",
            "07b51736b0364419a669af5f18d3d20a",
            "4a530311d91040f7b669fff478d44de4",
            "29f043d8e44c4a5f9861b6db4b3be929",
            "8aa454c2116d46a78e172c8ac94fc6ad",
            "59052aba3e874466b1b9acff4162abb6",
            "c863d0546ade4c2e928128d36017804d",
            "b03cc169f0e944cf8a77957872867852",
            "b9877948e2e94094a14c7b1075e8dfea",
            "ac163b935e9d4abba35dda66444ff6de",
            "af0b755a1a0941cd9cfd21bfebfc0ad8",
            "9ff21fb942844e82908fed63b4870a0d",
            "5a68ace4a44d45ea9c148a4d727710d3",
            "277545cb6ba9436889eb5105f44c4608",
            "c87d0db5a9c74747901801dd5abf6744",
            "97dbc6c11f0e4e448afe99c5796b9979",
            "3238489386594fe3889f255a3cf6c589",
            "c165068bd10f4e9f8685a6a468c777cb",
            "72f8894f3df64acfa6e9106fb6355500",
            "65246f92a6e44ce089b8fcd7b449d9e2",
            "eaa56c9cc81a414a90db454af7d4aae8",
            "6dbc4f8ff2e74d9cb491a6c1faead1e1",
            "db7724e2e82a483296bdda00b8dd84f6",
            "bf8096c8c16f49a7a56965a0676a3625"
          ]
        },
        "id": "MythJlXwjIEu",
        "outputId": "991a8a43-690d-41e7-f632-42f7df9fb780"
      },
      "execution_count": null,
      "outputs": [
        {
          "output_type": "stream",
          "name": "stderr",
          "text": [
            "/usr/local/lib/python3.10/dist-packages/huggingface_hub/utils/_token.py:89: UserWarning: \n",
            "The secret `HF_TOKEN` does not exist in your Colab secrets.\n",
            "To authenticate with the Hugging Face Hub, create a token in your settings tab (https://huggingface.co/settings/tokens), set it as secret in your Google Colab and restart your session.\n",
            "You will be able to reuse this secret in all of your notebooks.\n",
            "Please note that authentication is recommended but still optional to access public models or datasets.\n",
            "  warnings.warn(\n"
          ]
        },
        {
          "output_type": "display_data",
          "data": {
            "text/plain": [
              "Downloading readme:   0%|          | 0.00/456 [00:00<?, ?B/s]"
            ],
            "application/vnd.jupyter.widget-view+json": {
              "version_major": 2,
              "version_minor": 0,
              "model_id": "db110b9b90e94707a90720b165bfac69"
            }
          },
          "metadata": {}
        },
        {
          "output_type": "display_data",
          "data": {
            "text/plain": [
              "Downloading data:   0%|          | 0.00/29.2M [00:00<?, ?B/s]"
            ],
            "application/vnd.jupyter.widget-view+json": {
              "version_major": 2,
              "version_minor": 0,
              "model_id": "4a530311d91040f7b669fff478d44de4"
            }
          },
          "metadata": {}
        },
        {
          "output_type": "display_data",
          "data": {
            "text/plain": [
              "Generating train split:   0%|          | 0/10944 [00:00<?, ? examples/s]"
            ],
            "application/vnd.jupyter.widget-view+json": {
              "version_major": 2,
              "version_minor": 0,
              "model_id": "277545cb6ba9436889eb5105f44c4608"
            }
          },
          "metadata": {}
        }
      ]
    },
    {
      "cell_type": "code",
      "source": [
        "declaration_ds"
      ],
      "metadata": {
        "colab": {
          "base_uri": "https://localhost:8080/"
        },
        "id": "PRf9ZQZZJTCv",
        "outputId": "f860ce2e-7b88-45a6-c77a-de65d1a732ee"
      },
      "execution_count": null,
      "outputs": [
        {
          "output_type": "execute_result",
          "data": {
            "text/plain": [
              "Dataset({\n",
              "    features: ['xml_sha1', 'declaration_xml', 'declaration_json', 'text_index'],\n",
              "    num_rows: 10944\n",
              "})"
            ]
          },
          "metadata": {},
          "execution_count": 4
        }
      ]
    },
    {
      "cell_type": "code",
      "source": [
        "print(declaration_ds.select(range(1)).to_pandas().text_index.to_list()[0][:200])"
      ],
      "metadata": {
        "id": "-iTU9_mAjToR",
        "colab": {
          "base_uri": "https://localhost:8080/"
        },
        "outputId": "796f9ba5-51e7-4bce-da91-8986ce5e22b5"
      },
      "execution_count": null,
      "outputs": [
        {
          "output_type": "stream",
          "name": "stdout",
          "text": [
            "damien abad -  député de l'ain\n"
          ]
        }
      ]
    },
    {
      "cell_type": "code",
      "source": [
        "# embed_df.head()"
      ],
      "metadata": {
        "id": "QohcvPCTjf8a"
      },
      "execution_count": null,
      "outputs": []
    },
    {
      "cell_type": "code",
      "source": [
        "from huggingface_hub import login\n",
        "from google.colab import userdata\n",
        "\n",
        "login(userdata.get('HF_TOKEN'))"
      ],
      "metadata": {
        "colab": {
          "base_uri": "https://localhost:8080/"
        },
        "id": "4tQH42mszNfp",
        "outputId": "691ca1de-640f-467c-90a5-d5e1955810c5"
      },
      "execution_count": null,
      "outputs": [
        {
          "output_type": "stream",
          "name": "stdout",
          "text": [
            "Token has not been saved to git credential helper. Pass `add_to_git_credential=True` if you want to set the git credential as well.\n",
            "Token is valid (permission: write).\n",
            "Your token has been saved to /root/.cache/huggingface/token\n",
            "Login successful\n"
          ]
        }
      ]
    },
    {
      "cell_type": "code",
      "source": [
        "import os\n",
        "from google.colab import userdata\n",
        "\n",
        "os.environ[\"OPENAI_API_KEY\"] = userdata.get('OPENAI_API_KEY')"
      ],
      "metadata": {
        "id": "OS2GQvkK3WdH"
      },
      "execution_count": null,
      "outputs": []
    },
    {
      "cell_type": "code",
      "source": [
        "import tiktoken\n",
        "\n",
        "def num_tokens_from_string(string: str, encoding_name: str) -> int:\n",
        "    \"\"\"Returns the number of tokens in a text string.\"\"\"\n",
        "    encoding = tiktoken.get_encoding(encoding_name)\n",
        "    num_tokens = len(encoding.encode(string))\n",
        "    return num_tokens\n",
        "\n",
        "def truncate_text_to_stay_under_openai_embedding_limit(input_text):\n",
        "\n",
        "  backup_input_text = input_text\n",
        "\n",
        "  openai_embed_limit = 8192\n",
        "  delta = num_tokens_from_string(input_text, \"cl100k_base\") - openai_embed_limit\n",
        "  while delta > 0:\n",
        "    input_text = input_text[:-int(delta*2)] #we add factor 2 to speed up the process\n",
        "    delta = num_tokens_from_string(input_text, \"cl100k_base\") - openai_embed_limit\n",
        "\n",
        "  if len(input_text) > 0:\n",
        "    return input_text\n",
        "  else:\n",
        "    return backup_input_text[:8000]"
      ],
      "metadata": {
        "id": "ZFS-Hmas4lW6"
      },
      "execution_count": null,
      "outputs": []
    },
    {
      "cell_type": "code",
      "source": [
        "from openai import OpenAI\n",
        "client = OpenAI()\n",
        "from tqdm.auto import tqdm\n",
        "tqdm.pandas()\n",
        "\n",
        "\n",
        "def get_embedding(text, model=\"text-embedding-3-small\"):\n",
        "   text = text.replace(\"\\n\", \" \")\n",
        "   text = truncate_text_to_stay_under_openai_embedding_limit(text)\n",
        "   return client.embeddings.create(input = [text], model=model).data[0].embedding\n",
        "\n",
        "get_embedding('this is a test')"
      ],
      "metadata": {
        "id": "CX0EuuF93QiO"
      },
      "execution_count": null,
      "outputs": []
    },
    {
      "cell_type": "code",
      "source": [
        "def get_embedding_for_map(row):\n",
        "  row['text_index_embedding'] = get_embedding(row['text_index'])\n",
        "  return row"
      ],
      "metadata": {
        "id": "V1-CQu5hJESS"
      },
      "execution_count": null,
      "outputs": []
    },
    {
      "cell_type": "code",
      "source": [
        "declaration_ds = declaration_ds.map(get_embedding_for_map, num_proc=2)\n",
        "\n",
        "# TODO: batch 1k samples to go faster!!!"
      ],
      "metadata": {
        "colab": {
          "base_uri": "https://localhost:8080/",
          "height": 104,
          "referenced_widgets": [
            "c47b1893eb644392a2f9fe6470056e81",
            "1761a38ae3454002b00e2eace4ba646e",
            "b40596eb4de049ca9297c560653e2ae2",
            "22e3c62f16e7487092f4ed0ac95c1a3b",
            "6aae0890e5144aed8fd584926a100690",
            "1109f622720f4fd186d8d5c22205a611",
            "ec4d6985d8654f1a8f006780fcedec53",
            "3fa3cea53bbc4539b3c8a6b0cce15055",
            "e49dde89563b43d8b25597cedb658e42",
            "d8193d4cec8d4fc39efb6dfa0ad67227",
            "eca5986669284b2fa4eeb084106fb8de"
          ]
        },
        "id": "raciduLwJEPu",
        "outputId": "9554bec4-c0ae-4c29-bfbc-540916bb120d"
      },
      "execution_count": null,
      "outputs": [
        {
          "output_type": "stream",
          "name": "stderr",
          "text": [
            "Parameter 'function'=<function get_embedding_for_map at 0x787b3ee7b760> of the transform datasets.arrow_dataset.Dataset._map_single couldn't be hashed properly, a random hash was used instead. Make sure your transforms and parameters are serializable with pickle or dill for the dataset fingerprinting and caching to work. If you reuse this transform, the caching mechanism will consider it to be different from the previous calls and recompute everything. This warning is only showed once. Subsequent hashing failures won't be showed.\n",
            "WARNING:datasets.fingerprint:Parameter 'function'=<function get_embedding_for_map at 0x787b3ee7b760> of the transform datasets.arrow_dataset.Dataset._map_single couldn't be hashed properly, a random hash was used instead. Make sure your transforms and parameters are serializable with pickle or dill for the dataset fingerprinting and caching to work. If you reuse this transform, the caching mechanism will consider it to be different from the previous calls and recompute everything. This warning is only showed once. Subsequent hashing failures won't be showed.\n"
          ]
        },
        {
          "output_type": "display_data",
          "data": {
            "text/plain": [
              "Map (num_proc=2):   0%|          | 0/10944 [00:00<?, ? examples/s]"
            ],
            "application/vnd.jupyter.widget-view+json": {
              "version_major": 2,
              "version_minor": 0,
              "model_id": "c47b1893eb644392a2f9fe6470056e81"
            }
          },
          "metadata": {}
        }
      ]
    },
    {
      "cell_type": "code",
      "source": [
        "# embed_df['json_embedding'] = embed_df.progress_apply(lambda row: get_embedding(row['declaration_json']), axis=1)"
      ],
      "metadata": {
        "id": "szHDPNTA3iSb"
      },
      "execution_count": null,
      "outputs": []
    },
    {
      "cell_type": "code",
      "source": [
        "# embed_df"
      ],
      "metadata": {
        "id": "Vo8omHrf4BEX"
      },
      "execution_count": null,
      "outputs": []
    },
    {
      "cell_type": "code",
      "source": [
        "# %%time\n",
        "# from sentence_transformers import SentenceTransformer, util\n",
        "\n",
        "# if dataset_creation:\n",
        "#   #Load the model\n",
        "#   # model = SentenceTransformer(\"intfloat/e5-mistral-7b-instruct\") # NEEDS 26+GB VRAM WHICH GOOGLES WONT DELIVER.\n",
        "#   model = SentenceTransformer(\"Alibaba-NLP/gte-Qwen1.5-7B-instruct\") # STILL TOO MUCH VRAM NEEDED HERE!!!\n",
        "#   model = SentenceTransformer(\"intfloat/multilingual-e5-large-instruct\") #fingers crossed... NOOPE!\n",
        "\n",
        "\n",
        "#   doc_emb = model.encode(embed_df.declaration_markdown.to_list())"
      ],
      "metadata": {
        "id": "lrFRXdxgjIB9"
      },
      "execution_count": null,
      "outputs": []
    },
    {
      "cell_type": "code",
      "source": [
        "# if dataset_creation:\n",
        "#   embed_df['markdown_embedding'] = list(doc_emb)"
      ],
      "metadata": {
        "id": "xIO0VWoljH_S"
      },
      "execution_count": null,
      "outputs": []
    },
    {
      "cell_type": "code",
      "source": [
        "# from datasets import Dataset\n",
        "\n",
        "# if dataset_creation:\n",
        "#   embed_ds = Dataset.from_pandas(embed_df)"
      ],
      "metadata": {
        "id": "C82Iqfkmnkmu"
      },
      "execution_count": null,
      "outputs": []
    },
    {
      "cell_type": "code",
      "source": [
        "declaration_ds"
      ],
      "metadata": {
        "colab": {
          "base_uri": "https://localhost:8080/"
        },
        "id": "mkQmJajwnvEu",
        "outputId": "1666d5b6-56c9-4b09-ae72-f85ccaa0c40b"
      },
      "execution_count": null,
      "outputs": [
        {
          "output_type": "execute_result",
          "data": {
            "text/plain": [
              "Dataset({\n",
              "    features: ['xml_sha1', 'declaration_xml', 'declaration_json', 'text_index', 'text_index_embedding'],\n",
              "    num_rows: 10944\n",
              "})"
            ]
          },
          "metadata": {},
          "execution_count": 18
        }
      ]
    },
    {
      "cell_type": "code",
      "source": [
        "if dataset_creation:\n",
        "  declaration_ds.push_to_hub(\"the-french-artist/hatvp_declarations_text_index_embeds\")"
      ],
      "metadata": {
        "colab": {
          "base_uri": "https://localhost:8080/",
          "height": 113,
          "referenced_widgets": [
            "f96c57ea8efc4ae28a33f72483a0e9b6",
            "449b00ceb14f4cce9d61a265905ab343",
            "6b9d4a4e9ccf492d9f321389850a2367",
            "7d52992ecd734e768603e15f5df05e3e",
            "2db72c4d56fc4cfeb53e6a1eec0583b2",
            "e7d04257b0a34efdadf8413ab9b1b56c",
            "cb06d659341747d080125781d8d364c3",
            "7e5b2eae81ee412bac67761b1677a669",
            "9ef12ee73cb74419b491887fe3ccd8e5",
            "98ccdc42f4a2436d9490a00424c4a045",
            "b94e6f808bcd403a80a04249d2b0edb2",
            "335b814d8ad84586a2a28b7a5db31747",
            "f5a6bbbef7c24065a7e783c804722b50",
            "0208d3c7cb6841e5bb774966663cad2e",
            "5b31080c849d473f910f89b342a99556",
            "cd0c35fb00594599a5fe948acf411628",
            "6ae9de185a064d5083e6613866b3cd9a",
            "064f323783cc482889e4ac9711c5c8d4",
            "f96a49049a8b441c88a96b277b528b38",
            "9b9688a558554881b05736aa7506bbbe",
            "8de60630889c4319bf40f4e056d99883",
            "1d67496b138a4a78bd9c5118571c49a4",
            "9530f234d16447858dcea6b6f5bdc746",
            "e56d57fedfc4439e9ad0af5dfd015547",
            "fc43884c95a04ff3815d8b3a671e83a0",
            "560438f53c3a4cb1a7ea611472daec18",
            "920b68d1ab2d4206891454dd933a9bfb",
            "e778d1e474134dbdbbb2a7a57a412953",
            "ef14d5f0c8924d9aa3f9f7cef008d17b",
            "b3cca7faf9f849c2b0e032483b4c5258",
            "1efb2b70c5e94d5b9a2f1d4ea38c4b29",
            "9e365c2ac40e486e91807cafa3c4f963",
            "b5c76bc2df114cff947e8ebdab7a2dba"
          ]
        },
        "id": "TKdi3d6Vj7pC",
        "outputId": "704da698-723e-4ca6-c629-7368d8dbfd1f"
      },
      "execution_count": null,
      "outputs": [
        {
          "output_type": "display_data",
          "data": {
            "text/plain": [
              "Uploading the dataset shards:   0%|          | 0/1 [00:00<?, ?it/s]"
            ],
            "application/vnd.jupyter.widget-view+json": {
              "version_major": 2,
              "version_minor": 0,
              "model_id": "f96c57ea8efc4ae28a33f72483a0e9b6"
            }
          },
          "metadata": {}
        },
        {
          "output_type": "display_data",
          "data": {
            "text/plain": [
              "Creating parquet from Arrow format:   0%|          | 0/11 [00:00<?, ?ba/s]"
            ],
            "application/vnd.jupyter.widget-view+json": {
              "version_major": 2,
              "version_minor": 0,
              "model_id": "335b814d8ad84586a2a28b7a5db31747"
            }
          },
          "metadata": {}
        },
        {
          "output_type": "display_data",
          "data": {
            "text/plain": [
              "README.md:   0%|          | 0.00/512 [00:00<?, ?B/s]"
            ],
            "application/vnd.jupyter.widget-view+json": {
              "version_major": 2,
              "version_minor": 0,
              "model_id": "9530f234d16447858dcea6b6f5bdc746"
            }
          },
          "metadata": {}
        }
      ]
    },
    {
      "cell_type": "markdown",
      "source": [
        "## dataset loading (no GPU needed)"
      ],
      "metadata": {
        "id": "14XbnC3RvY4p"
      }
    },
    {
      "cell_type": "code",
      "source": [
        "from datasets import load_dataset\n",
        "embed_ds = load_dataset(\"the-french-artist/hatvp_declarations_text_index_embeds\", split='train')"
      ],
      "metadata": {
        "colab": {
          "base_uri": "https://localhost:8080/",
          "height": 113,
          "referenced_widgets": [
            "4a08293ad26747adb1a3ecab9636de17",
            "bfa4b9d003ac485eaceceaa3bb35c95d",
            "517ed3675143409f9606029975dea73a",
            "02849d0f1e4d464fa1d38f2e8ffbca2e",
            "731f54a7609746f2b597b651890f4c9c",
            "b76854bc8037440f972b6148a7625840",
            "235b607c0a7e44008beeb16a70b67af1",
            "7f10587e018f4955a86d486e98b8eaf9",
            "63f1793f2a36459b9580f12b463f2c6a",
            "86ba0b1a7d8a41448874a51b2048e6fa",
            "a11bda00fef24e9792911c563f639bfe",
            "c39986af98f843c5a181e5cce7788760",
            "da8644c1ba514275a5e7ec5b92d3f8b2",
            "e61e0e639000489193ca13d3edada08e",
            "3ff6dba211be46d8a5fdd6591923dd0b",
            "d464ec3a3e274758bcb49640a281ddc2",
            "e86ea0556e60430aa4bceaf892b6a98d",
            "6be9c1ca749b4ec9b9a02ce9e92edb73",
            "ff389efa6c3b481794c4403fcc01b1ea",
            "9ce7a280a580402f8a6988d11d176bb7",
            "07ba50c4947d492587d9ca19d3832aab",
            "c00b18e55cfb48e594549ccbc89f7b04",
            "c1543c3f978149ec9459b2c72cbef0e6",
            "eae056bb722242559b19f0602cd2ca89",
            "eb5f004bd5d84eb486ab7dbf1b9433af",
            "bbd433c2fd03479dbc4591aa558738f0",
            "8d599b1f191f40b2ab2aab568fdd8913",
            "472e9d1863f446dbafa388098fabf0bb",
            "0d6b652a168d4ec2acfc555887242797",
            "b15fe9646aa94003ae833a24a558c087",
            "745ba317661748f2b5491a8115b78d35",
            "e82d7a90a41442bc9990c9c85619cc25",
            "6d9ab32cbfa84f0aaba4c564ba5e8b86"
          ]
        },
        "id": "bPbjrbfOoHcu",
        "outputId": "3f19a255-52d0-41cc-b148-3759660bd6b0"
      },
      "execution_count": null,
      "outputs": [
        {
          "output_type": "display_data",
          "data": {
            "text/plain": [
              "Downloading readme:   0%|          | 0.00/512 [00:00<?, ?B/s]"
            ],
            "application/vnd.jupyter.widget-view+json": {
              "version_major": 2,
              "version_minor": 0,
              "model_id": "4a08293ad26747adb1a3ecab9636de17"
            }
          },
          "metadata": {}
        },
        {
          "output_type": "display_data",
          "data": {
            "text/plain": [
              "Downloading data:   0%|          | 0.00/107M [00:00<?, ?B/s]"
            ],
            "application/vnd.jupyter.widget-view+json": {
              "version_major": 2,
              "version_minor": 0,
              "model_id": "c39986af98f843c5a181e5cce7788760"
            }
          },
          "metadata": {}
        },
        {
          "output_type": "display_data",
          "data": {
            "text/plain": [
              "Generating train split:   0%|          | 0/10944 [00:00<?, ? examples/s]"
            ],
            "application/vnd.jupyter.widget-view+json": {
              "version_major": 2,
              "version_minor": 0,
              "model_id": "c1543c3f978149ec9459b2c72cbef0e6"
            }
          },
          "metadata": {}
        }
      ]
    },
    {
      "cell_type": "code",
      "source": [
        "# model = SentenceTransformer('sentence-transformers/multi-qa-mpnet-base-dot-v1')"
      ],
      "metadata": {
        "id": "8rOjtGONo9Jl"
      },
      "execution_count": null,
      "outputs": []
    },
    {
      "cell_type": "code",
      "source": [
        "embed_ds.add_faiss_index(column='text_index_embedding')"
      ],
      "metadata": {
        "colab": {
          "base_uri": "https://localhost:8080/",
          "height": 118,
          "referenced_widgets": [
            "dc025a43d6cf4e14a41d5056897bba71",
            "4d0aac439655411cbf2e4543172a8cf4",
            "74517db656f74cada174342ff4e60d69",
            "eb7e9686026c4136b975a66751108f32",
            "1581fa477ebd472d9a1bd047a59422d5",
            "203c721df5e94cbb8aa02864115cf922",
            "d6f77bb7b9f24a79805b35bf27e31101",
            "31d6b4eb4ca2447f82c239721252f01a",
            "e892dd853ed0419b9d87b74f70effecc",
            "95d7b65b73cb41f599d0f810cfca5220",
            "66e6e9c2f54c4b15b4e7607cab7a6151"
          ]
        },
        "id": "d7Kw_t3mpBDx",
        "outputId": "0a88b4a7-8073-4f68-d804-52c99d7a6487"
      },
      "execution_count": null,
      "outputs": [
        {
          "output_type": "display_data",
          "data": {
            "text/plain": [
              "  0%|          | 0/11 [00:00<?, ?it/s]"
            ],
            "application/vnd.jupyter.widget-view+json": {
              "version_major": 2,
              "version_minor": 0,
              "model_id": "dc025a43d6cf4e14a41d5056897bba71"
            }
          },
          "metadata": {}
        },
        {
          "output_type": "execute_result",
          "data": {
            "text/plain": [
              "Dataset({\n",
              "    features: ['xml_sha1', 'declaration_xml', 'declaration_json', 'text_index', 'text_index_embedding'],\n",
              "    num_rows: 10944\n",
              "})"
            ]
          },
          "metadata": {},
          "execution_count": 22
        }
      ]
    },
    {
      "cell_type": "code",
      "source": [
        "import numpy as np\n",
        "\n",
        "def perform_query(query, n_samples=1):\n",
        "  # query_embed = model.encode([query])\n",
        "  query_embed = np.array(get_embedding(query.lower()))\n",
        "  scores, retrieved_examples = embed_ds.get_nearest_examples('text_index_embedding', query_embed, k=n_samples)\n",
        "  return retrieved_examples['declaration_json']"
      ],
      "metadata": {
        "id": "hfC9ySkEoLHN"
      },
      "execution_count": null,
      "outputs": []
    },
    {
      "cell_type": "code",
      "source": [
        "# embed_df = embed_ds.to_pandas()"
      ],
      "metadata": {
        "id": "14d1kIJwqjtU"
      },
      "execution_count": null,
      "outputs": []
    },
    {
      "cell_type": "code",
      "source": [
        "# potential_true_candidates = embed_df[embed_df['declaration_markdown'].str.contains('ABAD')].declaration_markdown.to_list()\n",
        "# for curr_candidate in potential_true_candidates:\n",
        "#   display_markdown(curr_candidate, raw=True)"
      ],
      "metadata": {
        "id": "yfsqw5iurGP6"
      },
      "execution_count": null,
      "outputs": []
    },
    {
      "cell_type": "code",
      "source": [
        "import json\n",
        "\n",
        "def get_name_surname_from_str_declaration(input_str_json):\n",
        "  parsed_json = json.loads(input_str_json)\n",
        "  return parsed_json['declaration']['general']['declarant']['nom'], parsed_json['declaration']['general']['declarant']['prenom']"
      ],
      "metadata": {
        "id": "rbOJEVobPkbZ"
      },
      "execution_count": null,
      "outputs": []
    },
    {
      "cell_type": "code",
      "source": [
        "results = perform_query(\"Qui est Damien Abad ?\", 10)\n",
        "for result in results:\n",
        "  print(get_name_surname_from_str_declaration(result))"
      ],
      "metadata": {
        "colab": {
          "base_uri": "https://localhost:8080/"
        },
        "id": "hUULUqoVQd3O",
        "outputId": "3a30b016-2881-4576-ae1f-310ca2728269"
      },
      "execution_count": null,
      "outputs": [
        {
          "output_type": "stream",
          "name": "stdout",
          "text": [
            "('ABAD', 'DAMIEN')\n",
            "('ABAD', 'DAMIEN')\n",
            "('ADAM', 'Damien')\n",
            "('ADAM', 'Damien')\n",
            "('Delavoie', 'Damien')\n",
            "('STEPHO', 'Damien')\n",
            "('STEPHO', 'Damien')\n",
            "('DEMARTHE', 'Pascal')\n",
            "('DEMARTHE', 'Pascal')\n",
            "('DEMARTHE', 'Pascal')\n"
          ]
        }
      ]
    },
    {
      "cell_type": "code",
      "source": [
        "results = perform_query(\"Quel est le salaire de Damien Abad en 2019 ?\", 10)\n",
        "for result in results:\n",
        "  print(get_name_surname_from_str_declaration(result))"
      ],
      "metadata": {
        "colab": {
          "base_uri": "https://localhost:8080/"
        },
        "id": "_x-btmg-Qflu",
        "outputId": "884c67dc-666d-4156-a723-545ae41f3114"
      },
      "execution_count": null,
      "outputs": [
        {
          "output_type": "stream",
          "name": "stdout",
          "text": [
            "('ABAD', 'DAMIEN')\n",
            "('ABAD', 'DAMIEN')\n",
            "('ADAM', 'Damien')\n",
            "('ADAM', 'Damien')\n",
            "('STEPHO', 'Damien')\n",
            "('STEPHO', 'Damien')\n",
            "('DEMARTHE', 'Pascal')\n",
            "('DEMARTHE', 'Pascal')\n",
            "('DEMARTHE', 'Pascal')\n",
            "('HUGUET', 'Damien')\n"
          ]
        }
      ]
    },
    {
      "cell_type": "code",
      "source": [
        "results = perform_query(\"Qui est Damien ABAD? Et quel est son salaire en 2019?\", 10)\n",
        "for result in results:\n",
        "  print(get_name_surname_from_str_declaration(result))"
      ],
      "metadata": {
        "colab": {
          "base_uri": "https://localhost:8080/"
        },
        "id": "gNGCG4W8Q3ct",
        "outputId": "5d81a092-3875-4eff-a6aa-17d526e67532"
      },
      "execution_count": null,
      "outputs": [
        {
          "output_type": "stream",
          "name": "stdout",
          "text": [
            "('ABAD', 'DAMIEN')\n",
            "('ABAD', 'DAMIEN')\n",
            "('ADAM', 'Damien')\n",
            "('ADAM', 'Damien')\n",
            "('STEPHO', 'Damien')\n",
            "('STEPHO', 'Damien')\n",
            "('Charlet', 'Damien')\n",
            "('Charlet', 'Damien')\n",
            "('Charlet', 'Damien')\n",
            "('Charlet', 'Damien')\n"
          ]
        }
      ]
    },
    {
      "cell_type": "code",
      "source": [
        "results = perform_query(\"Qui est Antoine ARMAND?\", 10)\n",
        "for result in results:\n",
        "  print(get_name_surname_from_str_declaration(result))"
      ],
      "metadata": {
        "colab": {
          "base_uri": "https://localhost:8080/"
        },
        "id": "7QT4bbWFrJQz",
        "outputId": "ae676754-35e6-4cff-e608-d5a48231923a"
      },
      "execution_count": null,
      "outputs": [
        {
          "output_type": "stream",
          "name": "stdout",
          "text": [
            "('Armand', 'Antoine')\n",
            "('Armand', 'Antoine')\n",
            "('Armand', 'Antoine')\n",
            "('JEAN', 'Antoine')\n",
            "('JEAN', 'Antoine')\n",
            "('Mokrane', 'Antoine')\n",
            "('BACK', 'Antoine')\n",
            "('Guillou', 'Antoine')\n",
            "('Guillou', 'Antoine')\n",
            "('Guillou', 'Antoine')\n"
          ]
        }
      ]
    },
    {
      "cell_type": "code",
      "source": [
        "results = perform_query(\"Qui est un Député de Haute-Savoie?\", 10)\n",
        "for result in results:\n",
        "  print(get_name_surname_from_str_declaration(result))"
      ],
      "metadata": {
        "colab": {
          "base_uri": "https://localhost:8080/"
        },
        "id": "3wcXRG_6rVlM",
        "outputId": "6543e072-805f-4c05-acf7-759d4b8e19a5"
      },
      "execution_count": null,
      "outputs": [
        {
          "output_type": "stream",
          "name": "stdout",
          "text": [
            "('ROSEREN', 'xavier')\n",
            "('ROSEREN', 'xavier')\n",
            "('Armand', 'Antoine')\n",
            "('Armand', 'Antoine')\n",
            "('Armand', 'Antoine')\n",
            "('Petex', 'Christelle')\n",
            "('Petex', 'Christelle')\n",
            "('HERVE', 'loic')\n",
            "('HERVE', 'loic')\n",
            "('Vial', 'Cédric')\n"
          ]
        }
      ]
    },
    {
      "cell_type": "code",
      "source": [
        "results = perform_query(\"Qui est une Députée de Haute-Savoie?\", 10)\n",
        "for result in results:\n",
        "  print(get_name_surname_from_str_declaration(result))"
      ],
      "metadata": {
        "colab": {
          "base_uri": "https://localhost:8080/"
        },
        "id": "8ztgqCh0skap",
        "outputId": "6a714c49-ad7d-429b-bbec-ee8f396cc310"
      },
      "execution_count": null,
      "outputs": [
        {
          "output_type": "stream",
          "name": "stdout",
          "text": [
            "('Petex', 'Christelle')\n",
            "('Petex', 'Christelle')\n",
            "('Duby-Muller', 'Virginie')\n",
            "('Duby-Muller', 'Virginie')\n",
            "('Duby-Muller', 'Virginie')\n",
            "('Violland', 'Anne-Cécile')\n",
            "('Violland', 'Anne-Cécile')\n",
            "('RIOTTON', 'Véronique')\n",
            "('RIOTTON', 'Véronique')\n",
            "('NOEL', 'Sylviane')\n"
          ]
        }
      ]
    },
    {
      "cell_type": "code",
      "source": [
        "results = perform_query(\"Le conjoint de Antoine ARMAND est il un homme ou une femme?\", 10)\n",
        "for result in results:\n",
        "  print(get_name_surname_from_str_declaration(result))"
      ],
      "metadata": {
        "colab": {
          "base_uri": "https://localhost:8080/"
        },
        "id": "A0nXFoiLm8VC",
        "outputId": "c785ee9c-5611-4597-9551-60b213f132e0"
      },
      "execution_count": null,
      "outputs": [
        {
          "output_type": "stream",
          "name": "stdout",
          "text": [
            "('Armand', 'Antoine')\n",
            "('Armand', 'Antoine')\n",
            "('Armand', 'Antoine')\n",
            "('BACK', 'Antoine')\n",
            "('Guillou', 'Antoine')\n",
            "('Guillou', 'Antoine')\n",
            "('Guillou', 'Antoine')\n",
            "('Armanet', 'Guy')\n",
            "('Mokrane', 'Antoine')\n",
            "('SENANT', 'Jean-Yves')\n"
          ]
        }
      ]
    },
    {
      "cell_type": "code",
      "source": [
        "results = perform_query(\"Quel est l'ensemble des revenus perçus par Antoine ARMAND?\", 10)\n",
        "for result in results:\n",
        "  print(get_name_surname_from_str_declaration(result))"
      ],
      "metadata": {
        "colab": {
          "base_uri": "https://localhost:8080/"
        },
        "id": "jqx9fLGvm8Rf",
        "outputId": "7c539394-c921-43c8-8cbc-2a484097d87b"
      },
      "execution_count": null,
      "outputs": [
        {
          "output_type": "stream",
          "name": "stdout",
          "text": [
            "('Armand', 'Antoine')\n",
            "('Armand', 'Antoine')\n",
            "('Armand', 'Antoine')\n",
            "('JEAN', 'Antoine')\n",
            "('JEAN', 'Antoine')\n",
            "('Léaument', 'Antoine')\n",
            "('Léaument', 'Antoine')\n",
            "('SENANT', 'Jean-Yves')\n",
            "('SENANT', 'Jean-Yves')\n",
            "('SENANT', 'Jean-Yves')\n"
          ]
        }
      ]
    },
    {
      "cell_type": "code",
      "source": [
        "results = perform_query(\"Le nom du déclarant est Antoine ARMAND?\", 10)\n",
        "for result in results:\n",
        "  print(get_name_surname_from_str_declaration(result))"
      ],
      "metadata": {
        "colab": {
          "base_uri": "https://localhost:8080/"
        },
        "id": "t_rhhSbQtbfN",
        "outputId": "6af626d3-0201-48eb-f3e3-1799cdecccfa"
      },
      "execution_count": null,
      "outputs": [
        {
          "output_type": "stream",
          "name": "stdout",
          "text": [
            "('Armand', 'Antoine')\n",
            "('Armand', 'Antoine')\n",
            "('Armand', 'Antoine')\n",
            "('Mokrane', 'Antoine')\n",
            "('Léaument', 'Antoine')\n",
            "('Léaument', 'Antoine')\n",
            "('JEAN', 'Antoine')\n",
            "('JEAN', 'Antoine')\n",
            "('VERMOREL', 'ANTOINE')\n",
            "('VERMOREL', 'ANTOINE')\n"
          ]
        }
      ]
    },
    {
      "cell_type": "code",
      "source": [
        "results = perform_query(\"Qui est le maire de Bordeaux?\", 10)\n",
        "for result in results:\n",
        "  print(get_name_surname_from_str_declaration(result))"
      ],
      "metadata": {
        "colab": {
          "base_uri": "https://localhost:8080/"
        },
        "id": "gS4LI7Z9soUb",
        "outputId": "ba7fb21d-94aa-4a95-cda0-c01062a71a5f"
      },
      "execution_count": null,
      "outputs": [
        {
          "output_type": "stream",
          "name": "stdout",
          "text": [
            "('BOUTLEUX', 'Dimitri')\n",
            "('BOUTLEUX', 'Dimitri')\n",
            "('GUILLEMIN', 'Laurent')\n",
            "('CAZAUX', 'OLIVIER')\n",
            "('CAZAUX', 'OLIVIER')\n",
            "('BLANC', 'BERNARD')\n",
            "('BLANC', 'BERNARD')\n",
            "('HAZOUARD', 'Mathieu')\n",
            "('HAZOUARD', 'Mathieu')\n",
            "('JEANJEAN', 'Didier')\n"
          ]
        }
      ]
    },
    {
      "cell_type": "code",
      "source": [
        "results = perform_query(\"Qui est maire de Bordeaux?\", 10)\n",
        "for result in results:\n",
        "  print(get_name_surname_from_str_declaration(result))"
      ],
      "metadata": {
        "colab": {
          "base_uri": "https://localhost:8080/"
        },
        "id": "ZcIOYbUGsr7k",
        "outputId": "c2324a43-ddc8-4b48-bcca-6ab973cdbeed"
      },
      "execution_count": null,
      "outputs": [
        {
          "output_type": "stream",
          "name": "stdout",
          "text": [
            "('BOUTLEUX', 'Dimitri')\n",
            "('BOUTLEUX', 'Dimitri')\n",
            "('GUILLEMIN', 'Laurent')\n",
            "('CAZAUX', 'OLIVIER')\n",
            "('CAZAUX', 'OLIVIER')\n",
            "('Bouisson', 'Dominique')\n",
            "('HAZOUARD', 'Mathieu')\n",
            "('BLANC', 'BERNARD')\n",
            "('BLANC', 'BERNARD')\n",
            "('HAZOUARD', 'Mathieu')\n"
          ]
        }
      ]
    },
    {
      "cell_type": "code",
      "source": [
        "results = perform_query(\"Qui est pierre hurmic?\", 10)\n",
        "for result in results:\n",
        "  print(get_name_surname_from_str_declaration(result))"
      ],
      "metadata": {
        "colab": {
          "base_uri": "https://localhost:8080/"
        },
        "id": "8tgkEjMGsvRp",
        "outputId": "29ec6baf-252a-4a53-f067-c3aefecfd29a"
      },
      "execution_count": null,
      "outputs": [
        {
          "output_type": "stream",
          "name": "stdout",
          "text": [
            "('HURMIC', 'Pierre')\n",
            "('HURMIC', 'Pierre')\n",
            "('HURMIC', 'Pierre')\n",
            "('HURMIC', 'Pierre')\n",
            "('MICHEL', 'Patrick')\n",
            "('MICHEL', 'Patrick')\n",
            "('MICHEL', 'Pierre')\n",
            "('MICHEL', 'Pierre')\n",
            "('Huguet', 'Pierre')\n",
            "('Huguet', 'Pierre')\n"
          ]
        }
      ]
    },
    {
      "cell_type": "code",
      "source": [
        "# from IPython.display import display_markdown\n",
        "\n",
        "# results = perform_query(\"Qui est Damien Abad ?\")\n",
        "\n",
        "# for result in results:\n",
        "#   display_markdown(\n",
        "#       result,\n",
        "#       raw=True)"
      ],
      "metadata": {
        "id": "kkhZRrWZpFzx"
      },
      "execution_count": null,
      "outputs": []
    },
    {
      "cell_type": "code",
      "source": [
        "import os\n",
        "from google.colab import userdata\n",
        "\n",
        "os.environ[\"GROQ_API_KEY\"] = userdata.get('GROQ_API_KEY')"
      ],
      "metadata": {
        "id": "uDKYltT8MxZY"
      },
      "execution_count": null,
      "outputs": []
    },
    {
      "cell_type": "code",
      "source": [
        "from langchain.schema.output_parser import StrOutputParser\n",
        "from langchain_core.prompts import ChatPromptTemplate\n",
        "from langchain_groq import ChatGroq"
      ],
      "metadata": {
        "id": "KHtD5DBDM7CQ"
      },
      "execution_count": null,
      "outputs": []
    },
    {
      "cell_type": "code",
      "source": [
        "def get_answer_to_question_no_context(question, llm_to_use):\n",
        "\n",
        "  system = \"\"\"You are an assistant for question-answering tasks.\n",
        "  Use three sentences maximum and keep the answer concise.\n",
        "  \"\"\"\n",
        "  human = \"{text}\"\n",
        "  prompt = ChatPromptTemplate.from_messages([(\"system\", system), (\"human\", human)])\n",
        "  actual_prompt = f\"\"\"\n",
        "  Question: {question}\n",
        "  Answer:\n",
        "  \"\"\"\n",
        "\n",
        "  chain = prompt | llm_to_use | StrOutputParser()\n",
        "  return chain.invoke({\"text\": actual_prompt})"
      ],
      "metadata": {
        "id": "Or7ZYnO5tqEQ"
      },
      "execution_count": null,
      "outputs": []
    },
    {
      "cell_type": "code",
      "source": [
        "def get_RAG_request(question, llm_to_use):\n",
        "\n",
        "  system = \"\"\"You are an assistant for document retrieval tasks.\n",
        "  You have access to a database of entries related to french politicians.\n",
        "  Each entry is identified by a name and a surname.\n",
        "  When provided with a question, return the name and surname of the most probable data entry.\n",
        "  Only respond with the name and surname.\n",
        "\n",
        "  \"\"\"\n",
        "  human = \"{text}\"\n",
        "  prompt = ChatPromptTemplate.from_messages([(\"system\", system), (\"human\", human)])\n",
        "  actual_prompt = f\"\"\"\n",
        "  Question: {question}\n",
        "  Answer:\n",
        "  \"\"\"\n",
        "\n",
        "  chain = prompt | llm_to_use | StrOutputParser()\n",
        "  return chain.invoke({\"text\": actual_prompt})"
      ],
      "metadata": {
        "id": "ZhZ2MWxpt1WC"
      },
      "execution_count": null,
      "outputs": []
    },
    {
      "cell_type": "code",
      "source": [
        "def get_answer_to_question(question, llm_to_use):\n",
        "\n",
        "  system = \"\"\"You are an assistant for question-answering tasks.\n",
        "  Use the following pieces of retrieved context to answer the question.\n",
        "  If you don't know the answer, just say that you don't know.\n",
        "  Use three sentences maximum and keep the answer concise.\n",
        "  \"\"\"\n",
        "  human = \"{text}\"\n",
        "  prompt = ChatPromptTemplate.from_messages([(\"system\", system), (\"human\", human)])\n",
        "\n",
        "  results = perform_query(question, 1)\n",
        "  context = ''.join(results) #concatenate top 5 results into a context\n",
        "  actual_prompt = f\"\"\"\n",
        "  Question: {question}\n",
        "  Context: {context}\n",
        "  Answer:\n",
        "  \"\"\"\n",
        "\n",
        "  # print(context)\n",
        "  for result in results:\n",
        "    print(get_name_surname_from_str_declaration(result))\n",
        "  chain = prompt | llm_to_use | StrOutputParser()\n",
        "  return chain.invoke({\"text\": actual_prompt})"
      ],
      "metadata": {
        "id": "WiXfVcIQM7Xy"
      },
      "execution_count": null,
      "outputs": []
    },
    {
      "cell_type": "code",
      "source": [
        "def get_answer_to_question_improved(question, llm_to_use):\n",
        "\n",
        "  system = \"\"\"You are an assistant for question-answering tasks.\n",
        "  Use the following pieces of retrieved context to answer the question.\n",
        "  If you don't know the answer, just say that you don't know.\n",
        "  Use three sentences maximum and keep the answer concise.\n",
        "  \"\"\"\n",
        "  human = \"{text}\"\n",
        "  prompt = ChatPromptTemplate.from_messages([(\"system\", system), (\"human\", human)])\n",
        "\n",
        "  retrieval_question = get_RAG_request(question, llm_to_use)\n",
        "  print(f\"Retrieval question : {retrieval_question}\")\n",
        "  print()\n",
        "  results = perform_query(retrieval_question, 1)\n",
        "  context = ''.join(results) #concatenate top 5 results into a context\n",
        "  actual_prompt = f\"\"\"\n",
        "  Question: {question}\n",
        "  Context: {context}\n",
        "  Answer:\n",
        "  \"\"\"\n",
        "\n",
        "  print(\"Most relevant context(s) : \")\n",
        "  for result in results:\n",
        "    print(get_name_surname_from_str_declaration(result))\n",
        "  print()\n",
        "  chain = prompt | llm_to_use | StrOutputParser()\n",
        "  return chain.invoke({\"text\": actual_prompt})"
      ],
      "metadata": {
        "id": "FTuGQTwAwd3y"
      },
      "execution_count": null,
      "outputs": []
    },
    {
      "cell_type": "code",
      "source": [
        "question = \"Qui est Damien ABAD? Et quel est son salaire en 2019?\""
      ],
      "metadata": {
        "id": "GH9JID6aS-KD"
      },
      "execution_count": null,
      "outputs": []
    },
    {
      "cell_type": "code",
      "source": [
        "results = perform_query(question, 1)\n",
        "for result in results:\n",
        "  print(get_name_surname_from_str_declaration(result))"
      ],
      "metadata": {
        "colab": {
          "base_uri": "https://localhost:8080/"
        },
        "id": "b-GpdogOS7xa",
        "outputId": "4f955a4d-2ee0-4eb9-8f13-64fe488acef8"
      },
      "execution_count": null,
      "outputs": [
        {
          "output_type": "stream",
          "name": "stdout",
          "text": [
            "('ABAD', 'DAMIEN')\n"
          ]
        }
      ]
    },
    {
      "cell_type": "code",
      "source": [
        "# results"
      ],
      "metadata": {
        "id": "q9xLSJsbTVCZ"
      },
      "execution_count": null,
      "outputs": []
    },
    {
      "cell_type": "code",
      "source": [
        "mixtral_llm = ChatGroq(temperature=0, model_name=\"mixtral-8x7b-32768\")\n",
        "llm_llama3_70B = ChatGroq(temperature=0, model_name=\"llama3-70b-8192\")\n",
        "\n",
        "get_answer_to_question(question, llm_llama3_70B)"
      ],
      "metadata": {
        "colab": {
          "base_uri": "https://localhost:8080/",
          "height": 53
        },
        "id": "UDGauA5eNCB0",
        "outputId": "952ce643-c466-46c3-f36a-bb6c2d252a8f"
      },
      "execution_count": null,
      "outputs": [
        {
          "output_type": "stream",
          "name": "stdout",
          "text": [
            "('ABAD', 'DAMIEN')\n"
          ]
        },
        {
          "output_type": "execute_result",
          "data": {
            "text/plain": [
              "'Damien Abad is a French politician, and his salary in 2019 was €71,105.'"
            ],
            "application/vnd.google.colaboratory.intrinsic+json": {
              "type": "string"
            }
          },
          "metadata": {},
          "execution_count": 43
        }
      ]
    },
    {
      "cell_type": "code",
      "source": [
        "llm_llama3_8B = ChatGroq(temperature=0, model_name=\"llama3-8b-8192\")\n",
        "get_answer_to_question(question, llm_llama3_8B)"
      ],
      "metadata": {
        "colab": {
          "base_uri": "https://localhost:8080/",
          "height": 53
        },
        "id": "o3VeodVEjhj1",
        "outputId": "5be0ae03-1832-434b-95d9-e79286f01211"
      },
      "execution_count": null,
      "outputs": [
        {
          "output_type": "stream",
          "name": "stdout",
          "text": [
            "('ABAD', 'DAMIEN')\n"
          ]
        },
        {
          "output_type": "execute_result",
          "data": {
            "text/plain": [
              "\"Damien Abad's salary in 2019 was 71,105 euros.\""
            ],
            "application/vnd.google.colaboratory.intrinsic+json": {
              "type": "string"
            }
          },
          "metadata": {},
          "execution_count": 44
        }
      ]
    },
    {
      "cell_type": "code",
      "source": [
        "print(get_answer_to_question(\"Quel est l'ensemble des revenus perçus par Damien Abad?\", llm_llama3_8B))"
      ],
      "metadata": {
        "colab": {
          "base_uri": "https://localhost:8080/"
        },
        "id": "fiJAsnpHjhhF",
        "outputId": "f04ba7f4-33f5-46b3-f38c-4fe0f38c216f"
      },
      "execution_count": null,
      "outputs": [
        {
          "output_type": "stream",
          "name": "stdout",
          "text": [
            "('ABAD', 'DAMIEN')\n",
            "The ensemble des revenus perçus par Damien Abad includes:\n",
            "\n",
            "* Rémunération de député : 67 047 € en 2017, 71 042 € en 2018, 71 105 € en 2019, 70 773 € en 2020, 70 676 € en 2021 et 27 289 € en 2022.\n",
            "* Rémunération de conseiller départemental : 28 007 € en 2017, 24 201 € en 2018, 16 386 € en 2019, 16 386 € en 2020, 16 384 € en 2021 et 6 827 € en 2022.\n",
            "* Rémunération de président du groupe LR à l'Assemblée nationale : 0 € en 2019, 0 € en 2020, 0 € en 2021 et 0 € en 2022.\n",
            "* Rémunération de président du SDIS 01 : 0 € en 2015, 0 € en 2016 et 0 € en 2017.\n",
            "* Rémunération de président d'Aintourisme : 0 € en 2017, 0 € en 2018, 0 € en 2019, 0 € en 2020, 0 € en 2021 et 0 € en 2022.\n",
            "* Rémunération de président du groupe LR à l'Assemblée nationale : 0 € en 2019, 0 € en 2020, 0 € en 2021 et 0 € en 2022.\n",
            "* Rémunération de président de l'association Saveurs de l'Ain : 0 € en 2019, 0 € en 2020, 0 € en 2021 et 0 € en 2022.\n",
            "* Rémunération de président de l'association Les Amis de Damien Abad : 0 € en 2018, 0 € en 2019, 0 € en 2020, 0 € en 2021 et 0 € en 2022.\n",
            "* Rémunération de conseiller financier : 877 € en 2018, 2910 € en 2019, 1929 € en 2020 et 6552 € en 2021.\n",
            "* Rémunération d'assistant fonctionnel : 0 €.\n",
            "* Rémunération d'assistante parlementaire locale : 0 €.\n"
          ]
        }
      ]
    },
    {
      "cell_type": "code",
      "source": [
        "print(get_answer_to_question(\"Où travaille le conjoint de Damien Abad?\", llm_llama3_8B))"
      ],
      "metadata": {
        "colab": {
          "base_uri": "https://localhost:8080/"
        },
        "id": "53QaYgV0jheF",
        "outputId": "8208812c-757d-4d74-f92d-5d70d64d9c0b"
      },
      "execution_count": null,
      "outputs": [
        {
          "output_type": "stream",
          "name": "stdout",
          "text": [
            "('ABAD', 'DAMIEN')\n",
            "Le conjoint de Damien Abad travaille au Centre Hospitalier du Haut-Bugey.\n"
          ]
        }
      ]
    },
    {
      "cell_type": "code",
      "source": [
        "print(get_answer_to_question(\"Où travaille le conjoint de Damien Abad?\", llm_llama3_70B))"
      ],
      "metadata": {
        "colab": {
          "base_uri": "https://localhost:8080/"
        },
        "id": "NJc28gUBkkeI",
        "outputId": "a1dcad1b-2cf2-4c77-ce8d-3aa634d60c64"
      },
      "execution_count": null,
      "outputs": [
        {
          "output_type": "stream",
          "name": "stdout",
          "text": [
            "('ABAD', 'DAMIEN')\n",
            "Le conjoint de Damien Abad travaille au Centre Hospitalier du Haut-Bugey en tant qu'infirmière.\n"
          ]
        }
      ]
    },
    {
      "cell_type": "code",
      "source": [
        "print(get_answer_to_question(\"Où travaille le conjoint de Damien Abad?\", mixtral_llm))"
      ],
      "metadata": {
        "colab": {
          "base_uri": "https://localhost:8080/"
        },
        "id": "fX67dUQCkuE3",
        "outputId": "6cc1abd2-cd38-41f0-e068-9d778ff63e55"
      },
      "execution_count": null,
      "outputs": [
        {
          "output_type": "stream",
          "name": "stdout",
          "text": [
            "('ABAD', 'DAMIEN')\n",
            "The spouse of Damien Abad works as an \"Infirmière\" (nurse) at the \"CENTRE HOSPITALIER DU HAUT-BUGEY\".\n"
          ]
        }
      ]
    },
    {
      "cell_type": "code",
      "source": [
        "print(get_answer_to_question(\"Le conjoint de Damien Abad est il un homme ou une femme?\", llm_llama3_8B))"
      ],
      "metadata": {
        "colab": {
          "base_uri": "https://localhost:8080/"
        },
        "id": "f1EnV-4Ekvqn",
        "outputId": "b893b2eb-7583-4ac4-c755-c73530f194b8"
      },
      "execution_count": null,
      "outputs": [
        {
          "output_type": "stream",
          "name": "stdout",
          "text": [
            "('ABAD', 'DAMIEN')\n",
            "Le conjoint de Damien Abad est une femme.\n"
          ]
        }
      ]
    },
    {
      "cell_type": "code",
      "source": [
        "print(get_answer_to_question(\"Le conjoint de Damien Abad est il un homme ou une femme?\", llm_llama3_70B))"
      ],
      "metadata": {
        "colab": {
          "base_uri": "https://localhost:8080/"
        },
        "id": "DSYZIlCAl-Ys",
        "outputId": "e6ba1c00-fb17-4a8e-86bb-403ab1a3b36d"
      },
      "execution_count": null,
      "outputs": [
        {
          "output_type": "stream",
          "name": "stdout",
          "text": [
            "('ABAD', 'DAMIEN')\n",
            "Le conjoint de Damien Abad est une femme, car il est mentionné que son conjoint est une infirmière.\n"
          ]
        }
      ]
    },
    {
      "cell_type": "code",
      "source": [
        "print(get_answer_to_question(\"Le conjoint de Damien Abad est il un homme ou une femme?\", mixtral_llm))"
      ],
      "metadata": {
        "colab": {
          "base_uri": "https://localhost:8080/"
        },
        "id": "zq7lSg5Yl-WT",
        "outputId": "742a1a4f-5090-4d1b-beef-78de5fed5b56"
      },
      "execution_count": null,
      "outputs": [
        {
          "output_type": "stream",
          "name": "stdout",
          "text": [
            "('ABAD', 'DAMIEN')\n",
            "The context does not provide information on Damien Abad's spouse's gender. The provided document focuses on Damien Abad's professional activities and declarations of interests.\n"
          ]
        }
      ]
    },
    {
      "cell_type": "code",
      "source": [
        "print(get_answer_to_question(\"Où travaille le conjoint de Loïc HERVÉ le sénateur de Haute Savoie?\", mixtral_llm))"
      ],
      "metadata": {
        "colab": {
          "base_uri": "https://localhost:8080/"
        },
        "id": "3G6yNCYMAnz7",
        "outputId": "1354d876-ef8e-40c8-a2cb-6666b3da0d70"
      },
      "execution_count": null,
      "outputs": [
        {
          "output_type": "stream",
          "name": "stdout",
          "text": [
            "('HERVE', 'loic')\n",
            "According to the provided context, Loïc HERVÉ's spouse is an Attachée principale (FPT, catégorie A) and works for Collectivités locales.\n"
          ]
        }
      ]
    },
    {
      "cell_type": "code",
      "source": [
        "print(get_answer_to_question(\"Où travaille le conjoint de Antoine Armand?\", mixtral_llm))"
      ],
      "metadata": {
        "colab": {
          "base_uri": "https://localhost:8080/"
        },
        "id": "IyxfZTtnBdnQ",
        "outputId": "05ed7667-bbe5-4c2b-8104-6d3db9d16ac4"
      },
      "execution_count": null,
      "outputs": [
        {
          "output_type": "stream",
          "name": "stdout",
          "text": [
            "('Armand', 'Antoine')\n",
            "The context provided does not include information about the spouse of Antoine Armand or their place of work.\n"
          ]
        }
      ]
    },
    {
      "cell_type": "code",
      "source": [
        "print(get_answer_to_question(\"Où travaille le conjoint de Eric PARRA\", llm_llama3_70B))"
      ],
      "metadata": {
        "colab": {
          "base_uri": "https://localhost:8080/"
        },
        "id": "hNLVzDfZBdk8",
        "outputId": "71e96ee4-c00b-4947-d48b-02315a461368"
      },
      "execution_count": null,
      "outputs": [
        {
          "output_type": "stream",
          "name": "stdout",
          "text": [
            "('PARRA', 'ERIC')\n",
            "Le conjoint d'Eric PARRA travaille comme assistante de vie.\n"
          ]
        }
      ]
    },
    {
      "cell_type": "code",
      "source": [
        "print(get_answer_to_question(\"Quel est le plus récent emploi d'Eric PARRA? Et sa rémunération?\", mixtral_llm))"
      ],
      "metadata": {
        "colab": {
          "base_uri": "https://localhost:8080/"
        },
        "id": "GVSRUN-OB9c0",
        "outputId": "6f9f1bff-ea8e-42b7-8126-968e7f4d8f98"
      },
      "execution_count": null,
      "outputs": [
        {
          "output_type": "stream",
          "name": "stdout",
          "text": [
            "('PARRA', 'ERIC')\n",
            "Eric PARRA's most recent job is as an assistant of life. His remuneration for this position in 2020 was 7,000. However, if you're asking about his remuneration for his mandates, he received 6,650 as Vice President of the Communauté d'Agglomération du Grand Narbonne and 1,545 as Conseller Municipal of the Ville de Narbonne in 2020.\n"
          ]
        }
      ]
    },
    {
      "cell_type": "code",
      "source": [
        "print(get_answer_to_question(\"Combien gagne le maire de Bordeaux?\", llm_llama3_70B))"
      ],
      "metadata": {
        "colab": {
          "base_uri": "https://localhost:8080/"
        },
        "id": "MOrm2I2OKw-5",
        "outputId": "2c32a26e-f673-411e-9cb8-6fbc6e5387a9"
      },
      "execution_count": null,
      "outputs": [
        {
          "output_type": "stream",
          "name": "stdout",
          "text": [
            "('BOUTLEUX', 'Dimitri')\n",
            "The question asks how much the mayor of Bordeaux earns. However, the provided context does not explicitly mention the salary of the mayor of Bordeaux. It appears to be a declaration of interests and assets of a municipal councilor or mayor, but the salary information is not present.\n"
          ]
        }
      ]
    },
    {
      "cell_type": "code",
      "source": [
        "get_answer_to_question_no_context(\"Qui est le maire de Bordeaux\", mixtral_llm)"
      ],
      "metadata": {
        "colab": {
          "base_uri": "https://localhost:8080/",
          "height": 35
        },
        "id": "2x6yA-cluIYy",
        "outputId": "0fcfdd12-98f6-4593-8003-62ef01160d47"
      },
      "execution_count": null,
      "outputs": [
        {
          "output_type": "execute_result",
          "data": {
            "text/plain": [
              "'The current mayor of Bordeaux, France is Pierre Hurmic. He took office on July 4, 2020. He is a member of the Ecologist Party.'"
            ],
            "application/vnd.google.colaboratory.intrinsic+json": {
              "type": "string"
            }
          },
          "metadata": {},
          "execution_count": 77
        }
      ]
    },
    {
      "cell_type": "code",
      "source": [
        "get_answer_to_question_no_context(\"Combien gagne le maire de Bordeaux\", mixtral_llm)"
      ],
      "metadata": {
        "colab": {
          "base_uri": "https://localhost:8080/",
          "height": 35
        },
        "id": "esxByDp1uJsB",
        "outputId": "ebdcff56-c938-4cd1-f520-b53b667c8fbe"
      },
      "execution_count": null,
      "outputs": [
        {
          "output_type": "execute_result",
          "data": {
            "text/plain": [
              "'The mayor of Bordeaux, Pierre Hurmic, earns a salary of around 5,250 euros net per month. This amount can vary depending on the deductions and contributions. His salary is made public according to the transparency law in France.'"
            ],
            "application/vnd.google.colaboratory.intrinsic+json": {
              "type": "string"
            }
          },
          "metadata": {},
          "execution_count": 78
        }
      ]
    },
    {
      "cell_type": "code",
      "source": [
        "get_RAG_request(\"Qui est le maire de Bordeaux?\", mixtral_llm)"
      ],
      "metadata": {
        "colab": {
          "base_uri": "https://localhost:8080/",
          "height": 35
        },
        "id": "w3dEc47Jv2He",
        "outputId": "d70bea05-ca8b-4538-9aeb-2364757e9017"
      },
      "execution_count": null,
      "outputs": [
        {
          "output_type": "execute_result",
          "data": {
            "text/plain": [
              "'Pierre Hurmic'"
            ],
            "application/vnd.google.colaboratory.intrinsic+json": {
              "type": "string"
            }
          },
          "metadata": {},
          "execution_count": 86
        }
      ]
    },
    {
      "cell_type": "code",
      "source": [
        "get_RAG_request(\"Combien gagne le maire de Bordeaux\", mixtral_llm)"
      ],
      "metadata": {
        "colab": {
          "base_uri": "https://localhost:8080/",
          "height": 35
        },
        "id": "yWpU9BNJwZV5",
        "outputId": "47b85ed2-a0b8-4c10-d276-046bd6186169"
      },
      "execution_count": null,
      "outputs": [
        {
          "output_type": "execute_result",
          "data": {
            "text/plain": [
              "'Pierre Hurmic'"
            ],
            "application/vnd.google.colaboratory.intrinsic+json": {
              "type": "string"
            }
          },
          "metadata": {},
          "execution_count": 87
        }
      ]
    },
    {
      "cell_type": "code",
      "source": [
        "get_answer_to_question_improved(\"Combien d'argent est payé le maire de Bordeaux?\", mixtral_llm)"
      ],
      "metadata": {
        "colab": {
          "base_uri": "https://localhost:8080/",
          "height": 140
        },
        "id": "22y6QXQGw0cy",
        "outputId": "f3335891-48ea-4cb2-fdd4-ce5d9c5f29d6"
      },
      "execution_count": null,
      "outputs": [
        {
          "output_type": "stream",
          "name": "stdout",
          "text": [
            "Retrieval question : Pierre Hurmic\n",
            "\n",
            "Most relevant context(s) : \n",
            "('HURMIC', 'Pierre')\n",
            "\n"
          ]
        },
        {
          "output_type": "execute_result",
          "data": {
            "text/plain": [
              "'Based on the provided context, the document is a declaration of interests for Pierre Hurmic, who was a Vice President of Bordeaux Métropole as of July 17, 2020. There is no information about the salary of the mayor of Bordeaux in this document.'"
            ],
            "application/vnd.google.colaboratory.intrinsic+json": {
              "type": "string"
            }
          },
          "metadata": {},
          "execution_count": 101
        }
      ]
    },
    {
      "cell_type": "code",
      "source": [
        "embed_df = embed_ds.to_pandas()"
      ],
      "metadata": {
        "id": "8BFrQektKw8h"
      },
      "execution_count": null,
      "outputs": []
    },
    {
      "cell_type": "code",
      "source": [
        "embed_df[embed_df['text_index'].str.contains('hurmic')]"
      ],
      "metadata": {
        "colab": {
          "base_uri": "https://localhost:8080/",
          "height": 175
        },
        "id": "hq-B6iOzLcdC",
        "outputId": "e0fc10d1-cfa1-42d9-97c7-e04e8d4137dd"
      },
      "execution_count": null,
      "outputs": [
        {
          "output_type": "execute_result",
          "data": {
            "text/plain": [
              "                                      xml_sha1  \\\n",
              "5348  0a0a9f2a6772942557ab5355d76af442f8f65e01   \n",
              "5349  0a0a9f2a6772942557ab5355d76af442f8f65e01   \n",
              "5350  0a0a9f2a6772942557ab5355d76af442f8f65e01   \n",
              "5351  0a0a9f2a6772942557ab5355d76af442f8f65e01   \n",
              "\n",
              "                                        declaration_xml  \\\n",
              "5348  <declaration><dateDepot>03/09/2020 17:42:05</d...   \n",
              "5349  <declaration><dateDepot>03/09/2020 17:44:15</d...   \n",
              "5350  <declaration><dateDepot>08/04/2021 19:10:43</d...   \n",
              "5351  <declaration><dateDepot>25/05/2021 19:38:47</d...   \n",
              "\n",
              "                                       declaration_json  \\\n",
              "5348  {\"declaration\": {\"dateDepot\": \"03/09/2020 17:4...   \n",
              "5349  {\"declaration\": {\"dateDepot\": \"03/09/2020 17:4...   \n",
              "5350  {\"declaration\": {\"dateDepot\": \"08/04/2021 19:1...   \n",
              "5351  {\"declaration\": {\"dateDepot\": \"25/05/2021 19:3...   \n",
              "\n",
              "                              text_index  \\\n",
              "5348  pierre hurmic -  maire de bordeaux   \n",
              "5349  pierre hurmic -  maire de bordeaux   \n",
              "5350  pierre hurmic -  maire de bordeaux   \n",
              "5351  pierre hurmic -  maire de bordeaux   \n",
              "\n",
              "                                   text_index_embedding  \n",
              "5348  [0.007317204028367996, 0.0006617681938223541, ...  \n",
              "5349  [0.007317204028367996, 0.0006617681938223541, ...  \n",
              "5350  [0.007317204028367996, 0.0006617681938223541, ...  \n",
              "5351  [0.007317204028367996, 0.0006617681938223541, ...  "
            ],
            "text/html": [
              "\n",
              "  <div id=\"df-154c8f6a-0213-43ab-b340-9be9835a60ce\" class=\"colab-df-container\">\n",
              "    <div>\n",
              "<style scoped>\n",
              "    .dataframe tbody tr th:only-of-type {\n",
              "        vertical-align: middle;\n",
              "    }\n",
              "\n",
              "    .dataframe tbody tr th {\n",
              "        vertical-align: top;\n",
              "    }\n",
              "\n",
              "    .dataframe thead th {\n",
              "        text-align: right;\n",
              "    }\n",
              "</style>\n",
              "<table border=\"1\" class=\"dataframe\">\n",
              "  <thead>\n",
              "    <tr style=\"text-align: right;\">\n",
              "      <th></th>\n",
              "      <th>xml_sha1</th>\n",
              "      <th>declaration_xml</th>\n",
              "      <th>declaration_json</th>\n",
              "      <th>text_index</th>\n",
              "      <th>text_index_embedding</th>\n",
              "    </tr>\n",
              "  </thead>\n",
              "  <tbody>\n",
              "    <tr>\n",
              "      <th>5348</th>\n",
              "      <td>0a0a9f2a6772942557ab5355d76af442f8f65e01</td>\n",
              "      <td>&lt;declaration&gt;&lt;dateDepot&gt;03/09/2020 17:42:05&lt;/d...</td>\n",
              "      <td>{\"declaration\": {\"dateDepot\": \"03/09/2020 17:4...</td>\n",
              "      <td>pierre hurmic -  maire de bordeaux</td>\n",
              "      <td>[0.007317204028367996, 0.0006617681938223541, ...</td>\n",
              "    </tr>\n",
              "    <tr>\n",
              "      <th>5349</th>\n",
              "      <td>0a0a9f2a6772942557ab5355d76af442f8f65e01</td>\n",
              "      <td>&lt;declaration&gt;&lt;dateDepot&gt;03/09/2020 17:44:15&lt;/d...</td>\n",
              "      <td>{\"declaration\": {\"dateDepot\": \"03/09/2020 17:4...</td>\n",
              "      <td>pierre hurmic -  maire de bordeaux</td>\n",
              "      <td>[0.007317204028367996, 0.0006617681938223541, ...</td>\n",
              "    </tr>\n",
              "    <tr>\n",
              "      <th>5350</th>\n",
              "      <td>0a0a9f2a6772942557ab5355d76af442f8f65e01</td>\n",
              "      <td>&lt;declaration&gt;&lt;dateDepot&gt;08/04/2021 19:10:43&lt;/d...</td>\n",
              "      <td>{\"declaration\": {\"dateDepot\": \"08/04/2021 19:1...</td>\n",
              "      <td>pierre hurmic -  maire de bordeaux</td>\n",
              "      <td>[0.007317204028367996, 0.0006617681938223541, ...</td>\n",
              "    </tr>\n",
              "    <tr>\n",
              "      <th>5351</th>\n",
              "      <td>0a0a9f2a6772942557ab5355d76af442f8f65e01</td>\n",
              "      <td>&lt;declaration&gt;&lt;dateDepot&gt;25/05/2021 19:38:47&lt;/d...</td>\n",
              "      <td>{\"declaration\": {\"dateDepot\": \"25/05/2021 19:3...</td>\n",
              "      <td>pierre hurmic -  maire de bordeaux</td>\n",
              "      <td>[0.007317204028367996, 0.0006617681938223541, ...</td>\n",
              "    </tr>\n",
              "  </tbody>\n",
              "</table>\n",
              "</div>\n",
              "    <div class=\"colab-df-buttons\">\n",
              "\n",
              "  <div class=\"colab-df-container\">\n",
              "    <button class=\"colab-df-convert\" onclick=\"convertToInteractive('df-154c8f6a-0213-43ab-b340-9be9835a60ce')\"\n",
              "            title=\"Convert this dataframe to an interactive table.\"\n",
              "            style=\"display:none;\">\n",
              "\n",
              "  <svg xmlns=\"http://www.w3.org/2000/svg\" height=\"24px\" viewBox=\"0 -960 960 960\">\n",
              "    <path d=\"M120-120v-720h720v720H120Zm60-500h600v-160H180v160Zm220 220h160v-160H400v160Zm0 220h160v-160H400v160ZM180-400h160v-160H180v160Zm440 0h160v-160H620v160ZM180-180h160v-160H180v160Zm440 0h160v-160H620v160Z\"/>\n",
              "  </svg>\n",
              "    </button>\n",
              "\n",
              "  <style>\n",
              "    .colab-df-container {\n",
              "      display:flex;\n",
              "      gap: 12px;\n",
              "    }\n",
              "\n",
              "    .colab-df-convert {\n",
              "      background-color: #E8F0FE;\n",
              "      border: none;\n",
              "      border-radius: 50%;\n",
              "      cursor: pointer;\n",
              "      display: none;\n",
              "      fill: #1967D2;\n",
              "      height: 32px;\n",
              "      padding: 0 0 0 0;\n",
              "      width: 32px;\n",
              "    }\n",
              "\n",
              "    .colab-df-convert:hover {\n",
              "      background-color: #E2EBFA;\n",
              "      box-shadow: 0px 1px 2px rgba(60, 64, 67, 0.3), 0px 1px 3px 1px rgba(60, 64, 67, 0.15);\n",
              "      fill: #174EA6;\n",
              "    }\n",
              "\n",
              "    .colab-df-buttons div {\n",
              "      margin-bottom: 4px;\n",
              "    }\n",
              "\n",
              "    [theme=dark] .colab-df-convert {\n",
              "      background-color: #3B4455;\n",
              "      fill: #D2E3FC;\n",
              "    }\n",
              "\n",
              "    [theme=dark] .colab-df-convert:hover {\n",
              "      background-color: #434B5C;\n",
              "      box-shadow: 0px 1px 3px 1px rgba(0, 0, 0, 0.15);\n",
              "      filter: drop-shadow(0px 1px 2px rgba(0, 0, 0, 0.3));\n",
              "      fill: #FFFFFF;\n",
              "    }\n",
              "  </style>\n",
              "\n",
              "    <script>\n",
              "      const buttonEl =\n",
              "        document.querySelector('#df-154c8f6a-0213-43ab-b340-9be9835a60ce button.colab-df-convert');\n",
              "      buttonEl.style.display =\n",
              "        google.colab.kernel.accessAllowed ? 'block' : 'none';\n",
              "\n",
              "      async function convertToInteractive(key) {\n",
              "        const element = document.querySelector('#df-154c8f6a-0213-43ab-b340-9be9835a60ce');\n",
              "        const dataTable =\n",
              "          await google.colab.kernel.invokeFunction('convertToInteractive',\n",
              "                                                    [key], {});\n",
              "        if (!dataTable) return;\n",
              "\n",
              "        const docLinkHtml = 'Like what you see? Visit the ' +\n",
              "          '<a target=\"_blank\" href=https://colab.research.google.com/notebooks/data_table.ipynb>data table notebook</a>'\n",
              "          + ' to learn more about interactive tables.';\n",
              "        element.innerHTML = '';\n",
              "        dataTable['output_type'] = 'display_data';\n",
              "        await google.colab.output.renderOutput(dataTable, element);\n",
              "        const docLink = document.createElement('div');\n",
              "        docLink.innerHTML = docLinkHtml;\n",
              "        element.appendChild(docLink);\n",
              "      }\n",
              "    </script>\n",
              "  </div>\n",
              "\n",
              "\n",
              "<div id=\"df-0c5eb2db-7d73-4761-b7f7-c68551a43250\">\n",
              "  <button class=\"colab-df-quickchart\" onclick=\"quickchart('df-0c5eb2db-7d73-4761-b7f7-c68551a43250')\"\n",
              "            title=\"Suggest charts\"\n",
              "            style=\"display:none;\">\n",
              "\n",
              "<svg xmlns=\"http://www.w3.org/2000/svg\" height=\"24px\"viewBox=\"0 0 24 24\"\n",
              "     width=\"24px\">\n",
              "    <g>\n",
              "        <path d=\"M19 3H5c-1.1 0-2 .9-2 2v14c0 1.1.9 2 2 2h14c1.1 0 2-.9 2-2V5c0-1.1-.9-2-2-2zM9 17H7v-7h2v7zm4 0h-2V7h2v10zm4 0h-2v-4h2v4z\"/>\n",
              "    </g>\n",
              "</svg>\n",
              "  </button>\n",
              "\n",
              "<style>\n",
              "  .colab-df-quickchart {\n",
              "      --bg-color: #E8F0FE;\n",
              "      --fill-color: #1967D2;\n",
              "      --hover-bg-color: #E2EBFA;\n",
              "      --hover-fill-color: #174EA6;\n",
              "      --disabled-fill-color: #AAA;\n",
              "      --disabled-bg-color: #DDD;\n",
              "  }\n",
              "\n",
              "  [theme=dark] .colab-df-quickchart {\n",
              "      --bg-color: #3B4455;\n",
              "      --fill-color: #D2E3FC;\n",
              "      --hover-bg-color: #434B5C;\n",
              "      --hover-fill-color: #FFFFFF;\n",
              "      --disabled-bg-color: #3B4455;\n",
              "      --disabled-fill-color: #666;\n",
              "  }\n",
              "\n",
              "  .colab-df-quickchart {\n",
              "    background-color: var(--bg-color);\n",
              "    border: none;\n",
              "    border-radius: 50%;\n",
              "    cursor: pointer;\n",
              "    display: none;\n",
              "    fill: var(--fill-color);\n",
              "    height: 32px;\n",
              "    padding: 0;\n",
              "    width: 32px;\n",
              "  }\n",
              "\n",
              "  .colab-df-quickchart:hover {\n",
              "    background-color: var(--hover-bg-color);\n",
              "    box-shadow: 0 1px 2px rgba(60, 64, 67, 0.3), 0 1px 3px 1px rgba(60, 64, 67, 0.15);\n",
              "    fill: var(--button-hover-fill-color);\n",
              "  }\n",
              "\n",
              "  .colab-df-quickchart-complete:disabled,\n",
              "  .colab-df-quickchart-complete:disabled:hover {\n",
              "    background-color: var(--disabled-bg-color);\n",
              "    fill: var(--disabled-fill-color);\n",
              "    box-shadow: none;\n",
              "  }\n",
              "\n",
              "  .colab-df-spinner {\n",
              "    border: 2px solid var(--fill-color);\n",
              "    border-color: transparent;\n",
              "    border-bottom-color: var(--fill-color);\n",
              "    animation:\n",
              "      spin 1s steps(1) infinite;\n",
              "  }\n",
              "\n",
              "  @keyframes spin {\n",
              "    0% {\n",
              "      border-color: transparent;\n",
              "      border-bottom-color: var(--fill-color);\n",
              "      border-left-color: var(--fill-color);\n",
              "    }\n",
              "    20% {\n",
              "      border-color: transparent;\n",
              "      border-left-color: var(--fill-color);\n",
              "      border-top-color: var(--fill-color);\n",
              "    }\n",
              "    30% {\n",
              "      border-color: transparent;\n",
              "      border-left-color: var(--fill-color);\n",
              "      border-top-color: var(--fill-color);\n",
              "      border-right-color: var(--fill-color);\n",
              "    }\n",
              "    40% {\n",
              "      border-color: transparent;\n",
              "      border-right-color: var(--fill-color);\n",
              "      border-top-color: var(--fill-color);\n",
              "    }\n",
              "    60% {\n",
              "      border-color: transparent;\n",
              "      border-right-color: var(--fill-color);\n",
              "    }\n",
              "    80% {\n",
              "      border-color: transparent;\n",
              "      border-right-color: var(--fill-color);\n",
              "      border-bottom-color: var(--fill-color);\n",
              "    }\n",
              "    90% {\n",
              "      border-color: transparent;\n",
              "      border-bottom-color: var(--fill-color);\n",
              "    }\n",
              "  }\n",
              "</style>\n",
              "\n",
              "  <script>\n",
              "    async function quickchart(key) {\n",
              "      const quickchartButtonEl =\n",
              "        document.querySelector('#' + key + ' button');\n",
              "      quickchartButtonEl.disabled = true;  // To prevent multiple clicks.\n",
              "      quickchartButtonEl.classList.add('colab-df-spinner');\n",
              "      try {\n",
              "        const charts = await google.colab.kernel.invokeFunction(\n",
              "            'suggestCharts', [key], {});\n",
              "      } catch (error) {\n",
              "        console.error('Error during call to suggestCharts:', error);\n",
              "      }\n",
              "      quickchartButtonEl.classList.remove('colab-df-spinner');\n",
              "      quickchartButtonEl.classList.add('colab-df-quickchart-complete');\n",
              "    }\n",
              "    (() => {\n",
              "      let quickchartButtonEl =\n",
              "        document.querySelector('#df-0c5eb2db-7d73-4761-b7f7-c68551a43250 button');\n",
              "      quickchartButtonEl.style.display =\n",
              "        google.colab.kernel.accessAllowed ? 'block' : 'none';\n",
              "    })();\n",
              "  </script>\n",
              "</div>\n",
              "    </div>\n",
              "  </div>\n"
            ],
            "application/vnd.google.colaboratory.intrinsic+json": {
              "type": "dataframe",
              "summary": "{\n  \"name\": \"embed_df[embed_df['text_index']\",\n  \"rows\": 4,\n  \"fields\": [\n    {\n      \"column\": \"xml_sha1\",\n      \"properties\": {\n        \"dtype\": \"category\",\n        \"num_unique_values\": 1,\n        \"samples\": [\n          \"0a0a9f2a6772942557ab5355d76af442f8f65e01\"\n        ],\n        \"semantic_type\": \"\",\n        \"description\": \"\"\n      }\n    },\n    {\n      \"column\": \"declaration_xml\",\n      \"properties\": {\n        \"dtype\": \"string\",\n        \"num_unique_values\": 4,\n        \"samples\": [\n          \"<declaration><dateDepot>03/09/2020 17:44:15</dateDepot><uuid>302aeac8-5b4d-4f89-87a1-5f9527cca5e0</uuid><origine>ADEL</origine><complete>true</complete><attachedFiles><attachedFiles><fileName>VUE_PDF_DU_RECEPISSE_DU_DEPOT_XML</fileName><serverFileName /><base64EncodedContent /></attachedFiles></attachedFiles><declarationVersion>20171221</declarationVersion><activConsultantDto><items><items><motif><id>CREATION</id><label /></motif><commentaire>Aucune actvit\\u00e9 de consultant</commentaire><nomEmployeur>N\\u00e9ant</nomEmployeur><description>N\\u00e9ant</description><dateDebut>01/2014</dateDebut><dateFin>09/2020</dateFin><remuneration><brutNet>Net</brutNet><montant><montant><annee>2014</annee><montant>0</montant></montant><montant><annee>2015</annee><montant>0</montant></montant><montant><annee>2016</annee><montant>0</montant></montant><montant><annee>2017</annee><montant>0</montant></montant><montant><annee>2018</annee><montant>0</montant></montant><montant><annee>2019</annee><montant>0</montant></montant><montant><annee>2020</annee><montant>0</montant></montant></montant></remuneration></items></items><neant>false</neant></activConsultantDto><activProfCinqDerniereDto><items><items><motif><id>CREATION</id><label /></motif><commentaire /><description>Avocat</description><employeur>moi-m\\u00eame</employeur><remuneration><brutNet>Net</brutNet><montant><montant><annee>2014</annee><montant>23375</montant></montant><montant><annee>2015</annee><montant>2979</montant></montant><montant><annee>2016</annee><montant>23705</montant></montant><montant><annee>2017</annee><montant>21328</montant></montant><montant><annee>2018</annee><montant>2128</montant></montant><montant><annee>2019</annee><montant>0</montant></montant><montant><annee>2020</annee><montant>0</montant></montant></montant></remuneration><dateDebut>01/2014</dateDebut><dateFin>09/2020</dateFin></items></items><neant>false</neant></activProfCinqDerniereDto><activProfConjointDto><items><items><motif><id>CREATION</id><label /></motif><commentaire /><nomConjoint>            [Donn\\u00e9es non publi\\u00e9es]        </nomConjoint><employeurConjoint>CNFPT         [Donn\\u00e9es non publi\\u00e9es]    </employeurConjoint><activiteProf>Formatrice</activiteProf></items><items><motif><id>CREATION</id><label /></motif><commentaire /><nomConjoint>            [Donn\\u00e9es non publi\\u00e9es]        </nomConjoint><employeurConjoint>Institut d'2tude Politiques         [Donn\\u00e9es non publi\\u00e9es]    </employeurConjoint><activiteProf>Formatrice</activiteProf></items></items><neant>false</neant></activProfConjointDto><fonctionBenevoleDto><neant>true</neant></fonctionBenevoleDto><mandatElectifDto><items><items><motif><id>CREATION</id><label /></motif><commentaire /><descriptionMandat>Conseiller Municipal de Bordeaux</descriptionMandat><remuneration><brutNet>Net</brutNet><montant><montant><annee>2014</annee><montant>0</montant></montant><montant><annee>2015</annee><montant>0</montant></montant><montant><annee>2016</annee><montant>0</montant></montant><montant><annee>2017</annee><montant>0</montant></montant><montant><annee>2018</annee><montant>0</montant></montant><montant><annee>2019</annee><montant>0</montant></montant><montant><annee>2020</annee><montant>0</montant></montant></montant></remuneration><dateDebut>04/2014</dateDebut><dateFin>07/2020</dateFin></items></items><neant>false</neant></mandatElectifDto><participationDirigeantDto><items><items><motif><id>CREATION</id><label /></motif><commentaire>Membre de droit en tant que Maire de Borddeaux</commentaire><nomSociete>Association des Maires de la Gironde</nomSociete><activite>Repr\\u00e9sentant la Ville de Bx</activite><remuneration><brutNet>Net</brutNet><montant><montant><annee>2020</annee><montant>0</montant></montant></montant></remuneration><dateDebut>07/2020</dateDebut><dateFin>09/2020</dateFin></items><items><motif><id>CREATION</id><label /></motif><commentaire /><nomSociete>France Urbaine (AMGF et ACUF)</nomSociete><activite>Repr\\u00e9sentant la Ville de Bx</activite><remuneration><brutNet>Net</brutNet><montant><montant><annee>2020</annee><montant>0</montant></montant></montant></remuneration><dateDebut>08/2020</dateDebut><dateFin>09/2020</dateFin></items><items><motif><id>CREATION</id><label /></motif><commentaire /><nomSociete>Fondation pour la Cilture et les civilisations du vin</nomSociete><activite>Repr\\u00e9sentant la Ville de Bx</activite><remuneration><brutNet>Net</brutNet><montant><montant><annee>2020</annee><montant>0</montant></montant></montant></remuneration><dateDebut>07/2020</dateDebut><dateFin>09/2020</dateFin></items><items><motif><id>CREATION</id><label /></motif><commentaire /><nomSociete>Agence France Locale</nomSociete><activite>Repr\\u00e9sentant la Ville de Bx</activite><remuneration><brutNet>Net</brutNet><montant><montant><annee>2020</annee><montant>0</montant></montant></montant></remuneration><dateDebut>07/2020</dateDebut><dateFin>09/2020</dateFin></items><items><motif><id>CREATION</id><label /></motif><commentaire /><nomSociete>Mission locale Association Bordeaux Avenir Jeunes</nomSociete><activite>Repr\\u00e9sentant la Ville de Bx</activite><remuneration><brutNet>Net</brutNet><montant><montant><annee>2020</annee><montant>0</montant></montant></montant></remuneration><dateDebut>07/2020</dateDebut><dateFin>09/2020</dateFin></items><items><motif><id>CREATION</id><label /></motif><commentaire /><nomSociete>A\\u00e9roport de Bordeaux M\\u00e9rignac (Conseil de Surveillande et Commission consultative \\u00e9conomique)</nomSociete><activite>Repr\\u00e9sentant la Ville de Bx</activite><remuneration><brutNet>Net</brutNet><montant><montant><annee>2020</annee><montant>0</montant></montant></montant></remuneration><dateDebut>07/2020</dateDebut><dateFin>09/2020</dateFin></items><items><motif><id>CREATION</id><label /></motif><commentaire /><nomSociete>Conseil Interprofessionnel du Vin de Bordeaux (CIVB)</nomSociete><activite>Repr\\u00e9sentant la Ville de Bx</activite><remuneration><brutNet>Net</brutNet><montant><montant><annee>2020</annee><montant>0</montant></montant></montant></remuneration><dateDebut>07/2020</dateDebut><dateFin>09/2020</dateFin></items><items><motif><id>CREATION</id><label /></motif><commentaire /><nomSociete>Conseil de Surveillance du CHU de Bordeaux</nomSociete><activite>Repr\\u00e9sentant la Ville de Bx</activite><remuneration><brutNet>Net</brutNet><montant><montant><annee>2020</annee><montant>0</montant></montant></montant></remuneration><dateDebut>07/2020</dateDebut><dateFin>09/2020</dateFin></items><items><motif><id>CREATION</id><label /></motif><commentaire /><nomSociete>Commission Consultative des Services Publics Locaux (CCSPL)</nomSociete><activite>Repr\\u00e9sentant la Ville de Bx</activite><remuneration><brutNet>Net</brutNet><montant><montant><annee>2020</annee><montant>0</montant></montant></montant></remuneration><dateDebut>07/2020</dateDebut><dateFin>09/2020</dateFin></items><items><motif><id>CREATION</id><label /></motif><commentaire /><nomSociete>CCAS</nomSociete><activite>Repr\\u00e9sentant la Ville de Bx</activite><remuneration><brutNet>Net</brutNet><montant><montant><annee>2020</annee><montant>0</montant></montant></montant></remuneration><dateDebut>07/2020</dateDebut><dateFin>09/2020</dateFin></items></items><neant>false</neant></participationDirigeantDto><participationFinanciereDto><neant>true</neant></participationFinanciereDto><activCollaborateursDto><neant>false</neant></activCollaborateursDto><observationInteretDto><neant>true</neant></observationInteretDto><general><typeDeclaration><id>DI</id><label>D\\u00e9claration d'int\\u00e9r\\u00eats</label></typeDeclaration><mandat><label>Elu local ou membre d\\u2019un \\u00e9tablissement public de coop\\u00e9ration intercommunale</label></mandat><qualiteMandat><typeMandat>Maire ou adjoint municipal</typeMandat><codCategorieMandat>LOC</codCategorieMandat><nomCategorieMandat>Elu local ou membre d\\u2019EPCI</nomCategorieMandat><codTypeMandatFichier>commune</codTypeMandatFichier><labelTypeMandat>Maire ou adjoint municipal</labelTypeMandat><labelOrgane>Commune</labelOrgane><codeListeOrgane>COMM</codeListeOrgane></qualiteMandat><organe><codeOrgane>33063</codeOrgane><codeListeOrgane>COMM</codeListeOrgane><nomListeOrgane>Communes +20KH</nomListeOrgane><labelOrgane>Bordeaux (33)</labelOrgane><labelDeclaration /></organe><qualiteDeclarant>Maire</qualiteDeclarant><qualiteDeclarantForPDF>Maire ou adjoint municipal/Bordeaux (33)/Maire</qualiteDeclarantForPDF><dateDebutMandat>03/07/2020</dateDebutMandat><dateFinMandat /><dateDernDeclar /><regimeMatrimonial /><regimeMatrimonialComments /><nomSociete /><nomSocieteMere /><chiffreAffaire /><nbLogements /><declarant><civilite>M.</civilite><nom>HURMIC</nom><prenom>Pierre</prenom><email>            [Donn\\u00e9es non publi\\u00e9es]        </email><dateNaissance>10/04/1955</dateNaissance><pieceIdentite /><telephoneDec>            [Donn\\u00e9es non publi\\u00e9es]        </telephoneDec><adresseDec><voie>            [Donn\\u00e9es non publi\\u00e9es]        </voie><complement>            [Donn\\u00e9es non publi\\u00e9es]        </complement><codePostal>            [Donn\\u00e9es non publi\\u00e9es]        </codePostal><ville>            [Donn\\u00e9es non publi\\u00e9es]        </ville><pays>            [Donn\\u00e9es non publi\\u00e9es]        </pays></adresseDec></declarant></general></declaration>\"\n        ],\n        \"semantic_type\": \"\",\n        \"description\": \"\"\n      }\n    },\n    {\n      \"column\": \"declaration_json\",\n      \"properties\": {\n        \"dtype\": \"string\",\n        \"num_unique_values\": 4,\n        \"samples\": [\n          \"{\\\"declaration\\\": {\\\"dateDepot\\\": \\\"03/09/2020 17:44:15\\\", \\\"uuid\\\": \\\"302aeac8-5b4d-4f89-87a1-5f9527cca5e0\\\", \\\"origine\\\": \\\"ADEL\\\", \\\"complete\\\": \\\"true\\\", \\\"attachedFiles\\\": {\\\"attachedFiles\\\": {\\\"fileName\\\": \\\"VUE_PDF_DU_RECEPISSE_DU_DEPOT_XML\\\", \\\"serverFileName\\\": null, \\\"base64EncodedContent\\\": \\\"\\\"}}, \\\"declarationVersion\\\": \\\"20171221\\\", \\\"activConsultantDto\\\": {\\\"items\\\": {\\\"items\\\": {\\\"motif\\\": {\\\"id\\\": \\\"CREATION\\\", \\\"label\\\": null}, \\\"commentaire\\\": \\\"Aucune actvit\\u00e9 de consultant\\\", \\\"nomEmployeur\\\": \\\"N\\u00e9ant\\\", \\\"description\\\": \\\"N\\u00e9ant\\\", \\\"dateDebut\\\": \\\"01/2014\\\", \\\"dateFin\\\": \\\"09/2020\\\", \\\"remuneration\\\": {\\\"brutNet\\\": \\\"Net\\\", \\\"montant\\\": {\\\"montant\\\": [{\\\"annee\\\": \\\"2014\\\", \\\"montant\\\": \\\"0\\\"}, {\\\"annee\\\": \\\"2015\\\", \\\"montant\\\": \\\"0\\\"}, {\\\"annee\\\": \\\"2016\\\", \\\"montant\\\": \\\"0\\\"}, {\\\"annee\\\": \\\"2017\\\", \\\"montant\\\": \\\"0\\\"}, {\\\"annee\\\": \\\"2018\\\", \\\"montant\\\": \\\"0\\\"}, {\\\"annee\\\": \\\"2019\\\", \\\"montant\\\": \\\"0\\\"}, {\\\"annee\\\": \\\"2020\\\", \\\"montant\\\": \\\"0\\\"}]}}}}, \\\"neant\\\": \\\"false\\\"}, \\\"activProfCinqDerniereDto\\\": {\\\"items\\\": {\\\"items\\\": {\\\"motif\\\": {\\\"id\\\": \\\"CREATION\\\", \\\"label\\\": null}, \\\"commentaire\\\": null, \\\"description\\\": \\\"Avocat\\\", \\\"employeur\\\": \\\"moi-m\\u00eame\\\", \\\"remuneration\\\": {\\\"brutNet\\\": \\\"Net\\\", \\\"montant\\\": {\\\"montant\\\": [{\\\"annee\\\": \\\"2014\\\", \\\"montant\\\": \\\"23375\\\"}, {\\\"annee\\\": \\\"2015\\\", \\\"montant\\\": \\\"2979\\\"}, {\\\"annee\\\": \\\"2016\\\", \\\"montant\\\": \\\"23705\\\"}, {\\\"annee\\\": \\\"2017\\\", \\\"montant\\\": \\\"21328\\\"}, {\\\"annee\\\": \\\"2018\\\", \\\"montant\\\": \\\"2128\\\"}, {\\\"annee\\\": \\\"2019\\\", \\\"montant\\\": \\\"0\\\"}, {\\\"annee\\\": \\\"2020\\\", \\\"montant\\\": \\\"0\\\"}]}}, \\\"dateDebut\\\": \\\"01/2014\\\", \\\"dateFin\\\": \\\"09/2020\\\"}}, \\\"neant\\\": \\\"false\\\"}, \\\"activProfConjointDto\\\": {\\\"items\\\": {\\\"items\\\": [{\\\"motif\\\": {\\\"id\\\": \\\"CREATION\\\", \\\"label\\\": null}, \\\"commentaire\\\": null, \\\"nomConjoint\\\": \\\"[Donn\\u00e9es non publi\\u00e9es]\\\", \\\"employeurConjoint\\\": \\\"CNFPT         [Donn\\u00e9es non publi\\u00e9es]\\\", \\\"activiteProf\\\": \\\"Formatrice\\\"}, {\\\"motif\\\": {\\\"id\\\": \\\"CREATION\\\", \\\"label\\\": null}, \\\"commentaire\\\": null, \\\"nomConjoint\\\": \\\"[Donn\\u00e9es non publi\\u00e9es]\\\", \\\"employeurConjoint\\\": \\\"Institut d'2tude Politiques         [Donn\\u00e9es non publi\\u00e9es]\\\", \\\"activiteProf\\\": \\\"Formatrice\\\"}]}, \\\"neant\\\": \\\"false\\\"}, \\\"fonctionBenevoleDto\\\": {\\\"neant\\\": \\\"true\\\"}, \\\"mandatElectifDto\\\": {\\\"items\\\": {\\\"items\\\": {\\\"motif\\\": {\\\"id\\\": \\\"CREATION\\\", \\\"label\\\": null}, \\\"commentaire\\\": null, \\\"descriptionMandat\\\": \\\"Conseiller Municipal de Bordeaux\\\", \\\"remuneration\\\": {\\\"brutNet\\\": \\\"Net\\\", \\\"montant\\\": {\\\"montant\\\": [{\\\"annee\\\": \\\"2014\\\", \\\"montant\\\": \\\"0\\\"}, {\\\"annee\\\": \\\"2015\\\", \\\"montant\\\": \\\"0\\\"}, {\\\"annee\\\": \\\"2016\\\", \\\"montant\\\": \\\"0\\\"}, {\\\"annee\\\": \\\"2017\\\", \\\"montant\\\": \\\"0\\\"}, {\\\"annee\\\": \\\"2018\\\", \\\"montant\\\": \\\"0\\\"}, {\\\"annee\\\": \\\"2019\\\", \\\"montant\\\": \\\"0\\\"}, {\\\"annee\\\": \\\"2020\\\", \\\"montant\\\": \\\"0\\\"}]}}, \\\"dateDebut\\\": \\\"04/2014\\\", \\\"dateFin\\\": \\\"07/2020\\\"}}, \\\"neant\\\": \\\"false\\\"}, \\\"participationDirigeantDto\\\": {\\\"items\\\": {\\\"items\\\": [{\\\"motif\\\": {\\\"id\\\": \\\"CREATION\\\", \\\"label\\\": null}, \\\"commentaire\\\": \\\"Membre de droit en tant que Maire de Borddeaux\\\", \\\"nomSociete\\\": \\\"Association des Maires de la Gironde\\\", \\\"activite\\\": \\\"Repr\\u00e9sentant la Ville de Bx\\\", \\\"remuneration\\\": {\\\"brutNet\\\": \\\"Net\\\", \\\"montant\\\": {\\\"montant\\\": {\\\"annee\\\": \\\"2020\\\", \\\"montant\\\": \\\"0\\\"}}}, \\\"dateDebut\\\": \\\"07/2020\\\", \\\"dateFin\\\": \\\"09/2020\\\"}, {\\\"motif\\\": {\\\"id\\\": \\\"CREATION\\\", \\\"label\\\": null}, \\\"commentaire\\\": null, \\\"nomSociete\\\": \\\"France Urbaine (AMGF et ACUF)\\\", \\\"activite\\\": \\\"Repr\\u00e9sentant la Ville de Bx\\\", \\\"remuneration\\\": {\\\"brutNet\\\": \\\"Net\\\", \\\"montant\\\": {\\\"montant\\\": {\\\"annee\\\": \\\"2020\\\", \\\"montant\\\": \\\"0\\\"}}}, \\\"dateDebut\\\": \\\"08/2020\\\", \\\"dateFin\\\": \\\"09/2020\\\"}, {\\\"motif\\\": {\\\"id\\\": \\\"CREATION\\\", \\\"label\\\": null}, \\\"commentaire\\\": null, \\\"nomSociete\\\": \\\"Fondation pour la Cilture et les civilisations du vin\\\", \\\"activite\\\": \\\"Repr\\u00e9sentant la Ville de Bx\\\", \\\"remuneration\\\": {\\\"brutNet\\\": \\\"Net\\\", \\\"montant\\\": {\\\"montant\\\": {\\\"annee\\\": \\\"2020\\\", \\\"montant\\\": \\\"0\\\"}}}, \\\"dateDebut\\\": \\\"07/2020\\\", \\\"dateFin\\\": \\\"09/2020\\\"}, {\\\"motif\\\": {\\\"id\\\": \\\"CREATION\\\", \\\"label\\\": null}, \\\"commentaire\\\": null, \\\"nomSociete\\\": \\\"Agence France Locale\\\", \\\"activite\\\": \\\"Repr\\u00e9sentant la Ville de Bx\\\", \\\"remuneration\\\": {\\\"brutNet\\\": \\\"Net\\\", \\\"montant\\\": {\\\"montant\\\": {\\\"annee\\\": \\\"2020\\\", \\\"montant\\\": \\\"0\\\"}}}, \\\"dateDebut\\\": \\\"07/2020\\\", \\\"dateFin\\\": \\\"09/2020\\\"}, {\\\"motif\\\": {\\\"id\\\": \\\"CREATION\\\", \\\"label\\\": null}, \\\"commentaire\\\": null, \\\"nomSociete\\\": \\\"Mission locale Association Bordeaux Avenir Jeunes\\\", \\\"activite\\\": \\\"Repr\\u00e9sentant la Ville de Bx\\\", \\\"remuneration\\\": {\\\"brutNet\\\": \\\"Net\\\", \\\"montant\\\": {\\\"montant\\\": {\\\"annee\\\": \\\"2020\\\", \\\"montant\\\": \\\"0\\\"}}}, \\\"dateDebut\\\": \\\"07/2020\\\", \\\"dateFin\\\": \\\"09/2020\\\"}, {\\\"motif\\\": {\\\"id\\\": \\\"CREATION\\\", \\\"label\\\": null}, \\\"commentaire\\\": null, \\\"nomSociete\\\": \\\"A\\u00e9roport de Bordeaux M\\u00e9rignac (Conseil de Surveillande et Commission consultative \\u00e9conomique)\\\", \\\"activite\\\": \\\"Repr\\u00e9sentant la Ville de Bx\\\", \\\"remuneration\\\": {\\\"brutNet\\\": \\\"Net\\\", \\\"montant\\\": {\\\"montant\\\": {\\\"annee\\\": \\\"2020\\\", \\\"montant\\\": \\\"0\\\"}}}, \\\"dateDebut\\\": \\\"07/2020\\\", \\\"dateFin\\\": \\\"09/2020\\\"}, {\\\"motif\\\": {\\\"id\\\": \\\"CREATION\\\", \\\"label\\\": null}, \\\"commentaire\\\": null, \\\"nomSociete\\\": \\\"Conseil Interprofessionnel du Vin de Bordeaux (CIVB)\\\", \\\"activite\\\": \\\"Repr\\u00e9sentant la Ville de Bx\\\", \\\"remuneration\\\": {\\\"brutNet\\\": \\\"Net\\\", \\\"montant\\\": {\\\"montant\\\": {\\\"annee\\\": \\\"2020\\\", \\\"montant\\\": \\\"0\\\"}}}, \\\"dateDebut\\\": \\\"07/2020\\\", \\\"dateFin\\\": \\\"09/2020\\\"}, {\\\"motif\\\": {\\\"id\\\": \\\"CREATION\\\", \\\"label\\\": null}, \\\"commentaire\\\": null, \\\"nomSociete\\\": \\\"Conseil de Surveillance du CHU de Bordeaux\\\", \\\"activite\\\": \\\"Repr\\u00e9sentant la Ville de Bx\\\", \\\"remuneration\\\": {\\\"brutNet\\\": \\\"Net\\\", \\\"montant\\\": {\\\"montant\\\": {\\\"annee\\\": \\\"2020\\\", \\\"montant\\\": \\\"0\\\"}}}, \\\"dateDebut\\\": \\\"07/2020\\\", \\\"dateFin\\\": \\\"09/2020\\\"}, {\\\"motif\\\": {\\\"id\\\": \\\"CREATION\\\", \\\"label\\\": null}, \\\"commentaire\\\": null, \\\"nomSociete\\\": \\\"Commission Consultative des Services Publics Locaux (CCSPL)\\\", \\\"activite\\\": \\\"Repr\\u00e9sentant la Ville de Bx\\\", \\\"remuneration\\\": {\\\"brutNet\\\": \\\"Net\\\", \\\"montant\\\": {\\\"montant\\\": {\\\"annee\\\": \\\"2020\\\", \\\"montant\\\": \\\"0\\\"}}}, \\\"dateDebut\\\": \\\"07/2020\\\", \\\"dateFin\\\": \\\"09/2020\\\"}, {\\\"motif\\\": {\\\"id\\\": \\\"CREATION\\\", \\\"label\\\": null}, \\\"commentaire\\\": null, \\\"nomSociete\\\": \\\"CCAS\\\", \\\"activite\\\": \\\"Repr\\u00e9sentant la Ville de Bx\\\", \\\"remuneration\\\": {\\\"brutNet\\\": \\\"Net\\\", \\\"montant\\\": {\\\"montant\\\": {\\\"annee\\\": \\\"2020\\\", \\\"montant\\\": \\\"0\\\"}}}, \\\"dateDebut\\\": \\\"07/2020\\\", \\\"dateFin\\\": \\\"09/2020\\\"}]}, \\\"neant\\\": \\\"false\\\"}, \\\"participationFinanciereDto\\\": {\\\"neant\\\": \\\"true\\\"}, \\\"activCollaborateursDto\\\": {\\\"neant\\\": \\\"false\\\"}, \\\"observationInteretDto\\\": {\\\"neant\\\": \\\"true\\\"}, \\\"general\\\": {\\\"typeDeclaration\\\": {\\\"id\\\": \\\"DI\\\", \\\"label\\\": \\\"D\\u00e9claration d'int\\u00e9r\\u00eats\\\"}, \\\"mandat\\\": {\\\"label\\\": \\\"Elu local ou membre d\\u2019un \\u00e9tablissement public de coop\\u00e9ration intercommunale\\\"}, \\\"qualiteMandat\\\": {\\\"typeMandat\\\": \\\"Maire ou adjoint municipal\\\", \\\"codCategorieMandat\\\": \\\"LOC\\\", \\\"nomCategorieMandat\\\": \\\"Elu local ou membre d\\u2019EPCI\\\", \\\"codTypeMandatFichier\\\": \\\"commune\\\", \\\"labelTypeMandat\\\": \\\"Maire ou adjoint municipal\\\", \\\"labelOrgane\\\": \\\"Commune\\\", \\\"codeListeOrgane\\\": \\\"COMM\\\"}, \\\"organe\\\": {\\\"codeOrgane\\\": \\\"33063\\\", \\\"codeListeOrgane\\\": \\\"COMM\\\", \\\"nomListeOrgane\\\": \\\"Communes +20KH\\\", \\\"labelOrgane\\\": \\\"Bordeaux (33)\\\", \\\"labelDeclaration\\\": null}, \\\"qualiteDeclarant\\\": \\\"Maire\\\", \\\"qualiteDeclarantForPDF\\\": \\\"Maire ou adjoint municipal/Bordeaux (33)/Maire\\\", \\\"dateDebutMandat\\\": \\\"03/07/2020\\\", \\\"dateFinMandat\\\": null, \\\"dateDernDeclar\\\": null, \\\"regimeMatrimonial\\\": null, \\\"regimeMatrimonialComments\\\": null, \\\"nomSociete\\\": null, \\\"nomSocieteMere\\\": null, \\\"chiffreAffaire\\\": null, \\\"nbLogements\\\": null, \\\"declarant\\\": {\\\"civilite\\\": \\\"M.\\\", \\\"nom\\\": \\\"HURMIC\\\", \\\"prenom\\\": \\\"Pierre\\\", \\\"email\\\": \\\"[Donn\\u00e9es non publi\\u00e9es]\\\", \\\"dateNaissance\\\": \\\"10/04/1955\\\", \\\"pieceIdentite\\\": null, \\\"telephoneDec\\\": \\\"[Donn\\u00e9es non publi\\u00e9es]\\\", \\\"adresseDec\\\": {\\\"voie\\\": \\\"[Donn\\u00e9es non publi\\u00e9es]\\\", \\\"complement\\\": \\\"[Donn\\u00e9es non publi\\u00e9es]\\\", \\\"codePostal\\\": \\\"[Donn\\u00e9es non publi\\u00e9es]\\\", \\\"ville\\\": \\\"[Donn\\u00e9es non publi\\u00e9es]\\\", \\\"pays\\\": \\\"[Donn\\u00e9es non publi\\u00e9es]\\\"}}}}}\"\n        ],\n        \"semantic_type\": \"\",\n        \"description\": \"\"\n      }\n    },\n    {\n      \"column\": \"text_index\",\n      \"properties\": {\n        \"dtype\": \"category\",\n        \"num_unique_values\": 1,\n        \"samples\": [\n          \"pierre hurmic -  maire de bordeaux\"\n        ],\n        \"semantic_type\": \"\",\n        \"description\": \"\"\n      }\n    },\n    {\n      \"column\": \"text_index_embedding\",\n      \"properties\": {\n        \"dtype\": \"object\",\n        \"semantic_type\": \"\",\n        \"description\": \"\"\n      }\n    }\n  ]\n}"
            }
          },
          "metadata": {},
          "execution_count": 58
        }
      ]
    },
    {
      "cell_type": "code",
      "source": [
        "embed_df[embed_df['text_index'].str.contains('BOUTLEUX'.lower())]"
      ],
      "metadata": {
        "colab": {
          "base_uri": "https://localhost:8080/",
          "height": 143
        },
        "id": "yso7PQ1XLs81",
        "outputId": "5fbc5bd6-3f4c-4c5a-f6ea-e221e9a452a3"
      },
      "execution_count": null,
      "outputs": [
        {
          "output_type": "execute_result",
          "data": {
            "text/plain": [
              "                                      xml_sha1  \\\n",
              "1596  0a0a9f2a6772942557ab5355d76af442f8f65e01   \n",
              "1597  0a0a9f2a6772942557ab5355d76af442f8f65e01   \n",
              "1598  0a0a9f2a6772942557ab5355d76af442f8f65e01   \n",
              "\n",
              "                                        declaration_xml  \\\n",
              "1596  <declaration><dateDepot>26/07/2020 18:03:16</d...   \n",
              "1597  <declaration><dateDepot>02/08/2021 10:43:06</d...   \n",
              "1598  <declaration><dateDepot>05/07/2021 13:25:38</d...   \n",
              "\n",
              "                                       declaration_json  \\\n",
              "1596  {\"declaration\": {\"dateDepot\": \"26/07/2020 18:0...   \n",
              "1597  {\"declaration\": {\"dateDepot\": \"02/08/2021 10:4...   \n",
              "1598  {\"declaration\": {\"dateDepot\": \"05/07/2021 13:2...   \n",
              "\n",
              "                                             text_index  \\\n",
              "1596   dimitri boutleux -  adjoint au maire de bordeaux   \n",
              "1597   dimitri boutleux -  adjoint au maire de bordeaux   \n",
              "1598  guy boutleux -  vice-président de la communaut...   \n",
              "\n",
              "                                   text_index_embedding  \n",
              "1596  [-0.017299488186836243, -0.014234055764973164,...  \n",
              "1597  [-0.017299488186836243, -0.014234055764973164,...  \n",
              "1598  [-0.011403901502490044, -0.025366488844156265,...  "
            ],
            "text/html": [
              "\n",
              "  <div id=\"df-d700ad32-531c-4054-b112-323678d4d33a\" class=\"colab-df-container\">\n",
              "    <div>\n",
              "<style scoped>\n",
              "    .dataframe tbody tr th:only-of-type {\n",
              "        vertical-align: middle;\n",
              "    }\n",
              "\n",
              "    .dataframe tbody tr th {\n",
              "        vertical-align: top;\n",
              "    }\n",
              "\n",
              "    .dataframe thead th {\n",
              "        text-align: right;\n",
              "    }\n",
              "</style>\n",
              "<table border=\"1\" class=\"dataframe\">\n",
              "  <thead>\n",
              "    <tr style=\"text-align: right;\">\n",
              "      <th></th>\n",
              "      <th>xml_sha1</th>\n",
              "      <th>declaration_xml</th>\n",
              "      <th>declaration_json</th>\n",
              "      <th>text_index</th>\n",
              "      <th>text_index_embedding</th>\n",
              "    </tr>\n",
              "  </thead>\n",
              "  <tbody>\n",
              "    <tr>\n",
              "      <th>1596</th>\n",
              "      <td>0a0a9f2a6772942557ab5355d76af442f8f65e01</td>\n",
              "      <td>&lt;declaration&gt;&lt;dateDepot&gt;26/07/2020 18:03:16&lt;/d...</td>\n",
              "      <td>{\"declaration\": {\"dateDepot\": \"26/07/2020 18:0...</td>\n",
              "      <td>dimitri boutleux -  adjoint au maire de bordeaux</td>\n",
              "      <td>[-0.017299488186836243, -0.014234055764973164,...</td>\n",
              "    </tr>\n",
              "    <tr>\n",
              "      <th>1597</th>\n",
              "      <td>0a0a9f2a6772942557ab5355d76af442f8f65e01</td>\n",
              "      <td>&lt;declaration&gt;&lt;dateDepot&gt;02/08/2021 10:43:06&lt;/d...</td>\n",
              "      <td>{\"declaration\": {\"dateDepot\": \"02/08/2021 10:4...</td>\n",
              "      <td>dimitri boutleux -  adjoint au maire de bordeaux</td>\n",
              "      <td>[-0.017299488186836243, -0.014234055764973164,...</td>\n",
              "    </tr>\n",
              "    <tr>\n",
              "      <th>1598</th>\n",
              "      <td>0a0a9f2a6772942557ab5355d76af442f8f65e01</td>\n",
              "      <td>&lt;declaration&gt;&lt;dateDepot&gt;05/07/2021 13:25:38&lt;/d...</td>\n",
              "      <td>{\"declaration\": {\"dateDepot\": \"05/07/2021 13:2...</td>\n",
              "      <td>guy boutleux -  vice-président de la communaut...</td>\n",
              "      <td>[-0.011403901502490044, -0.025366488844156265,...</td>\n",
              "    </tr>\n",
              "  </tbody>\n",
              "</table>\n",
              "</div>\n",
              "    <div class=\"colab-df-buttons\">\n",
              "\n",
              "  <div class=\"colab-df-container\">\n",
              "    <button class=\"colab-df-convert\" onclick=\"convertToInteractive('df-d700ad32-531c-4054-b112-323678d4d33a')\"\n",
              "            title=\"Convert this dataframe to an interactive table.\"\n",
              "            style=\"display:none;\">\n",
              "\n",
              "  <svg xmlns=\"http://www.w3.org/2000/svg\" height=\"24px\" viewBox=\"0 -960 960 960\">\n",
              "    <path d=\"M120-120v-720h720v720H120Zm60-500h600v-160H180v160Zm220 220h160v-160H400v160Zm0 220h160v-160H400v160ZM180-400h160v-160H180v160Zm440 0h160v-160H620v160ZM180-180h160v-160H180v160Zm440 0h160v-160H620v160Z\"/>\n",
              "  </svg>\n",
              "    </button>\n",
              "\n",
              "  <style>\n",
              "    .colab-df-container {\n",
              "      display:flex;\n",
              "      gap: 12px;\n",
              "    }\n",
              "\n",
              "    .colab-df-convert {\n",
              "      background-color: #E8F0FE;\n",
              "      border: none;\n",
              "      border-radius: 50%;\n",
              "      cursor: pointer;\n",
              "      display: none;\n",
              "      fill: #1967D2;\n",
              "      height: 32px;\n",
              "      padding: 0 0 0 0;\n",
              "      width: 32px;\n",
              "    }\n",
              "\n",
              "    .colab-df-convert:hover {\n",
              "      background-color: #E2EBFA;\n",
              "      box-shadow: 0px 1px 2px rgba(60, 64, 67, 0.3), 0px 1px 3px 1px rgba(60, 64, 67, 0.15);\n",
              "      fill: #174EA6;\n",
              "    }\n",
              "\n",
              "    .colab-df-buttons div {\n",
              "      margin-bottom: 4px;\n",
              "    }\n",
              "\n",
              "    [theme=dark] .colab-df-convert {\n",
              "      background-color: #3B4455;\n",
              "      fill: #D2E3FC;\n",
              "    }\n",
              "\n",
              "    [theme=dark] .colab-df-convert:hover {\n",
              "      background-color: #434B5C;\n",
              "      box-shadow: 0px 1px 3px 1px rgba(0, 0, 0, 0.15);\n",
              "      filter: drop-shadow(0px 1px 2px rgba(0, 0, 0, 0.3));\n",
              "      fill: #FFFFFF;\n",
              "    }\n",
              "  </style>\n",
              "\n",
              "    <script>\n",
              "      const buttonEl =\n",
              "        document.querySelector('#df-d700ad32-531c-4054-b112-323678d4d33a button.colab-df-convert');\n",
              "      buttonEl.style.display =\n",
              "        google.colab.kernel.accessAllowed ? 'block' : 'none';\n",
              "\n",
              "      async function convertToInteractive(key) {\n",
              "        const element = document.querySelector('#df-d700ad32-531c-4054-b112-323678d4d33a');\n",
              "        const dataTable =\n",
              "          await google.colab.kernel.invokeFunction('convertToInteractive',\n",
              "                                                    [key], {});\n",
              "        if (!dataTable) return;\n",
              "\n",
              "        const docLinkHtml = 'Like what you see? Visit the ' +\n",
              "          '<a target=\"_blank\" href=https://colab.research.google.com/notebooks/data_table.ipynb>data table notebook</a>'\n",
              "          + ' to learn more about interactive tables.';\n",
              "        element.innerHTML = '';\n",
              "        dataTable['output_type'] = 'display_data';\n",
              "        await google.colab.output.renderOutput(dataTable, element);\n",
              "        const docLink = document.createElement('div');\n",
              "        docLink.innerHTML = docLinkHtml;\n",
              "        element.appendChild(docLink);\n",
              "      }\n",
              "    </script>\n",
              "  </div>\n",
              "\n",
              "\n",
              "<div id=\"df-642059b5-adb4-4065-bf55-1ed833049fd7\">\n",
              "  <button class=\"colab-df-quickchart\" onclick=\"quickchart('df-642059b5-adb4-4065-bf55-1ed833049fd7')\"\n",
              "            title=\"Suggest charts\"\n",
              "            style=\"display:none;\">\n",
              "\n",
              "<svg xmlns=\"http://www.w3.org/2000/svg\" height=\"24px\"viewBox=\"0 0 24 24\"\n",
              "     width=\"24px\">\n",
              "    <g>\n",
              "        <path d=\"M19 3H5c-1.1 0-2 .9-2 2v14c0 1.1.9 2 2 2h14c1.1 0 2-.9 2-2V5c0-1.1-.9-2-2-2zM9 17H7v-7h2v7zm4 0h-2V7h2v10zm4 0h-2v-4h2v4z\"/>\n",
              "    </g>\n",
              "</svg>\n",
              "  </button>\n",
              "\n",
              "<style>\n",
              "  .colab-df-quickchart {\n",
              "      --bg-color: #E8F0FE;\n",
              "      --fill-color: #1967D2;\n",
              "      --hover-bg-color: #E2EBFA;\n",
              "      --hover-fill-color: #174EA6;\n",
              "      --disabled-fill-color: #AAA;\n",
              "      --disabled-bg-color: #DDD;\n",
              "  }\n",
              "\n",
              "  [theme=dark] .colab-df-quickchart {\n",
              "      --bg-color: #3B4455;\n",
              "      --fill-color: #D2E3FC;\n",
              "      --hover-bg-color: #434B5C;\n",
              "      --hover-fill-color: #FFFFFF;\n",
              "      --disabled-bg-color: #3B4455;\n",
              "      --disabled-fill-color: #666;\n",
              "  }\n",
              "\n",
              "  .colab-df-quickchart {\n",
              "    background-color: var(--bg-color);\n",
              "    border: none;\n",
              "    border-radius: 50%;\n",
              "    cursor: pointer;\n",
              "    display: none;\n",
              "    fill: var(--fill-color);\n",
              "    height: 32px;\n",
              "    padding: 0;\n",
              "    width: 32px;\n",
              "  }\n",
              "\n",
              "  .colab-df-quickchart:hover {\n",
              "    background-color: var(--hover-bg-color);\n",
              "    box-shadow: 0 1px 2px rgba(60, 64, 67, 0.3), 0 1px 3px 1px rgba(60, 64, 67, 0.15);\n",
              "    fill: var(--button-hover-fill-color);\n",
              "  }\n",
              "\n",
              "  .colab-df-quickchart-complete:disabled,\n",
              "  .colab-df-quickchart-complete:disabled:hover {\n",
              "    background-color: var(--disabled-bg-color);\n",
              "    fill: var(--disabled-fill-color);\n",
              "    box-shadow: none;\n",
              "  }\n",
              "\n",
              "  .colab-df-spinner {\n",
              "    border: 2px solid var(--fill-color);\n",
              "    border-color: transparent;\n",
              "    border-bottom-color: var(--fill-color);\n",
              "    animation:\n",
              "      spin 1s steps(1) infinite;\n",
              "  }\n",
              "\n",
              "  @keyframes spin {\n",
              "    0% {\n",
              "      border-color: transparent;\n",
              "      border-bottom-color: var(--fill-color);\n",
              "      border-left-color: var(--fill-color);\n",
              "    }\n",
              "    20% {\n",
              "      border-color: transparent;\n",
              "      border-left-color: var(--fill-color);\n",
              "      border-top-color: var(--fill-color);\n",
              "    }\n",
              "    30% {\n",
              "      border-color: transparent;\n",
              "      border-left-color: var(--fill-color);\n",
              "      border-top-color: var(--fill-color);\n",
              "      border-right-color: var(--fill-color);\n",
              "    }\n",
              "    40% {\n",
              "      border-color: transparent;\n",
              "      border-right-color: var(--fill-color);\n",
              "      border-top-color: var(--fill-color);\n",
              "    }\n",
              "    60% {\n",
              "      border-color: transparent;\n",
              "      border-right-color: var(--fill-color);\n",
              "    }\n",
              "    80% {\n",
              "      border-color: transparent;\n",
              "      border-right-color: var(--fill-color);\n",
              "      border-bottom-color: var(--fill-color);\n",
              "    }\n",
              "    90% {\n",
              "      border-color: transparent;\n",
              "      border-bottom-color: var(--fill-color);\n",
              "    }\n",
              "  }\n",
              "</style>\n",
              "\n",
              "  <script>\n",
              "    async function quickchart(key) {\n",
              "      const quickchartButtonEl =\n",
              "        document.querySelector('#' + key + ' button');\n",
              "      quickchartButtonEl.disabled = true;  // To prevent multiple clicks.\n",
              "      quickchartButtonEl.classList.add('colab-df-spinner');\n",
              "      try {\n",
              "        const charts = await google.colab.kernel.invokeFunction(\n",
              "            'suggestCharts', [key], {});\n",
              "      } catch (error) {\n",
              "        console.error('Error during call to suggestCharts:', error);\n",
              "      }\n",
              "      quickchartButtonEl.classList.remove('colab-df-spinner');\n",
              "      quickchartButtonEl.classList.add('colab-df-quickchart-complete');\n",
              "    }\n",
              "    (() => {\n",
              "      let quickchartButtonEl =\n",
              "        document.querySelector('#df-642059b5-adb4-4065-bf55-1ed833049fd7 button');\n",
              "      quickchartButtonEl.style.display =\n",
              "        google.colab.kernel.accessAllowed ? 'block' : 'none';\n",
              "    })();\n",
              "  </script>\n",
              "</div>\n",
              "    </div>\n",
              "  </div>\n"
            ],
            "application/vnd.google.colaboratory.intrinsic+json": {
              "type": "dataframe",
              "summary": "{\n  \"name\": \"embed_df[embed_df['text_index']\",\n  \"rows\": 3,\n  \"fields\": [\n    {\n      \"column\": \"xml_sha1\",\n      \"properties\": {\n        \"dtype\": \"category\",\n        \"num_unique_values\": 1,\n        \"samples\": [\n          \"0a0a9f2a6772942557ab5355d76af442f8f65e01\"\n        ],\n        \"semantic_type\": \"\",\n        \"description\": \"\"\n      }\n    },\n    {\n      \"column\": \"declaration_xml\",\n      \"properties\": {\n        \"dtype\": \"string\",\n        \"num_unique_values\": 3,\n        \"samples\": [\n          \"<declaration><dateDepot>26/07/2020 18:03:16</dateDepot><uuid>1dcd2463-a03a-4753-bd51-379da9748185</uuid><origine>ADEL</origine><complete>true</complete><attachedFiles><attachedFiles><fileName>VUE_PDF_DU_RECEPISSE_DU_DEPOT_XML</fileName><serverFileName /><base64EncodedContent /></attachedFiles></attachedFiles><declarationVersion>20171221</declarationVersion><activConsultantDto><items /><neant>true</neant></activConsultantDto><activProfCinqDerniereDto><items><items><motif><id>CREATION</id><label /></motif><commentaire>Ces montants sont en BRUT. En octobre 2017, j'ai pris mes fonctions \\u00e0 l'AURBA</commentaire><description>Charg\\u00e9 d'\\u00e9tudes</description><employeur>AUDIAR</employeur><remuneration><brutNet>Brut</brutNet><montant><montant><annee>2014</annee><montant>36863</montant></montant><montant><annee>2015</annee><montant>37449</montant></montant><montant><annee>2016</annee><montant>38176</montant></montant><montant><annee>2017</annee><montant>28592</montant></montant></montant></remuneration><dateDebut>01/2014</dateDebut><dateFin>09/2017</dateFin></items><items><motif><id>CREATION</id><label /></motif><commentaire /><description>Charg\\u00e9 d'\\u00e9tudes</description><employeur>AURBA</employeur><remuneration><brutNet>Net</brutNet><montant><montant><annee>2017</annee><montant>7210</montant></montant><montant><annee>2018</annee><montant>31416</montant></montant><montant><annee>2019</annee><montant>31934</montant></montant><montant><annee>2020</annee><montant>16331</montant></montant></montant></remuneration><dateDebut>10/2017</dateDebut><dateFin>07/2020</dateFin></items></items><neant>false</neant></activProfCinqDerniereDto><activProfConjointDto><items /><neant>true</neant></activProfConjointDto><fonctionBenevoleDto><items /><neant>true</neant></fonctionBenevoleDto><mandatElectifDto><items /><neant>true</neant></mandatElectifDto><participationDirigeantDto><items /><neant>true</neant></participationDirigeantDto><participationFinanciereDto><items /><neant>true</neant></participationFinanciereDto><activCollaborateursDto><items /><neant>false</neant></activCollaborateursDto><observationInteretDto><items /><neant>true</neant></observationInteretDto><general><typeDeclaration><id>DI</id><label>D\\u00e9claration d'int\\u00e9r\\u00eats</label></typeDeclaration><mandat><label>Elu local ou membre d\\u2019un \\u00e9tablissement public de coop\\u00e9ration intercommunale</label></mandat><qualiteMandat><typeMandat>Maire ou adjoint municipal</typeMandat><codCategorieMandat>LOC</codCategorieMandat><nomCategorieMandat>Elu local ou membre d\\u2019EPCI</nomCategorieMandat><codTypeMandatFichier>commune</codTypeMandatFichier><labelTypeMandat>Maire ou adjoint municipal</labelTypeMandat><labelOrgane>Commune</labelOrgane><codeListeOrgane>COMM</codeListeOrgane></qualiteMandat><organe><codeOrgane>33063</codeOrgane><codeListeOrgane>COMM</codeListeOrgane><nomListeOrgane>Communes +20KH</nomListeOrgane><labelOrgane>Bordeaux (33)</labelOrgane><labelDeclaration /></organe><qualiteDeclarant>adjoint en charge de la cr\\u00e9ation et des expressions culturelles</qualiteDeclarant><qualiteDeclarantForPDF>Maire ou adjoint municipal/Bordeaux (33)/adjoint en charge de la cr\\u00e9ation et des expressions culturelles</qualiteDeclarantForPDF><dateDebutMandat>10/07/2020</dateDebutMandat><dateFinMandat /><dateDernDeclar /><regimeMatrimonial /><regimeMatrimonialComments /><nomSociete /><nomSocieteMere /><chiffreAffaire /><nbLogements /><declarant><civilite>M.</civilite><nom>BOUTLEUX</nom><prenom>Dimitri</prenom><email>            [Donn\\u00e9es non publi\\u00e9es]        </email><dateNaissance>15/01/1981</dateNaissance><pieceIdentite /><telephoneDec>            [Donn\\u00e9es non publi\\u00e9es]        </telephoneDec><adresseDec><voie>            [Donn\\u00e9es non publi\\u00e9es]        </voie><complement>            [Donn\\u00e9es non publi\\u00e9es]        </complement><codePostal>            [Donn\\u00e9es non publi\\u00e9es]        </codePostal><ville>            [Donn\\u00e9es non publi\\u00e9es]        </ville><pays>            [Donn\\u00e9es non publi\\u00e9es]        </pays></adresseDec></declarant></general></declaration>\"\n        ],\n        \"semantic_type\": \"\",\n        \"description\": \"\"\n      }\n    },\n    {\n      \"column\": \"declaration_json\",\n      \"properties\": {\n        \"dtype\": \"string\",\n        \"num_unique_values\": 3,\n        \"samples\": [\n          \"{\\\"declaration\\\": {\\\"dateDepot\\\": \\\"26/07/2020 18:03:16\\\", \\\"uuid\\\": \\\"1dcd2463-a03a-4753-bd51-379da9748185\\\", \\\"origine\\\": \\\"ADEL\\\", \\\"complete\\\": \\\"true\\\", \\\"attachedFiles\\\": {\\\"attachedFiles\\\": {\\\"fileName\\\": \\\"VUE_PDF_DU_RECEPISSE_DU_DEPOT_XML\\\", \\\"serverFileName\\\": null, \\\"base64EncodedContent\\\": \\\"\\\"}}, \\\"declarationVersion\\\": \\\"20171221\\\", \\\"activConsultantDto\\\": {\\\"items\\\": null, \\\"neant\\\": \\\"true\\\"}, \\\"activProfCinqDerniereDto\\\": {\\\"items\\\": {\\\"items\\\": [{\\\"motif\\\": {\\\"id\\\": \\\"CREATION\\\", \\\"label\\\": null}, \\\"commentaire\\\": \\\"Ces montants sont en BRUT. En octobre 2017, j'ai pris mes fonctions \\u00e0 l'AURBA\\\", \\\"description\\\": \\\"Charg\\u00e9 d'\\u00e9tudes\\\", \\\"employeur\\\": \\\"AUDIAR\\\", \\\"remuneration\\\": {\\\"brutNet\\\": \\\"Brut\\\", \\\"montant\\\": {\\\"montant\\\": [{\\\"annee\\\": \\\"2014\\\", \\\"montant\\\": \\\"36863\\\"}, {\\\"annee\\\": \\\"2015\\\", \\\"montant\\\": \\\"37449\\\"}, {\\\"annee\\\": \\\"2016\\\", \\\"montant\\\": \\\"38176\\\"}, {\\\"annee\\\": \\\"2017\\\", \\\"montant\\\": \\\"28592\\\"}]}}, \\\"dateDebut\\\": \\\"01/2014\\\", \\\"dateFin\\\": \\\"09/2017\\\"}, {\\\"motif\\\": {\\\"id\\\": \\\"CREATION\\\", \\\"label\\\": null}, \\\"commentaire\\\": null, \\\"description\\\": \\\"Charg\\u00e9 d'\\u00e9tudes\\\", \\\"employeur\\\": \\\"AURBA\\\", \\\"remuneration\\\": {\\\"brutNet\\\": \\\"Net\\\", \\\"montant\\\": {\\\"montant\\\": [{\\\"annee\\\": \\\"2017\\\", \\\"montant\\\": \\\"7210\\\"}, {\\\"annee\\\": \\\"2018\\\", \\\"montant\\\": \\\"31416\\\"}, {\\\"annee\\\": \\\"2019\\\", \\\"montant\\\": \\\"31934\\\"}, {\\\"annee\\\": \\\"2020\\\", \\\"montant\\\": \\\"16331\\\"}]}}, \\\"dateDebut\\\": \\\"10/2017\\\", \\\"dateFin\\\": \\\"07/2020\\\"}]}, \\\"neant\\\": \\\"false\\\"}, \\\"activProfConjointDto\\\": {\\\"items\\\": null, \\\"neant\\\": \\\"true\\\"}, \\\"fonctionBenevoleDto\\\": {\\\"items\\\": null, \\\"neant\\\": \\\"true\\\"}, \\\"mandatElectifDto\\\": {\\\"items\\\": null, \\\"neant\\\": \\\"true\\\"}, \\\"participationDirigeantDto\\\": {\\\"items\\\": null, \\\"neant\\\": \\\"true\\\"}, \\\"participationFinanciereDto\\\": {\\\"items\\\": null, \\\"neant\\\": \\\"true\\\"}, \\\"activCollaborateursDto\\\": {\\\"items\\\": null, \\\"neant\\\": \\\"false\\\"}, \\\"observationInteretDto\\\": {\\\"items\\\": null, \\\"neant\\\": \\\"true\\\"}, \\\"general\\\": {\\\"typeDeclaration\\\": {\\\"id\\\": \\\"DI\\\", \\\"label\\\": \\\"D\\u00e9claration d'int\\u00e9r\\u00eats\\\"}, \\\"mandat\\\": {\\\"label\\\": \\\"Elu local ou membre d\\u2019un \\u00e9tablissement public de coop\\u00e9ration intercommunale\\\"}, \\\"qualiteMandat\\\": {\\\"typeMandat\\\": \\\"Maire ou adjoint municipal\\\", \\\"codCategorieMandat\\\": \\\"LOC\\\", \\\"nomCategorieMandat\\\": \\\"Elu local ou membre d\\u2019EPCI\\\", \\\"codTypeMandatFichier\\\": \\\"commune\\\", \\\"labelTypeMandat\\\": \\\"Maire ou adjoint municipal\\\", \\\"labelOrgane\\\": \\\"Commune\\\", \\\"codeListeOrgane\\\": \\\"COMM\\\"}, \\\"organe\\\": {\\\"codeOrgane\\\": \\\"33063\\\", \\\"codeListeOrgane\\\": \\\"COMM\\\", \\\"nomListeOrgane\\\": \\\"Communes +20KH\\\", \\\"labelOrgane\\\": \\\"Bordeaux (33)\\\", \\\"labelDeclaration\\\": null}, \\\"qualiteDeclarant\\\": \\\"adjoint en charge de la cr\\u00e9ation et des expressions culturelles\\\", \\\"qualiteDeclarantForPDF\\\": \\\"Maire ou adjoint municipal/Bordeaux (33)/adjoint en charge de la cr\\u00e9ation et des expressions culturelles\\\", \\\"dateDebutMandat\\\": \\\"10/07/2020\\\", \\\"dateFinMandat\\\": null, \\\"dateDernDeclar\\\": null, \\\"regimeMatrimonial\\\": null, \\\"regimeMatrimonialComments\\\": null, \\\"nomSociete\\\": null, \\\"nomSocieteMere\\\": null, \\\"chiffreAffaire\\\": null, \\\"nbLogements\\\": null, \\\"declarant\\\": {\\\"civilite\\\": \\\"M.\\\", \\\"nom\\\": \\\"BOUTLEUX\\\", \\\"prenom\\\": \\\"Dimitri\\\", \\\"email\\\": \\\"[Donn\\u00e9es non publi\\u00e9es]\\\", \\\"dateNaissance\\\": \\\"15/01/1981\\\", \\\"pieceIdentite\\\": null, \\\"telephoneDec\\\": \\\"[Donn\\u00e9es non publi\\u00e9es]\\\", \\\"adresseDec\\\": {\\\"voie\\\": \\\"[Donn\\u00e9es non publi\\u00e9es]\\\", \\\"complement\\\": \\\"[Donn\\u00e9es non publi\\u00e9es]\\\", \\\"codePostal\\\": \\\"[Donn\\u00e9es non publi\\u00e9es]\\\", \\\"ville\\\": \\\"[Donn\\u00e9es non publi\\u00e9es]\\\", \\\"pays\\\": \\\"[Donn\\u00e9es non publi\\u00e9es]\\\"}}}}}\"\n        ],\n        \"semantic_type\": \"\",\n        \"description\": \"\"\n      }\n    },\n    {\n      \"column\": \"text_index\",\n      \"properties\": {\n        \"dtype\": \"string\",\n        \"num_unique_values\": 2,\n        \"samples\": [\n          \"guy boutleux -  vice-pr\\u00e9sident de la communaut\\u00e9 d'agglom\\u00e9ration du boulonnais\"\n        ],\n        \"semantic_type\": \"\",\n        \"description\": \"\"\n      }\n    },\n    {\n      \"column\": \"text_index_embedding\",\n      \"properties\": {\n        \"dtype\": \"object\",\n        \"semantic_type\": \"\",\n        \"description\": \"\"\n      }\n    }\n  ]\n}"
            }
          },
          "metadata": {},
          "execution_count": 59
        }
      ]
    },
    {
      "cell_type": "markdown",
      "source": [
        "# CONCLUSION OF THE MARKDOWN TEST:\n",
        "\n",
        "\n",
        "- the openai embedding system is very slow (1H for 10k embeddings) but at least it works, unlike the open source lighter ones (in french that is).  \n",
        "\n",
        "- we cannot get interesting information because the retrieval query is very different from the actual query. Eg. What is XXX salary in 2019? The retrieval query will be \"get me XXX data\" while the generative query is the input one.  \n",
        "\n",
        "- we are missing information from the markdown files: after 3 days of intensive attempts to make an SQL, then simple Markdown file, from the input XML files, we still cannot ensure that some entire sections are not missing due to the fickle nature of the context\n",
        "\n",
        "\n",
        "## What to do next:  \n",
        "\n",
        "- find a way to get embeddings faster and cheaper: we need to run the system in a dedicated notebook with enough VRAM, using a quantized version I suppose (given that we do not have enough VRAM, either locally or online)  \n",
        "- Make a new dataset from the XML base declarations that simply converts XML to JSON => this will make the context lighter while not need to have massive OO classes that are not able to parse the thing, even after writing more than 250 if statements on \"None\".  \n",
        "- find a way to execute online : this system will still need a local FAISS index and/or a local embedding for the dataset creation, as well as an acess to an LLM for retrieval => can we get free (or near free) online stuff to perform these operations? (Groq is already a good thing).  "
      ],
      "metadata": {
        "id": "NLdlzHP8PrSZ"
      }
    },
    {
      "cell_type": "markdown",
      "source": [
        "# CONCLUSION OF THE JSON TEST\n",
        "\n",
        "We have complete categories as we cannot possibly fail (we are using XMLTODICT lib to convert XML to JSON).  \n",
        "However, this doesn't seem to prevent problems:  \n",
        "- we cannot match a given person declaration! Even when setting up the query perfectly, we are in 5th position, with 4 irrelevant matches before. Even after analyzing all semantically related text, we cannot explain this weird occurance...\n",
        "- this use of JSON instead of XML decreases char count by an average of 25%; which is nice but not enough to use several declarations in a single context request (only Mixtral was able to process it).  \n",
        "\n",
        "````\n",
        "RateLimitError: Error code: 429 - {'error': {'message': 'Rate limit reached for model `llama3-70b-8192` in organization `org_01hw5634epebfvhswdt88pdsm3` on tokens per minute (TPM): Limit 7000, Used 0, Requested ~7485. Please try again in 4.157142857s. Visit https://console.groq.com/docs/rate-limits for more information.', 'type': 'tokens', 'code': 'rate_limit_exceeded'}}\n",
        "````\n",
        "\n",
        "## What to do next\n",
        "\n",
        "- extract text from JSON so the embeddings are les confused by keys maybe?  \n",
        "- we noticed a change in performance between ALLCAPS and alllower so we will preventively set all text to lowerchars and process all queries to lower chars so this problem is dealt with.\n",
        "- recompute embeddings and test results.  "
      ],
      "metadata": {
        "id": "Ku13766XVdcQ"
      }
    },
    {
      "cell_type": "markdown",
      "source": [
        "# CONCLUSION OF THE TEXT TEST\n",
        "\n",
        "We have better retrieval rates: Damien Abad is perfectly recognized in our tests. However, Antoine Armand is not, at all. It seems that we can also retrieve people by their title, like \"Député de la Haute-Savoie\", but not perfectly, as many will in fact be \"Senateurs\" or \"Député de Savoie\" instead.  \n",
        "\n",
        "We still rely on full JSON inclusion in the context as the text only version is too cryptic for an LLM to analyze its contents.  \n",
        "\n",
        "## What to do next\n",
        "\n",
        "- CHUNKING! We will chunk each declaration into large subsections (the main keys under \"declaration\") and prefix them with the name and work title of the person making the declaration. This way, we will be able to ask precise questions about something related to someone.  \n",
        "- Embedding: it seems that we can pass up to 2048 embedding requests at once (see https://cookbook.openai.com/examples/embedding_wikipedia_articles_for_search ) so we should do that to handle the increased needs due to chunking.  \n",
        "\n",
        "This \"chunking with person name+title prefix\" technique will improve questions about someone, but still not solve the problem of aggregate questions like:  \n",
        "- who is making more than X in year Y ?  \n",
        "- list people working at place X ?\n",
        "- list people affiliated with party X ?\n",
        "etc...\n",
        "\n",
        "These will only get solved by using SQL and a structured database.  "
      ],
      "metadata": {
        "id": "duNeUBuivMIT"
      }
    },
    {
      "cell_type": "markdown",
      "source": [
        "# CONCLUSION OF THE TEXT WITH METADATA TEST\n",
        "\n",
        "It works even better! Now we get 90% succes when naming someone in a query, and we get consistent results.  \n",
        "The only shortcoming is when several people have the same name, either same name+surname, or a shared name as a surname. We can disimbiguate using the current job title, although that is only possible by doing some research.  \n",
        "The special chars are also a problem, their usage is inconsistent in the declarations, eg. Loic VS Loïc.  \n",
        "\n",
        "- adding a name+surname+job title prefix to the context is a great success\n",
        "- we should test the job titles more deeply to see how to exploit them  \n",
        "- the advanced questions are also a great success due to the complete declaration being passed in the context  \n",
        "\n",
        "## What to do next  \n",
        "- find a way to embed a link to the current declaration so our answers come with a URL to fact check the answers  \n",
        "- convert the simple RAG into a discussion by passing the chat history"
      ],
      "metadata": {
        "id": "wE_tAvRQCWQl"
      }
    },
    {
      "cell_type": "markdown",
      "source": [
        "# CONCLUSION OF THE TEXT-INDEX TEST\n",
        "\n",
        "Best results so far, we have a perfect match when asking for a given person.  \n",
        "Now, the problem seems to be the quality of the job titles: XML files contain hazy information, this is not great for creating the index, we will have to rely on a seconday data source to improve this.  \n",
        "\n",
        "- the persons name and surname is a perfect match\n",
        "- we can ask complex questions and still match the correct context\n",
        "\n",
        "## What to do next  \n",
        "\n",
        "- load the extented information (.csv file with actual job titles) and re-create the index from there  \n",
        "- do a second test  "
      ],
      "metadata": {
        "id": "kYa0n86iThRF"
      }
    },
    {
      "cell_type": "markdown",
      "source": [
        "# CONCLUSION OF THE SECOND TEXT-INDEX TEST  \n",
        "\n",
        "Afterr retrieval of the correct job titles, we still cannot get a positive match for the mayor of Bordeaux.  \n",
        "Sadly, the second nin chief is always recognized first.  \n",
        "We then tried making a second guess by first having an LLM ask a retrieval question, then have a final question based on the \"higher\" retrieval quality.  \n",
        "\n",
        "It turns out that the dumb LLM (mixtral) gets the correct answer to the mayor question and returns the correct context, but then, is incapable of answering correctly.  \n",
        "The \"smart\" llm (LLama3) cannot get the correct retrieval query (asks about the previous maire...the change dates back to 2019 when the cutoff date is supposed to be 2023, and the LLM gives the correct answer on huggingface, so Groq might be quantizing a lot here...) so the test fails.  \n",
        "\n",
        "- we have correct identification results, although the exact synthax (eg. a `d'` VS `de` before the name) seems to have a big impact.  \n",
        "- we cannot ask general questions about job titles as a job title containing part of another job title will weight more (no job title hierarchy knowledge in the embedding). Eg. `mayor helper` will be ranked higher than `mayor` when looking for the maire.  \n",
        "\n",
        "## What to do next  \n",
        "\n",
        "- we should use better quality LLMs to ask retrieval questions, as we do not pass documents in the context => the requests will be quite cheap.  \n",
        "- we can add more information in the index? No ideas for now.  "
      ],
      "metadata": {
        "id": "o0qgx7H3yZWo"
      }
    },
    {
      "cell_type": "code",
      "source": [],
      "metadata": {
        "id": "j-68-3A0RCE-"
      },
      "execution_count": null,
      "outputs": []
    }
  ]
}