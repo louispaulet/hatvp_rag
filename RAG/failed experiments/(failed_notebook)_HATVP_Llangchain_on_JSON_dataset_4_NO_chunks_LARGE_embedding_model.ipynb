{
  "nbformat": 4,
  "nbformat_minor": 0,
  "metadata": {
    "colab": {
      "provenance": []
    },
    "kernelspec": {
      "name": "python3",
      "display_name": "Python 3"
    },
    "language_info": {
      "name": "python"
    },
    "widgets": {
      "application/vnd.jupyter.widget-state+json": {
        "d013db7bf7104311b98affa52fe4f8bf": {
          "model_module": "@jupyter-widgets/controls",
          "model_name": "HBoxModel",
          "model_module_version": "1.5.0",
          "state": {
            "_dom_classes": [],
            "_model_module": "@jupyter-widgets/controls",
            "_model_module_version": "1.5.0",
            "_model_name": "HBoxModel",
            "_view_count": null,
            "_view_module": "@jupyter-widgets/controls",
            "_view_module_version": "1.5.0",
            "_view_name": "HBoxView",
            "box_style": "",
            "children": [
              "IPY_MODEL_e2c916df80124f8ca45b9d4095a4a17e",
              "IPY_MODEL_35f497a21f2b42d180482a19d41b3d57",
              "IPY_MODEL_a9bb367da9b7463eb29998624f6ca34b"
            ],
            "layout": "IPY_MODEL_e45d54dd53e7497cbf26577cc56b907e"
          }
        },
        "e2c916df80124f8ca45b9d4095a4a17e": {
          "model_module": "@jupyter-widgets/controls",
          "model_name": "HTMLModel",
          "model_module_version": "1.5.0",
          "state": {
            "_dom_classes": [],
            "_model_module": "@jupyter-widgets/controls",
            "_model_module_version": "1.5.0",
            "_model_name": "HTMLModel",
            "_view_count": null,
            "_view_module": "@jupyter-widgets/controls",
            "_view_module_version": "1.5.0",
            "_view_name": "HTMLView",
            "description": "",
            "description_tooltip": null,
            "layout": "IPY_MODEL_2708c418397b4cfd82d459232a67b44e",
            "placeholder": "​",
            "style": "IPY_MODEL_65aca31a087c4ff682ba0ab7d4399713",
            "value": "Downloading readme: 100%"
          }
        },
        "35f497a21f2b42d180482a19d41b3d57": {
          "model_module": "@jupyter-widgets/controls",
          "model_name": "FloatProgressModel",
          "model_module_version": "1.5.0",
          "state": {
            "_dom_classes": [],
            "_model_module": "@jupyter-widgets/controls",
            "_model_module_version": "1.5.0",
            "_model_name": "FloatProgressModel",
            "_view_count": null,
            "_view_module": "@jupyter-widgets/controls",
            "_view_module_version": "1.5.0",
            "_view_name": "ProgressView",
            "bar_style": "success",
            "description": "",
            "description_tooltip": null,
            "layout": "IPY_MODEL_41d25fa89d2c4b418cb906d1f46232eb",
            "max": 484,
            "min": 0,
            "orientation": "horizontal",
            "style": "IPY_MODEL_fd437f14c87b4062944ae241fa7f5599",
            "value": 484
          }
        },
        "a9bb367da9b7463eb29998624f6ca34b": {
          "model_module": "@jupyter-widgets/controls",
          "model_name": "HTMLModel",
          "model_module_version": "1.5.0",
          "state": {
            "_dom_classes": [],
            "_model_module": "@jupyter-widgets/controls",
            "_model_module_version": "1.5.0",
            "_model_name": "HTMLModel",
            "_view_count": null,
            "_view_module": "@jupyter-widgets/controls",
            "_view_module_version": "1.5.0",
            "_view_name": "HTMLView",
            "description": "",
            "description_tooltip": null,
            "layout": "IPY_MODEL_ee7c954cfc814aa5a437b15c4f295742",
            "placeholder": "​",
            "style": "IPY_MODEL_e9bd4752a75847849fda9f89a23932aa",
            "value": " 484/484 [00:00&lt;00:00, 26.0kB/s]"
          }
        },
        "e45d54dd53e7497cbf26577cc56b907e": {
          "model_module": "@jupyter-widgets/base",
          "model_name": "LayoutModel",
          "model_module_version": "1.2.0",
          "state": {
            "_model_module": "@jupyter-widgets/base",
            "_model_module_version": "1.2.0",
            "_model_name": "LayoutModel",
            "_view_count": null,
            "_view_module": "@jupyter-widgets/base",
            "_view_module_version": "1.2.0",
            "_view_name": "LayoutView",
            "align_content": null,
            "align_items": null,
            "align_self": null,
            "border": null,
            "bottom": null,
            "display": null,
            "flex": null,
            "flex_flow": null,
            "grid_area": null,
            "grid_auto_columns": null,
            "grid_auto_flow": null,
            "grid_auto_rows": null,
            "grid_column": null,
            "grid_gap": null,
            "grid_row": null,
            "grid_template_areas": null,
            "grid_template_columns": null,
            "grid_template_rows": null,
            "height": null,
            "justify_content": null,
            "justify_items": null,
            "left": null,
            "margin": null,
            "max_height": null,
            "max_width": null,
            "min_height": null,
            "min_width": null,
            "object_fit": null,
            "object_position": null,
            "order": null,
            "overflow": null,
            "overflow_x": null,
            "overflow_y": null,
            "padding": null,
            "right": null,
            "top": null,
            "visibility": null,
            "width": null
          }
        },
        "2708c418397b4cfd82d459232a67b44e": {
          "model_module": "@jupyter-widgets/base",
          "model_name": "LayoutModel",
          "model_module_version": "1.2.0",
          "state": {
            "_model_module": "@jupyter-widgets/base",
            "_model_module_version": "1.2.0",
            "_model_name": "LayoutModel",
            "_view_count": null,
            "_view_module": "@jupyter-widgets/base",
            "_view_module_version": "1.2.0",
            "_view_name": "LayoutView",
            "align_content": null,
            "align_items": null,
            "align_self": null,
            "border": null,
            "bottom": null,
            "display": null,
            "flex": null,
            "flex_flow": null,
            "grid_area": null,
            "grid_auto_columns": null,
            "grid_auto_flow": null,
            "grid_auto_rows": null,
            "grid_column": null,
            "grid_gap": null,
            "grid_row": null,
            "grid_template_areas": null,
            "grid_template_columns": null,
            "grid_template_rows": null,
            "height": null,
            "justify_content": null,
            "justify_items": null,
            "left": null,
            "margin": null,
            "max_height": null,
            "max_width": null,
            "min_height": null,
            "min_width": null,
            "object_fit": null,
            "object_position": null,
            "order": null,
            "overflow": null,
            "overflow_x": null,
            "overflow_y": null,
            "padding": null,
            "right": null,
            "top": null,
            "visibility": null,
            "width": null
          }
        },
        "65aca31a087c4ff682ba0ab7d4399713": {
          "model_module": "@jupyter-widgets/controls",
          "model_name": "DescriptionStyleModel",
          "model_module_version": "1.5.0",
          "state": {
            "_model_module": "@jupyter-widgets/controls",
            "_model_module_version": "1.5.0",
            "_model_name": "DescriptionStyleModel",
            "_view_count": null,
            "_view_module": "@jupyter-widgets/base",
            "_view_module_version": "1.2.0",
            "_view_name": "StyleView",
            "description_width": ""
          }
        },
        "41d25fa89d2c4b418cb906d1f46232eb": {
          "model_module": "@jupyter-widgets/base",
          "model_name": "LayoutModel",
          "model_module_version": "1.2.0",
          "state": {
            "_model_module": "@jupyter-widgets/base",
            "_model_module_version": "1.2.0",
            "_model_name": "LayoutModel",
            "_view_count": null,
            "_view_module": "@jupyter-widgets/base",
            "_view_module_version": "1.2.0",
            "_view_name": "LayoutView",
            "align_content": null,
            "align_items": null,
            "align_self": null,
            "border": null,
            "bottom": null,
            "display": null,
            "flex": null,
            "flex_flow": null,
            "grid_area": null,
            "grid_auto_columns": null,
            "grid_auto_flow": null,
            "grid_auto_rows": null,
            "grid_column": null,
            "grid_gap": null,
            "grid_row": null,
            "grid_template_areas": null,
            "grid_template_columns": null,
            "grid_template_rows": null,
            "height": null,
            "justify_content": null,
            "justify_items": null,
            "left": null,
            "margin": null,
            "max_height": null,
            "max_width": null,
            "min_height": null,
            "min_width": null,
            "object_fit": null,
            "object_position": null,
            "order": null,
            "overflow": null,
            "overflow_x": null,
            "overflow_y": null,
            "padding": null,
            "right": null,
            "top": null,
            "visibility": null,
            "width": null
          }
        },
        "fd437f14c87b4062944ae241fa7f5599": {
          "model_module": "@jupyter-widgets/controls",
          "model_name": "ProgressStyleModel",
          "model_module_version": "1.5.0",
          "state": {
            "_model_module": "@jupyter-widgets/controls",
            "_model_module_version": "1.5.0",
            "_model_name": "ProgressStyleModel",
            "_view_count": null,
            "_view_module": "@jupyter-widgets/base",
            "_view_module_version": "1.2.0",
            "_view_name": "StyleView",
            "bar_color": null,
            "description_width": ""
          }
        },
        "ee7c954cfc814aa5a437b15c4f295742": {
          "model_module": "@jupyter-widgets/base",
          "model_name": "LayoutModel",
          "model_module_version": "1.2.0",
          "state": {
            "_model_module": "@jupyter-widgets/base",
            "_model_module_version": "1.2.0",
            "_model_name": "LayoutModel",
            "_view_count": null,
            "_view_module": "@jupyter-widgets/base",
            "_view_module_version": "1.2.0",
            "_view_name": "LayoutView",
            "align_content": null,
            "align_items": null,
            "align_self": null,
            "border": null,
            "bottom": null,
            "display": null,
            "flex": null,
            "flex_flow": null,
            "grid_area": null,
            "grid_auto_columns": null,
            "grid_auto_flow": null,
            "grid_auto_rows": null,
            "grid_column": null,
            "grid_gap": null,
            "grid_row": null,
            "grid_template_areas": null,
            "grid_template_columns": null,
            "grid_template_rows": null,
            "height": null,
            "justify_content": null,
            "justify_items": null,
            "left": null,
            "margin": null,
            "max_height": null,
            "max_width": null,
            "min_height": null,
            "min_width": null,
            "object_fit": null,
            "object_position": null,
            "order": null,
            "overflow": null,
            "overflow_x": null,
            "overflow_y": null,
            "padding": null,
            "right": null,
            "top": null,
            "visibility": null,
            "width": null
          }
        },
        "e9bd4752a75847849fda9f89a23932aa": {
          "model_module": "@jupyter-widgets/controls",
          "model_name": "DescriptionStyleModel",
          "model_module_version": "1.5.0",
          "state": {
            "_model_module": "@jupyter-widgets/controls",
            "_model_module_version": "1.5.0",
            "_model_name": "DescriptionStyleModel",
            "_view_count": null,
            "_view_module": "@jupyter-widgets/base",
            "_view_module_version": "1.2.0",
            "_view_name": "StyleView",
            "description_width": ""
          }
        },
        "b275ca2e19174acb9e04643b05c35ddb": {
          "model_module": "@jupyter-widgets/controls",
          "model_name": "HBoxModel",
          "model_module_version": "1.5.0",
          "state": {
            "_dom_classes": [],
            "_model_module": "@jupyter-widgets/controls",
            "_model_module_version": "1.5.0",
            "_model_name": "HBoxModel",
            "_view_count": null,
            "_view_module": "@jupyter-widgets/controls",
            "_view_module_version": "1.5.0",
            "_view_name": "HBoxView",
            "box_style": "",
            "children": [
              "IPY_MODEL_d8650bd6c54645abbc8bdf276ca3ad09",
              "IPY_MODEL_a95db175a937418885335b25b2794794",
              "IPY_MODEL_1a123bde11dc43638330e5436d942194"
            ],
            "layout": "IPY_MODEL_77bd16b7599548b9b18c8601fe1478d1"
          }
        },
        "d8650bd6c54645abbc8bdf276ca3ad09": {
          "model_module": "@jupyter-widgets/controls",
          "model_name": "HTMLModel",
          "model_module_version": "1.5.0",
          "state": {
            "_dom_classes": [],
            "_model_module": "@jupyter-widgets/controls",
            "_model_module_version": "1.5.0",
            "_model_name": "HTMLModel",
            "_view_count": null,
            "_view_module": "@jupyter-widgets/controls",
            "_view_module_version": "1.5.0",
            "_view_name": "HTMLView",
            "description": "",
            "description_tooltip": null,
            "layout": "IPY_MODEL_de5687efbb3e48d9ba130d109119da43",
            "placeholder": "​",
            "style": "IPY_MODEL_5592a889e8694acaba7a6748664cc627",
            "value": "Downloading data: 100%"
          }
        },
        "a95db175a937418885335b25b2794794": {
          "model_module": "@jupyter-widgets/controls",
          "model_name": "FloatProgressModel",
          "model_module_version": "1.5.0",
          "state": {
            "_dom_classes": [],
            "_model_module": "@jupyter-widgets/controls",
            "_model_module_version": "1.5.0",
            "_model_name": "FloatProgressModel",
            "_view_count": null,
            "_view_module": "@jupyter-widgets/controls",
            "_view_module_version": "1.5.0",
            "_view_name": "ProgressView",
            "bar_style": "success",
            "description": "",
            "description_tooltip": null,
            "layout": "IPY_MODEL_670b944713ae44cdb840e862e40de059",
            "max": 137154763,
            "min": 0,
            "orientation": "horizontal",
            "style": "IPY_MODEL_80ab8794ccb1445986d9775130d56de7",
            "value": 137154763
          }
        },
        "1a123bde11dc43638330e5436d942194": {
          "model_module": "@jupyter-widgets/controls",
          "model_name": "HTMLModel",
          "model_module_version": "1.5.0",
          "state": {
            "_dom_classes": [],
            "_model_module": "@jupyter-widgets/controls",
            "_model_module_version": "1.5.0",
            "_model_name": "HTMLModel",
            "_view_count": null,
            "_view_module": "@jupyter-widgets/controls",
            "_view_module_version": "1.5.0",
            "_view_name": "HTMLView",
            "description": "",
            "description_tooltip": null,
            "layout": "IPY_MODEL_0810c77d6f7042c8801b21065df0d239",
            "placeholder": "​",
            "style": "IPY_MODEL_a5ef51e843884e699e69d051b32f5319",
            "value": " 137M/137M [00:03&lt;00:00, 52.4MB/s]"
          }
        },
        "77bd16b7599548b9b18c8601fe1478d1": {
          "model_module": "@jupyter-widgets/base",
          "model_name": "LayoutModel",
          "model_module_version": "1.2.0",
          "state": {
            "_model_module": "@jupyter-widgets/base",
            "_model_module_version": "1.2.0",
            "_model_name": "LayoutModel",
            "_view_count": null,
            "_view_module": "@jupyter-widgets/base",
            "_view_module_version": "1.2.0",
            "_view_name": "LayoutView",
            "align_content": null,
            "align_items": null,
            "align_self": null,
            "border": null,
            "bottom": null,
            "display": null,
            "flex": null,
            "flex_flow": null,
            "grid_area": null,
            "grid_auto_columns": null,
            "grid_auto_flow": null,
            "grid_auto_rows": null,
            "grid_column": null,
            "grid_gap": null,
            "grid_row": null,
            "grid_template_areas": null,
            "grid_template_columns": null,
            "grid_template_rows": null,
            "height": null,
            "justify_content": null,
            "justify_items": null,
            "left": null,
            "margin": null,
            "max_height": null,
            "max_width": null,
            "min_height": null,
            "min_width": null,
            "object_fit": null,
            "object_position": null,
            "order": null,
            "overflow": null,
            "overflow_x": null,
            "overflow_y": null,
            "padding": null,
            "right": null,
            "top": null,
            "visibility": null,
            "width": null
          }
        },
        "de5687efbb3e48d9ba130d109119da43": {
          "model_module": "@jupyter-widgets/base",
          "model_name": "LayoutModel",
          "model_module_version": "1.2.0",
          "state": {
            "_model_module": "@jupyter-widgets/base",
            "_model_module_version": "1.2.0",
            "_model_name": "LayoutModel",
            "_view_count": null,
            "_view_module": "@jupyter-widgets/base",
            "_view_module_version": "1.2.0",
            "_view_name": "LayoutView",
            "align_content": null,
            "align_items": null,
            "align_self": null,
            "border": null,
            "bottom": null,
            "display": null,
            "flex": null,
            "flex_flow": null,
            "grid_area": null,
            "grid_auto_columns": null,
            "grid_auto_flow": null,
            "grid_auto_rows": null,
            "grid_column": null,
            "grid_gap": null,
            "grid_row": null,
            "grid_template_areas": null,
            "grid_template_columns": null,
            "grid_template_rows": null,
            "height": null,
            "justify_content": null,
            "justify_items": null,
            "left": null,
            "margin": null,
            "max_height": null,
            "max_width": null,
            "min_height": null,
            "min_width": null,
            "object_fit": null,
            "object_position": null,
            "order": null,
            "overflow": null,
            "overflow_x": null,
            "overflow_y": null,
            "padding": null,
            "right": null,
            "top": null,
            "visibility": null,
            "width": null
          }
        },
        "5592a889e8694acaba7a6748664cc627": {
          "model_module": "@jupyter-widgets/controls",
          "model_name": "DescriptionStyleModel",
          "model_module_version": "1.5.0",
          "state": {
            "_model_module": "@jupyter-widgets/controls",
            "_model_module_version": "1.5.0",
            "_model_name": "DescriptionStyleModel",
            "_view_count": null,
            "_view_module": "@jupyter-widgets/base",
            "_view_module_version": "1.2.0",
            "_view_name": "StyleView",
            "description_width": ""
          }
        },
        "670b944713ae44cdb840e862e40de059": {
          "model_module": "@jupyter-widgets/base",
          "model_name": "LayoutModel",
          "model_module_version": "1.2.0",
          "state": {
            "_model_module": "@jupyter-widgets/base",
            "_model_module_version": "1.2.0",
            "_model_name": "LayoutModel",
            "_view_count": null,
            "_view_module": "@jupyter-widgets/base",
            "_view_module_version": "1.2.0",
            "_view_name": "LayoutView",
            "align_content": null,
            "align_items": null,
            "align_self": null,
            "border": null,
            "bottom": null,
            "display": null,
            "flex": null,
            "flex_flow": null,
            "grid_area": null,
            "grid_auto_columns": null,
            "grid_auto_flow": null,
            "grid_auto_rows": null,
            "grid_column": null,
            "grid_gap": null,
            "grid_row": null,
            "grid_template_areas": null,
            "grid_template_columns": null,
            "grid_template_rows": null,
            "height": null,
            "justify_content": null,
            "justify_items": null,
            "left": null,
            "margin": null,
            "max_height": null,
            "max_width": null,
            "min_height": null,
            "min_width": null,
            "object_fit": null,
            "object_position": null,
            "order": null,
            "overflow": null,
            "overflow_x": null,
            "overflow_y": null,
            "padding": null,
            "right": null,
            "top": null,
            "visibility": null,
            "width": null
          }
        },
        "80ab8794ccb1445986d9775130d56de7": {
          "model_module": "@jupyter-widgets/controls",
          "model_name": "ProgressStyleModel",
          "model_module_version": "1.5.0",
          "state": {
            "_model_module": "@jupyter-widgets/controls",
            "_model_module_version": "1.5.0",
            "_model_name": "ProgressStyleModel",
            "_view_count": null,
            "_view_module": "@jupyter-widgets/base",
            "_view_module_version": "1.2.0",
            "_view_name": "StyleView",
            "bar_color": null,
            "description_width": ""
          }
        },
        "0810c77d6f7042c8801b21065df0d239": {
          "model_module": "@jupyter-widgets/base",
          "model_name": "LayoutModel",
          "model_module_version": "1.2.0",
          "state": {
            "_model_module": "@jupyter-widgets/base",
            "_model_module_version": "1.2.0",
            "_model_name": "LayoutModel",
            "_view_count": null,
            "_view_module": "@jupyter-widgets/base",
            "_view_module_version": "1.2.0",
            "_view_name": "LayoutView",
            "align_content": null,
            "align_items": null,
            "align_self": null,
            "border": null,
            "bottom": null,
            "display": null,
            "flex": null,
            "flex_flow": null,
            "grid_area": null,
            "grid_auto_columns": null,
            "grid_auto_flow": null,
            "grid_auto_rows": null,
            "grid_column": null,
            "grid_gap": null,
            "grid_row": null,
            "grid_template_areas": null,
            "grid_template_columns": null,
            "grid_template_rows": null,
            "height": null,
            "justify_content": null,
            "justify_items": null,
            "left": null,
            "margin": null,
            "max_height": null,
            "max_width": null,
            "min_height": null,
            "min_width": null,
            "object_fit": null,
            "object_position": null,
            "order": null,
            "overflow": null,
            "overflow_x": null,
            "overflow_y": null,
            "padding": null,
            "right": null,
            "top": null,
            "visibility": null,
            "width": null
          }
        },
        "a5ef51e843884e699e69d051b32f5319": {
          "model_module": "@jupyter-widgets/controls",
          "model_name": "DescriptionStyleModel",
          "model_module_version": "1.5.0",
          "state": {
            "_model_module": "@jupyter-widgets/controls",
            "_model_module_version": "1.5.0",
            "_model_name": "DescriptionStyleModel",
            "_view_count": null,
            "_view_module": "@jupyter-widgets/base",
            "_view_module_version": "1.2.0",
            "_view_name": "StyleView",
            "description_width": ""
          }
        },
        "e59cd3557f3a4af4a474124435b207b0": {
          "model_module": "@jupyter-widgets/controls",
          "model_name": "HBoxModel",
          "model_module_version": "1.5.0",
          "state": {
            "_dom_classes": [],
            "_model_module": "@jupyter-widgets/controls",
            "_model_module_version": "1.5.0",
            "_model_name": "HBoxModel",
            "_view_count": null,
            "_view_module": "@jupyter-widgets/controls",
            "_view_module_version": "1.5.0",
            "_view_name": "HBoxView",
            "box_style": "",
            "children": [
              "IPY_MODEL_bd86bb3a0a6e46f59d8ba46c1bef72ae",
              "IPY_MODEL_2827f8ef61ee4d758d9269cacf187ddd",
              "IPY_MODEL_566e5014a6ab463b94bf84e5001d55b9"
            ],
            "layout": "IPY_MODEL_1f9d07d02a194ef2b29707baa6429753"
          }
        },
        "bd86bb3a0a6e46f59d8ba46c1bef72ae": {
          "model_module": "@jupyter-widgets/controls",
          "model_name": "HTMLModel",
          "model_module_version": "1.5.0",
          "state": {
            "_dom_classes": [],
            "_model_module": "@jupyter-widgets/controls",
            "_model_module_version": "1.5.0",
            "_model_name": "HTMLModel",
            "_view_count": null,
            "_view_module": "@jupyter-widgets/controls",
            "_view_module_version": "1.5.0",
            "_view_name": "HTMLView",
            "description": "",
            "description_tooltip": null,
            "layout": "IPY_MODEL_0c066f0d56a54e97ac63737c3c9307d2",
            "placeholder": "​",
            "style": "IPY_MODEL_3d03c9e2e86044818247c0d88155f832",
            "value": "Generating train split: 100%"
          }
        },
        "2827f8ef61ee4d758d9269cacf187ddd": {
          "model_module": "@jupyter-widgets/controls",
          "model_name": "FloatProgressModel",
          "model_module_version": "1.5.0",
          "state": {
            "_dom_classes": [],
            "_model_module": "@jupyter-widgets/controls",
            "_model_module_version": "1.5.0",
            "_model_name": "FloatProgressModel",
            "_view_count": null,
            "_view_module": "@jupyter-widgets/controls",
            "_view_module_version": "1.5.0",
            "_view_name": "ProgressView",
            "bar_style": "success",
            "description": "",
            "description_tooltip": null,
            "layout": "IPY_MODEL_d7935df3fe96448d8c2cdf6933cf2a43",
            "max": 10944,
            "min": 0,
            "orientation": "horizontal",
            "style": "IPY_MODEL_142347059f7a419098c6cce9c7c148bf",
            "value": 10944
          }
        },
        "566e5014a6ab463b94bf84e5001d55b9": {
          "model_module": "@jupyter-widgets/controls",
          "model_name": "HTMLModel",
          "model_module_version": "1.5.0",
          "state": {
            "_dom_classes": [],
            "_model_module": "@jupyter-widgets/controls",
            "_model_module_version": "1.5.0",
            "_model_name": "HTMLModel",
            "_view_count": null,
            "_view_module": "@jupyter-widgets/controls",
            "_view_module_version": "1.5.0",
            "_view_name": "HTMLView",
            "description": "",
            "description_tooltip": null,
            "layout": "IPY_MODEL_e06dc43b7f75493a917cfd5da0205d72",
            "placeholder": "​",
            "style": "IPY_MODEL_61b6e2a62cf54cc3ba650ba78926ecbe",
            "value": " 10944/10944 [00:03&lt;00:00, 3982.31 examples/s]"
          }
        },
        "1f9d07d02a194ef2b29707baa6429753": {
          "model_module": "@jupyter-widgets/base",
          "model_name": "LayoutModel",
          "model_module_version": "1.2.0",
          "state": {
            "_model_module": "@jupyter-widgets/base",
            "_model_module_version": "1.2.0",
            "_model_name": "LayoutModel",
            "_view_count": null,
            "_view_module": "@jupyter-widgets/base",
            "_view_module_version": "1.2.0",
            "_view_name": "LayoutView",
            "align_content": null,
            "align_items": null,
            "align_self": null,
            "border": null,
            "bottom": null,
            "display": null,
            "flex": null,
            "flex_flow": null,
            "grid_area": null,
            "grid_auto_columns": null,
            "grid_auto_flow": null,
            "grid_auto_rows": null,
            "grid_column": null,
            "grid_gap": null,
            "grid_row": null,
            "grid_template_areas": null,
            "grid_template_columns": null,
            "grid_template_rows": null,
            "height": null,
            "justify_content": null,
            "justify_items": null,
            "left": null,
            "margin": null,
            "max_height": null,
            "max_width": null,
            "min_height": null,
            "min_width": null,
            "object_fit": null,
            "object_position": null,
            "order": null,
            "overflow": null,
            "overflow_x": null,
            "overflow_y": null,
            "padding": null,
            "right": null,
            "top": null,
            "visibility": null,
            "width": null
          }
        },
        "0c066f0d56a54e97ac63737c3c9307d2": {
          "model_module": "@jupyter-widgets/base",
          "model_name": "LayoutModel",
          "model_module_version": "1.2.0",
          "state": {
            "_model_module": "@jupyter-widgets/base",
            "_model_module_version": "1.2.0",
            "_model_name": "LayoutModel",
            "_view_count": null,
            "_view_module": "@jupyter-widgets/base",
            "_view_module_version": "1.2.0",
            "_view_name": "LayoutView",
            "align_content": null,
            "align_items": null,
            "align_self": null,
            "border": null,
            "bottom": null,
            "display": null,
            "flex": null,
            "flex_flow": null,
            "grid_area": null,
            "grid_auto_columns": null,
            "grid_auto_flow": null,
            "grid_auto_rows": null,
            "grid_column": null,
            "grid_gap": null,
            "grid_row": null,
            "grid_template_areas": null,
            "grid_template_columns": null,
            "grid_template_rows": null,
            "height": null,
            "justify_content": null,
            "justify_items": null,
            "left": null,
            "margin": null,
            "max_height": null,
            "max_width": null,
            "min_height": null,
            "min_width": null,
            "object_fit": null,
            "object_position": null,
            "order": null,
            "overflow": null,
            "overflow_x": null,
            "overflow_y": null,
            "padding": null,
            "right": null,
            "top": null,
            "visibility": null,
            "width": null
          }
        },
        "3d03c9e2e86044818247c0d88155f832": {
          "model_module": "@jupyter-widgets/controls",
          "model_name": "DescriptionStyleModel",
          "model_module_version": "1.5.0",
          "state": {
            "_model_module": "@jupyter-widgets/controls",
            "_model_module_version": "1.5.0",
            "_model_name": "DescriptionStyleModel",
            "_view_count": null,
            "_view_module": "@jupyter-widgets/base",
            "_view_module_version": "1.2.0",
            "_view_name": "StyleView",
            "description_width": ""
          }
        },
        "d7935df3fe96448d8c2cdf6933cf2a43": {
          "model_module": "@jupyter-widgets/base",
          "model_name": "LayoutModel",
          "model_module_version": "1.2.0",
          "state": {
            "_model_module": "@jupyter-widgets/base",
            "_model_module_version": "1.2.0",
            "_model_name": "LayoutModel",
            "_view_count": null,
            "_view_module": "@jupyter-widgets/base",
            "_view_module_version": "1.2.0",
            "_view_name": "LayoutView",
            "align_content": null,
            "align_items": null,
            "align_self": null,
            "border": null,
            "bottom": null,
            "display": null,
            "flex": null,
            "flex_flow": null,
            "grid_area": null,
            "grid_auto_columns": null,
            "grid_auto_flow": null,
            "grid_auto_rows": null,
            "grid_column": null,
            "grid_gap": null,
            "grid_row": null,
            "grid_template_areas": null,
            "grid_template_columns": null,
            "grid_template_rows": null,
            "height": null,
            "justify_content": null,
            "justify_items": null,
            "left": null,
            "margin": null,
            "max_height": null,
            "max_width": null,
            "min_height": null,
            "min_width": null,
            "object_fit": null,
            "object_position": null,
            "order": null,
            "overflow": null,
            "overflow_x": null,
            "overflow_y": null,
            "padding": null,
            "right": null,
            "top": null,
            "visibility": null,
            "width": null
          }
        },
        "142347059f7a419098c6cce9c7c148bf": {
          "model_module": "@jupyter-widgets/controls",
          "model_name": "ProgressStyleModel",
          "model_module_version": "1.5.0",
          "state": {
            "_model_module": "@jupyter-widgets/controls",
            "_model_module_version": "1.5.0",
            "_model_name": "ProgressStyleModel",
            "_view_count": null,
            "_view_module": "@jupyter-widgets/base",
            "_view_module_version": "1.2.0",
            "_view_name": "StyleView",
            "bar_color": null,
            "description_width": ""
          }
        },
        "e06dc43b7f75493a917cfd5da0205d72": {
          "model_module": "@jupyter-widgets/base",
          "model_name": "LayoutModel",
          "model_module_version": "1.2.0",
          "state": {
            "_model_module": "@jupyter-widgets/base",
            "_model_module_version": "1.2.0",
            "_model_name": "LayoutModel",
            "_view_count": null,
            "_view_module": "@jupyter-widgets/base",
            "_view_module_version": "1.2.0",
            "_view_name": "LayoutView",
            "align_content": null,
            "align_items": null,
            "align_self": null,
            "border": null,
            "bottom": null,
            "display": null,
            "flex": null,
            "flex_flow": null,
            "grid_area": null,
            "grid_auto_columns": null,
            "grid_auto_flow": null,
            "grid_auto_rows": null,
            "grid_column": null,
            "grid_gap": null,
            "grid_row": null,
            "grid_template_areas": null,
            "grid_template_columns": null,
            "grid_template_rows": null,
            "height": null,
            "justify_content": null,
            "justify_items": null,
            "left": null,
            "margin": null,
            "max_height": null,
            "max_width": null,
            "min_height": null,
            "min_width": null,
            "object_fit": null,
            "object_position": null,
            "order": null,
            "overflow": null,
            "overflow_x": null,
            "overflow_y": null,
            "padding": null,
            "right": null,
            "top": null,
            "visibility": null,
            "width": null
          }
        },
        "61b6e2a62cf54cc3ba650ba78926ecbe": {
          "model_module": "@jupyter-widgets/controls",
          "model_name": "DescriptionStyleModel",
          "model_module_version": "1.5.0",
          "state": {
            "_model_module": "@jupyter-widgets/controls",
            "_model_module_version": "1.5.0",
            "_model_name": "DescriptionStyleModel",
            "_view_count": null,
            "_view_module": "@jupyter-widgets/base",
            "_view_module_version": "1.2.0",
            "_view_name": "StyleView",
            "description_width": ""
          }
        },
        "b2c72d8e7b04471d8af4e4c2ffb763e2": {
          "model_module": "@jupyter-widgets/controls",
          "model_name": "HBoxModel",
          "model_module_version": "1.5.0",
          "state": {
            "_dom_classes": [],
            "_model_module": "@jupyter-widgets/controls",
            "_model_module_version": "1.5.0",
            "_model_name": "HBoxModel",
            "_view_count": null,
            "_view_module": "@jupyter-widgets/controls",
            "_view_module_version": "1.5.0",
            "_view_name": "HBoxView",
            "box_style": "",
            "children": [
              "IPY_MODEL_b83411660c8d4894b33e117b15357358",
              "IPY_MODEL_77b6b4bd7e974ba395c44bd4f362f22c",
              "IPY_MODEL_b1d3164008814094a52edf0d3bd62156"
            ],
            "layout": "IPY_MODEL_c817aeff78ac46098d19c9dcf07d7051"
          }
        },
        "b83411660c8d4894b33e117b15357358": {
          "model_module": "@jupyter-widgets/controls",
          "model_name": "HTMLModel",
          "model_module_version": "1.5.0",
          "state": {
            "_dom_classes": [],
            "_model_module": "@jupyter-widgets/controls",
            "_model_module_version": "1.5.0",
            "_model_name": "HTMLModel",
            "_view_count": null,
            "_view_module": "@jupyter-widgets/controls",
            "_view_module_version": "1.5.0",
            "_view_name": "HTMLView",
            "description": "",
            "description_tooltip": null,
            "layout": "IPY_MODEL_72a4ba3484514283ae305cc0937c530e",
            "placeholder": "​",
            "style": "IPY_MODEL_6614cfc25b9d4ab89772b9e67d9bef5c",
            "value": "Map (num_proc=2): 100%"
          }
        },
        "77b6b4bd7e974ba395c44bd4f362f22c": {
          "model_module": "@jupyter-widgets/controls",
          "model_name": "FloatProgressModel",
          "model_module_version": "1.5.0",
          "state": {
            "_dom_classes": [],
            "_model_module": "@jupyter-widgets/controls",
            "_model_module_version": "1.5.0",
            "_model_name": "FloatProgressModel",
            "_view_count": null,
            "_view_module": "@jupyter-widgets/controls",
            "_view_module_version": "1.5.0",
            "_view_name": "ProgressView",
            "bar_style": "success",
            "description": "",
            "description_tooltip": null,
            "layout": "IPY_MODEL_c51b5bb6351047a29b23dcdda9378eb6",
            "max": 10944,
            "min": 0,
            "orientation": "horizontal",
            "style": "IPY_MODEL_94051f2f26594cc58feebf86d414a99a",
            "value": 10944
          }
        },
        "b1d3164008814094a52edf0d3bd62156": {
          "model_module": "@jupyter-widgets/controls",
          "model_name": "HTMLModel",
          "model_module_version": "1.5.0",
          "state": {
            "_dom_classes": [],
            "_model_module": "@jupyter-widgets/controls",
            "_model_module_version": "1.5.0",
            "_model_name": "HTMLModel",
            "_view_count": null,
            "_view_module": "@jupyter-widgets/controls",
            "_view_module_version": "1.5.0",
            "_view_name": "HTMLView",
            "description": "",
            "description_tooltip": null,
            "layout": "IPY_MODEL_a9b3adb019124d2193897531d9831e1a",
            "placeholder": "​",
            "style": "IPY_MODEL_ec994c8da9d548189843e867a9dd51cc",
            "value": " 10944/10944 [02:01&lt;00:00, 101.60 examples/s]"
          }
        },
        "c817aeff78ac46098d19c9dcf07d7051": {
          "model_module": "@jupyter-widgets/base",
          "model_name": "LayoutModel",
          "model_module_version": "1.2.0",
          "state": {
            "_model_module": "@jupyter-widgets/base",
            "_model_module_version": "1.2.0",
            "_model_name": "LayoutModel",
            "_view_count": null,
            "_view_module": "@jupyter-widgets/base",
            "_view_module_version": "1.2.0",
            "_view_name": "LayoutView",
            "align_content": null,
            "align_items": null,
            "align_self": null,
            "border": null,
            "bottom": null,
            "display": null,
            "flex": null,
            "flex_flow": null,
            "grid_area": null,
            "grid_auto_columns": null,
            "grid_auto_flow": null,
            "grid_auto_rows": null,
            "grid_column": null,
            "grid_gap": null,
            "grid_row": null,
            "grid_template_areas": null,
            "grid_template_columns": null,
            "grid_template_rows": null,
            "height": null,
            "justify_content": null,
            "justify_items": null,
            "left": null,
            "margin": null,
            "max_height": null,
            "max_width": null,
            "min_height": null,
            "min_width": null,
            "object_fit": null,
            "object_position": null,
            "order": null,
            "overflow": null,
            "overflow_x": null,
            "overflow_y": null,
            "padding": null,
            "right": null,
            "top": null,
            "visibility": null,
            "width": null
          }
        },
        "72a4ba3484514283ae305cc0937c530e": {
          "model_module": "@jupyter-widgets/base",
          "model_name": "LayoutModel",
          "model_module_version": "1.2.0",
          "state": {
            "_model_module": "@jupyter-widgets/base",
            "_model_module_version": "1.2.0",
            "_model_name": "LayoutModel",
            "_view_count": null,
            "_view_module": "@jupyter-widgets/base",
            "_view_module_version": "1.2.0",
            "_view_name": "LayoutView",
            "align_content": null,
            "align_items": null,
            "align_self": null,
            "border": null,
            "bottom": null,
            "display": null,
            "flex": null,
            "flex_flow": null,
            "grid_area": null,
            "grid_auto_columns": null,
            "grid_auto_flow": null,
            "grid_auto_rows": null,
            "grid_column": null,
            "grid_gap": null,
            "grid_row": null,
            "grid_template_areas": null,
            "grid_template_columns": null,
            "grid_template_rows": null,
            "height": null,
            "justify_content": null,
            "justify_items": null,
            "left": null,
            "margin": null,
            "max_height": null,
            "max_width": null,
            "min_height": null,
            "min_width": null,
            "object_fit": null,
            "object_position": null,
            "order": null,
            "overflow": null,
            "overflow_x": null,
            "overflow_y": null,
            "padding": null,
            "right": null,
            "top": null,
            "visibility": null,
            "width": null
          }
        },
        "6614cfc25b9d4ab89772b9e67d9bef5c": {
          "model_module": "@jupyter-widgets/controls",
          "model_name": "DescriptionStyleModel",
          "model_module_version": "1.5.0",
          "state": {
            "_model_module": "@jupyter-widgets/controls",
            "_model_module_version": "1.5.0",
            "_model_name": "DescriptionStyleModel",
            "_view_count": null,
            "_view_module": "@jupyter-widgets/base",
            "_view_module_version": "1.2.0",
            "_view_name": "StyleView",
            "description_width": ""
          }
        },
        "c51b5bb6351047a29b23dcdda9378eb6": {
          "model_module": "@jupyter-widgets/base",
          "model_name": "LayoutModel",
          "model_module_version": "1.2.0",
          "state": {
            "_model_module": "@jupyter-widgets/base",
            "_model_module_version": "1.2.0",
            "_model_name": "LayoutModel",
            "_view_count": null,
            "_view_module": "@jupyter-widgets/base",
            "_view_module_version": "1.2.0",
            "_view_name": "LayoutView",
            "align_content": null,
            "align_items": null,
            "align_self": null,
            "border": null,
            "bottom": null,
            "display": null,
            "flex": null,
            "flex_flow": null,
            "grid_area": null,
            "grid_auto_columns": null,
            "grid_auto_flow": null,
            "grid_auto_rows": null,
            "grid_column": null,
            "grid_gap": null,
            "grid_row": null,
            "grid_template_areas": null,
            "grid_template_columns": null,
            "grid_template_rows": null,
            "height": null,
            "justify_content": null,
            "justify_items": null,
            "left": null,
            "margin": null,
            "max_height": null,
            "max_width": null,
            "min_height": null,
            "min_width": null,
            "object_fit": null,
            "object_position": null,
            "order": null,
            "overflow": null,
            "overflow_x": null,
            "overflow_y": null,
            "padding": null,
            "right": null,
            "top": null,
            "visibility": null,
            "width": null
          }
        },
        "94051f2f26594cc58feebf86d414a99a": {
          "model_module": "@jupyter-widgets/controls",
          "model_name": "ProgressStyleModel",
          "model_module_version": "1.5.0",
          "state": {
            "_model_module": "@jupyter-widgets/controls",
            "_model_module_version": "1.5.0",
            "_model_name": "ProgressStyleModel",
            "_view_count": null,
            "_view_module": "@jupyter-widgets/base",
            "_view_module_version": "1.2.0",
            "_view_name": "StyleView",
            "bar_color": null,
            "description_width": ""
          }
        },
        "a9b3adb019124d2193897531d9831e1a": {
          "model_module": "@jupyter-widgets/base",
          "model_name": "LayoutModel",
          "model_module_version": "1.2.0",
          "state": {
            "_model_module": "@jupyter-widgets/base",
            "_model_module_version": "1.2.0",
            "_model_name": "LayoutModel",
            "_view_count": null,
            "_view_module": "@jupyter-widgets/base",
            "_view_module_version": "1.2.0",
            "_view_name": "LayoutView",
            "align_content": null,
            "align_items": null,
            "align_self": null,
            "border": null,
            "bottom": null,
            "display": null,
            "flex": null,
            "flex_flow": null,
            "grid_area": null,
            "grid_auto_columns": null,
            "grid_auto_flow": null,
            "grid_auto_rows": null,
            "grid_column": null,
            "grid_gap": null,
            "grid_row": null,
            "grid_template_areas": null,
            "grid_template_columns": null,
            "grid_template_rows": null,
            "height": null,
            "justify_content": null,
            "justify_items": null,
            "left": null,
            "margin": null,
            "max_height": null,
            "max_width": null,
            "min_height": null,
            "min_width": null,
            "object_fit": null,
            "object_position": null,
            "order": null,
            "overflow": null,
            "overflow_x": null,
            "overflow_y": null,
            "padding": null,
            "right": null,
            "top": null,
            "visibility": null,
            "width": null
          }
        },
        "ec994c8da9d548189843e867a9dd51cc": {
          "model_module": "@jupyter-widgets/controls",
          "model_name": "DescriptionStyleModel",
          "model_module_version": "1.5.0",
          "state": {
            "_model_module": "@jupyter-widgets/controls",
            "_model_module_version": "1.5.0",
            "_model_name": "DescriptionStyleModel",
            "_view_count": null,
            "_view_module": "@jupyter-widgets/base",
            "_view_module_version": "1.2.0",
            "_view_name": "StyleView",
            "description_width": ""
          }
        },
        "6d2be422a72342d5a38a793b46a930aa": {
          "model_module": "@jupyter-widgets/controls",
          "model_name": "HBoxModel",
          "model_module_version": "1.5.0",
          "state": {
            "_dom_classes": [],
            "_model_module": "@jupyter-widgets/controls",
            "_model_module_version": "1.5.0",
            "_model_name": "HBoxModel",
            "_view_count": null,
            "_view_module": "@jupyter-widgets/controls",
            "_view_module_version": "1.5.0",
            "_view_name": "HBoxView",
            "box_style": "",
            "children": [
              "IPY_MODEL_51009f381a0f4c6ca9193adaec927a25",
              "IPY_MODEL_a3b75ccbb99940aeb64229ca183f716f",
              "IPY_MODEL_562bc47c5858477d92226366ebffa1ae"
            ],
            "layout": "IPY_MODEL_1ddb2273751640ae827e933ccbc8e1e8"
          }
        },
        "51009f381a0f4c6ca9193adaec927a25": {
          "model_module": "@jupyter-widgets/controls",
          "model_name": "HTMLModel",
          "model_module_version": "1.5.0",
          "state": {
            "_dom_classes": [],
            "_model_module": "@jupyter-widgets/controls",
            "_model_module_version": "1.5.0",
            "_model_name": "HTMLModel",
            "_view_count": null,
            "_view_module": "@jupyter-widgets/controls",
            "_view_module_version": "1.5.0",
            "_view_name": "HTMLView",
            "description": "",
            "description_tooltip": null,
            "layout": "IPY_MODEL_db8e8ffa2c3747c0a7c50109ff09c60a",
            "placeholder": "​",
            "style": "IPY_MODEL_f007a77bf3044b4b928e8473b68948ad",
            "value": "Uploading the dataset shards: 100%"
          }
        },
        "a3b75ccbb99940aeb64229ca183f716f": {
          "model_module": "@jupyter-widgets/controls",
          "model_name": "FloatProgressModel",
          "model_module_version": "1.5.0",
          "state": {
            "_dom_classes": [],
            "_model_module": "@jupyter-widgets/controls",
            "_model_module_version": "1.5.0",
            "_model_name": "FloatProgressModel",
            "_view_count": null,
            "_view_module": "@jupyter-widgets/controls",
            "_view_module_version": "1.5.0",
            "_view_name": "ProgressView",
            "bar_style": "success",
            "description": "",
            "description_tooltip": null,
            "layout": "IPY_MODEL_b7db17a11ab24528999e438311fed50b",
            "max": 1,
            "min": 0,
            "orientation": "horizontal",
            "style": "IPY_MODEL_146dab91c54c4006a18dacf4f35ed5b5",
            "value": 1
          }
        },
        "562bc47c5858477d92226366ebffa1ae": {
          "model_module": "@jupyter-widgets/controls",
          "model_name": "HTMLModel",
          "model_module_version": "1.5.0",
          "state": {
            "_dom_classes": [],
            "_model_module": "@jupyter-widgets/controls",
            "_model_module_version": "1.5.0",
            "_model_name": "HTMLModel",
            "_view_count": null,
            "_view_module": "@jupyter-widgets/controls",
            "_view_module_version": "1.5.0",
            "_view_name": "HTMLView",
            "description": "",
            "description_tooltip": null,
            "layout": "IPY_MODEL_21686cb592744ecaae20efa7527fecdc",
            "placeholder": "​",
            "style": "IPY_MODEL_3eebd9900b36485cadebd21a2f88f389",
            "value": " 1/1 [00:15&lt;00:00, 15.74s/it]"
          }
        },
        "1ddb2273751640ae827e933ccbc8e1e8": {
          "model_module": "@jupyter-widgets/base",
          "model_name": "LayoutModel",
          "model_module_version": "1.2.0",
          "state": {
            "_model_module": "@jupyter-widgets/base",
            "_model_module_version": "1.2.0",
            "_model_name": "LayoutModel",
            "_view_count": null,
            "_view_module": "@jupyter-widgets/base",
            "_view_module_version": "1.2.0",
            "_view_name": "LayoutView",
            "align_content": null,
            "align_items": null,
            "align_self": null,
            "border": null,
            "bottom": null,
            "display": null,
            "flex": null,
            "flex_flow": null,
            "grid_area": null,
            "grid_auto_columns": null,
            "grid_auto_flow": null,
            "grid_auto_rows": null,
            "grid_column": null,
            "grid_gap": null,
            "grid_row": null,
            "grid_template_areas": null,
            "grid_template_columns": null,
            "grid_template_rows": null,
            "height": null,
            "justify_content": null,
            "justify_items": null,
            "left": null,
            "margin": null,
            "max_height": null,
            "max_width": null,
            "min_height": null,
            "min_width": null,
            "object_fit": null,
            "object_position": null,
            "order": null,
            "overflow": null,
            "overflow_x": null,
            "overflow_y": null,
            "padding": null,
            "right": null,
            "top": null,
            "visibility": null,
            "width": null
          }
        },
        "db8e8ffa2c3747c0a7c50109ff09c60a": {
          "model_module": "@jupyter-widgets/base",
          "model_name": "LayoutModel",
          "model_module_version": "1.2.0",
          "state": {
            "_model_module": "@jupyter-widgets/base",
            "_model_module_version": "1.2.0",
            "_model_name": "LayoutModel",
            "_view_count": null,
            "_view_module": "@jupyter-widgets/base",
            "_view_module_version": "1.2.0",
            "_view_name": "LayoutView",
            "align_content": null,
            "align_items": null,
            "align_self": null,
            "border": null,
            "bottom": null,
            "display": null,
            "flex": null,
            "flex_flow": null,
            "grid_area": null,
            "grid_auto_columns": null,
            "grid_auto_flow": null,
            "grid_auto_rows": null,
            "grid_column": null,
            "grid_gap": null,
            "grid_row": null,
            "grid_template_areas": null,
            "grid_template_columns": null,
            "grid_template_rows": null,
            "height": null,
            "justify_content": null,
            "justify_items": null,
            "left": null,
            "margin": null,
            "max_height": null,
            "max_width": null,
            "min_height": null,
            "min_width": null,
            "object_fit": null,
            "object_position": null,
            "order": null,
            "overflow": null,
            "overflow_x": null,
            "overflow_y": null,
            "padding": null,
            "right": null,
            "top": null,
            "visibility": null,
            "width": null
          }
        },
        "f007a77bf3044b4b928e8473b68948ad": {
          "model_module": "@jupyter-widgets/controls",
          "model_name": "DescriptionStyleModel",
          "model_module_version": "1.5.0",
          "state": {
            "_model_module": "@jupyter-widgets/controls",
            "_model_module_version": "1.5.0",
            "_model_name": "DescriptionStyleModel",
            "_view_count": null,
            "_view_module": "@jupyter-widgets/base",
            "_view_module_version": "1.2.0",
            "_view_name": "StyleView",
            "description_width": ""
          }
        },
        "b7db17a11ab24528999e438311fed50b": {
          "model_module": "@jupyter-widgets/base",
          "model_name": "LayoutModel",
          "model_module_version": "1.2.0",
          "state": {
            "_model_module": "@jupyter-widgets/base",
            "_model_module_version": "1.2.0",
            "_model_name": "LayoutModel",
            "_view_count": null,
            "_view_module": "@jupyter-widgets/base",
            "_view_module_version": "1.2.0",
            "_view_name": "LayoutView",
            "align_content": null,
            "align_items": null,
            "align_self": null,
            "border": null,
            "bottom": null,
            "display": null,
            "flex": null,
            "flex_flow": null,
            "grid_area": null,
            "grid_auto_columns": null,
            "grid_auto_flow": null,
            "grid_auto_rows": null,
            "grid_column": null,
            "grid_gap": null,
            "grid_row": null,
            "grid_template_areas": null,
            "grid_template_columns": null,
            "grid_template_rows": null,
            "height": null,
            "justify_content": null,
            "justify_items": null,
            "left": null,
            "margin": null,
            "max_height": null,
            "max_width": null,
            "min_height": null,
            "min_width": null,
            "object_fit": null,
            "object_position": null,
            "order": null,
            "overflow": null,
            "overflow_x": null,
            "overflow_y": null,
            "padding": null,
            "right": null,
            "top": null,
            "visibility": null,
            "width": null
          }
        },
        "146dab91c54c4006a18dacf4f35ed5b5": {
          "model_module": "@jupyter-widgets/controls",
          "model_name": "ProgressStyleModel",
          "model_module_version": "1.5.0",
          "state": {
            "_model_module": "@jupyter-widgets/controls",
            "_model_module_version": "1.5.0",
            "_model_name": "ProgressStyleModel",
            "_view_count": null,
            "_view_module": "@jupyter-widgets/base",
            "_view_module_version": "1.2.0",
            "_view_name": "StyleView",
            "bar_color": null,
            "description_width": ""
          }
        },
        "21686cb592744ecaae20efa7527fecdc": {
          "model_module": "@jupyter-widgets/base",
          "model_name": "LayoutModel",
          "model_module_version": "1.2.0",
          "state": {
            "_model_module": "@jupyter-widgets/base",
            "_model_module_version": "1.2.0",
            "_model_name": "LayoutModel",
            "_view_count": null,
            "_view_module": "@jupyter-widgets/base",
            "_view_module_version": "1.2.0",
            "_view_name": "LayoutView",
            "align_content": null,
            "align_items": null,
            "align_self": null,
            "border": null,
            "bottom": null,
            "display": null,
            "flex": null,
            "flex_flow": null,
            "grid_area": null,
            "grid_auto_columns": null,
            "grid_auto_flow": null,
            "grid_auto_rows": null,
            "grid_column": null,
            "grid_gap": null,
            "grid_row": null,
            "grid_template_areas": null,
            "grid_template_columns": null,
            "grid_template_rows": null,
            "height": null,
            "justify_content": null,
            "justify_items": null,
            "left": null,
            "margin": null,
            "max_height": null,
            "max_width": null,
            "min_height": null,
            "min_width": null,
            "object_fit": null,
            "object_position": null,
            "order": null,
            "overflow": null,
            "overflow_x": null,
            "overflow_y": null,
            "padding": null,
            "right": null,
            "top": null,
            "visibility": null,
            "width": null
          }
        },
        "3eebd9900b36485cadebd21a2f88f389": {
          "model_module": "@jupyter-widgets/controls",
          "model_name": "DescriptionStyleModel",
          "model_module_version": "1.5.0",
          "state": {
            "_model_module": "@jupyter-widgets/controls",
            "_model_module_version": "1.5.0",
            "_model_name": "DescriptionStyleModel",
            "_view_count": null,
            "_view_module": "@jupyter-widgets/base",
            "_view_module_version": "1.2.0",
            "_view_name": "StyleView",
            "description_width": ""
          }
        },
        "6db10cb1c6db43989baca8f2b7c41bb4": {
          "model_module": "@jupyter-widgets/controls",
          "model_name": "HBoxModel",
          "model_module_version": "1.5.0",
          "state": {
            "_dom_classes": [],
            "_model_module": "@jupyter-widgets/controls",
            "_model_module_version": "1.5.0",
            "_model_name": "HBoxModel",
            "_view_count": null,
            "_view_module": "@jupyter-widgets/controls",
            "_view_module_version": "1.5.0",
            "_view_name": "HBoxView",
            "box_style": "",
            "children": [
              "IPY_MODEL_128bd70ec99944c098b9893d49e96bb1",
              "IPY_MODEL_ffae8765c43a46fe949e69a75f327c51",
              "IPY_MODEL_0fe32e0101ee4d1fbd32f0e5ec64a468"
            ],
            "layout": "IPY_MODEL_97dfbd29f4aa4e89af2b5b5d193188f4"
          }
        },
        "128bd70ec99944c098b9893d49e96bb1": {
          "model_module": "@jupyter-widgets/controls",
          "model_name": "HTMLModel",
          "model_module_version": "1.5.0",
          "state": {
            "_dom_classes": [],
            "_model_module": "@jupyter-widgets/controls",
            "_model_module_version": "1.5.0",
            "_model_name": "HTMLModel",
            "_view_count": null,
            "_view_module": "@jupyter-widgets/controls",
            "_view_module_version": "1.5.0",
            "_view_name": "HTMLView",
            "description": "",
            "description_tooltip": null,
            "layout": "IPY_MODEL_93c3b4e875fd4fe098f4a72a0b26f25c",
            "placeholder": "​",
            "style": "IPY_MODEL_1ca8f379c7cb4edb8327a61f67a34a73",
            "value": "Creating parquet from Arrow format: 100%"
          }
        },
        "ffae8765c43a46fe949e69a75f327c51": {
          "model_module": "@jupyter-widgets/controls",
          "model_name": "FloatProgressModel",
          "model_module_version": "1.5.0",
          "state": {
            "_dom_classes": [],
            "_model_module": "@jupyter-widgets/controls",
            "_model_module_version": "1.5.0",
            "_model_name": "FloatProgressModel",
            "_view_count": null,
            "_view_module": "@jupyter-widgets/controls",
            "_view_module_version": "1.5.0",
            "_view_name": "ProgressView",
            "bar_style": "success",
            "description": "",
            "description_tooltip": null,
            "layout": "IPY_MODEL_7876719dde7c4f55ac1077a380f3be2a",
            "max": 11,
            "min": 0,
            "orientation": "horizontal",
            "style": "IPY_MODEL_74d1ec13d8464dedb6cb7a31e0e06cd6",
            "value": 11
          }
        },
        "0fe32e0101ee4d1fbd32f0e5ec64a468": {
          "model_module": "@jupyter-widgets/controls",
          "model_name": "HTMLModel",
          "model_module_version": "1.5.0",
          "state": {
            "_dom_classes": [],
            "_model_module": "@jupyter-widgets/controls",
            "_model_module_version": "1.5.0",
            "_model_name": "HTMLModel",
            "_view_count": null,
            "_view_module": "@jupyter-widgets/controls",
            "_view_module_version": "1.5.0",
            "_view_name": "HTMLView",
            "description": "",
            "description_tooltip": null,
            "layout": "IPY_MODEL_113001444d4440698f5228dbb1a716fa",
            "placeholder": "​",
            "style": "IPY_MODEL_9b438af282f14b2fb65cc6081b248ee0",
            "value": " 11/11 [00:03&lt;00:00,  3.10ba/s]"
          }
        },
        "97dfbd29f4aa4e89af2b5b5d193188f4": {
          "model_module": "@jupyter-widgets/base",
          "model_name": "LayoutModel",
          "model_module_version": "1.2.0",
          "state": {
            "_model_module": "@jupyter-widgets/base",
            "_model_module_version": "1.2.0",
            "_model_name": "LayoutModel",
            "_view_count": null,
            "_view_module": "@jupyter-widgets/base",
            "_view_module_version": "1.2.0",
            "_view_name": "LayoutView",
            "align_content": null,
            "align_items": null,
            "align_self": null,
            "border": null,
            "bottom": null,
            "display": null,
            "flex": null,
            "flex_flow": null,
            "grid_area": null,
            "grid_auto_columns": null,
            "grid_auto_flow": null,
            "grid_auto_rows": null,
            "grid_column": null,
            "grid_gap": null,
            "grid_row": null,
            "grid_template_areas": null,
            "grid_template_columns": null,
            "grid_template_rows": null,
            "height": null,
            "justify_content": null,
            "justify_items": null,
            "left": null,
            "margin": null,
            "max_height": null,
            "max_width": null,
            "min_height": null,
            "min_width": null,
            "object_fit": null,
            "object_position": null,
            "order": null,
            "overflow": null,
            "overflow_x": null,
            "overflow_y": null,
            "padding": null,
            "right": null,
            "top": null,
            "visibility": null,
            "width": null
          }
        },
        "93c3b4e875fd4fe098f4a72a0b26f25c": {
          "model_module": "@jupyter-widgets/base",
          "model_name": "LayoutModel",
          "model_module_version": "1.2.0",
          "state": {
            "_model_module": "@jupyter-widgets/base",
            "_model_module_version": "1.2.0",
            "_model_name": "LayoutModel",
            "_view_count": null,
            "_view_module": "@jupyter-widgets/base",
            "_view_module_version": "1.2.0",
            "_view_name": "LayoutView",
            "align_content": null,
            "align_items": null,
            "align_self": null,
            "border": null,
            "bottom": null,
            "display": null,
            "flex": null,
            "flex_flow": null,
            "grid_area": null,
            "grid_auto_columns": null,
            "grid_auto_flow": null,
            "grid_auto_rows": null,
            "grid_column": null,
            "grid_gap": null,
            "grid_row": null,
            "grid_template_areas": null,
            "grid_template_columns": null,
            "grid_template_rows": null,
            "height": null,
            "justify_content": null,
            "justify_items": null,
            "left": null,
            "margin": null,
            "max_height": null,
            "max_width": null,
            "min_height": null,
            "min_width": null,
            "object_fit": null,
            "object_position": null,
            "order": null,
            "overflow": null,
            "overflow_x": null,
            "overflow_y": null,
            "padding": null,
            "right": null,
            "top": null,
            "visibility": null,
            "width": null
          }
        },
        "1ca8f379c7cb4edb8327a61f67a34a73": {
          "model_module": "@jupyter-widgets/controls",
          "model_name": "DescriptionStyleModel",
          "model_module_version": "1.5.0",
          "state": {
            "_model_module": "@jupyter-widgets/controls",
            "_model_module_version": "1.5.0",
            "_model_name": "DescriptionStyleModel",
            "_view_count": null,
            "_view_module": "@jupyter-widgets/base",
            "_view_module_version": "1.2.0",
            "_view_name": "StyleView",
            "description_width": ""
          }
        },
        "7876719dde7c4f55ac1077a380f3be2a": {
          "model_module": "@jupyter-widgets/base",
          "model_name": "LayoutModel",
          "model_module_version": "1.2.0",
          "state": {
            "_model_module": "@jupyter-widgets/base",
            "_model_module_version": "1.2.0",
            "_model_name": "LayoutModel",
            "_view_count": null,
            "_view_module": "@jupyter-widgets/base",
            "_view_module_version": "1.2.0",
            "_view_name": "LayoutView",
            "align_content": null,
            "align_items": null,
            "align_self": null,
            "border": null,
            "bottom": null,
            "display": null,
            "flex": null,
            "flex_flow": null,
            "grid_area": null,
            "grid_auto_columns": null,
            "grid_auto_flow": null,
            "grid_auto_rows": null,
            "grid_column": null,
            "grid_gap": null,
            "grid_row": null,
            "grid_template_areas": null,
            "grid_template_columns": null,
            "grid_template_rows": null,
            "height": null,
            "justify_content": null,
            "justify_items": null,
            "left": null,
            "margin": null,
            "max_height": null,
            "max_width": null,
            "min_height": null,
            "min_width": null,
            "object_fit": null,
            "object_position": null,
            "order": null,
            "overflow": null,
            "overflow_x": null,
            "overflow_y": null,
            "padding": null,
            "right": null,
            "top": null,
            "visibility": null,
            "width": null
          }
        },
        "74d1ec13d8464dedb6cb7a31e0e06cd6": {
          "model_module": "@jupyter-widgets/controls",
          "model_name": "ProgressStyleModel",
          "model_module_version": "1.5.0",
          "state": {
            "_model_module": "@jupyter-widgets/controls",
            "_model_module_version": "1.5.0",
            "_model_name": "ProgressStyleModel",
            "_view_count": null,
            "_view_module": "@jupyter-widgets/base",
            "_view_module_version": "1.2.0",
            "_view_name": "StyleView",
            "bar_color": null,
            "description_width": ""
          }
        },
        "113001444d4440698f5228dbb1a716fa": {
          "model_module": "@jupyter-widgets/base",
          "model_name": "LayoutModel",
          "model_module_version": "1.2.0",
          "state": {
            "_model_module": "@jupyter-widgets/base",
            "_model_module_version": "1.2.0",
            "_model_name": "LayoutModel",
            "_view_count": null,
            "_view_module": "@jupyter-widgets/base",
            "_view_module_version": "1.2.0",
            "_view_name": "LayoutView",
            "align_content": null,
            "align_items": null,
            "align_self": null,
            "border": null,
            "bottom": null,
            "display": null,
            "flex": null,
            "flex_flow": null,
            "grid_area": null,
            "grid_auto_columns": null,
            "grid_auto_flow": null,
            "grid_auto_rows": null,
            "grid_column": null,
            "grid_gap": null,
            "grid_row": null,
            "grid_template_areas": null,
            "grid_template_columns": null,
            "grid_template_rows": null,
            "height": null,
            "justify_content": null,
            "justify_items": null,
            "left": null,
            "margin": null,
            "max_height": null,
            "max_width": null,
            "min_height": null,
            "min_width": null,
            "object_fit": null,
            "object_position": null,
            "order": null,
            "overflow": null,
            "overflow_x": null,
            "overflow_y": null,
            "padding": null,
            "right": null,
            "top": null,
            "visibility": null,
            "width": null
          }
        },
        "9b438af282f14b2fb65cc6081b248ee0": {
          "model_module": "@jupyter-widgets/controls",
          "model_name": "DescriptionStyleModel",
          "model_module_version": "1.5.0",
          "state": {
            "_model_module": "@jupyter-widgets/controls",
            "_model_module_version": "1.5.0",
            "_model_name": "DescriptionStyleModel",
            "_view_count": null,
            "_view_module": "@jupyter-widgets/base",
            "_view_module_version": "1.2.0",
            "_view_name": "StyleView",
            "description_width": ""
          }
        },
        "ac4a2bd8a6f04b31a114bf3b6f61ec58": {
          "model_module": "@jupyter-widgets/controls",
          "model_name": "HBoxModel",
          "model_module_version": "1.5.0",
          "state": {
            "_dom_classes": [],
            "_model_module": "@jupyter-widgets/controls",
            "_model_module_version": "1.5.0",
            "_model_name": "HBoxModel",
            "_view_count": null,
            "_view_module": "@jupyter-widgets/controls",
            "_view_module_version": "1.5.0",
            "_view_name": "HBoxView",
            "box_style": "",
            "children": [
              "IPY_MODEL_c572299a2c4b4f1b9a3c4ed34a8e41ce",
              "IPY_MODEL_2b64adba3d7c46319c3d63a535db12dd",
              "IPY_MODEL_f218f023c8aa4d0185efa51086f707cd"
            ],
            "layout": "IPY_MODEL_1772925aeba04654850d024ce7e6ee2e"
          }
        },
        "c572299a2c4b4f1b9a3c4ed34a8e41ce": {
          "model_module": "@jupyter-widgets/controls",
          "model_name": "HTMLModel",
          "model_module_version": "1.5.0",
          "state": {
            "_dom_classes": [],
            "_model_module": "@jupyter-widgets/controls",
            "_model_module_version": "1.5.0",
            "_model_name": "HTMLModel",
            "_view_count": null,
            "_view_module": "@jupyter-widgets/controls",
            "_view_module_version": "1.5.0",
            "_view_name": "HTMLView",
            "description": "",
            "description_tooltip": null,
            "layout": "IPY_MODEL_86db4d85ecaa434f993eb4e63b720a99",
            "placeholder": "​",
            "style": "IPY_MODEL_cabb15e481db4515887816e058489ee7",
            "value": "README.md: 100%"
          }
        },
        "2b64adba3d7c46319c3d63a535db12dd": {
          "model_module": "@jupyter-widgets/controls",
          "model_name": "FloatProgressModel",
          "model_module_version": "1.5.0",
          "state": {
            "_dom_classes": [],
            "_model_module": "@jupyter-widgets/controls",
            "_model_module_version": "1.5.0",
            "_model_name": "FloatProgressModel",
            "_view_count": null,
            "_view_module": "@jupyter-widgets/controls",
            "_view_module_version": "1.5.0",
            "_view_name": "ProgressView",
            "bar_style": "success",
            "description": "",
            "description_tooltip": null,
            "layout": "IPY_MODEL_60010812046044d2a5483295cb096cde",
            "max": 484,
            "min": 0,
            "orientation": "horizontal",
            "style": "IPY_MODEL_88dffe22a0a94ade9da843843272cb26",
            "value": 484
          }
        },
        "f218f023c8aa4d0185efa51086f707cd": {
          "model_module": "@jupyter-widgets/controls",
          "model_name": "HTMLModel",
          "model_module_version": "1.5.0",
          "state": {
            "_dom_classes": [],
            "_model_module": "@jupyter-widgets/controls",
            "_model_module_version": "1.5.0",
            "_model_name": "HTMLModel",
            "_view_count": null,
            "_view_module": "@jupyter-widgets/controls",
            "_view_module_version": "1.5.0",
            "_view_name": "HTMLView",
            "description": "",
            "description_tooltip": null,
            "layout": "IPY_MODEL_26cf85d14b3f49e899017c41e52e6124",
            "placeholder": "​",
            "style": "IPY_MODEL_6e19a607f08a40509ca6ce8ae7fd9e65",
            "value": " 484/484 [00:00&lt;00:00, 15.8kB/s]"
          }
        },
        "1772925aeba04654850d024ce7e6ee2e": {
          "model_module": "@jupyter-widgets/base",
          "model_name": "LayoutModel",
          "model_module_version": "1.2.0",
          "state": {
            "_model_module": "@jupyter-widgets/base",
            "_model_module_version": "1.2.0",
            "_model_name": "LayoutModel",
            "_view_count": null,
            "_view_module": "@jupyter-widgets/base",
            "_view_module_version": "1.2.0",
            "_view_name": "LayoutView",
            "align_content": null,
            "align_items": null,
            "align_self": null,
            "border": null,
            "bottom": null,
            "display": null,
            "flex": null,
            "flex_flow": null,
            "grid_area": null,
            "grid_auto_columns": null,
            "grid_auto_flow": null,
            "grid_auto_rows": null,
            "grid_column": null,
            "grid_gap": null,
            "grid_row": null,
            "grid_template_areas": null,
            "grid_template_columns": null,
            "grid_template_rows": null,
            "height": null,
            "justify_content": null,
            "justify_items": null,
            "left": null,
            "margin": null,
            "max_height": null,
            "max_width": null,
            "min_height": null,
            "min_width": null,
            "object_fit": null,
            "object_position": null,
            "order": null,
            "overflow": null,
            "overflow_x": null,
            "overflow_y": null,
            "padding": null,
            "right": null,
            "top": null,
            "visibility": null,
            "width": null
          }
        },
        "86db4d85ecaa434f993eb4e63b720a99": {
          "model_module": "@jupyter-widgets/base",
          "model_name": "LayoutModel",
          "model_module_version": "1.2.0",
          "state": {
            "_model_module": "@jupyter-widgets/base",
            "_model_module_version": "1.2.0",
            "_model_name": "LayoutModel",
            "_view_count": null,
            "_view_module": "@jupyter-widgets/base",
            "_view_module_version": "1.2.0",
            "_view_name": "LayoutView",
            "align_content": null,
            "align_items": null,
            "align_self": null,
            "border": null,
            "bottom": null,
            "display": null,
            "flex": null,
            "flex_flow": null,
            "grid_area": null,
            "grid_auto_columns": null,
            "grid_auto_flow": null,
            "grid_auto_rows": null,
            "grid_column": null,
            "grid_gap": null,
            "grid_row": null,
            "grid_template_areas": null,
            "grid_template_columns": null,
            "grid_template_rows": null,
            "height": null,
            "justify_content": null,
            "justify_items": null,
            "left": null,
            "margin": null,
            "max_height": null,
            "max_width": null,
            "min_height": null,
            "min_width": null,
            "object_fit": null,
            "object_position": null,
            "order": null,
            "overflow": null,
            "overflow_x": null,
            "overflow_y": null,
            "padding": null,
            "right": null,
            "top": null,
            "visibility": null,
            "width": null
          }
        },
        "cabb15e481db4515887816e058489ee7": {
          "model_module": "@jupyter-widgets/controls",
          "model_name": "DescriptionStyleModel",
          "model_module_version": "1.5.0",
          "state": {
            "_model_module": "@jupyter-widgets/controls",
            "_model_module_version": "1.5.0",
            "_model_name": "DescriptionStyleModel",
            "_view_count": null,
            "_view_module": "@jupyter-widgets/base",
            "_view_module_version": "1.2.0",
            "_view_name": "StyleView",
            "description_width": ""
          }
        },
        "60010812046044d2a5483295cb096cde": {
          "model_module": "@jupyter-widgets/base",
          "model_name": "LayoutModel",
          "model_module_version": "1.2.0",
          "state": {
            "_model_module": "@jupyter-widgets/base",
            "_model_module_version": "1.2.0",
            "_model_name": "LayoutModel",
            "_view_count": null,
            "_view_module": "@jupyter-widgets/base",
            "_view_module_version": "1.2.0",
            "_view_name": "LayoutView",
            "align_content": null,
            "align_items": null,
            "align_self": null,
            "border": null,
            "bottom": null,
            "display": null,
            "flex": null,
            "flex_flow": null,
            "grid_area": null,
            "grid_auto_columns": null,
            "grid_auto_flow": null,
            "grid_auto_rows": null,
            "grid_column": null,
            "grid_gap": null,
            "grid_row": null,
            "grid_template_areas": null,
            "grid_template_columns": null,
            "grid_template_rows": null,
            "height": null,
            "justify_content": null,
            "justify_items": null,
            "left": null,
            "margin": null,
            "max_height": null,
            "max_width": null,
            "min_height": null,
            "min_width": null,
            "object_fit": null,
            "object_position": null,
            "order": null,
            "overflow": null,
            "overflow_x": null,
            "overflow_y": null,
            "padding": null,
            "right": null,
            "top": null,
            "visibility": null,
            "width": null
          }
        },
        "88dffe22a0a94ade9da843843272cb26": {
          "model_module": "@jupyter-widgets/controls",
          "model_name": "ProgressStyleModel",
          "model_module_version": "1.5.0",
          "state": {
            "_model_module": "@jupyter-widgets/controls",
            "_model_module_version": "1.5.0",
            "_model_name": "ProgressStyleModel",
            "_view_count": null,
            "_view_module": "@jupyter-widgets/base",
            "_view_module_version": "1.2.0",
            "_view_name": "StyleView",
            "bar_color": null,
            "description_width": ""
          }
        },
        "26cf85d14b3f49e899017c41e52e6124": {
          "model_module": "@jupyter-widgets/base",
          "model_name": "LayoutModel",
          "model_module_version": "1.2.0",
          "state": {
            "_model_module": "@jupyter-widgets/base",
            "_model_module_version": "1.2.0",
            "_model_name": "LayoutModel",
            "_view_count": null,
            "_view_module": "@jupyter-widgets/base",
            "_view_module_version": "1.2.0",
            "_view_name": "LayoutView",
            "align_content": null,
            "align_items": null,
            "align_self": null,
            "border": null,
            "bottom": null,
            "display": null,
            "flex": null,
            "flex_flow": null,
            "grid_area": null,
            "grid_auto_columns": null,
            "grid_auto_flow": null,
            "grid_auto_rows": null,
            "grid_column": null,
            "grid_gap": null,
            "grid_row": null,
            "grid_template_areas": null,
            "grid_template_columns": null,
            "grid_template_rows": null,
            "height": null,
            "justify_content": null,
            "justify_items": null,
            "left": null,
            "margin": null,
            "max_height": null,
            "max_width": null,
            "min_height": null,
            "min_width": null,
            "object_fit": null,
            "object_position": null,
            "order": null,
            "overflow": null,
            "overflow_x": null,
            "overflow_y": null,
            "padding": null,
            "right": null,
            "top": null,
            "visibility": null,
            "width": null
          }
        },
        "6e19a607f08a40509ca6ce8ae7fd9e65": {
          "model_module": "@jupyter-widgets/controls",
          "model_name": "DescriptionStyleModel",
          "model_module_version": "1.5.0",
          "state": {
            "_model_module": "@jupyter-widgets/controls",
            "_model_module_version": "1.5.0",
            "_model_name": "DescriptionStyleModel",
            "_view_count": null,
            "_view_module": "@jupyter-widgets/base",
            "_view_module_version": "1.2.0",
            "_view_name": "StyleView",
            "description_width": ""
          }
        },
        "31776ec9c2414fca931bd221e5559d35": {
          "model_module": "@jupyter-widgets/controls",
          "model_name": "HBoxModel",
          "model_module_version": "1.5.0",
          "state": {
            "_dom_classes": [],
            "_model_module": "@jupyter-widgets/controls",
            "_model_module_version": "1.5.0",
            "_model_name": "HBoxModel",
            "_view_count": null,
            "_view_module": "@jupyter-widgets/controls",
            "_view_module_version": "1.5.0",
            "_view_name": "HBoxView",
            "box_style": "",
            "children": [
              "IPY_MODEL_e8f15b8c7c2f4698adf930439526706d",
              "IPY_MODEL_90ed1835aef14257a005eff77c542c5c",
              "IPY_MODEL_0df1326c1e474aa1ac0cca817860f109"
            ],
            "layout": "IPY_MODEL_490053d76387444a9c5096f943b13b32"
          }
        },
        "e8f15b8c7c2f4698adf930439526706d": {
          "model_module": "@jupyter-widgets/controls",
          "model_name": "HTMLModel",
          "model_module_version": "1.5.0",
          "state": {
            "_dom_classes": [],
            "_model_module": "@jupyter-widgets/controls",
            "_model_module_version": "1.5.0",
            "_model_name": "HTMLModel",
            "_view_count": null,
            "_view_module": "@jupyter-widgets/controls",
            "_view_module_version": "1.5.0",
            "_view_name": "HTMLView",
            "description": "",
            "description_tooltip": null,
            "layout": "IPY_MODEL_2a9ab040033648cdbb25cc47ad854e92",
            "placeholder": "​",
            "style": "IPY_MODEL_3b58228279d74e4f997ac2cb28b02576",
            "value": "Downloading readme: 100%"
          }
        },
        "90ed1835aef14257a005eff77c542c5c": {
          "model_module": "@jupyter-widgets/controls",
          "model_name": "FloatProgressModel",
          "model_module_version": "1.5.0",
          "state": {
            "_dom_classes": [],
            "_model_module": "@jupyter-widgets/controls",
            "_model_module_version": "1.5.0",
            "_model_name": "FloatProgressModel",
            "_view_count": null,
            "_view_module": "@jupyter-widgets/controls",
            "_view_module_version": "1.5.0",
            "_view_name": "ProgressView",
            "bar_style": "success",
            "description": "",
            "description_tooltip": null,
            "layout": "IPY_MODEL_55fa12f9b7164fcba893b21dbb6bd6d2",
            "max": 484,
            "min": 0,
            "orientation": "horizontal",
            "style": "IPY_MODEL_6206fb87fda546f5911cdbb331cebb1a",
            "value": 484
          }
        },
        "0df1326c1e474aa1ac0cca817860f109": {
          "model_module": "@jupyter-widgets/controls",
          "model_name": "HTMLModel",
          "model_module_version": "1.5.0",
          "state": {
            "_dom_classes": [],
            "_model_module": "@jupyter-widgets/controls",
            "_model_module_version": "1.5.0",
            "_model_name": "HTMLModel",
            "_view_count": null,
            "_view_module": "@jupyter-widgets/controls",
            "_view_module_version": "1.5.0",
            "_view_name": "HTMLView",
            "description": "",
            "description_tooltip": null,
            "layout": "IPY_MODEL_76f4fc5a8c684bb38ba5645e0592f3b0",
            "placeholder": "​",
            "style": "IPY_MODEL_71675c35921b4acbb2d861374e897b0b",
            "value": " 484/484 [00:00&lt;00:00, 31.6kB/s]"
          }
        },
        "490053d76387444a9c5096f943b13b32": {
          "model_module": "@jupyter-widgets/base",
          "model_name": "LayoutModel",
          "model_module_version": "1.2.0",
          "state": {
            "_model_module": "@jupyter-widgets/base",
            "_model_module_version": "1.2.0",
            "_model_name": "LayoutModel",
            "_view_count": null,
            "_view_module": "@jupyter-widgets/base",
            "_view_module_version": "1.2.0",
            "_view_name": "LayoutView",
            "align_content": null,
            "align_items": null,
            "align_self": null,
            "border": null,
            "bottom": null,
            "display": null,
            "flex": null,
            "flex_flow": null,
            "grid_area": null,
            "grid_auto_columns": null,
            "grid_auto_flow": null,
            "grid_auto_rows": null,
            "grid_column": null,
            "grid_gap": null,
            "grid_row": null,
            "grid_template_areas": null,
            "grid_template_columns": null,
            "grid_template_rows": null,
            "height": null,
            "justify_content": null,
            "justify_items": null,
            "left": null,
            "margin": null,
            "max_height": null,
            "max_width": null,
            "min_height": null,
            "min_width": null,
            "object_fit": null,
            "object_position": null,
            "order": null,
            "overflow": null,
            "overflow_x": null,
            "overflow_y": null,
            "padding": null,
            "right": null,
            "top": null,
            "visibility": null,
            "width": null
          }
        },
        "2a9ab040033648cdbb25cc47ad854e92": {
          "model_module": "@jupyter-widgets/base",
          "model_name": "LayoutModel",
          "model_module_version": "1.2.0",
          "state": {
            "_model_module": "@jupyter-widgets/base",
            "_model_module_version": "1.2.0",
            "_model_name": "LayoutModel",
            "_view_count": null,
            "_view_module": "@jupyter-widgets/base",
            "_view_module_version": "1.2.0",
            "_view_name": "LayoutView",
            "align_content": null,
            "align_items": null,
            "align_self": null,
            "border": null,
            "bottom": null,
            "display": null,
            "flex": null,
            "flex_flow": null,
            "grid_area": null,
            "grid_auto_columns": null,
            "grid_auto_flow": null,
            "grid_auto_rows": null,
            "grid_column": null,
            "grid_gap": null,
            "grid_row": null,
            "grid_template_areas": null,
            "grid_template_columns": null,
            "grid_template_rows": null,
            "height": null,
            "justify_content": null,
            "justify_items": null,
            "left": null,
            "margin": null,
            "max_height": null,
            "max_width": null,
            "min_height": null,
            "min_width": null,
            "object_fit": null,
            "object_position": null,
            "order": null,
            "overflow": null,
            "overflow_x": null,
            "overflow_y": null,
            "padding": null,
            "right": null,
            "top": null,
            "visibility": null,
            "width": null
          }
        },
        "3b58228279d74e4f997ac2cb28b02576": {
          "model_module": "@jupyter-widgets/controls",
          "model_name": "DescriptionStyleModel",
          "model_module_version": "1.5.0",
          "state": {
            "_model_module": "@jupyter-widgets/controls",
            "_model_module_version": "1.5.0",
            "_model_name": "DescriptionStyleModel",
            "_view_count": null,
            "_view_module": "@jupyter-widgets/base",
            "_view_module_version": "1.2.0",
            "_view_name": "StyleView",
            "description_width": ""
          }
        },
        "55fa12f9b7164fcba893b21dbb6bd6d2": {
          "model_module": "@jupyter-widgets/base",
          "model_name": "LayoutModel",
          "model_module_version": "1.2.0",
          "state": {
            "_model_module": "@jupyter-widgets/base",
            "_model_module_version": "1.2.0",
            "_model_name": "LayoutModel",
            "_view_count": null,
            "_view_module": "@jupyter-widgets/base",
            "_view_module_version": "1.2.0",
            "_view_name": "LayoutView",
            "align_content": null,
            "align_items": null,
            "align_self": null,
            "border": null,
            "bottom": null,
            "display": null,
            "flex": null,
            "flex_flow": null,
            "grid_area": null,
            "grid_auto_columns": null,
            "grid_auto_flow": null,
            "grid_auto_rows": null,
            "grid_column": null,
            "grid_gap": null,
            "grid_row": null,
            "grid_template_areas": null,
            "grid_template_columns": null,
            "grid_template_rows": null,
            "height": null,
            "justify_content": null,
            "justify_items": null,
            "left": null,
            "margin": null,
            "max_height": null,
            "max_width": null,
            "min_height": null,
            "min_width": null,
            "object_fit": null,
            "object_position": null,
            "order": null,
            "overflow": null,
            "overflow_x": null,
            "overflow_y": null,
            "padding": null,
            "right": null,
            "top": null,
            "visibility": null,
            "width": null
          }
        },
        "6206fb87fda546f5911cdbb331cebb1a": {
          "model_module": "@jupyter-widgets/controls",
          "model_name": "ProgressStyleModel",
          "model_module_version": "1.5.0",
          "state": {
            "_model_module": "@jupyter-widgets/controls",
            "_model_module_version": "1.5.0",
            "_model_name": "ProgressStyleModel",
            "_view_count": null,
            "_view_module": "@jupyter-widgets/base",
            "_view_module_version": "1.2.0",
            "_view_name": "StyleView",
            "bar_color": null,
            "description_width": ""
          }
        },
        "76f4fc5a8c684bb38ba5645e0592f3b0": {
          "model_module": "@jupyter-widgets/base",
          "model_name": "LayoutModel",
          "model_module_version": "1.2.0",
          "state": {
            "_model_module": "@jupyter-widgets/base",
            "_model_module_version": "1.2.0",
            "_model_name": "LayoutModel",
            "_view_count": null,
            "_view_module": "@jupyter-widgets/base",
            "_view_module_version": "1.2.0",
            "_view_name": "LayoutView",
            "align_content": null,
            "align_items": null,
            "align_self": null,
            "border": null,
            "bottom": null,
            "display": null,
            "flex": null,
            "flex_flow": null,
            "grid_area": null,
            "grid_auto_columns": null,
            "grid_auto_flow": null,
            "grid_auto_rows": null,
            "grid_column": null,
            "grid_gap": null,
            "grid_row": null,
            "grid_template_areas": null,
            "grid_template_columns": null,
            "grid_template_rows": null,
            "height": null,
            "justify_content": null,
            "justify_items": null,
            "left": null,
            "margin": null,
            "max_height": null,
            "max_width": null,
            "min_height": null,
            "min_width": null,
            "object_fit": null,
            "object_position": null,
            "order": null,
            "overflow": null,
            "overflow_x": null,
            "overflow_y": null,
            "padding": null,
            "right": null,
            "top": null,
            "visibility": null,
            "width": null
          }
        },
        "71675c35921b4acbb2d861374e897b0b": {
          "model_module": "@jupyter-widgets/controls",
          "model_name": "DescriptionStyleModel",
          "model_module_version": "1.5.0",
          "state": {
            "_model_module": "@jupyter-widgets/controls",
            "_model_module_version": "1.5.0",
            "_model_name": "DescriptionStyleModel",
            "_view_count": null,
            "_view_module": "@jupyter-widgets/base",
            "_view_module_version": "1.2.0",
            "_view_name": "StyleView",
            "description_width": ""
          }
        },
        "eea5af05555440f1be2b0d6902c69a04": {
          "model_module": "@jupyter-widgets/controls",
          "model_name": "HBoxModel",
          "model_module_version": "1.5.0",
          "state": {
            "_dom_classes": [],
            "_model_module": "@jupyter-widgets/controls",
            "_model_module_version": "1.5.0",
            "_model_name": "HBoxModel",
            "_view_count": null,
            "_view_module": "@jupyter-widgets/controls",
            "_view_module_version": "1.5.0",
            "_view_name": "HBoxView",
            "box_style": "",
            "children": [
              "IPY_MODEL_2f961b4755494997bcfd3d41807ef84f",
              "IPY_MODEL_7a1bea11666b4bfaa74a540a59896882",
              "IPY_MODEL_dbbba1cc2e7a44d8bf3e5861cc740027"
            ],
            "layout": "IPY_MODEL_541336c139e5435bb285895e5a3c78eb"
          }
        },
        "2f961b4755494997bcfd3d41807ef84f": {
          "model_module": "@jupyter-widgets/controls",
          "model_name": "HTMLModel",
          "model_module_version": "1.5.0",
          "state": {
            "_dom_classes": [],
            "_model_module": "@jupyter-widgets/controls",
            "_model_module_version": "1.5.0",
            "_model_name": "HTMLModel",
            "_view_count": null,
            "_view_module": "@jupyter-widgets/controls",
            "_view_module_version": "1.5.0",
            "_view_name": "HTMLView",
            "description": "",
            "description_tooltip": null,
            "layout": "IPY_MODEL_cfacaad3f084490d89aba58f0caae613",
            "placeholder": "​",
            "style": "IPY_MODEL_1a8695b96eeb4e969473470131f5fea7",
            "value": "Downloading data: 100%"
          }
        },
        "7a1bea11666b4bfaa74a540a59896882": {
          "model_module": "@jupyter-widgets/controls",
          "model_name": "FloatProgressModel",
          "model_module_version": "1.5.0",
          "state": {
            "_dom_classes": [],
            "_model_module": "@jupyter-widgets/controls",
            "_model_module_version": "1.5.0",
            "_model_name": "FloatProgressModel",
            "_view_count": null,
            "_view_module": "@jupyter-widgets/controls",
            "_view_module_version": "1.5.0",
            "_view_name": "ProgressView",
            "bar_style": "success",
            "description": "",
            "description_tooltip": null,
            "layout": "IPY_MODEL_cc5244d008aa48eb89397d3003c44f8c",
            "max": 230679788,
            "min": 0,
            "orientation": "horizontal",
            "style": "IPY_MODEL_5b5c9d5373c44fc0883eaaa1a500a3ff",
            "value": 230679788
          }
        },
        "dbbba1cc2e7a44d8bf3e5861cc740027": {
          "model_module": "@jupyter-widgets/controls",
          "model_name": "HTMLModel",
          "model_module_version": "1.5.0",
          "state": {
            "_dom_classes": [],
            "_model_module": "@jupyter-widgets/controls",
            "_model_module_version": "1.5.0",
            "_model_name": "HTMLModel",
            "_view_count": null,
            "_view_module": "@jupyter-widgets/controls",
            "_view_module_version": "1.5.0",
            "_view_name": "HTMLView",
            "description": "",
            "description_tooltip": null,
            "layout": "IPY_MODEL_7888437c214f488db8b46e25542d5f5b",
            "placeholder": "​",
            "style": "IPY_MODEL_dd26767f27db4d6e801cede39d39d68a",
            "value": " 231M/231M [00:05&lt;00:00, 48.8MB/s]"
          }
        },
        "541336c139e5435bb285895e5a3c78eb": {
          "model_module": "@jupyter-widgets/base",
          "model_name": "LayoutModel",
          "model_module_version": "1.2.0",
          "state": {
            "_model_module": "@jupyter-widgets/base",
            "_model_module_version": "1.2.0",
            "_model_name": "LayoutModel",
            "_view_count": null,
            "_view_module": "@jupyter-widgets/base",
            "_view_module_version": "1.2.0",
            "_view_name": "LayoutView",
            "align_content": null,
            "align_items": null,
            "align_self": null,
            "border": null,
            "bottom": null,
            "display": null,
            "flex": null,
            "flex_flow": null,
            "grid_area": null,
            "grid_auto_columns": null,
            "grid_auto_flow": null,
            "grid_auto_rows": null,
            "grid_column": null,
            "grid_gap": null,
            "grid_row": null,
            "grid_template_areas": null,
            "grid_template_columns": null,
            "grid_template_rows": null,
            "height": null,
            "justify_content": null,
            "justify_items": null,
            "left": null,
            "margin": null,
            "max_height": null,
            "max_width": null,
            "min_height": null,
            "min_width": null,
            "object_fit": null,
            "object_position": null,
            "order": null,
            "overflow": null,
            "overflow_x": null,
            "overflow_y": null,
            "padding": null,
            "right": null,
            "top": null,
            "visibility": null,
            "width": null
          }
        },
        "cfacaad3f084490d89aba58f0caae613": {
          "model_module": "@jupyter-widgets/base",
          "model_name": "LayoutModel",
          "model_module_version": "1.2.0",
          "state": {
            "_model_module": "@jupyter-widgets/base",
            "_model_module_version": "1.2.0",
            "_model_name": "LayoutModel",
            "_view_count": null,
            "_view_module": "@jupyter-widgets/base",
            "_view_module_version": "1.2.0",
            "_view_name": "LayoutView",
            "align_content": null,
            "align_items": null,
            "align_self": null,
            "border": null,
            "bottom": null,
            "display": null,
            "flex": null,
            "flex_flow": null,
            "grid_area": null,
            "grid_auto_columns": null,
            "grid_auto_flow": null,
            "grid_auto_rows": null,
            "grid_column": null,
            "grid_gap": null,
            "grid_row": null,
            "grid_template_areas": null,
            "grid_template_columns": null,
            "grid_template_rows": null,
            "height": null,
            "justify_content": null,
            "justify_items": null,
            "left": null,
            "margin": null,
            "max_height": null,
            "max_width": null,
            "min_height": null,
            "min_width": null,
            "object_fit": null,
            "object_position": null,
            "order": null,
            "overflow": null,
            "overflow_x": null,
            "overflow_y": null,
            "padding": null,
            "right": null,
            "top": null,
            "visibility": null,
            "width": null
          }
        },
        "1a8695b96eeb4e969473470131f5fea7": {
          "model_module": "@jupyter-widgets/controls",
          "model_name": "DescriptionStyleModel",
          "model_module_version": "1.5.0",
          "state": {
            "_model_module": "@jupyter-widgets/controls",
            "_model_module_version": "1.5.0",
            "_model_name": "DescriptionStyleModel",
            "_view_count": null,
            "_view_module": "@jupyter-widgets/base",
            "_view_module_version": "1.2.0",
            "_view_name": "StyleView",
            "description_width": ""
          }
        },
        "cc5244d008aa48eb89397d3003c44f8c": {
          "model_module": "@jupyter-widgets/base",
          "model_name": "LayoutModel",
          "model_module_version": "1.2.0",
          "state": {
            "_model_module": "@jupyter-widgets/base",
            "_model_module_version": "1.2.0",
            "_model_name": "LayoutModel",
            "_view_count": null,
            "_view_module": "@jupyter-widgets/base",
            "_view_module_version": "1.2.0",
            "_view_name": "LayoutView",
            "align_content": null,
            "align_items": null,
            "align_self": null,
            "border": null,
            "bottom": null,
            "display": null,
            "flex": null,
            "flex_flow": null,
            "grid_area": null,
            "grid_auto_columns": null,
            "grid_auto_flow": null,
            "grid_auto_rows": null,
            "grid_column": null,
            "grid_gap": null,
            "grid_row": null,
            "grid_template_areas": null,
            "grid_template_columns": null,
            "grid_template_rows": null,
            "height": null,
            "justify_content": null,
            "justify_items": null,
            "left": null,
            "margin": null,
            "max_height": null,
            "max_width": null,
            "min_height": null,
            "min_width": null,
            "object_fit": null,
            "object_position": null,
            "order": null,
            "overflow": null,
            "overflow_x": null,
            "overflow_y": null,
            "padding": null,
            "right": null,
            "top": null,
            "visibility": null,
            "width": null
          }
        },
        "5b5c9d5373c44fc0883eaaa1a500a3ff": {
          "model_module": "@jupyter-widgets/controls",
          "model_name": "ProgressStyleModel",
          "model_module_version": "1.5.0",
          "state": {
            "_model_module": "@jupyter-widgets/controls",
            "_model_module_version": "1.5.0",
            "_model_name": "ProgressStyleModel",
            "_view_count": null,
            "_view_module": "@jupyter-widgets/base",
            "_view_module_version": "1.2.0",
            "_view_name": "StyleView",
            "bar_color": null,
            "description_width": ""
          }
        },
        "7888437c214f488db8b46e25542d5f5b": {
          "model_module": "@jupyter-widgets/base",
          "model_name": "LayoutModel",
          "model_module_version": "1.2.0",
          "state": {
            "_model_module": "@jupyter-widgets/base",
            "_model_module_version": "1.2.0",
            "_model_name": "LayoutModel",
            "_view_count": null,
            "_view_module": "@jupyter-widgets/base",
            "_view_module_version": "1.2.0",
            "_view_name": "LayoutView",
            "align_content": null,
            "align_items": null,
            "align_self": null,
            "border": null,
            "bottom": null,
            "display": null,
            "flex": null,
            "flex_flow": null,
            "grid_area": null,
            "grid_auto_columns": null,
            "grid_auto_flow": null,
            "grid_auto_rows": null,
            "grid_column": null,
            "grid_gap": null,
            "grid_row": null,
            "grid_template_areas": null,
            "grid_template_columns": null,
            "grid_template_rows": null,
            "height": null,
            "justify_content": null,
            "justify_items": null,
            "left": null,
            "margin": null,
            "max_height": null,
            "max_width": null,
            "min_height": null,
            "min_width": null,
            "object_fit": null,
            "object_position": null,
            "order": null,
            "overflow": null,
            "overflow_x": null,
            "overflow_y": null,
            "padding": null,
            "right": null,
            "top": null,
            "visibility": null,
            "width": null
          }
        },
        "dd26767f27db4d6e801cede39d39d68a": {
          "model_module": "@jupyter-widgets/controls",
          "model_name": "DescriptionStyleModel",
          "model_module_version": "1.5.0",
          "state": {
            "_model_module": "@jupyter-widgets/controls",
            "_model_module_version": "1.5.0",
            "_model_name": "DescriptionStyleModel",
            "_view_count": null,
            "_view_module": "@jupyter-widgets/base",
            "_view_module_version": "1.2.0",
            "_view_name": "StyleView",
            "description_width": ""
          }
        },
        "31fdbae7ca124c10a897e35a62c6075d": {
          "model_module": "@jupyter-widgets/controls",
          "model_name": "HBoxModel",
          "model_module_version": "1.5.0",
          "state": {
            "_dom_classes": [],
            "_model_module": "@jupyter-widgets/controls",
            "_model_module_version": "1.5.0",
            "_model_name": "HBoxModel",
            "_view_count": null,
            "_view_module": "@jupyter-widgets/controls",
            "_view_module_version": "1.5.0",
            "_view_name": "HBoxView",
            "box_style": "",
            "children": [
              "IPY_MODEL_dd5d5ce4a85f48d8aa85ddd9fb86776b",
              "IPY_MODEL_aa623c7d45f44c828079682454fc2c58",
              "IPY_MODEL_acbf206a3a294ac3b1663929263097f2"
            ],
            "layout": "IPY_MODEL_8b139fb6cc744126b83a58a470cae924"
          }
        },
        "dd5d5ce4a85f48d8aa85ddd9fb86776b": {
          "model_module": "@jupyter-widgets/controls",
          "model_name": "HTMLModel",
          "model_module_version": "1.5.0",
          "state": {
            "_dom_classes": [],
            "_model_module": "@jupyter-widgets/controls",
            "_model_module_version": "1.5.0",
            "_model_name": "HTMLModel",
            "_view_count": null,
            "_view_module": "@jupyter-widgets/controls",
            "_view_module_version": "1.5.0",
            "_view_name": "HTMLView",
            "description": "",
            "description_tooltip": null,
            "layout": "IPY_MODEL_df9f88a8de31490fa5d89effe2209b8e",
            "placeholder": "​",
            "style": "IPY_MODEL_7d3fb6dc658940b9b354ad7e67440803",
            "value": "Generating train split: 100%"
          }
        },
        "aa623c7d45f44c828079682454fc2c58": {
          "model_module": "@jupyter-widgets/controls",
          "model_name": "FloatProgressModel",
          "model_module_version": "1.5.0",
          "state": {
            "_dom_classes": [],
            "_model_module": "@jupyter-widgets/controls",
            "_model_module_version": "1.5.0",
            "_model_name": "FloatProgressModel",
            "_view_count": null,
            "_view_module": "@jupyter-widgets/controls",
            "_view_module_version": "1.5.0",
            "_view_name": "ProgressView",
            "bar_style": "success",
            "description": "",
            "description_tooltip": null,
            "layout": "IPY_MODEL_07d93ae358574e03b02f00e37cb5b10c",
            "max": 10944,
            "min": 0,
            "orientation": "horizontal",
            "style": "IPY_MODEL_3e23c782fcc149e6a845a9e4fa8476f1",
            "value": 10944
          }
        },
        "acbf206a3a294ac3b1663929263097f2": {
          "model_module": "@jupyter-widgets/controls",
          "model_name": "HTMLModel",
          "model_module_version": "1.5.0",
          "state": {
            "_dom_classes": [],
            "_model_module": "@jupyter-widgets/controls",
            "_model_module_version": "1.5.0",
            "_model_name": "HTMLModel",
            "_view_count": null,
            "_view_module": "@jupyter-widgets/controls",
            "_view_module_version": "1.5.0",
            "_view_name": "HTMLView",
            "description": "",
            "description_tooltip": null,
            "layout": "IPY_MODEL_ef1a9e2ddf66406caf410a78d5755e68",
            "placeholder": "​",
            "style": "IPY_MODEL_9672f0e0bbf64b32b22d8f00e87db80c",
            "value": " 10944/10944 [00:05&lt;00:00, 2339.80 examples/s]"
          }
        },
        "8b139fb6cc744126b83a58a470cae924": {
          "model_module": "@jupyter-widgets/base",
          "model_name": "LayoutModel",
          "model_module_version": "1.2.0",
          "state": {
            "_model_module": "@jupyter-widgets/base",
            "_model_module_version": "1.2.0",
            "_model_name": "LayoutModel",
            "_view_count": null,
            "_view_module": "@jupyter-widgets/base",
            "_view_module_version": "1.2.0",
            "_view_name": "LayoutView",
            "align_content": null,
            "align_items": null,
            "align_self": null,
            "border": null,
            "bottom": null,
            "display": null,
            "flex": null,
            "flex_flow": null,
            "grid_area": null,
            "grid_auto_columns": null,
            "grid_auto_flow": null,
            "grid_auto_rows": null,
            "grid_column": null,
            "grid_gap": null,
            "grid_row": null,
            "grid_template_areas": null,
            "grid_template_columns": null,
            "grid_template_rows": null,
            "height": null,
            "justify_content": null,
            "justify_items": null,
            "left": null,
            "margin": null,
            "max_height": null,
            "max_width": null,
            "min_height": null,
            "min_width": null,
            "object_fit": null,
            "object_position": null,
            "order": null,
            "overflow": null,
            "overflow_x": null,
            "overflow_y": null,
            "padding": null,
            "right": null,
            "top": null,
            "visibility": null,
            "width": null
          }
        },
        "df9f88a8de31490fa5d89effe2209b8e": {
          "model_module": "@jupyter-widgets/base",
          "model_name": "LayoutModel",
          "model_module_version": "1.2.0",
          "state": {
            "_model_module": "@jupyter-widgets/base",
            "_model_module_version": "1.2.0",
            "_model_name": "LayoutModel",
            "_view_count": null,
            "_view_module": "@jupyter-widgets/base",
            "_view_module_version": "1.2.0",
            "_view_name": "LayoutView",
            "align_content": null,
            "align_items": null,
            "align_self": null,
            "border": null,
            "bottom": null,
            "display": null,
            "flex": null,
            "flex_flow": null,
            "grid_area": null,
            "grid_auto_columns": null,
            "grid_auto_flow": null,
            "grid_auto_rows": null,
            "grid_column": null,
            "grid_gap": null,
            "grid_row": null,
            "grid_template_areas": null,
            "grid_template_columns": null,
            "grid_template_rows": null,
            "height": null,
            "justify_content": null,
            "justify_items": null,
            "left": null,
            "margin": null,
            "max_height": null,
            "max_width": null,
            "min_height": null,
            "min_width": null,
            "object_fit": null,
            "object_position": null,
            "order": null,
            "overflow": null,
            "overflow_x": null,
            "overflow_y": null,
            "padding": null,
            "right": null,
            "top": null,
            "visibility": null,
            "width": null
          }
        },
        "7d3fb6dc658940b9b354ad7e67440803": {
          "model_module": "@jupyter-widgets/controls",
          "model_name": "DescriptionStyleModel",
          "model_module_version": "1.5.0",
          "state": {
            "_model_module": "@jupyter-widgets/controls",
            "_model_module_version": "1.5.0",
            "_model_name": "DescriptionStyleModel",
            "_view_count": null,
            "_view_module": "@jupyter-widgets/base",
            "_view_module_version": "1.2.0",
            "_view_name": "StyleView",
            "description_width": ""
          }
        },
        "07d93ae358574e03b02f00e37cb5b10c": {
          "model_module": "@jupyter-widgets/base",
          "model_name": "LayoutModel",
          "model_module_version": "1.2.0",
          "state": {
            "_model_module": "@jupyter-widgets/base",
            "_model_module_version": "1.2.0",
            "_model_name": "LayoutModel",
            "_view_count": null,
            "_view_module": "@jupyter-widgets/base",
            "_view_module_version": "1.2.0",
            "_view_name": "LayoutView",
            "align_content": null,
            "align_items": null,
            "align_self": null,
            "border": null,
            "bottom": null,
            "display": null,
            "flex": null,
            "flex_flow": null,
            "grid_area": null,
            "grid_auto_columns": null,
            "grid_auto_flow": null,
            "grid_auto_rows": null,
            "grid_column": null,
            "grid_gap": null,
            "grid_row": null,
            "grid_template_areas": null,
            "grid_template_columns": null,
            "grid_template_rows": null,
            "height": null,
            "justify_content": null,
            "justify_items": null,
            "left": null,
            "margin": null,
            "max_height": null,
            "max_width": null,
            "min_height": null,
            "min_width": null,
            "object_fit": null,
            "object_position": null,
            "order": null,
            "overflow": null,
            "overflow_x": null,
            "overflow_y": null,
            "padding": null,
            "right": null,
            "top": null,
            "visibility": null,
            "width": null
          }
        },
        "3e23c782fcc149e6a845a9e4fa8476f1": {
          "model_module": "@jupyter-widgets/controls",
          "model_name": "ProgressStyleModel",
          "model_module_version": "1.5.0",
          "state": {
            "_model_module": "@jupyter-widgets/controls",
            "_model_module_version": "1.5.0",
            "_model_name": "ProgressStyleModel",
            "_view_count": null,
            "_view_module": "@jupyter-widgets/base",
            "_view_module_version": "1.2.0",
            "_view_name": "StyleView",
            "bar_color": null,
            "description_width": ""
          }
        },
        "ef1a9e2ddf66406caf410a78d5755e68": {
          "model_module": "@jupyter-widgets/base",
          "model_name": "LayoutModel",
          "model_module_version": "1.2.0",
          "state": {
            "_model_module": "@jupyter-widgets/base",
            "_model_module_version": "1.2.0",
            "_model_name": "LayoutModel",
            "_view_count": null,
            "_view_module": "@jupyter-widgets/base",
            "_view_module_version": "1.2.0",
            "_view_name": "LayoutView",
            "align_content": null,
            "align_items": null,
            "align_self": null,
            "border": null,
            "bottom": null,
            "display": null,
            "flex": null,
            "flex_flow": null,
            "grid_area": null,
            "grid_auto_columns": null,
            "grid_auto_flow": null,
            "grid_auto_rows": null,
            "grid_column": null,
            "grid_gap": null,
            "grid_row": null,
            "grid_template_areas": null,
            "grid_template_columns": null,
            "grid_template_rows": null,
            "height": null,
            "justify_content": null,
            "justify_items": null,
            "left": null,
            "margin": null,
            "max_height": null,
            "max_width": null,
            "min_height": null,
            "min_width": null,
            "object_fit": null,
            "object_position": null,
            "order": null,
            "overflow": null,
            "overflow_x": null,
            "overflow_y": null,
            "padding": null,
            "right": null,
            "top": null,
            "visibility": null,
            "width": null
          }
        },
        "9672f0e0bbf64b32b22d8f00e87db80c": {
          "model_module": "@jupyter-widgets/controls",
          "model_name": "DescriptionStyleModel",
          "model_module_version": "1.5.0",
          "state": {
            "_model_module": "@jupyter-widgets/controls",
            "_model_module_version": "1.5.0",
            "_model_name": "DescriptionStyleModel",
            "_view_count": null,
            "_view_module": "@jupyter-widgets/base",
            "_view_module_version": "1.2.0",
            "_view_name": "StyleView",
            "description_width": ""
          }
        },
        "97bd51eec9004c5cac8b37b5a4c3f176": {
          "model_module": "@jupyter-widgets/controls",
          "model_name": "HBoxModel",
          "model_module_version": "1.5.0",
          "state": {
            "_dom_classes": [],
            "_model_module": "@jupyter-widgets/controls",
            "_model_module_version": "1.5.0",
            "_model_name": "HBoxModel",
            "_view_count": null,
            "_view_module": "@jupyter-widgets/controls",
            "_view_module_version": "1.5.0",
            "_view_name": "HBoxView",
            "box_style": "",
            "children": [
              "IPY_MODEL_9846fdb508ee4d3193c4f08dab3e3a7f",
              "IPY_MODEL_003ef060b0aa4159ad377faa67cec0a1",
              "IPY_MODEL_05abdc19879c48c499f978e17aa79fd7"
            ],
            "layout": "IPY_MODEL_f1cd58a12fe940abb47ee292af3683a3"
          }
        },
        "9846fdb508ee4d3193c4f08dab3e3a7f": {
          "model_module": "@jupyter-widgets/controls",
          "model_name": "HTMLModel",
          "model_module_version": "1.5.0",
          "state": {
            "_dom_classes": [],
            "_model_module": "@jupyter-widgets/controls",
            "_model_module_version": "1.5.0",
            "_model_name": "HTMLModel",
            "_view_count": null,
            "_view_module": "@jupyter-widgets/controls",
            "_view_module_version": "1.5.0",
            "_view_name": "HTMLView",
            "description": "",
            "description_tooltip": null,
            "layout": "IPY_MODEL_9d0843ed2d4a43918b3cc55a9904f281",
            "placeholder": "​",
            "style": "IPY_MODEL_2d109815c5024d098f2d578b41832073",
            "value": "100%"
          }
        },
        "003ef060b0aa4159ad377faa67cec0a1": {
          "model_module": "@jupyter-widgets/controls",
          "model_name": "FloatProgressModel",
          "model_module_version": "1.5.0",
          "state": {
            "_dom_classes": [],
            "_model_module": "@jupyter-widgets/controls",
            "_model_module_version": "1.5.0",
            "_model_name": "FloatProgressModel",
            "_view_count": null,
            "_view_module": "@jupyter-widgets/controls",
            "_view_module_version": "1.5.0",
            "_view_name": "ProgressView",
            "bar_style": "success",
            "description": "",
            "description_tooltip": null,
            "layout": "IPY_MODEL_c050fbbcee074c6eb76bc92436c7b0a0",
            "max": 11,
            "min": 0,
            "orientation": "horizontal",
            "style": "IPY_MODEL_c3664f4c48e9407793e0a2cd4c07677d",
            "value": 11
          }
        },
        "05abdc19879c48c499f978e17aa79fd7": {
          "model_module": "@jupyter-widgets/controls",
          "model_name": "HTMLModel",
          "model_module_version": "1.5.0",
          "state": {
            "_dom_classes": [],
            "_model_module": "@jupyter-widgets/controls",
            "_model_module_version": "1.5.0",
            "_model_name": "HTMLModel",
            "_view_count": null,
            "_view_module": "@jupyter-widgets/controls",
            "_view_module_version": "1.5.0",
            "_view_name": "HTMLView",
            "description": "",
            "description_tooltip": null,
            "layout": "IPY_MODEL_971b76a9a75548c0959ffcc062758cb4",
            "placeholder": "​",
            "style": "IPY_MODEL_30452a2b82d04d249ea8cf1801eba82c",
            "value": " 11/11 [00:00&lt;00:00, 20.70it/s]"
          }
        },
        "f1cd58a12fe940abb47ee292af3683a3": {
          "model_module": "@jupyter-widgets/base",
          "model_name": "LayoutModel",
          "model_module_version": "1.2.0",
          "state": {
            "_model_module": "@jupyter-widgets/base",
            "_model_module_version": "1.2.0",
            "_model_name": "LayoutModel",
            "_view_count": null,
            "_view_module": "@jupyter-widgets/base",
            "_view_module_version": "1.2.0",
            "_view_name": "LayoutView",
            "align_content": null,
            "align_items": null,
            "align_self": null,
            "border": null,
            "bottom": null,
            "display": null,
            "flex": null,
            "flex_flow": null,
            "grid_area": null,
            "grid_auto_columns": null,
            "grid_auto_flow": null,
            "grid_auto_rows": null,
            "grid_column": null,
            "grid_gap": null,
            "grid_row": null,
            "grid_template_areas": null,
            "grid_template_columns": null,
            "grid_template_rows": null,
            "height": null,
            "justify_content": null,
            "justify_items": null,
            "left": null,
            "margin": null,
            "max_height": null,
            "max_width": null,
            "min_height": null,
            "min_width": null,
            "object_fit": null,
            "object_position": null,
            "order": null,
            "overflow": null,
            "overflow_x": null,
            "overflow_y": null,
            "padding": null,
            "right": null,
            "top": null,
            "visibility": null,
            "width": null
          }
        },
        "9d0843ed2d4a43918b3cc55a9904f281": {
          "model_module": "@jupyter-widgets/base",
          "model_name": "LayoutModel",
          "model_module_version": "1.2.0",
          "state": {
            "_model_module": "@jupyter-widgets/base",
            "_model_module_version": "1.2.0",
            "_model_name": "LayoutModel",
            "_view_count": null,
            "_view_module": "@jupyter-widgets/base",
            "_view_module_version": "1.2.0",
            "_view_name": "LayoutView",
            "align_content": null,
            "align_items": null,
            "align_self": null,
            "border": null,
            "bottom": null,
            "display": null,
            "flex": null,
            "flex_flow": null,
            "grid_area": null,
            "grid_auto_columns": null,
            "grid_auto_flow": null,
            "grid_auto_rows": null,
            "grid_column": null,
            "grid_gap": null,
            "grid_row": null,
            "grid_template_areas": null,
            "grid_template_columns": null,
            "grid_template_rows": null,
            "height": null,
            "justify_content": null,
            "justify_items": null,
            "left": null,
            "margin": null,
            "max_height": null,
            "max_width": null,
            "min_height": null,
            "min_width": null,
            "object_fit": null,
            "object_position": null,
            "order": null,
            "overflow": null,
            "overflow_x": null,
            "overflow_y": null,
            "padding": null,
            "right": null,
            "top": null,
            "visibility": null,
            "width": null
          }
        },
        "2d109815c5024d098f2d578b41832073": {
          "model_module": "@jupyter-widgets/controls",
          "model_name": "DescriptionStyleModel",
          "model_module_version": "1.5.0",
          "state": {
            "_model_module": "@jupyter-widgets/controls",
            "_model_module_version": "1.5.0",
            "_model_name": "DescriptionStyleModel",
            "_view_count": null,
            "_view_module": "@jupyter-widgets/base",
            "_view_module_version": "1.2.0",
            "_view_name": "StyleView",
            "description_width": ""
          }
        },
        "c050fbbcee074c6eb76bc92436c7b0a0": {
          "model_module": "@jupyter-widgets/base",
          "model_name": "LayoutModel",
          "model_module_version": "1.2.0",
          "state": {
            "_model_module": "@jupyter-widgets/base",
            "_model_module_version": "1.2.0",
            "_model_name": "LayoutModel",
            "_view_count": null,
            "_view_module": "@jupyter-widgets/base",
            "_view_module_version": "1.2.0",
            "_view_name": "LayoutView",
            "align_content": null,
            "align_items": null,
            "align_self": null,
            "border": null,
            "bottom": null,
            "display": null,
            "flex": null,
            "flex_flow": null,
            "grid_area": null,
            "grid_auto_columns": null,
            "grid_auto_flow": null,
            "grid_auto_rows": null,
            "grid_column": null,
            "grid_gap": null,
            "grid_row": null,
            "grid_template_areas": null,
            "grid_template_columns": null,
            "grid_template_rows": null,
            "height": null,
            "justify_content": null,
            "justify_items": null,
            "left": null,
            "margin": null,
            "max_height": null,
            "max_width": null,
            "min_height": null,
            "min_width": null,
            "object_fit": null,
            "object_position": null,
            "order": null,
            "overflow": null,
            "overflow_x": null,
            "overflow_y": null,
            "padding": null,
            "right": null,
            "top": null,
            "visibility": null,
            "width": null
          }
        },
        "c3664f4c48e9407793e0a2cd4c07677d": {
          "model_module": "@jupyter-widgets/controls",
          "model_name": "ProgressStyleModel",
          "model_module_version": "1.5.0",
          "state": {
            "_model_module": "@jupyter-widgets/controls",
            "_model_module_version": "1.5.0",
            "_model_name": "ProgressStyleModel",
            "_view_count": null,
            "_view_module": "@jupyter-widgets/base",
            "_view_module_version": "1.2.0",
            "_view_name": "StyleView",
            "bar_color": null,
            "description_width": ""
          }
        },
        "971b76a9a75548c0959ffcc062758cb4": {
          "model_module": "@jupyter-widgets/base",
          "model_name": "LayoutModel",
          "model_module_version": "1.2.0",
          "state": {
            "_model_module": "@jupyter-widgets/base",
            "_model_module_version": "1.2.0",
            "_model_name": "LayoutModel",
            "_view_count": null,
            "_view_module": "@jupyter-widgets/base",
            "_view_module_version": "1.2.0",
            "_view_name": "LayoutView",
            "align_content": null,
            "align_items": null,
            "align_self": null,
            "border": null,
            "bottom": null,
            "display": null,
            "flex": null,
            "flex_flow": null,
            "grid_area": null,
            "grid_auto_columns": null,
            "grid_auto_flow": null,
            "grid_auto_rows": null,
            "grid_column": null,
            "grid_gap": null,
            "grid_row": null,
            "grid_template_areas": null,
            "grid_template_columns": null,
            "grid_template_rows": null,
            "height": null,
            "justify_content": null,
            "justify_items": null,
            "left": null,
            "margin": null,
            "max_height": null,
            "max_width": null,
            "min_height": null,
            "min_width": null,
            "object_fit": null,
            "object_position": null,
            "order": null,
            "overflow": null,
            "overflow_x": null,
            "overflow_y": null,
            "padding": null,
            "right": null,
            "top": null,
            "visibility": null,
            "width": null
          }
        },
        "30452a2b82d04d249ea8cf1801eba82c": {
          "model_module": "@jupyter-widgets/controls",
          "model_name": "DescriptionStyleModel",
          "model_module_version": "1.5.0",
          "state": {
            "_model_module": "@jupyter-widgets/controls",
            "_model_module_version": "1.5.0",
            "_model_name": "DescriptionStyleModel",
            "_view_count": null,
            "_view_module": "@jupyter-widgets/base",
            "_view_module_version": "1.2.0",
            "_view_name": "StyleView",
            "description_width": ""
          }
        }
      }
    }
  },
  "cells": [
    {
      "cell_type": "markdown",
      "source": [
        "# THIS NOTEBOOK IS A VARIATION\n",
        "\n",
        "Original is here:\n",
        "https://colab.research.google.com/drive/1Z7DSkB7uZJNomPTjbHSwfr8Rb0BLg-Tj#scrollTo=d7Kw_t3mpBDx  \n",
        "\n",
        "We duplicated the notebok to compare the performance of the large embedding model.  \n",
        "\n",
        "Spoiler: large performs way better in French."
      ],
      "metadata": {
        "id": "71MMw7lpgu62"
      }
    },
    {
      "cell_type": "markdown",
      "source": [
        "## Define Tokens and API keys needed for this notebook\n",
        "\n",
        "We set up env vars using Colab Secrets.  \n",
        "\n",
        "We need Huggingface to download and upload the dataset, OpenAI for the embeddings, and Groq for LLM inference on RAG context.  "
      ],
      "metadata": {
        "id": "r5svA3IE1Y8E"
      }
    },
    {
      "cell_type": "code",
      "source": [
        "# load secrets for all api keys using Colab Secrets\n",
        "from google.colab import userdata"
      ],
      "metadata": {
        "id": "xx3UX0Y3zntG"
      },
      "execution_count": null,
      "outputs": []
    },
    {
      "cell_type": "code",
      "source": [
        "# login to HF HUB\n",
        "from huggingface_hub import login\n",
        "\n",
        "login(userdata.get('HF_TOKEN'))"
      ],
      "metadata": {
        "colab": {
          "base_uri": "https://localhost:8080/"
        },
        "id": "4tQH42mszNfp",
        "outputId": "d80ea64e-2283-4447-cac6-ed4d89287528"
      },
      "execution_count": null,
      "outputs": [
        {
          "output_type": "stream",
          "name": "stdout",
          "text": [
            "Token will not been saved to git credential helper. Pass `add_to_git_credential=True` if you want to set the git credential as well.\n",
            "Token is valid (permission: write).\n",
            "Your token has been saved to /root/.cache/huggingface/token\n",
            "Login successful\n"
          ]
        }
      ]
    },
    {
      "cell_type": "code",
      "source": [
        "# Set OPENAI and GROQ env vars\n",
        "import os\n",
        "\n",
        "os.environ[\"OPENAI_API_KEY\"] = userdata.get('OPENAI_API_KEY')\n",
        "os.environ[\"GROQ_API_KEY\"] = userdata.get('GROQ_API_KEY')"
      ],
      "metadata": {
        "id": "OS2GQvkK3WdH"
      },
      "execution_count": null,
      "outputs": []
    },
    {
      "cell_type": "markdown",
      "source": [
        "## install libs  \n",
        "\n",
        "We use tiktoken to count the token before embedding as there is a limit on model input length.  \n",
        "FAISS-CPU is needed to retrieve close embeddings.  \n",
        "We use groq as it is free (for now!)"
      ],
      "metadata": {
        "id": "ZeymZd6evIkB"
      }
    },
    {
      "cell_type": "code",
      "execution_count": null,
      "metadata": {
        "id": "KlUQutLGi7dh"
      },
      "outputs": [],
      "source": [
        "%%capture\n",
        "!pip install datasets\n",
        "!pip install langchain\n",
        "!pip install langchain-groq\n",
        "!pip install openai\n",
        "!pip install tiktoken\n",
        "!pip install faiss-cpu"
      ]
    },
    {
      "cell_type": "markdown",
      "source": [
        "## dataset creation (adding embeddings)\n",
        "\n",
        "Skip this part if the dataset is already made."
      ],
      "metadata": {
        "id": "_a36D6R-vXPI"
      }
    },
    {
      "cell_type": "markdown",
      "source": [
        "Set this variable to `True` to run the dataset creation process"
      ],
      "metadata": {
        "id": "hB0JoWQZ1FUN"
      }
    },
    {
      "cell_type": "code",
      "source": [
        "dataset_creation = False"
      ],
      "metadata": {
        "id": "OAEqGISXjMzj"
      },
      "execution_count": null,
      "outputs": []
    },
    {
      "cell_type": "markdown",
      "source": [
        "### Download base dataset"
      ],
      "metadata": {
        "id": "PA-tPtmB1K2T"
      }
    },
    {
      "cell_type": "code",
      "source": [
        "from datasets import load_dataset\n",
        "\n",
        "if dataset_creation:\n",
        "  # declaration_ds = load_dataset(\"the-french-artist/hatvp_declarations_xml_plus_json_plus_index\", split='train')\n",
        "  declaration_ds = load_dataset(\"the-french-artist/hatvp_declarations_text_embeds\", split='train')"
      ],
      "metadata": {
        "colab": {
          "base_uri": "https://localhost:8080/",
          "height": 217,
          "referenced_widgets": [
            "d013db7bf7104311b98affa52fe4f8bf",
            "e2c916df80124f8ca45b9d4095a4a17e",
            "35f497a21f2b42d180482a19d41b3d57",
            "a9bb367da9b7463eb29998624f6ca34b",
            "e45d54dd53e7497cbf26577cc56b907e",
            "2708c418397b4cfd82d459232a67b44e",
            "65aca31a087c4ff682ba0ab7d4399713",
            "41d25fa89d2c4b418cb906d1f46232eb",
            "fd437f14c87b4062944ae241fa7f5599",
            "ee7c954cfc814aa5a437b15c4f295742",
            "e9bd4752a75847849fda9f89a23932aa",
            "b275ca2e19174acb9e04643b05c35ddb",
            "d8650bd6c54645abbc8bdf276ca3ad09",
            "a95db175a937418885335b25b2794794",
            "1a123bde11dc43638330e5436d942194",
            "77bd16b7599548b9b18c8601fe1478d1",
            "de5687efbb3e48d9ba130d109119da43",
            "5592a889e8694acaba7a6748664cc627",
            "670b944713ae44cdb840e862e40de059",
            "80ab8794ccb1445986d9775130d56de7",
            "0810c77d6f7042c8801b21065df0d239",
            "a5ef51e843884e699e69d051b32f5319",
            "e59cd3557f3a4af4a474124435b207b0",
            "bd86bb3a0a6e46f59d8ba46c1bef72ae",
            "2827f8ef61ee4d758d9269cacf187ddd",
            "566e5014a6ab463b94bf84e5001d55b9",
            "1f9d07d02a194ef2b29707baa6429753",
            "0c066f0d56a54e97ac63737c3c9307d2",
            "3d03c9e2e86044818247c0d88155f832",
            "d7935df3fe96448d8c2cdf6933cf2a43",
            "142347059f7a419098c6cce9c7c148bf",
            "e06dc43b7f75493a917cfd5da0205d72",
            "61b6e2a62cf54cc3ba650ba78926ecbe"
          ]
        },
        "id": "MythJlXwjIEu",
        "outputId": "ebf8229b-4a4d-4195-c649-6622e880f57a"
      },
      "execution_count": null,
      "outputs": [
        {
          "output_type": "stream",
          "name": "stderr",
          "text": [
            "/usr/local/lib/python3.10/dist-packages/huggingface_hub/utils/_token.py:89: UserWarning: \n",
            "The secret `HF_TOKEN` does not exist in your Colab secrets.\n",
            "To authenticate with the Hugging Face Hub, create a token in your settings tab (https://huggingface.co/settings/tokens), set it as secret in your Google Colab and restart your session.\n",
            "You will be able to reuse this secret in all of your notebooks.\n",
            "Please note that authentication is recommended but still optional to access public models or datasets.\n",
            "  warnings.warn(\n"
          ]
        },
        {
          "output_type": "display_data",
          "data": {
            "text/plain": [
              "Downloading readme:   0%|          | 0.00/484 [00:00<?, ?B/s]"
            ],
            "application/vnd.jupyter.widget-view+json": {
              "version_major": 2,
              "version_minor": 0,
              "model_id": "d013db7bf7104311b98affa52fe4f8bf"
            }
          },
          "metadata": {}
        },
        {
          "output_type": "display_data",
          "data": {
            "text/plain": [
              "Downloading data:   0%|          | 0.00/137M [00:00<?, ?B/s]"
            ],
            "application/vnd.jupyter.widget-view+json": {
              "version_major": 2,
              "version_minor": 0,
              "model_id": "b275ca2e19174acb9e04643b05c35ddb"
            }
          },
          "metadata": {}
        },
        {
          "output_type": "display_data",
          "data": {
            "text/plain": [
              "Generating train split:   0%|          | 0/10944 [00:00<?, ? examples/s]"
            ],
            "application/vnd.jupyter.widget-view+json": {
              "version_major": 2,
              "version_minor": 0,
              "model_id": "e59cd3557f3a4af4a474124435b207b0"
            }
          },
          "metadata": {}
        }
      ]
    },
    {
      "cell_type": "markdown",
      "source": [
        "### Check dataset content\n",
        "\n",
        "Check features and content of a text record before embedding."
      ],
      "metadata": {
        "id": "HPUdIKjK1NXQ"
      }
    },
    {
      "cell_type": "code",
      "source": [
        "# declaration_ds"
      ],
      "metadata": {
        "colab": {
          "base_uri": "https://localhost:8080/"
        },
        "id": "PRf9ZQZZJTCv",
        "outputId": "818c9d54-6198-4e28-beed-24c4797ef978"
      },
      "execution_count": null,
      "outputs": [
        {
          "output_type": "execute_result",
          "data": {
            "text/plain": [
              "Dataset({\n",
              "    features: ['xml_sha1', 'declaration_xml', 'declaration_json', 'extracted_text', 'text_embedding'],\n",
              "    num_rows: 10944\n",
              "})"
            ]
          },
          "metadata": {},
          "execution_count": 4
        }
      ]
    },
    {
      "cell_type": "code",
      "source": [
        "# print(declaration_ds.select(range(1)).to_pandas().extracted_text.to_list()[0][:200])"
      ],
      "metadata": {
        "id": "-iTU9_mAjToR",
        "colab": {
          "base_uri": "https://localhost:8080/"
        },
        "outputId": "1316a7e3-fcd2-41f8-d9a2-1611de70d5b5"
      },
      "execution_count": null,
      "outputs": [
        {
          "output_type": "stream",
          "name": "stdout",
          "text": [
            "Fiche de damien abad - député/ain(01) \n",
            " ------------ \n",
            "11/07/2022 15:40:13\n",
            "4344aaa1-874d-4e6d-9b1a-45f7725b710c\n",
            "adel\n",
            "true\n",
            "vue_pdf_du_recepisse_du_depot_xml\n",
            "\n",
            "20171221\n",
            "true\n",
            "true\n",
            "creation\n",
            "[données non pub\n"
          ]
        }
      ]
    },
    {
      "cell_type": "code",
      "source": [
        "import tiktoken\n",
        "\n",
        "def num_tokens_from_string(string: str, encoding_name: str) -> int:\n",
        "    \"\"\"Returns the number of tokens in a text string.\"\"\"\n",
        "    encoding = tiktoken.get_encoding(encoding_name)\n",
        "    num_tokens = len(encoding.encode(string))\n",
        "    return num_tokens\n",
        "\n",
        "def truncate_text_to_stay_under_openai_embedding_limit(input_text):\n",
        "\n",
        "  backup_input_text = input_text\n",
        "\n",
        "  openai_embed_limit = 8192\n",
        "  delta = num_tokens_from_string(input_text, \"cl100k_base\") - openai_embed_limit\n",
        "  while delta > 0:\n",
        "    input_text = input_text[:-int(delta*2)] #we add factor 2 to speed up the process\n",
        "    delta = num_tokens_from_string(input_text, \"cl100k_base\") - openai_embed_limit\n",
        "\n",
        "  if len(input_text) > 0:\n",
        "    return input_text\n",
        "  else:\n",
        "    return backup_input_text[:8000]"
      ],
      "metadata": {
        "id": "ZFS-Hmas4lW6"
      },
      "execution_count": null,
      "outputs": []
    },
    {
      "cell_type": "code",
      "source": [
        "from openai import OpenAI\n",
        "client = OpenAI()\n",
        "from tqdm.auto import tqdm\n",
        "tqdm.pandas()\n",
        "\n",
        "\n",
        "def get_embedding(text, model=\"text-embedding-3-large\"): #this is where we switch to the large embeding model - WARNING: 10x more expensive\n",
        "   text = text.replace(\"\\n\", \" \")\n",
        "   text = truncate_text_to_stay_under_openai_embedding_limit(text)\n",
        "   return client.embeddings.create(input = [text], model=model).data[0].embedding\n",
        "\n",
        "def get_multiple_embeddings(text_list, model=\"text-embedding-3-large\"): #this is where we switch to the large embeding model - WARNING: 10x more expensive\n",
        "   clean_text_list = []\n",
        "   for text in text_list:\n",
        "     clean_text_list.append(truncate_text_to_stay_under_openai_embedding_limit(text))\n",
        "\n",
        "   response = client.embeddings.create(input = clean_text_list, model=model)\n",
        "   embedding_list = []\n",
        "   for curr_data in response.data:\n",
        "     embedding_list.append(curr_data.embedding)\n",
        "\n",
        "   return embedding_list\n",
        "\n",
        "len(get_multiple_embeddings([\"first sentence\", \"second sentence\", \"third sentence\"]))"
      ],
      "metadata": {
        "id": "CX0EuuF93QiO",
        "colab": {
          "base_uri": "https://localhost:8080/"
        },
        "outputId": "2c1eee91-5f72-4c01-81df-f40054cf4aae"
      },
      "execution_count": null,
      "outputs": [
        {
          "output_type": "execute_result",
          "data": {
            "text/plain": [
              "3"
            ]
          },
          "metadata": {},
          "execution_count": 18
        }
      ]
    },
    {
      "cell_type": "code",
      "source": [
        "def get_embedding_for_map(row):\n",
        "  row['text_embedding'] = get_embedding(row['extracted_text'])\n",
        "  return row\n",
        "\n",
        "\n",
        "def get_embedding_for_map_batch(row):\n",
        "  row['text_embedding'] = get_multiple_embeddings(row['extracted_text'])\n",
        "  return row"
      ],
      "metadata": {
        "id": "V1-CQu5hJESS"
      },
      "execution_count": null,
      "outputs": []
    },
    {
      "cell_type": "code",
      "source": [
        "if dataset_creation:\n",
        "  # declaration_ds = declaration_ds.map(get_embedding_for_map, num_proc=2)\n",
        "  declaration_ds = declaration_ds.map(get_embedding_for_map_batch, num_proc=2, batched=True, batch_size=100)"
      ],
      "metadata": {
        "colab": {
          "base_uri": "https://localhost:8080/",
          "height": 49,
          "referenced_widgets": [
            "b2c72d8e7b04471d8af4e4c2ffb763e2",
            "b83411660c8d4894b33e117b15357358",
            "77b6b4bd7e974ba395c44bd4f362f22c",
            "b1d3164008814094a52edf0d3bd62156",
            "c817aeff78ac46098d19c9dcf07d7051",
            "72a4ba3484514283ae305cc0937c530e",
            "6614cfc25b9d4ab89772b9e67d9bef5c",
            "c51b5bb6351047a29b23dcdda9378eb6",
            "94051f2f26594cc58feebf86d414a99a",
            "a9b3adb019124d2193897531d9831e1a",
            "ec994c8da9d548189843e867a9dd51cc"
          ]
        },
        "id": "raciduLwJEPu",
        "outputId": "e1c1bcd2-23f8-4e86-b216-b0eb48ccb0f9"
      },
      "execution_count": null,
      "outputs": [
        {
          "output_type": "display_data",
          "data": {
            "text/plain": [
              "Map (num_proc=2):   0%|          | 0/10944 [00:00<?, ? examples/s]"
            ],
            "application/vnd.jupyter.widget-view+json": {
              "version_major": 2,
              "version_minor": 0,
              "model_id": "b2c72d8e7b04471d8af4e4c2ffb763e2"
            }
          },
          "metadata": {}
        }
      ]
    },
    {
      "cell_type": "markdown",
      "source": [
        "### Dataset checks before upload\n",
        "\n",
        "Uncomment to check features and content"
      ],
      "metadata": {
        "id": "nr9lbloB0968"
      }
    },
    {
      "cell_type": "code",
      "source": [
        "# declaration_ds"
      ],
      "metadata": {
        "colab": {
          "base_uri": "https://localhost:8080/"
        },
        "id": "mkQmJajwnvEu",
        "outputId": "10c1926f-cd8c-4dfd-f3db-2670f619616c"
      },
      "execution_count": null,
      "outputs": [
        {
          "output_type": "execute_result",
          "data": {
            "text/plain": [
              "Dataset({\n",
              "    features: ['xml_sha1', 'declaration_xml', 'declaration_json', 'extracted_text', 'text_embedding'],\n",
              "    num_rows: 10944\n",
              "})"
            ]
          },
          "metadata": {},
          "execution_count": 33
        }
      ]
    },
    {
      "cell_type": "code",
      "source": [
        "# declaration_ds.select(range(100)).to_pandas()"
      ],
      "metadata": {
        "colab": {
          "base_uri": "https://localhost:8080/",
          "height": 597
        },
        "id": "RKSHBqDgLpXr",
        "outputId": "3379c6bf-8eb8-42f4-917a-8aced4a792a9"
      },
      "execution_count": null,
      "outputs": [
        {
          "output_type": "execute_result",
          "data": {
            "text/plain": [
              "                                    xml_sha1  \\\n",
              "0   0a0a9f2a6772942557ab5355d76af442f8f65e01   \n",
              "1   0a0a9f2a6772942557ab5355d76af442f8f65e01   \n",
              "2   0a0a9f2a6772942557ab5355d76af442f8f65e01   \n",
              "3   0a0a9f2a6772942557ab5355d76af442f8f65e01   \n",
              "4   0a0a9f2a6772942557ab5355d76af442f8f65e01   \n",
              "..                                       ...   \n",
              "95  0a0a9f2a6772942557ab5355d76af442f8f65e01   \n",
              "96  0a0a9f2a6772942557ab5355d76af442f8f65e01   \n",
              "97  0a0a9f2a6772942557ab5355d76af442f8f65e01   \n",
              "98  0a0a9f2a6772942557ab5355d76af442f8f65e01   \n",
              "99  0a0a9f2a6772942557ab5355d76af442f8f65e01   \n",
              "\n",
              "                                      declaration_xml  \\\n",
              "0   <declaration><dateDepot>11/07/2022 15:40:13</d...   \n",
              "1   <declaration><dateDepot>27/11/2022 18:18:23</d...   \n",
              "2   <declaration><dateDepot>19/08/2022 10:08:23</d...   \n",
              "3   <declaration><dateDepot>04/10/2022 17:22:07</d...   \n",
              "4   <declaration><dateDepot>20/09/2021 13:41:36</d...   \n",
              "..                                                ...   \n",
              "95  <declaration><dateDepot>10/09/2020 12:31:53</d...   \n",
              "96  <declaration><dateDepot>20/09/2021 22:53:49</d...   \n",
              "97  <declaration><dateDepot>26/09/2021 20:40:19</d...   \n",
              "98  <declaration><dateDepot>26/09/2021 21:01:41</d...   \n",
              "99  <declaration><dateDepot>25/01/2022 16:28:30</d...   \n",
              "\n",
              "                                     declaration_json  \\\n",
              "0   {\"declaration\": {\"dateDepot\": \"11/07/2022 15:4...   \n",
              "1   {\"declaration\": {\"dateDepot\": \"27/11/2022 18:1...   \n",
              "2   {\"declaration\": {\"dateDepot\": \"19/08/2022 10:0...   \n",
              "3   {\"declaration\": {\"dateDepot\": \"04/10/2022 17:2...   \n",
              "4   {\"declaration\": {\"dateDepot\": \"20/09/2021 13:4...   \n",
              "..                                                ...   \n",
              "95  {\"declaration\": {\"dateDepot\": \"10/09/2020 12:3...   \n",
              "96  {\"declaration\": {\"dateDepot\": \"20/09/2021 22:5...   \n",
              "97  {\"declaration\": {\"dateDepot\": \"26/09/2021 20:4...   \n",
              "98  {\"declaration\": {\"dateDepot\": \"26/09/2021 21:0...   \n",
              "99  {\"declaration\": {\"dateDepot\": \"25/01/2022 16:2...   \n",
              "\n",
              "                                       extracted_text  \\\n",
              "0   Fiche de damien abad - député/ain(01) \\n -----...   \n",
              "1   Fiche de damien abad - député/ain(01) \\n -----...   \n",
              "2   Fiche de caroline abadie - député/isère(38) \\n...   \n",
              "3   Fiche de caroline abadie - député/isère(38) \\n...   \n",
              "4   Fiche de joelle abadie - elu départemental/hau...   \n",
              "..                                                ...   \n",
              "95  Fiche de claude alemagna - membre d’epci/dracé...   \n",
              "96  Fiche de claude alemagna - membre d’epci/dracé...   \n",
              "97  Fiche de claude alemagna - membre d’epci/dracé...   \n",
              "98  Fiche de claude alemagna - membre d’epci/dracé...   \n",
              "99  Fiche de claude alemagna - membre d’epci/dracé...   \n",
              "\n",
              "                                       text_embedding  \n",
              "0   [-0.009466919116675854, -0.008166174404323101,...  \n",
              "1   [-0.010201191529631615, 0.0008864270057529211,...  \n",
              "2   [0.0018713556928560138, 0.00048493893700651824...  \n",
              "3   [0.0008672993280924857, -0.003786470042541623,...  \n",
              "4   [-0.0008490124018862844, -0.01616096682846546,...  \n",
              "..                                                ...  \n",
              "95  [-0.02202477678656578, -0.018816333264112473, ...  \n",
              "96  [-0.026265963912010193, -0.014384419657289982,...  \n",
              "97  [-0.025565914809703827, -0.012604921124875546,...  \n",
              "98  [-0.02375740557909012, -0.01477577444165945, -...  \n",
              "99  [-0.024792229756712914, -0.011975303292274475,...  \n",
              "\n",
              "[100 rows x 5 columns]"
            ],
            "text/html": [
              "\n",
              "  <div id=\"df-04359079-4e18-4917-b42f-f12eb08e946b\" class=\"colab-df-container\">\n",
              "    <div>\n",
              "<style scoped>\n",
              "    .dataframe tbody tr th:only-of-type {\n",
              "        vertical-align: middle;\n",
              "    }\n",
              "\n",
              "    .dataframe tbody tr th {\n",
              "        vertical-align: top;\n",
              "    }\n",
              "\n",
              "    .dataframe thead th {\n",
              "        text-align: right;\n",
              "    }\n",
              "</style>\n",
              "<table border=\"1\" class=\"dataframe\">\n",
              "  <thead>\n",
              "    <tr style=\"text-align: right;\">\n",
              "      <th></th>\n",
              "      <th>xml_sha1</th>\n",
              "      <th>declaration_xml</th>\n",
              "      <th>declaration_json</th>\n",
              "      <th>extracted_text</th>\n",
              "      <th>text_embedding</th>\n",
              "    </tr>\n",
              "  </thead>\n",
              "  <tbody>\n",
              "    <tr>\n",
              "      <th>0</th>\n",
              "      <td>0a0a9f2a6772942557ab5355d76af442f8f65e01</td>\n",
              "      <td>&lt;declaration&gt;&lt;dateDepot&gt;11/07/2022 15:40:13&lt;/d...</td>\n",
              "      <td>{\"declaration\": {\"dateDepot\": \"11/07/2022 15:4...</td>\n",
              "      <td>Fiche de damien abad - député/ain(01) \\n -----...</td>\n",
              "      <td>[-0.009466919116675854, -0.008166174404323101,...</td>\n",
              "    </tr>\n",
              "    <tr>\n",
              "      <th>1</th>\n",
              "      <td>0a0a9f2a6772942557ab5355d76af442f8f65e01</td>\n",
              "      <td>&lt;declaration&gt;&lt;dateDepot&gt;27/11/2022 18:18:23&lt;/d...</td>\n",
              "      <td>{\"declaration\": {\"dateDepot\": \"27/11/2022 18:1...</td>\n",
              "      <td>Fiche de damien abad - député/ain(01) \\n -----...</td>\n",
              "      <td>[-0.010201191529631615, 0.0008864270057529211,...</td>\n",
              "    </tr>\n",
              "    <tr>\n",
              "      <th>2</th>\n",
              "      <td>0a0a9f2a6772942557ab5355d76af442f8f65e01</td>\n",
              "      <td>&lt;declaration&gt;&lt;dateDepot&gt;19/08/2022 10:08:23&lt;/d...</td>\n",
              "      <td>{\"declaration\": {\"dateDepot\": \"19/08/2022 10:0...</td>\n",
              "      <td>Fiche de caroline abadie - député/isère(38) \\n...</td>\n",
              "      <td>[0.0018713556928560138, 0.00048493893700651824...</td>\n",
              "    </tr>\n",
              "    <tr>\n",
              "      <th>3</th>\n",
              "      <td>0a0a9f2a6772942557ab5355d76af442f8f65e01</td>\n",
              "      <td>&lt;declaration&gt;&lt;dateDepot&gt;04/10/2022 17:22:07&lt;/d...</td>\n",
              "      <td>{\"declaration\": {\"dateDepot\": \"04/10/2022 17:2...</td>\n",
              "      <td>Fiche de caroline abadie - député/isère(38) \\n...</td>\n",
              "      <td>[0.0008672993280924857, -0.003786470042541623,...</td>\n",
              "    </tr>\n",
              "    <tr>\n",
              "      <th>4</th>\n",
              "      <td>0a0a9f2a6772942557ab5355d76af442f8f65e01</td>\n",
              "      <td>&lt;declaration&gt;&lt;dateDepot&gt;20/09/2021 13:41:36&lt;/d...</td>\n",
              "      <td>{\"declaration\": {\"dateDepot\": \"20/09/2021 13:4...</td>\n",
              "      <td>Fiche de joelle abadie - elu départemental/hau...</td>\n",
              "      <td>[-0.0008490124018862844, -0.01616096682846546,...</td>\n",
              "    </tr>\n",
              "    <tr>\n",
              "      <th>...</th>\n",
              "      <td>...</td>\n",
              "      <td>...</td>\n",
              "      <td>...</td>\n",
              "      <td>...</td>\n",
              "      <td>...</td>\n",
              "    </tr>\n",
              "    <tr>\n",
              "      <th>95</th>\n",
              "      <td>0a0a9f2a6772942557ab5355d76af442f8f65e01</td>\n",
              "      <td>&lt;declaration&gt;&lt;dateDepot&gt;10/09/2020 12:31:53&lt;/d...</td>\n",
              "      <td>{\"declaration\": {\"dateDepot\": \"10/09/2020 12:3...</td>\n",
              "      <td>Fiche de claude alemagna - membre d’epci/dracé...</td>\n",
              "      <td>[-0.02202477678656578, -0.018816333264112473, ...</td>\n",
              "    </tr>\n",
              "    <tr>\n",
              "      <th>96</th>\n",
              "      <td>0a0a9f2a6772942557ab5355d76af442f8f65e01</td>\n",
              "      <td>&lt;declaration&gt;&lt;dateDepot&gt;20/09/2021 22:53:49&lt;/d...</td>\n",
              "      <td>{\"declaration\": {\"dateDepot\": \"20/09/2021 22:5...</td>\n",
              "      <td>Fiche de claude alemagna - membre d’epci/dracé...</td>\n",
              "      <td>[-0.026265963912010193, -0.014384419657289982,...</td>\n",
              "    </tr>\n",
              "    <tr>\n",
              "      <th>97</th>\n",
              "      <td>0a0a9f2a6772942557ab5355d76af442f8f65e01</td>\n",
              "      <td>&lt;declaration&gt;&lt;dateDepot&gt;26/09/2021 20:40:19&lt;/d...</td>\n",
              "      <td>{\"declaration\": {\"dateDepot\": \"26/09/2021 20:4...</td>\n",
              "      <td>Fiche de claude alemagna - membre d’epci/dracé...</td>\n",
              "      <td>[-0.025565914809703827, -0.012604921124875546,...</td>\n",
              "    </tr>\n",
              "    <tr>\n",
              "      <th>98</th>\n",
              "      <td>0a0a9f2a6772942557ab5355d76af442f8f65e01</td>\n",
              "      <td>&lt;declaration&gt;&lt;dateDepot&gt;26/09/2021 21:01:41&lt;/d...</td>\n",
              "      <td>{\"declaration\": {\"dateDepot\": \"26/09/2021 21:0...</td>\n",
              "      <td>Fiche de claude alemagna - membre d’epci/dracé...</td>\n",
              "      <td>[-0.02375740557909012, -0.01477577444165945, -...</td>\n",
              "    </tr>\n",
              "    <tr>\n",
              "      <th>99</th>\n",
              "      <td>0a0a9f2a6772942557ab5355d76af442f8f65e01</td>\n",
              "      <td>&lt;declaration&gt;&lt;dateDepot&gt;25/01/2022 16:28:30&lt;/d...</td>\n",
              "      <td>{\"declaration\": {\"dateDepot\": \"25/01/2022 16:2...</td>\n",
              "      <td>Fiche de claude alemagna - membre d’epci/dracé...</td>\n",
              "      <td>[-0.024792229756712914, -0.011975303292274475,...</td>\n",
              "    </tr>\n",
              "  </tbody>\n",
              "</table>\n",
              "<p>100 rows × 5 columns</p>\n",
              "</div>\n",
              "    <div class=\"colab-df-buttons\">\n",
              "\n",
              "  <div class=\"colab-df-container\">\n",
              "    <button class=\"colab-df-convert\" onclick=\"convertToInteractive('df-04359079-4e18-4917-b42f-f12eb08e946b')\"\n",
              "            title=\"Convert this dataframe to an interactive table.\"\n",
              "            style=\"display:none;\">\n",
              "\n",
              "  <svg xmlns=\"http://www.w3.org/2000/svg\" height=\"24px\" viewBox=\"0 -960 960 960\">\n",
              "    <path d=\"M120-120v-720h720v720H120Zm60-500h600v-160H180v160Zm220 220h160v-160H400v160Zm0 220h160v-160H400v160ZM180-400h160v-160H180v160Zm440 0h160v-160H620v160ZM180-180h160v-160H180v160Zm440 0h160v-160H620v160Z\"/>\n",
              "  </svg>\n",
              "    </button>\n",
              "\n",
              "  <style>\n",
              "    .colab-df-container {\n",
              "      display:flex;\n",
              "      gap: 12px;\n",
              "    }\n",
              "\n",
              "    .colab-df-convert {\n",
              "      background-color: #E8F0FE;\n",
              "      border: none;\n",
              "      border-radius: 50%;\n",
              "      cursor: pointer;\n",
              "      display: none;\n",
              "      fill: #1967D2;\n",
              "      height: 32px;\n",
              "      padding: 0 0 0 0;\n",
              "      width: 32px;\n",
              "    }\n",
              "\n",
              "    .colab-df-convert:hover {\n",
              "      background-color: #E2EBFA;\n",
              "      box-shadow: 0px 1px 2px rgba(60, 64, 67, 0.3), 0px 1px 3px 1px rgba(60, 64, 67, 0.15);\n",
              "      fill: #174EA6;\n",
              "    }\n",
              "\n",
              "    .colab-df-buttons div {\n",
              "      margin-bottom: 4px;\n",
              "    }\n",
              "\n",
              "    [theme=dark] .colab-df-convert {\n",
              "      background-color: #3B4455;\n",
              "      fill: #D2E3FC;\n",
              "    }\n",
              "\n",
              "    [theme=dark] .colab-df-convert:hover {\n",
              "      background-color: #434B5C;\n",
              "      box-shadow: 0px 1px 3px 1px rgba(0, 0, 0, 0.15);\n",
              "      filter: drop-shadow(0px 1px 2px rgba(0, 0, 0, 0.3));\n",
              "      fill: #FFFFFF;\n",
              "    }\n",
              "  </style>\n",
              "\n",
              "    <script>\n",
              "      const buttonEl =\n",
              "        document.querySelector('#df-04359079-4e18-4917-b42f-f12eb08e946b button.colab-df-convert');\n",
              "      buttonEl.style.display =\n",
              "        google.colab.kernel.accessAllowed ? 'block' : 'none';\n",
              "\n",
              "      async function convertToInteractive(key) {\n",
              "        const element = document.querySelector('#df-04359079-4e18-4917-b42f-f12eb08e946b');\n",
              "        const dataTable =\n",
              "          await google.colab.kernel.invokeFunction('convertToInteractive',\n",
              "                                                    [key], {});\n",
              "        if (!dataTable) return;\n",
              "\n",
              "        const docLinkHtml = 'Like what you see? Visit the ' +\n",
              "          '<a target=\"_blank\" href=https://colab.research.google.com/notebooks/data_table.ipynb>data table notebook</a>'\n",
              "          + ' to learn more about interactive tables.';\n",
              "        element.innerHTML = '';\n",
              "        dataTable['output_type'] = 'display_data';\n",
              "        await google.colab.output.renderOutput(dataTable, element);\n",
              "        const docLink = document.createElement('div');\n",
              "        docLink.innerHTML = docLinkHtml;\n",
              "        element.appendChild(docLink);\n",
              "      }\n",
              "    </script>\n",
              "  </div>\n",
              "\n",
              "\n",
              "<div id=\"df-1f3acfff-ca76-46b1-aa69-049ff054a37a\">\n",
              "  <button class=\"colab-df-quickchart\" onclick=\"quickchart('df-1f3acfff-ca76-46b1-aa69-049ff054a37a')\"\n",
              "            title=\"Suggest charts\"\n",
              "            style=\"display:none;\">\n",
              "\n",
              "<svg xmlns=\"http://www.w3.org/2000/svg\" height=\"24px\"viewBox=\"0 0 24 24\"\n",
              "     width=\"24px\">\n",
              "    <g>\n",
              "        <path d=\"M19 3H5c-1.1 0-2 .9-2 2v14c0 1.1.9 2 2 2h14c1.1 0 2-.9 2-2V5c0-1.1-.9-2-2-2zM9 17H7v-7h2v7zm4 0h-2V7h2v10zm4 0h-2v-4h2v4z\"/>\n",
              "    </g>\n",
              "</svg>\n",
              "  </button>\n",
              "\n",
              "<style>\n",
              "  .colab-df-quickchart {\n",
              "      --bg-color: #E8F0FE;\n",
              "      --fill-color: #1967D2;\n",
              "      --hover-bg-color: #E2EBFA;\n",
              "      --hover-fill-color: #174EA6;\n",
              "      --disabled-fill-color: #AAA;\n",
              "      --disabled-bg-color: #DDD;\n",
              "  }\n",
              "\n",
              "  [theme=dark] .colab-df-quickchart {\n",
              "      --bg-color: #3B4455;\n",
              "      --fill-color: #D2E3FC;\n",
              "      --hover-bg-color: #434B5C;\n",
              "      --hover-fill-color: #FFFFFF;\n",
              "      --disabled-bg-color: #3B4455;\n",
              "      --disabled-fill-color: #666;\n",
              "  }\n",
              "\n",
              "  .colab-df-quickchart {\n",
              "    background-color: var(--bg-color);\n",
              "    border: none;\n",
              "    border-radius: 50%;\n",
              "    cursor: pointer;\n",
              "    display: none;\n",
              "    fill: var(--fill-color);\n",
              "    height: 32px;\n",
              "    padding: 0;\n",
              "    width: 32px;\n",
              "  }\n",
              "\n",
              "  .colab-df-quickchart:hover {\n",
              "    background-color: var(--hover-bg-color);\n",
              "    box-shadow: 0 1px 2px rgba(60, 64, 67, 0.3), 0 1px 3px 1px rgba(60, 64, 67, 0.15);\n",
              "    fill: var(--button-hover-fill-color);\n",
              "  }\n",
              "\n",
              "  .colab-df-quickchart-complete:disabled,\n",
              "  .colab-df-quickchart-complete:disabled:hover {\n",
              "    background-color: var(--disabled-bg-color);\n",
              "    fill: var(--disabled-fill-color);\n",
              "    box-shadow: none;\n",
              "  }\n",
              "\n",
              "  .colab-df-spinner {\n",
              "    border: 2px solid var(--fill-color);\n",
              "    border-color: transparent;\n",
              "    border-bottom-color: var(--fill-color);\n",
              "    animation:\n",
              "      spin 1s steps(1) infinite;\n",
              "  }\n",
              "\n",
              "  @keyframes spin {\n",
              "    0% {\n",
              "      border-color: transparent;\n",
              "      border-bottom-color: var(--fill-color);\n",
              "      border-left-color: var(--fill-color);\n",
              "    }\n",
              "    20% {\n",
              "      border-color: transparent;\n",
              "      border-left-color: var(--fill-color);\n",
              "      border-top-color: var(--fill-color);\n",
              "    }\n",
              "    30% {\n",
              "      border-color: transparent;\n",
              "      border-left-color: var(--fill-color);\n",
              "      border-top-color: var(--fill-color);\n",
              "      border-right-color: var(--fill-color);\n",
              "    }\n",
              "    40% {\n",
              "      border-color: transparent;\n",
              "      border-right-color: var(--fill-color);\n",
              "      border-top-color: var(--fill-color);\n",
              "    }\n",
              "    60% {\n",
              "      border-color: transparent;\n",
              "      border-right-color: var(--fill-color);\n",
              "    }\n",
              "    80% {\n",
              "      border-color: transparent;\n",
              "      border-right-color: var(--fill-color);\n",
              "      border-bottom-color: var(--fill-color);\n",
              "    }\n",
              "    90% {\n",
              "      border-color: transparent;\n",
              "      border-bottom-color: var(--fill-color);\n",
              "    }\n",
              "  }\n",
              "</style>\n",
              "\n",
              "  <script>\n",
              "    async function quickchart(key) {\n",
              "      const quickchartButtonEl =\n",
              "        document.querySelector('#' + key + ' button');\n",
              "      quickchartButtonEl.disabled = true;  // To prevent multiple clicks.\n",
              "      quickchartButtonEl.classList.add('colab-df-spinner');\n",
              "      try {\n",
              "        const charts = await google.colab.kernel.invokeFunction(\n",
              "            'suggestCharts', [key], {});\n",
              "      } catch (error) {\n",
              "        console.error('Error during call to suggestCharts:', error);\n",
              "      }\n",
              "      quickchartButtonEl.classList.remove('colab-df-spinner');\n",
              "      quickchartButtonEl.classList.add('colab-df-quickchart-complete');\n",
              "    }\n",
              "    (() => {\n",
              "      let quickchartButtonEl =\n",
              "        document.querySelector('#df-1f3acfff-ca76-46b1-aa69-049ff054a37a button');\n",
              "      quickchartButtonEl.style.display =\n",
              "        google.colab.kernel.accessAllowed ? 'block' : 'none';\n",
              "    })();\n",
              "  </script>\n",
              "</div>\n",
              "    </div>\n",
              "  </div>\n"
            ],
            "application/vnd.google.colaboratory.intrinsic+json": {
              "type": "dataframe",
              "summary": "{\n  \"name\": \"declaration_ds\",\n  \"rows\": 100,\n  \"fields\": [\n    {\n      \"column\": \"xml_sha1\",\n      \"properties\": {\n        \"dtype\": \"category\",\n        \"num_unique_values\": 1,\n        \"samples\": [\n          \"0a0a9f2a6772942557ab5355d76af442f8f65e01\"\n        ],\n        \"semantic_type\": \"\",\n        \"description\": \"\"\n      }\n    },\n    {\n      \"column\": \"declaration_xml\",\n      \"properties\": {\n        \"dtype\": \"string\",\n        \"num_unique_values\": 99,\n        \"samples\": [\n          \"<declaration><dateDepot>07/07/2021 14:35:20</dateDepot><uuid>a90ca672-2b3a-4836-b735-0581938f1513</uuid><origine>ADEL</origine><complete>true</complete><attachedFiles><attachedFiles><fileName>VUE_PDF_DU_RECEPISSE_DU_DEPOT_XML</fileName><serverFileName /><base64EncodedContent /></attachedFiles></attachedFiles><declarationVersion>20171221</declarationVersion><activConsultantDto><items><items><motif><id>CREATION</id><label /></motif><commentaire>Cr\\u00e9ation en septembre 2017. aucune activit\\u00e9 depuis. Autoentreprise en sommeil depuis mon \\u00e9lection de Maire.</commentaire><conservee>false</conservee><nomEmployeur>autoentreprise</nomEmployeur><description>consultant r\\u00e9seaux sociaux</description><dateDebut>09/2017</dateDebut><dateFin>12/2017</dateFin><remuneration><brutNet>Net</brutNet><montant><montant><annee>2017</annee><montant>0</montant></montant></montant></remuneration></items></items><neant>false</neant></activConsultantDto><activProfCinqDerniereDto><items><items><motif><id>CREATION</id><label /></motif><commentaire>REVENU NET FISCAL. fin du contrat en novembre 2014. (Indication uniquement sur la p\\u00e9riode des 5 ans)</commentaire><conservee>false</conservee><description>attach\\u00e9 parlementaire</description><employeur>senateur DERIOT</employeur><remuneration><brutNet>Net</brutNet><montant><montant><annee>2013</annee><montant>29882</montant></montant><montant><annee>2014</annee><montant>22658</montant></montant></montant></remuneration><dateDebut>01/2013</dateDebut><dateFin>11/2014</dateFin></items><items><motif><id>CREATION</id><label /></motif><commentaire /><description>COMMUNITY MANAGER</description><employeur>TRADZINE</employeur><remuneration><brutNet>Net</brutNet><montant><montant><annee>2018</annee><montant>1020</montant></montant></montant></remuneration><dateDebut>07/2018</dateDebut><dateFin>12/2018</dateFin></items></items><neant>false</neant></activProfCinqDerniereDto><activProfConjointDto><items /><neant>true</neant></activProfConjointDto><fonctionBenevoleDto><items /><neant>true</neant></fonctionBenevoleDto><mandatElectifDto><items><items><motif><id>CREATION</id><label /></motif><commentaire>Evolution en fonction de la l\\u00e9gislation, \\u00e9cr\\u00eatement et retenue \\u00e0 la source. chiffre uniquement sur les 5 ans.</commentaire><conservee>false</conservee><descriptionMandat>ADJOINT AU MAIRE</descriptionMandat><remuneration><brutNet>Net</brutNet><montant><montant><annee>2013</annee><montant>16334</montant></montant><montant><annee>2014</annee><montant>13200</montant></montant><montant><annee>2015</annee><montant>9500</montant></montant><montant><annee>2016</annee><montant>7200</montant></montant><montant><annee>2017</annee><montant>9600</montant></montant></montant></remuneration><dateDebut>01/2013</dateDebut><dateFin>09/2017</dateFin></items><items><motif><id>CREATION</id><label /></motif><commentaire>ESTIMATION - NET FISCAL</commentaire><conservee>false</conservee><descriptionMandat>MAIRE</descriptionMandat><remuneration><brutNet>Net</brutNet><montant><montant><annee>2017</annee><montant>11000</montant></montant><montant><annee>2018</annee><montant>41500</montant></montant><montant><annee>2019</annee><montant>41500</montant></montant><montant><annee>2020</annee><montant>31100</montant></montant></montant></remuneration><dateDebut>10/2017</dateDebut><dateFin>09/2020</dateFin></items><items><motif><id>CREATION</id><label /></motif><commentaire /><conservee>false</conservee><descriptionMandat>VICE PRESIDENT AGGLOMERATION</descriptionMandat><remuneration><brutNet>Net</brutNet><montant><montant><annee>2014</annee><montant>9900</montant></montant><montant><annee>2015</annee><montant>15200</montant></montant><montant><annee>2016</annee><montant>15200</montant></montant><montant><annee>2017</annee><montant>11100</montant></montant></montant></remuneration><dateDebut>05/2014</dateDebut><dateFin>09/2017</dateFin></items><items><motif><id>CREATION</id><label /></motif><commentaire /><conservee>false</conservee><descriptionMandat>VICE PRESIDENT CONSEIL DEPARTEMENTAL</descriptionMandat><remuneration><brutNet>Net</brutNet><montant><montant><annee>2015</annee><montant>18000</montant></montant><montant><annee>2016</annee><montant>24000</montant></montant><montant><annee>2017</annee><montant>24000</montant></montant><montant><annee>2018</annee><montant>24000</montant></montant><montant><annee>2019</annee><montant>24000</montant></montant><montant><annee>2020</annee><montant>15066</montant></montant></montant></remuneration><dateDebut>04/2015</dateDebut><dateFin>09/2020</dateFin></items><items><motif><id>CREATION</id><label /></motif><commentaire>MANDAT ECRETE</commentaire><conservee>false</conservee><descriptionMandat>PRESIDENT AGGLOMERATION</descriptionMandat><remuneration><brutNet>Net</brutNet><montant><montant><annee>2017</annee><montant>0</montant></montant><montant><annee>2018</annee><montant>0</montant></montant><montant><annee>2019</annee><montant>0</montant></montant><montant><annee>2020</annee><montant>0</montant></montant></montant></remuneration><dateDebut>10/2017</dateDebut><dateFin>09/2020</dateFin></items></items><neant>false</neant></mandatElectifDto><participationDirigeantDto><items><items><motif><id>CREATION</id><label /></motif><commentaire>Montant mensuel net 1470</commentaire><conservee>false</conservee><nomSociete>SEMIV</nomSociete><activite>PDG</activite><remuneration><brutNet>Net</brutNet><montant><montant><annee>2013</annee><montant>16746</montant></montant><montant><annee>2014</annee><montant>17380</montant></montant><montant><annee>2015</annee><montant>17640</montant></montant><montant><annee>2016</annee><montant>17640</montant></montant><montant><annee>2017</annee><montant>17640</montant></montant><montant><annee>2018</annee><montant>17640</montant></montant><montant><annee>2019</annee><montant>17640</montant></montant><montant><annee>2020</annee><montant>13230</montant></montant></montant></remuneration><dateDebut>01/2013</dateDebut><dateFin>09/2020</dateFin></items><items><motif><id>CREATION</id><label /></motif><commentaire /><nomSociete>SPL Clermont Auvergne</nomSociete><activite>MEMBRE DU CA</activite><remuneration><brutNet>Net</brutNet><montant><montant><annee>2018</annee><montant>0</montant></montant><montant><annee>2019</annee><montant>0</montant></montant><montant><annee>2020</annee><montant>0</montant></montant><montant><annee>2021</annee><montant>0</montant></montant></montant></remuneration><dateDebut>03/2018</dateDebut><dateFin /></items><items><motif><id>CREATION</id><label /></motif><commentaire /><nomSociete>EPCC - VICHY CULTURE</nomSociete><activite>MEMBRE DU CA</activite><remuneration><brutNet>Net</brutNet><montant><montant><annee>2019</annee><montant>0</montant></montant><montant><annee>2020</annee><montant>0</montant></montant><montant><annee>2021</annee><montant>0</montant></montant></montant></remuneration><dateDebut>01/2019</dateDebut><dateFin /></items><items><motif><id>CREATION</id><label /></motif><commentaire /><nomSociete>SPL VICHY DESTINATION</nomSociete><activite>PDT CA - PDG</activite><remuneration><brutNet>Net</brutNet><montant><montant><annee>2018</annee><montant>0</montant></montant><montant><annee>2019</annee><montant>0</montant></montant><montant><annee>2020</annee><montant>0</montant></montant><montant><annee>2021</annee><montant>0</montant></montant></montant></remuneration><dateDebut>09/2018</dateDebut><dateFin /></items><items><motif><id>CREATION</id><label /></motif><commentaire /><nomSociete>CCAS Vichy</nomSociete><activite>president</activite><remuneration><brutNet>Net</brutNet><montant><montant><annee>2017</annee><montant>0</montant></montant><montant><annee>2018</annee><montant>0</montant></montant><montant><annee>2019</annee><montant>0</montant></montant><montant><annee>2020</annee><montant>0</montant></montant><montant><annee>2021</annee><montant>0</montant></montant></montant></remuneration><dateDebut>10/2017</dateDebut><dateFin /></items><items><motif><id>CREATION</id><label /></motif><commentaire /><nomSociete>CENTRE HOSPITALIER DE VICHY</nomSociete><activite>PRESIDENT CONSEIL SURVEILLANCE</activite><remuneration><brutNet>Net</brutNet><montant><montant><annee>2017</annee><montant>0</montant></montant><montant><annee>2018</annee><montant>0</montant></montant><montant><annee>2019</annee><montant>0</montant></montant><montant><annee>2020</annee><montant>0</montant></montant><montant><annee>2021</annee><montant>0</montant></montant></montant></remuneration><dateDebut>10/2017</dateDebut><dateFin /></items><items><motif><id>CREATION</id><label /></motif><commentaire /><nomSociete>SYNDICAT POLE METROPOLITAIN CLERMONT VICHY</nomSociete><activite>PRESIDENT</activite><remuneration><brutNet>Net</brutNet><montant><montant><annee>2017</annee><montant>0</montant></montant><montant><annee>2018</annee><montant>0</montant></montant><montant><annee>2019</annee><montant>0</montant></montant><montant><annee>2020</annee><montant>0</montant></montant></montant></remuneration><dateDebut>10/2017</dateDebut><dateFin>10/2020</dateFin></items><items><motif><id>CREATION</id><label /></motif><commentaire /><nomSociete>SYNDICAT POLE METROPOLITAIN CLERMONT VICHY</nomSociete><activite>VICE PRESIDENT</activite><remuneration><brutNet>Net</brutNet><montant><montant><annee>2020</annee><montant>0</montant></montant><montant><annee>2021</annee><montant>0</montant></montant></montant></remuneration><dateDebut>10/2020</dateDebut><dateFin /></items><items><motif><id>CREATION</id><label /></motif><commentaire /><nomSociete>ASSO PAYS VICHY AUVERGNE</nomSociete><activite>MEMBRE CA</activite><remuneration><brutNet>Net</brutNet><montant><montant><annee>2015</annee><montant>0</montant></montant><montant><annee>2016</annee><montant>0</montant></montant><montant><annee>2017</annee><montant>0</montant></montant><montant><annee>2018</annee><montant>0</montant></montant><montant><annee>2019</annee><montant>0</montant></montant><montant><annee>2020</annee><montant>0</montant></montant><montant><annee>2021</annee><montant>0</montant></montant></montant></remuneration><dateDebut>01/2015</dateDebut><dateFin /></items><items><motif><id>CREATION</id><label /></motif><commentaire /><nomSociete>CAVILAM</nomSociete><activite>MEMBRE CA</activite><remuneration><brutNet>Net</brutNet><montant><montant><annee>2017</annee><montant>0</montant></montant><montant><annee>2018</annee><montant>0</montant></montant><montant><annee>2019</annee><montant>0</montant></montant><montant><annee>2020</annee><montant>0</montant></montant><montant><annee>2021</annee><montant>0</montant></montant></montant></remuneration><dateDebut>10/2017</dateDebut><dateFin /></items><items><motif><id>CREATION</id><label /></motif><commentaire /><nomSociete>VICHY CO DEVELOPPEMENT</nomSociete><activite>MEMBRE CA</activite><remuneration><brutNet>Net</brutNet><montant><montant><annee>2017</annee><montant>0</montant></montant><montant><annee>2018</annee><montant>0</montant></montant><montant><annee>2019</annee><montant>0</montant></montant><montant><annee>2020</annee><montant>0</montant></montant><montant><annee>2021</annee><montant>0</montant></montant></montant></remuneration><dateDebut>10/2017</dateDebut><dateFin /></items><items><motif><id>CREATION</id><label /></motif><commentaire /><nomSociete>SDIS 03</nomSociete><activite>MEMBRE CA</activite><remuneration><brutNet>Net</brutNet><montant><montant><annee>2015</annee><montant>0</montant></montant><montant><annee>2016</annee><montant>0</montant></montant><montant><annee>2017</annee><montant>0</montant></montant><montant><annee>2018</annee><montant>0</montant></montant><montant><annee>2019</annee><montant>0</montant></montant><montant><annee>2020</annee><montant>0</montant></montant><montant><annee>2021</annee><montant>0</montant></montant></montant></remuneration><dateDebut>04/2015</dateDebut><dateFin>07/2021</dateFin></items><items><motif><id>CREATION</id><label /></motif><commentaire /><nomSociete>ATDA</nomSociete><activite>MEMBRE CA</activite><remuneration><brutNet>Net</brutNet><montant><montant><annee>2015</annee><montant>0</montant></montant><montant><annee>2016</annee><montant>0</montant></montant><montant><annee>2017</annee><montant>0</montant></montant><montant><annee>2018</annee><montant>0</montant></montant><montant><annee>2019</annee><montant>0</montant></montant><montant><annee>2020</annee><montant>0</montant></montant><montant><annee>2021</annee><montant>0</montant></montant></montant></remuneration><dateDebut>04/2015</dateDebut><dateFin>07/2021</dateFin></items><items><motif><id>CREATION</id><label /></motif><commentaire /><nomSociete>ADCF</nomSociete><activite>MEMBRE CA - VP</activite><remuneration><brutNet>Net</brutNet><montant><montant><annee>2020</annee><montant>0</montant></montant><montant><annee>2021</annee><montant>0</montant></montant></montant></remuneration><dateDebut>09/2020</dateDebut><dateFin /></items></items><neant>false</neant></participationDirigeantDto><participationFinanciereDto><items><items><motif><id>CREATION</id><label /></motif><commentaire /><nomSociete>sci         [Donn\\u00e9es non publi\\u00e9es]    </nomSociete><evaluation>381</evaluation><remuneration>0</remuneration><capitalDetenu>0</capitalDetenu><nombreParts>25</nombreParts></items></items><neant>false</neant></participationFinanciereDto><activCollaborateursDto><items /><neant>false</neant></activCollaborateursDto><observationInteretDto><items /><neant>true</neant></observationInteretDto><general><typeDeclaration><id>DI</id><label>D\\u00e9claration d'int\\u00e9r\\u00eats modificative</label></typeDeclaration><mandat><label>Elu local ou membre d\\u2019un \\u00e9tablissement public de coop\\u00e9ration intercommunale</label></mandat><qualiteMandat><typeMandat>Membre d\\u2019EPCI</typeMandat><codCategorieMandat>LOC</codCategorieMandat><nomCategorieMandat>Elu local ou membre d\\u2019EPCI</nomCategorieMandat><codTypeMandatFichier>epci</codTypeMandatFichier><labelTypeMandat>Membre d\\u2019EPCI</labelTypeMandat><labelOrgane>EPCI</labelOrgane><codeListeOrgane /></qualiteMandat><organe><codeOrgane /><codeListeOrgane /><nomListeOrgane /><labelOrgane>VICHY COMMUNAUTE</labelOrgane><labelDeclaration /><organeParent /></organe><qualiteDeclarant /><qualiteDeclarantForPDF>Membre d\\u2019EPCI/VICHY COMMUNAUTE</qualiteDeclarantForPDF><dateDebutMandat>16/07/2020</dateDebutMandat><dateFinMandat /><dateDernDeclar /><regimeMatrimonial /><regimeMatrimonialComments /><nomSociete /><nomSocieteMere /><chiffreAffaire /><nbLogements /><declarationModificative>true</declarationModificative><declarant><civilite>M.</civilite><nom>AGUILERA</nom><prenom>FREDERIC</prenom><email>            [Donn\\u00e9es non publi\\u00e9es]        </email><dateNaissance>10/04/1975</dateNaissance><pieceIdentite /><telephoneDec>            [Donn\\u00e9es non publi\\u00e9es]        </telephoneDec><adresseDec><voie>            [Donn\\u00e9es non publi\\u00e9es]        </voie><complement>            [Donn\\u00e9es non publi\\u00e9es]        </complement><codePostal>            [Donn\\u00e9es non publi\\u00e9es]        </codePostal><ville>            [Donn\\u00e9es non publi\\u00e9es]        </ville><pays>            [Donn\\u00e9es non publi\\u00e9es]        </pays></adresseDec></declarant></general></declaration>\"\n        ],\n        \"semantic_type\": \"\",\n        \"description\": \"\"\n      }\n    },\n    {\n      \"column\": \"declaration_json\",\n      \"properties\": {\n        \"dtype\": \"string\",\n        \"num_unique_values\": 99,\n        \"samples\": [\n          \"{\\\"declaration\\\": {\\\"dateDepot\\\": \\\"07/07/2021 14:35:20\\\", \\\"uuid\\\": \\\"a90ca672-2b3a-4836-b735-0581938f1513\\\", \\\"origine\\\": \\\"ADEL\\\", \\\"complete\\\": \\\"true\\\", \\\"attachedFiles\\\": {\\\"attachedFiles\\\": {\\\"fileName\\\": \\\"VUE_PDF_DU_RECEPISSE_DU_DEPOT_XML\\\", \\\"serverFileName\\\": null, \\\"base64EncodedContent\\\": \\\"\\\"}}, \\\"declarationVersion\\\": \\\"20171221\\\", \\\"activConsultantDto\\\": {\\\"items\\\": {\\\"items\\\": {\\\"motif\\\": {\\\"id\\\": \\\"CREATION\\\", \\\"label\\\": null}, \\\"commentaire\\\": \\\"Cr\\u00e9ation en septembre 2017. aucune activit\\u00e9 depuis. Autoentreprise en sommeil depuis mon \\u00e9lection de Maire.\\\", \\\"conservee\\\": \\\"false\\\", \\\"nomEmployeur\\\": \\\"autoentreprise\\\", \\\"description\\\": \\\"consultant r\\u00e9seaux sociaux\\\", \\\"dateDebut\\\": \\\"09/2017\\\", \\\"dateFin\\\": \\\"12/2017\\\", \\\"remuneration\\\": {\\\"brutNet\\\": \\\"Net\\\", \\\"montant\\\": {\\\"montant\\\": {\\\"annee\\\": \\\"2017\\\", \\\"montant\\\": \\\"0\\\"}}}}}, \\\"neant\\\": \\\"false\\\"}, \\\"activProfCinqDerniereDto\\\": {\\\"items\\\": {\\\"items\\\": [{\\\"motif\\\": {\\\"id\\\": \\\"CREATION\\\", \\\"label\\\": null}, \\\"commentaire\\\": \\\"REVENU NET FISCAL. fin du contrat en novembre 2014. (Indication uniquement sur la p\\u00e9riode des 5 ans)\\\", \\\"conservee\\\": \\\"false\\\", \\\"description\\\": \\\"attach\\u00e9 parlementaire\\\", \\\"employeur\\\": \\\"senateur DERIOT\\\", \\\"remuneration\\\": {\\\"brutNet\\\": \\\"Net\\\", \\\"montant\\\": {\\\"montant\\\": [{\\\"annee\\\": \\\"2013\\\", \\\"montant\\\": \\\"29882\\\"}, {\\\"annee\\\": \\\"2014\\\", \\\"montant\\\": \\\"22658\\\"}]}}, \\\"dateDebut\\\": \\\"01/2013\\\", \\\"dateFin\\\": \\\"11/2014\\\"}, {\\\"motif\\\": {\\\"id\\\": \\\"CREATION\\\", \\\"label\\\": null}, \\\"commentaire\\\": null, \\\"description\\\": \\\"COMMUNITY MANAGER\\\", \\\"employeur\\\": \\\"TRADZINE\\\", \\\"remuneration\\\": {\\\"brutNet\\\": \\\"Net\\\", \\\"montant\\\": {\\\"montant\\\": {\\\"annee\\\": \\\"2018\\\", \\\"montant\\\": \\\"1020\\\"}}}, \\\"dateDebut\\\": \\\"07/2018\\\", \\\"dateFin\\\": \\\"12/2018\\\"}]}, \\\"neant\\\": \\\"false\\\"}, \\\"activProfConjointDto\\\": {\\\"items\\\": null, \\\"neant\\\": \\\"true\\\"}, \\\"fonctionBenevoleDto\\\": {\\\"items\\\": null, \\\"neant\\\": \\\"true\\\"}, \\\"mandatElectifDto\\\": {\\\"items\\\": {\\\"items\\\": [{\\\"motif\\\": {\\\"id\\\": \\\"CREATION\\\", \\\"label\\\": null}, \\\"commentaire\\\": \\\"Evolution en fonction de la l\\u00e9gislation, \\u00e9cr\\u00eatement et retenue \\u00e0 la source. chiffre uniquement sur les 5 ans.\\\", \\\"conservee\\\": \\\"false\\\", \\\"descriptionMandat\\\": \\\"ADJOINT AU MAIRE\\\", \\\"remuneration\\\": {\\\"brutNet\\\": \\\"Net\\\", \\\"montant\\\": {\\\"montant\\\": [{\\\"annee\\\": \\\"2013\\\", \\\"montant\\\": \\\"16334\\\"}, {\\\"annee\\\": \\\"2014\\\", \\\"montant\\\": \\\"13200\\\"}, {\\\"annee\\\": \\\"2015\\\", \\\"montant\\\": \\\"9500\\\"}, {\\\"annee\\\": \\\"2016\\\", \\\"montant\\\": \\\"7200\\\"}, {\\\"annee\\\": \\\"2017\\\", \\\"montant\\\": \\\"9600\\\"}]}}, \\\"dateDebut\\\": \\\"01/2013\\\", \\\"dateFin\\\": \\\"09/2017\\\"}, {\\\"motif\\\": {\\\"id\\\": \\\"CREATION\\\", \\\"label\\\": null}, \\\"commentaire\\\": \\\"ESTIMATION - NET FISCAL\\\", \\\"conservee\\\": \\\"false\\\", \\\"descriptionMandat\\\": \\\"MAIRE\\\", \\\"remuneration\\\": {\\\"brutNet\\\": \\\"Net\\\", \\\"montant\\\": {\\\"montant\\\": [{\\\"annee\\\": \\\"2017\\\", \\\"montant\\\": \\\"11000\\\"}, {\\\"annee\\\": \\\"2018\\\", \\\"montant\\\": \\\"41500\\\"}, {\\\"annee\\\": \\\"2019\\\", \\\"montant\\\": \\\"41500\\\"}, {\\\"annee\\\": \\\"2020\\\", \\\"montant\\\": \\\"31100\\\"}]}}, \\\"dateDebut\\\": \\\"10/2017\\\", \\\"dateFin\\\": \\\"09/2020\\\"}, {\\\"motif\\\": {\\\"id\\\": \\\"CREATION\\\", \\\"label\\\": null}, \\\"commentaire\\\": null, \\\"conservee\\\": \\\"false\\\", \\\"descriptionMandat\\\": \\\"VICE PRESIDENT AGGLOMERATION\\\", \\\"remuneration\\\": {\\\"brutNet\\\": \\\"Net\\\", \\\"montant\\\": {\\\"montant\\\": [{\\\"annee\\\": \\\"2014\\\", \\\"montant\\\": \\\"9900\\\"}, {\\\"annee\\\": \\\"2015\\\", \\\"montant\\\": \\\"15200\\\"}, {\\\"annee\\\": \\\"2016\\\", \\\"montant\\\": \\\"15200\\\"}, {\\\"annee\\\": \\\"2017\\\", \\\"montant\\\": \\\"11100\\\"}]}}, \\\"dateDebut\\\": \\\"05/2014\\\", \\\"dateFin\\\": \\\"09/2017\\\"}, {\\\"motif\\\": {\\\"id\\\": \\\"CREATION\\\", \\\"label\\\": null}, \\\"commentaire\\\": null, \\\"conservee\\\": \\\"false\\\", \\\"descriptionMandat\\\": \\\"VICE PRESIDENT CONSEIL DEPARTEMENTAL\\\", \\\"remuneration\\\": {\\\"brutNet\\\": \\\"Net\\\", \\\"montant\\\": {\\\"montant\\\": [{\\\"annee\\\": \\\"2015\\\", \\\"montant\\\": \\\"18000\\\"}, {\\\"annee\\\": \\\"2016\\\", \\\"montant\\\": \\\"24000\\\"}, {\\\"annee\\\": \\\"2017\\\", \\\"montant\\\": \\\"24000\\\"}, {\\\"annee\\\": \\\"2018\\\", \\\"montant\\\": \\\"24000\\\"}, {\\\"annee\\\": \\\"2019\\\", \\\"montant\\\": \\\"24000\\\"}, {\\\"annee\\\": \\\"2020\\\", \\\"montant\\\": \\\"15066\\\"}]}}, \\\"dateDebut\\\": \\\"04/2015\\\", \\\"dateFin\\\": \\\"09/2020\\\"}, {\\\"motif\\\": {\\\"id\\\": \\\"CREATION\\\", \\\"label\\\": null}, \\\"commentaire\\\": \\\"MANDAT ECRETE\\\", \\\"conservee\\\": \\\"false\\\", \\\"descriptionMandat\\\": \\\"PRESIDENT AGGLOMERATION\\\", \\\"remuneration\\\": {\\\"brutNet\\\": \\\"Net\\\", \\\"montant\\\": {\\\"montant\\\": [{\\\"annee\\\": \\\"2017\\\", \\\"montant\\\": \\\"0\\\"}, {\\\"annee\\\": \\\"2018\\\", \\\"montant\\\": \\\"0\\\"}, {\\\"annee\\\": \\\"2019\\\", \\\"montant\\\": \\\"0\\\"}, {\\\"annee\\\": \\\"2020\\\", \\\"montant\\\": \\\"0\\\"}]}}, \\\"dateDebut\\\": \\\"10/2017\\\", \\\"dateFin\\\": \\\"09/2020\\\"}]}, \\\"neant\\\": \\\"false\\\"}, \\\"participationDirigeantDto\\\": {\\\"items\\\": {\\\"items\\\": [{\\\"motif\\\": {\\\"id\\\": \\\"CREATION\\\", \\\"label\\\": null}, \\\"commentaire\\\": \\\"Montant mensuel net 1470\\\", \\\"conservee\\\": \\\"false\\\", \\\"nomSociete\\\": \\\"SEMIV\\\", \\\"activite\\\": \\\"PDG\\\", \\\"remuneration\\\": {\\\"brutNet\\\": \\\"Net\\\", \\\"montant\\\": {\\\"montant\\\": [{\\\"annee\\\": \\\"2013\\\", \\\"montant\\\": \\\"16746\\\"}, {\\\"annee\\\": \\\"2014\\\", \\\"montant\\\": \\\"17380\\\"}, {\\\"annee\\\": \\\"2015\\\", \\\"montant\\\": \\\"17640\\\"}, {\\\"annee\\\": \\\"2016\\\", \\\"montant\\\": \\\"17640\\\"}, {\\\"annee\\\": \\\"2017\\\", \\\"montant\\\": \\\"17640\\\"}, {\\\"annee\\\": \\\"2018\\\", \\\"montant\\\": \\\"17640\\\"}, {\\\"annee\\\": \\\"2019\\\", \\\"montant\\\": \\\"17640\\\"}, {\\\"annee\\\": \\\"2020\\\", \\\"montant\\\": \\\"13230\\\"}]}}, \\\"dateDebut\\\": \\\"01/2013\\\", \\\"dateFin\\\": \\\"09/2020\\\"}, {\\\"motif\\\": {\\\"id\\\": \\\"CREATION\\\", \\\"label\\\": null}, \\\"commentaire\\\": null, \\\"nomSociete\\\": \\\"SPL Clermont Auvergne\\\", \\\"activite\\\": \\\"MEMBRE DU CA\\\", \\\"remuneration\\\": {\\\"brutNet\\\": \\\"Net\\\", \\\"montant\\\": {\\\"montant\\\": [{\\\"annee\\\": \\\"2018\\\", \\\"montant\\\": \\\"0\\\"}, {\\\"annee\\\": \\\"2019\\\", \\\"montant\\\": \\\"0\\\"}, {\\\"annee\\\": \\\"2020\\\", \\\"montant\\\": \\\"0\\\"}, {\\\"annee\\\": \\\"2021\\\", \\\"montant\\\": \\\"0\\\"}]}}, \\\"dateDebut\\\": \\\"03/2018\\\", \\\"dateFin\\\": null}, {\\\"motif\\\": {\\\"id\\\": \\\"CREATION\\\", \\\"label\\\": null}, \\\"commentaire\\\": null, \\\"nomSociete\\\": \\\"EPCC - VICHY CULTURE\\\", \\\"activite\\\": \\\"MEMBRE DU CA\\\", \\\"remuneration\\\": {\\\"brutNet\\\": \\\"Net\\\", \\\"montant\\\": {\\\"montant\\\": [{\\\"annee\\\": \\\"2019\\\", \\\"montant\\\": \\\"0\\\"}, {\\\"annee\\\": \\\"2020\\\", \\\"montant\\\": \\\"0\\\"}, {\\\"annee\\\": \\\"2021\\\", \\\"montant\\\": \\\"0\\\"}]}}, \\\"dateDebut\\\": \\\"01/2019\\\", \\\"dateFin\\\": null}, {\\\"motif\\\": {\\\"id\\\": \\\"CREATION\\\", \\\"label\\\": null}, \\\"commentaire\\\": null, \\\"nomSociete\\\": \\\"SPL VICHY DESTINATION\\\", \\\"activite\\\": \\\"PDT CA - PDG\\\", \\\"remuneration\\\": {\\\"brutNet\\\": \\\"Net\\\", \\\"montant\\\": {\\\"montant\\\": [{\\\"annee\\\": \\\"2018\\\", \\\"montant\\\": \\\"0\\\"}, {\\\"annee\\\": \\\"2019\\\", \\\"montant\\\": \\\"0\\\"}, {\\\"annee\\\": \\\"2020\\\", \\\"montant\\\": \\\"0\\\"}, {\\\"annee\\\": \\\"2021\\\", \\\"montant\\\": \\\"0\\\"}]}}, \\\"dateDebut\\\": \\\"09/2018\\\", \\\"dateFin\\\": null}, {\\\"motif\\\": {\\\"id\\\": \\\"CREATION\\\", \\\"label\\\": null}, \\\"commentaire\\\": null, \\\"nomSociete\\\": \\\"CCAS Vichy\\\", \\\"activite\\\": \\\"president\\\", \\\"remuneration\\\": {\\\"brutNet\\\": \\\"Net\\\", \\\"montant\\\": {\\\"montant\\\": [{\\\"annee\\\": \\\"2017\\\", \\\"montant\\\": \\\"0\\\"}, {\\\"annee\\\": \\\"2018\\\", \\\"montant\\\": \\\"0\\\"}, {\\\"annee\\\": \\\"2019\\\", \\\"montant\\\": \\\"0\\\"}, {\\\"annee\\\": \\\"2020\\\", \\\"montant\\\": \\\"0\\\"}, {\\\"annee\\\": \\\"2021\\\", \\\"montant\\\": \\\"0\\\"}]}}, \\\"dateDebut\\\": \\\"10/2017\\\", \\\"dateFin\\\": null}, {\\\"motif\\\": {\\\"id\\\": \\\"CREATION\\\", \\\"label\\\": null}, \\\"commentaire\\\": null, \\\"nomSociete\\\": \\\"CENTRE HOSPITALIER DE VICHY\\\", \\\"activite\\\": \\\"PRESIDENT CONSEIL SURVEILLANCE\\\", \\\"remuneration\\\": {\\\"brutNet\\\": \\\"Net\\\", \\\"montant\\\": {\\\"montant\\\": [{\\\"annee\\\": \\\"2017\\\", \\\"montant\\\": \\\"0\\\"}, {\\\"annee\\\": \\\"2018\\\", \\\"montant\\\": \\\"0\\\"}, {\\\"annee\\\": \\\"2019\\\", \\\"montant\\\": \\\"0\\\"}, {\\\"annee\\\": \\\"2020\\\", \\\"montant\\\": \\\"0\\\"}, {\\\"annee\\\": \\\"2021\\\", \\\"montant\\\": \\\"0\\\"}]}}, \\\"dateDebut\\\": \\\"10/2017\\\", \\\"dateFin\\\": null}, {\\\"motif\\\": {\\\"id\\\": \\\"CREATION\\\", \\\"label\\\": null}, \\\"commentaire\\\": null, \\\"nomSociete\\\": \\\"SYNDICAT POLE METROPOLITAIN CLERMONT VICHY\\\", \\\"activite\\\": \\\"PRESIDENT\\\", \\\"remuneration\\\": {\\\"brutNet\\\": \\\"Net\\\", \\\"montant\\\": {\\\"montant\\\": [{\\\"annee\\\": \\\"2017\\\", \\\"montant\\\": \\\"0\\\"}, {\\\"annee\\\": \\\"2018\\\", \\\"montant\\\": \\\"0\\\"}, {\\\"annee\\\": \\\"2019\\\", \\\"montant\\\": \\\"0\\\"}, {\\\"annee\\\": \\\"2020\\\", \\\"montant\\\": \\\"0\\\"}]}}, \\\"dateDebut\\\": \\\"10/2017\\\", \\\"dateFin\\\": \\\"10/2020\\\"}, {\\\"motif\\\": {\\\"id\\\": \\\"CREATION\\\", \\\"label\\\": null}, \\\"commentaire\\\": null, \\\"nomSociete\\\": \\\"SYNDICAT POLE METROPOLITAIN CLERMONT VICHY\\\", \\\"activite\\\": \\\"VICE PRESIDENT\\\", \\\"remuneration\\\": {\\\"brutNet\\\": \\\"Net\\\", \\\"montant\\\": {\\\"montant\\\": [{\\\"annee\\\": \\\"2020\\\", \\\"montant\\\": \\\"0\\\"}, {\\\"annee\\\": \\\"2021\\\", \\\"montant\\\": \\\"0\\\"}]}}, \\\"dateDebut\\\": \\\"10/2020\\\", \\\"dateFin\\\": null}, {\\\"motif\\\": {\\\"id\\\": \\\"CREATION\\\", \\\"label\\\": null}, \\\"commentaire\\\": null, \\\"nomSociete\\\": \\\"ASSO PAYS VICHY AUVERGNE\\\", \\\"activite\\\": \\\"MEMBRE CA\\\", \\\"remuneration\\\": {\\\"brutNet\\\": \\\"Net\\\", \\\"montant\\\": {\\\"montant\\\": [{\\\"annee\\\": \\\"2015\\\", \\\"montant\\\": \\\"0\\\"}, {\\\"annee\\\": \\\"2016\\\", \\\"montant\\\": \\\"0\\\"}, {\\\"annee\\\": \\\"2017\\\", \\\"montant\\\": \\\"0\\\"}, {\\\"annee\\\": \\\"2018\\\", \\\"montant\\\": \\\"0\\\"}, {\\\"annee\\\": \\\"2019\\\", \\\"montant\\\": \\\"0\\\"}, {\\\"annee\\\": \\\"2020\\\", \\\"montant\\\": \\\"0\\\"}, {\\\"annee\\\": \\\"2021\\\", \\\"montant\\\": \\\"0\\\"}]}}, \\\"dateDebut\\\": \\\"01/2015\\\", \\\"dateFin\\\": null}, {\\\"motif\\\": {\\\"id\\\": \\\"CREATION\\\", \\\"label\\\": null}, \\\"commentaire\\\": null, \\\"nomSociete\\\": \\\"CAVILAM\\\", \\\"activite\\\": \\\"MEMBRE CA\\\", \\\"remuneration\\\": {\\\"brutNet\\\": \\\"Net\\\", \\\"montant\\\": {\\\"montant\\\": [{\\\"annee\\\": \\\"2017\\\", \\\"montant\\\": \\\"0\\\"}, {\\\"annee\\\": \\\"2018\\\", \\\"montant\\\": \\\"0\\\"}, {\\\"annee\\\": \\\"2019\\\", \\\"montant\\\": \\\"0\\\"}, {\\\"annee\\\": \\\"2020\\\", \\\"montant\\\": \\\"0\\\"}, {\\\"annee\\\": \\\"2021\\\", \\\"montant\\\": \\\"0\\\"}]}}, \\\"dateDebut\\\": \\\"10/2017\\\", \\\"dateFin\\\": null}, {\\\"motif\\\": {\\\"id\\\": \\\"CREATION\\\", \\\"label\\\": null}, \\\"commentaire\\\": null, \\\"nomSociete\\\": \\\"VICHY CO DEVELOPPEMENT\\\", \\\"activite\\\": \\\"MEMBRE CA\\\", \\\"remuneration\\\": {\\\"brutNet\\\": \\\"Net\\\", \\\"montant\\\": {\\\"montant\\\": [{\\\"annee\\\": \\\"2017\\\", \\\"montant\\\": \\\"0\\\"}, {\\\"annee\\\": \\\"2018\\\", \\\"montant\\\": \\\"0\\\"}, {\\\"annee\\\": \\\"2019\\\", \\\"montant\\\": \\\"0\\\"}, {\\\"annee\\\": \\\"2020\\\", \\\"montant\\\": \\\"0\\\"}, {\\\"annee\\\": \\\"2021\\\", \\\"montant\\\": \\\"0\\\"}]}}, \\\"dateDebut\\\": \\\"10/2017\\\", \\\"dateFin\\\": null}, {\\\"motif\\\": {\\\"id\\\": \\\"CREATION\\\", \\\"label\\\": null}, \\\"commentaire\\\": null, \\\"nomSociete\\\": \\\"SDIS 03\\\", \\\"activite\\\": \\\"MEMBRE CA\\\", \\\"remuneration\\\": {\\\"brutNet\\\": \\\"Net\\\", \\\"montant\\\": {\\\"montant\\\": [{\\\"annee\\\": \\\"2015\\\", \\\"montant\\\": \\\"0\\\"}, {\\\"annee\\\": \\\"2016\\\", \\\"montant\\\": \\\"0\\\"}, {\\\"annee\\\": \\\"2017\\\", \\\"montant\\\": \\\"0\\\"}, {\\\"annee\\\": \\\"2018\\\", \\\"montant\\\": \\\"0\\\"}, {\\\"annee\\\": \\\"2019\\\", \\\"montant\\\": \\\"0\\\"}, {\\\"annee\\\": \\\"2020\\\", \\\"montant\\\": \\\"0\\\"}, {\\\"annee\\\": \\\"2021\\\", \\\"montant\\\": \\\"0\\\"}]}}, \\\"dateDebut\\\": \\\"04/2015\\\", \\\"dateFin\\\": \\\"07/2021\\\"}, {\\\"motif\\\": {\\\"id\\\": \\\"CREATION\\\", \\\"label\\\": null}, \\\"commentaire\\\": null, \\\"nomSociete\\\": \\\"ATDA\\\", \\\"activite\\\": \\\"MEMBRE CA\\\", \\\"remuneration\\\": {\\\"brutNet\\\": \\\"Net\\\", \\\"montant\\\": {\\\"montant\\\": [{\\\"annee\\\": \\\"2015\\\", \\\"montant\\\": \\\"0\\\"}, {\\\"annee\\\": \\\"2016\\\", \\\"montant\\\": \\\"0\\\"}, {\\\"annee\\\": \\\"2017\\\", \\\"montant\\\": \\\"0\\\"}, {\\\"annee\\\": \\\"2018\\\", \\\"montant\\\": \\\"0\\\"}, {\\\"annee\\\": \\\"2019\\\", \\\"montant\\\": \\\"0\\\"}, {\\\"annee\\\": \\\"2020\\\", \\\"montant\\\": \\\"0\\\"}, {\\\"annee\\\": \\\"2021\\\", \\\"montant\\\": \\\"0\\\"}]}}, \\\"dateDebut\\\": \\\"04/2015\\\", \\\"dateFin\\\": \\\"07/2021\\\"}, {\\\"motif\\\": {\\\"id\\\": \\\"CREATION\\\", \\\"label\\\": null}, \\\"commentaire\\\": null, \\\"nomSociete\\\": \\\"ADCF\\\", \\\"activite\\\": \\\"MEMBRE CA - VP\\\", \\\"remuneration\\\": {\\\"brutNet\\\": \\\"Net\\\", \\\"montant\\\": {\\\"montant\\\": [{\\\"annee\\\": \\\"2020\\\", \\\"montant\\\": \\\"0\\\"}, {\\\"annee\\\": \\\"2021\\\", \\\"montant\\\": \\\"0\\\"}]}}, \\\"dateDebut\\\": \\\"09/2020\\\", \\\"dateFin\\\": null}]}, \\\"neant\\\": \\\"false\\\"}, \\\"participationFinanciereDto\\\": {\\\"items\\\": {\\\"items\\\": {\\\"motif\\\": {\\\"id\\\": \\\"CREATION\\\", \\\"label\\\": null}, \\\"commentaire\\\": null, \\\"nomSociete\\\": \\\"sci         [Donn\\u00e9es non publi\\u00e9es]\\\", \\\"evaluation\\\": \\\"381\\\", \\\"remuneration\\\": \\\"0\\\", \\\"capitalDetenu\\\": \\\"0\\\", \\\"nombreParts\\\": \\\"25\\\"}}, \\\"neant\\\": \\\"false\\\"}, \\\"activCollaborateursDto\\\": {\\\"items\\\": null, \\\"neant\\\": \\\"false\\\"}, \\\"observationInteretDto\\\": {\\\"items\\\": null, \\\"neant\\\": \\\"true\\\"}, \\\"general\\\": {\\\"typeDeclaration\\\": {\\\"id\\\": \\\"DI\\\", \\\"label\\\": \\\"D\\u00e9claration d'int\\u00e9r\\u00eats modificative\\\"}, \\\"mandat\\\": {\\\"label\\\": \\\"Elu local ou membre d\\u2019un \\u00e9tablissement public de coop\\u00e9ration intercommunale\\\"}, \\\"qualiteMandat\\\": {\\\"typeMandat\\\": \\\"Membre d\\u2019EPCI\\\", \\\"codCategorieMandat\\\": \\\"LOC\\\", \\\"nomCategorieMandat\\\": \\\"Elu local ou membre d\\u2019EPCI\\\", \\\"codTypeMandatFichier\\\": \\\"epci\\\", \\\"labelTypeMandat\\\": \\\"Membre d\\u2019EPCI\\\", \\\"labelOrgane\\\": \\\"EPCI\\\", \\\"codeListeOrgane\\\": null}, \\\"organe\\\": {\\\"codeOrgane\\\": null, \\\"codeListeOrgane\\\": null, \\\"nomListeOrgane\\\": null, \\\"labelOrgane\\\": \\\"VICHY COMMUNAUTE\\\", \\\"labelDeclaration\\\": null, \\\"organeParent\\\": null}, \\\"qualiteDeclarant\\\": null, \\\"qualiteDeclarantForPDF\\\": \\\"Membre d\\u2019EPCI/VICHY COMMUNAUTE\\\", \\\"dateDebutMandat\\\": \\\"16/07/2020\\\", \\\"dateFinMandat\\\": null, \\\"dateDernDeclar\\\": null, \\\"regimeMatrimonial\\\": null, \\\"regimeMatrimonialComments\\\": null, \\\"nomSociete\\\": null, \\\"nomSocieteMere\\\": null, \\\"chiffreAffaire\\\": null, \\\"nbLogements\\\": null, \\\"declarationModificative\\\": \\\"true\\\", \\\"declarant\\\": {\\\"civilite\\\": \\\"M.\\\", \\\"nom\\\": \\\"AGUILERA\\\", \\\"prenom\\\": \\\"FREDERIC\\\", \\\"email\\\": \\\"[Donn\\u00e9es non publi\\u00e9es]\\\", \\\"dateNaissance\\\": \\\"10/04/1975\\\", \\\"pieceIdentite\\\": null, \\\"telephoneDec\\\": \\\"[Donn\\u00e9es non publi\\u00e9es]\\\", \\\"adresseDec\\\": {\\\"voie\\\": \\\"[Donn\\u00e9es non publi\\u00e9es]\\\", \\\"complement\\\": \\\"[Donn\\u00e9es non publi\\u00e9es]\\\", \\\"codePostal\\\": \\\"[Donn\\u00e9es non publi\\u00e9es]\\\", \\\"ville\\\": \\\"[Donn\\u00e9es non publi\\u00e9es]\\\", \\\"pays\\\": \\\"[Donn\\u00e9es non publi\\u00e9es]\\\"}}}}}\"\n        ],\n        \"semantic_type\": \"\",\n        \"description\": \"\"\n      }\n    },\n    {\n      \"column\": \"extracted_text\",\n      \"properties\": {\n        \"dtype\": \"string\",\n        \"num_unique_values\": 99,\n        \"samples\": [\n          \"Fiche de frederic aguilera - membre d\\u2019epci/vichy communaute \\n ------------ \\n07/07/2021 14:35:20\\na90ca672-2b3a-4836-b735-0581938f1513\\nadel\\ntrue\\nvue_pdf_du_recepisse_du_depot_xml\\n\\n20171221\\ncreation\\ncr\\u00e9ation en septembre 2017. aucune activit\\u00e9 depuis. autoentreprise en sommeil depuis mon \\u00e9lection de maire.\\nfalse\\nautoentreprise\\nconsultant r\\u00e9seaux sociaux\\n09/2017\\n12/2017\\nnet\\n2017\\n0\\nfalse\\ncreation\\nrevenu net fiscal. fin du contrat en novembre 2014. (indication uniquement sur la p\\u00e9riode des 5 ans)\\nfalse\\nattach\\u00e9 parlementaire\\nsenateur deriot\\nnet\\n2013\\n29882\\n2014\\n22658\\n01/2013\\n11/2014\\ncreation\\ncommunity manager\\ntradzine\\nnet\\n2018\\n1020\\n07/2018\\n12/2018\\nfalse\\ntrue\\ntrue\\ncreation\\nevolution en fonction de la l\\u00e9gislation, \\u00e9cr\\u00eatement et retenue \\u00e0 la source. chiffre uniquement sur les 5 ans.\\nfalse\\nadjoint au maire\\nnet\\n2013\\n16334\\n2014\\n13200\\n2015\\n9500\\n2016\\n7200\\n2017\\n9600\\n01/2013\\n09/2017\\ncreation\\nestimation - net fiscal\\nfalse\\nmaire\\nnet\\n2017\\n11000\\n2018\\n41500\\n2019\\n41500\\n2020\\n31100\\n10/2017\\n09/2020\\ncreation\\nfalse\\nvice president agglomeration\\nnet\\n2014\\n9900\\n2015\\n15200\\n2016\\n15200\\n2017\\n11100\\n05/2014\\n09/2017\\ncreation\\nfalse\\nvice president conseil departemental\\nnet\\n2015\\n18000\\n2016\\n24000\\n2017\\n24000\\n2018\\n24000\\n2019\\n24000\\n2020\\n15066\\n04/2015\\n09/2020\\ncreation\\nmandat ecrete\\nfalse\\npresident agglomeration\\nnet\\n2017\\n0\\n2018\\n0\\n2019\\n0\\n2020\\n0\\n10/2017\\n09/2020\\nfalse\\ncreation\\nmontant mensuel net 1470\\nfalse\\nsemiv\\npdg\\nnet\\n2013\\n16746\\n2014\\n17380\\n2015\\n17640\\n2016\\n17640\\n2017\\n17640\\n2018\\n17640\\n2019\\n17640\\n2020\\n13230\\n01/2013\\n09/2020\\ncreation\\nspl clermont auvergne\\nmembre du ca\\nnet\\n2018\\n0\\n2019\\n0\\n2020\\n0\\n2021\\n0\\n03/2018\\ncreation\\nepcc - vichy culture\\nmembre du ca\\nnet\\n2019\\n0\\n2020\\n0\\n2021\\n0\\n01/2019\\ncreation\\nspl vichy destination\\npdt ca - pdg\\nnet\\n2018\\n0\\n2019\\n0\\n2020\\n0\\n2021\\n0\\n09/2018\\ncreation\\nccas vichy\\npresident\\nnet\\n2017\\n0\\n2018\\n0\\n2019\\n0\\n2020\\n0\\n2021\\n0\\n10/2017\\ncreation\\ncentre hospitalier de vichy\\npresident conseil surveillance\\nnet\\n2017\\n0\\n2018\\n0\\n2019\\n0\\n2020\\n0\\n2021\\n0\\n10/2017\\ncreation\\nsyndicat pole metropolitain clermont vichy\\npresident\\nnet\\n2017\\n0\\n2018\\n0\\n2019\\n0\\n2020\\n0\\n10/2017\\n10/2020\\ncreation\\nsyndicat pole metropolitain clermont vichy\\nvice president\\nnet\\n2020\\n0\\n2021\\n0\\n10/2020\\ncreation\\nasso pays vichy auvergne\\nmembre ca\\nnet\\n2015\\n0\\n2016\\n0\\n2017\\n0\\n2018\\n0\\n2019\\n0\\n2020\\n0\\n2021\\n0\\n01/2015\\ncreation\\ncavilam\\nmembre ca\\nnet\\n2017\\n0\\n2018\\n0\\n2019\\n0\\n2020\\n0\\n2021\\n0\\n10/2017\\ncreation\\nvichy co developpement\\nmembre ca\\nnet\\n2017\\n0\\n2018\\n0\\n2019\\n0\\n2020\\n0\\n2021\\n0\\n10/2017\\ncreation\\nsdis 03\\nmembre ca\\nnet\\n2015\\n0\\n2016\\n0\\n2017\\n0\\n2018\\n0\\n2019\\n0\\n2020\\n0\\n2021\\n0\\n04/2015\\n07/2021\\ncreation\\natda\\nmembre ca\\nnet\\n2015\\n0\\n2016\\n0\\n2017\\n0\\n2018\\n0\\n2019\\n0\\n2020\\n0\\n2021\\n0\\n04/2015\\n07/2021\\ncreation\\nadcf\\nmembre ca - vp\\nnet\\n2020\\n0\\n2021\\n0\\n09/2020\\nfalse\\ncreation\\nsci         [donn\\u00e9es non publi\\u00e9es]\\n381\\n0\\n0\\n25\\nfalse\\nfalse\\ntrue\\ndi\\nd\\u00e9claration d'int\\u00e9r\\u00eats modificative\\nelu local ou membre d\\u2019un \\u00e9tablissement public de coop\\u00e9ration intercommunale\\nmembre d\\u2019epci\\nloc\\nelu local ou membre d\\u2019epci\\nepci\\nmembre d\\u2019epci\\nepci\\nvichy communaute\\nmembre d\\u2019epci/vichy communaute\\n16/07/2020\\ntrue\\nm.\\naguilera\\nfrederic\\n[donn\\u00e9es non publi\\u00e9es]\\n10/04/1975\\n[donn\\u00e9es non publi\\u00e9es]\\n[donn\\u00e9es non publi\\u00e9es]\\n[donn\\u00e9es non publi\\u00e9es]\\n[donn\\u00e9es non publi\\u00e9es]\\n[donn\\u00e9es non publi\\u00e9es]\\n[donn\\u00e9es non publi\\u00e9es]\"\n        ],\n        \"semantic_type\": \"\",\n        \"description\": \"\"\n      }\n    },\n    {\n      \"column\": \"text_embedding\",\n      \"properties\": {\n        \"dtype\": \"object\",\n        \"semantic_type\": \"\",\n        \"description\": \"\"\n      }\n    }\n  ]\n}"
            }
          },
          "metadata": {},
          "execution_count": 34
        }
      ]
    },
    {
      "cell_type": "markdown",
      "source": [
        "### Backup dataset to HF HUB"
      ],
      "metadata": {
        "id": "FH7OwX1-05yY"
      }
    },
    {
      "cell_type": "code",
      "source": [
        "if dataset_creation:\n",
        "  declaration_ds.push_to_hub(\"the-french-artist/hatvp_declarations_text_embeds\")\n",
        "  # declaration_ds.push_to_hub(\"the-french-artist/hatvp_declarations_text_index_embeds\")"
      ],
      "metadata": {
        "colab": {
          "base_uri": "https://localhost:8080/",
          "height": 113,
          "referenced_widgets": [
            "6d2be422a72342d5a38a793b46a930aa",
            "51009f381a0f4c6ca9193adaec927a25",
            "a3b75ccbb99940aeb64229ca183f716f",
            "562bc47c5858477d92226366ebffa1ae",
            "1ddb2273751640ae827e933ccbc8e1e8",
            "db8e8ffa2c3747c0a7c50109ff09c60a",
            "f007a77bf3044b4b928e8473b68948ad",
            "b7db17a11ab24528999e438311fed50b",
            "146dab91c54c4006a18dacf4f35ed5b5",
            "21686cb592744ecaae20efa7527fecdc",
            "3eebd9900b36485cadebd21a2f88f389",
            "6db10cb1c6db43989baca8f2b7c41bb4",
            "128bd70ec99944c098b9893d49e96bb1",
            "ffae8765c43a46fe949e69a75f327c51",
            "0fe32e0101ee4d1fbd32f0e5ec64a468",
            "97dfbd29f4aa4e89af2b5b5d193188f4",
            "93c3b4e875fd4fe098f4a72a0b26f25c",
            "1ca8f379c7cb4edb8327a61f67a34a73",
            "7876719dde7c4f55ac1077a380f3be2a",
            "74d1ec13d8464dedb6cb7a31e0e06cd6",
            "113001444d4440698f5228dbb1a716fa",
            "9b438af282f14b2fb65cc6081b248ee0",
            "ac4a2bd8a6f04b31a114bf3b6f61ec58",
            "c572299a2c4b4f1b9a3c4ed34a8e41ce",
            "2b64adba3d7c46319c3d63a535db12dd",
            "f218f023c8aa4d0185efa51086f707cd",
            "1772925aeba04654850d024ce7e6ee2e",
            "86db4d85ecaa434f993eb4e63b720a99",
            "cabb15e481db4515887816e058489ee7",
            "60010812046044d2a5483295cb096cde",
            "88dffe22a0a94ade9da843843272cb26",
            "26cf85d14b3f49e899017c41e52e6124",
            "6e19a607f08a40509ca6ce8ae7fd9e65"
          ]
        },
        "id": "TKdi3d6Vj7pC",
        "outputId": "badb0dce-1ae5-497b-f004-36270895d787"
      },
      "execution_count": null,
      "outputs": [
        {
          "output_type": "display_data",
          "data": {
            "text/plain": [
              "Uploading the dataset shards:   0%|          | 0/1 [00:00<?, ?it/s]"
            ],
            "application/vnd.jupyter.widget-view+json": {
              "version_major": 2,
              "version_minor": 0,
              "model_id": "6d2be422a72342d5a38a793b46a930aa"
            }
          },
          "metadata": {}
        },
        {
          "output_type": "display_data",
          "data": {
            "text/plain": [
              "Creating parquet from Arrow format:   0%|          | 0/11 [00:00<?, ?ba/s]"
            ],
            "application/vnd.jupyter.widget-view+json": {
              "version_major": 2,
              "version_minor": 0,
              "model_id": "6db10cb1c6db43989baca8f2b7c41bb4"
            }
          },
          "metadata": {}
        },
        {
          "output_type": "display_data",
          "data": {
            "text/plain": [
              "README.md:   0%|          | 0.00/484 [00:00<?, ?B/s]"
            ],
            "application/vnd.jupyter.widget-view+json": {
              "version_major": 2,
              "version_minor": 0,
              "model_id": "ac4a2bd8a6f04b31a114bf3b6f61ec58"
            }
          },
          "metadata": {}
        }
      ]
    },
    {
      "cell_type": "markdown",
      "source": [
        "## RAG inference (no GPU needed)\n",
        "\n",
        "Once the dataset is created and seved to HF HUB, we can load it and perform inference from there.  "
      ],
      "metadata": {
        "id": "14XbnC3RvY4p"
      }
    },
    {
      "cell_type": "markdown",
      "source": [
        "### Download dataset w/ embeddings"
      ],
      "metadata": {
        "id": "mkD-yuUA2KZP"
      }
    },
    {
      "cell_type": "code",
      "source": [
        "from datasets import load_dataset\n",
        "embed_ds = load_dataset(\"the-french-artist/hatvp_declarations_text_embeds\", split='train')"
      ],
      "metadata": {
        "colab": {
          "base_uri": "https://localhost:8080/",
          "height": 113,
          "referenced_widgets": [
            "31776ec9c2414fca931bd221e5559d35",
            "e8f15b8c7c2f4698adf930439526706d",
            "90ed1835aef14257a005eff77c542c5c",
            "0df1326c1e474aa1ac0cca817860f109",
            "490053d76387444a9c5096f943b13b32",
            "2a9ab040033648cdbb25cc47ad854e92",
            "3b58228279d74e4f997ac2cb28b02576",
            "55fa12f9b7164fcba893b21dbb6bd6d2",
            "6206fb87fda546f5911cdbb331cebb1a",
            "76f4fc5a8c684bb38ba5645e0592f3b0",
            "71675c35921b4acbb2d861374e897b0b",
            "eea5af05555440f1be2b0d6902c69a04",
            "2f961b4755494997bcfd3d41807ef84f",
            "7a1bea11666b4bfaa74a540a59896882",
            "dbbba1cc2e7a44d8bf3e5861cc740027",
            "541336c139e5435bb285895e5a3c78eb",
            "cfacaad3f084490d89aba58f0caae613",
            "1a8695b96eeb4e969473470131f5fea7",
            "cc5244d008aa48eb89397d3003c44f8c",
            "5b5c9d5373c44fc0883eaaa1a500a3ff",
            "7888437c214f488db8b46e25542d5f5b",
            "dd26767f27db4d6e801cede39d39d68a",
            "31fdbae7ca124c10a897e35a62c6075d",
            "dd5d5ce4a85f48d8aa85ddd9fb86776b",
            "aa623c7d45f44c828079682454fc2c58",
            "acbf206a3a294ac3b1663929263097f2",
            "8b139fb6cc744126b83a58a470cae924",
            "df9f88a8de31490fa5d89effe2209b8e",
            "7d3fb6dc658940b9b354ad7e67440803",
            "07d93ae358574e03b02f00e37cb5b10c",
            "3e23c782fcc149e6a845a9e4fa8476f1",
            "ef1a9e2ddf66406caf410a78d5755e68",
            "9672f0e0bbf64b32b22d8f00e87db80c"
          ]
        },
        "id": "bPbjrbfOoHcu",
        "outputId": "7529b776-b7c2-45c9-f189-e35864ebc4cc"
      },
      "execution_count": null,
      "outputs": [
        {
          "output_type": "display_data",
          "data": {
            "text/plain": [
              "Downloading readme:   0%|          | 0.00/484 [00:00<?, ?B/s]"
            ],
            "application/vnd.jupyter.widget-view+json": {
              "version_major": 2,
              "version_minor": 0,
              "model_id": "31776ec9c2414fca931bd221e5559d35"
            }
          },
          "metadata": {}
        },
        {
          "output_type": "display_data",
          "data": {
            "text/plain": [
              "Downloading data:   0%|          | 0.00/231M [00:00<?, ?B/s]"
            ],
            "application/vnd.jupyter.widget-view+json": {
              "version_major": 2,
              "version_minor": 0,
              "model_id": "eea5af05555440f1be2b0d6902c69a04"
            }
          },
          "metadata": {}
        },
        {
          "output_type": "display_data",
          "data": {
            "text/plain": [
              "Generating train split:   0%|          | 0/10944 [00:00<?, ? examples/s]"
            ],
            "application/vnd.jupyter.widget-view+json": {
              "version_major": 2,
              "version_minor": 0,
              "model_id": "31fdbae7ca124c10a897e35a62c6075d"
            }
          },
          "metadata": {}
        }
      ]
    },
    {
      "cell_type": "markdown",
      "source": [
        "### Create vector index feature using FAISS"
      ],
      "metadata": {
        "id": "Bn7-mRMB2NYF"
      }
    },
    {
      "cell_type": "code",
      "source": [
        "embed_ds.add_faiss_index(column='text_embedding')"
      ],
      "metadata": {
        "colab": {
          "base_uri": "https://localhost:8080/",
          "height": 118,
          "referenced_widgets": [
            "97bd51eec9004c5cac8b37b5a4c3f176",
            "9846fdb508ee4d3193c4f08dab3e3a7f",
            "003ef060b0aa4159ad377faa67cec0a1",
            "05abdc19879c48c499f978e17aa79fd7",
            "f1cd58a12fe940abb47ee292af3683a3",
            "9d0843ed2d4a43918b3cc55a9904f281",
            "2d109815c5024d098f2d578b41832073",
            "c050fbbcee074c6eb76bc92436c7b0a0",
            "c3664f4c48e9407793e0a2cd4c07677d",
            "971b76a9a75548c0959ffcc062758cb4",
            "30452a2b82d04d249ea8cf1801eba82c"
          ]
        },
        "id": "d7Kw_t3mpBDx",
        "outputId": "391f91d6-b6ee-4a93-bc8b-6ee3cb3e447e"
      },
      "execution_count": null,
      "outputs": [
        {
          "output_type": "display_data",
          "data": {
            "text/plain": [
              "  0%|          | 0/11 [00:00<?, ?it/s]"
            ],
            "application/vnd.jupyter.widget-view+json": {
              "version_major": 2,
              "version_minor": 0,
              "model_id": "97bd51eec9004c5cac8b37b5a4c3f176"
            }
          },
          "metadata": {}
        },
        {
          "output_type": "execute_result",
          "data": {
            "text/plain": [
              "Dataset({\n",
              "    features: ['xml_sha1', 'declaration_xml', 'declaration_json', 'extracted_text', 'text_embedding'],\n",
              "    num_rows: 10944\n",
              "})"
            ]
          },
          "metadata": {},
          "execution_count": 37
        }
      ]
    },
    {
      "cell_type": "markdown",
      "source": [
        "### Define Query functions\n",
        "\n",
        "We embed the user query and retrieve the closes record(s) that match it.  "
      ],
      "metadata": {
        "id": "D66e3GYg2Qa3"
      }
    },
    {
      "cell_type": "code",
      "source": [
        "import numpy as np\n",
        "\n",
        "def perform_query(query, n_samples=1):\n",
        "  # query_embed = model.encode([query])\n",
        "  query_embed = np.array(get_embedding(query.lower()))\n",
        "  scores, retrieved_examples = embed_ds.get_nearest_examples('text_embedding', query_embed, k=n_samples)\n",
        "  return retrieved_examples['declaration_json']"
      ],
      "metadata": {
        "id": "hfC9ySkEoLHN"
      },
      "execution_count": null,
      "outputs": []
    },
    {
      "cell_type": "markdown",
      "source": [
        "We also make a function to get the name and surname of the person owning the declaration (documents retrieved).  "
      ],
      "metadata": {
        "id": "kUK2R1fG2dog"
      }
    },
    {
      "cell_type": "code",
      "source": [
        "import json\n",
        "\n",
        "def get_name_surname_from_str_declaration(input_str_json):\n",
        "  parsed_json = json.loads(input_str_json)\n",
        "  return parsed_json['declaration']['general']['declarant']['nom'], parsed_json['declaration']['general']['declarant']['prenom']"
      ],
      "metadata": {
        "id": "rbOJEVobPkbZ"
      },
      "execution_count": null,
      "outputs": []
    },
    {
      "cell_type": "markdown",
      "source": [
        "### Perform some tests on embeddings\n",
        "\n",
        "We simply ask questions and check whose record shows up.  \n",
        "We show the 10 best matches.  "
      ],
      "metadata": {
        "id": "G5HZ97nW2Wzp"
      }
    },
    {
      "cell_type": "code",
      "source": [
        "results = perform_query(\"Qui est Damien Abad ?\", 10)\n",
        "for result in results:\n",
        "  print(get_name_surname_from_str_declaration(result))"
      ],
      "metadata": {
        "colab": {
          "base_uri": "https://localhost:8080/"
        },
        "id": "hUULUqoVQd3O",
        "outputId": "d277de0f-09e8-4317-ab57-d5f302f0751e"
      },
      "execution_count": null,
      "outputs": [
        {
          "output_type": "stream",
          "name": "stdout",
          "text": [
            "('ABAD', 'DAMIEN')\n",
            "('ABAD', 'DAMIEN')\n",
            "('ADAM', 'Damien')\n",
            "('ADAM', 'Damien')\n",
            "('Maudet', 'Damien')\n",
            "('Maudet', 'Damien')\n",
            "('Delavoie', 'Damien')\n",
            "('Charlet', 'Damien')\n",
            "('Charlet', 'Damien')\n",
            "('Allouch', 'Damien')\n"
          ]
        }
      ]
    },
    {
      "cell_type": "code",
      "source": [
        "results = perform_query(\"Quel est le salaire de Damien Abad en 2019 ?\", 10)\n",
        "for result in results:\n",
        "  print(get_name_surname_from_str_declaration(result))"
      ],
      "metadata": {
        "colab": {
          "base_uri": "https://localhost:8080/"
        },
        "id": "_x-btmg-Qflu",
        "outputId": "c8726e35-3b18-4f2f-ec34-ced7b5b66416"
      },
      "execution_count": null,
      "outputs": [
        {
          "output_type": "stream",
          "name": "stdout",
          "text": [
            "('ABAD', 'DAMIEN')\n",
            "('ABAD', 'DAMIEN')\n",
            "('ADAM', 'Damien')\n",
            "('ADAM', 'Damien')\n",
            "('Delavoie', 'Damien')\n",
            "('Maudet', 'Damien')\n",
            "('Maudet', 'Damien')\n",
            "('Allouch', 'Damien')\n",
            "('HUGUET', 'Damien')\n",
            "('ABADIE', 'Caroline')\n"
          ]
        }
      ]
    },
    {
      "cell_type": "code",
      "source": [
        "results = perform_query(\"Qui est Damien ABAD? Et quel est son salaire en 2019?\", 10)\n",
        "for result in results:\n",
        "  print(get_name_surname_from_str_declaration(result))"
      ],
      "metadata": {
        "colab": {
          "base_uri": "https://localhost:8080/"
        },
        "id": "gNGCG4W8Q3ct",
        "outputId": "009ba33e-d720-4565-b686-4047b9e10d6c"
      },
      "execution_count": null,
      "outputs": [
        {
          "output_type": "stream",
          "name": "stdout",
          "text": [
            "('ABAD', 'DAMIEN')\n",
            "('ABAD', 'DAMIEN')\n",
            "('ADAM', 'Damien')\n",
            "('ADAM', 'Damien')\n",
            "('Delavoie', 'Damien')\n",
            "('Maudet', 'Damien')\n",
            "('Maudet', 'Damien')\n",
            "('Allouch', 'Damien')\n",
            "('HUGUET', 'Damien')\n",
            "('Charlet', 'Damien')\n"
          ]
        }
      ]
    },
    {
      "cell_type": "code",
      "source": [
        "results = perform_query(\"Qui est Antoine ARMAND?\", 10)\n",
        "for result in results:\n",
        "  print(get_name_surname_from_str_declaration(result))"
      ],
      "metadata": {
        "colab": {
          "base_uri": "https://localhost:8080/"
        },
        "id": "7QT4bbWFrJQz",
        "outputId": "5c6a3b55-65d1-48bb-9e7e-07cba1b81788"
      },
      "execution_count": null,
      "outputs": [
        {
          "output_type": "stream",
          "name": "stdout",
          "text": [
            "('Armand', 'Antoine')\n",
            "('Armand', 'Antoine')\n",
            "('Armand', 'Antoine')\n",
            "('HOAREAU', 'Antoine')\n",
            "('HOAREAU', 'Antoine')\n",
            "('MADELIN', 'Antoine')\n",
            "('AUDEGOND', 'Armand')\n",
            "('MADELIN', 'Antoine')\n",
            "('Chereau', 'Antoine')\n",
            "('HOAREAU', 'Antoine')\n"
          ]
        }
      ]
    },
    {
      "cell_type": "code",
      "source": [
        "results = perform_query(\"Qui est un Député de Haute-Savoie?\", 10)\n",
        "for result in results:\n",
        "  print(get_name_surname_from_str_declaration(result))"
      ],
      "metadata": {
        "colab": {
          "base_uri": "https://localhost:8080/"
        },
        "id": "3wcXRG_6rVlM",
        "outputId": "3090296b-4cbc-4ca6-aa39-4875ce09b495"
      },
      "execution_count": null,
      "outputs": [
        {
          "output_type": "stream",
          "name": "stdout",
          "text": [
            "('Duby-Muller', 'Virginie')\n",
            "('COULOMME', 'Jean-François')\n",
            "('Violland', 'Anne-Cécile')\n",
            "('Violland', 'Anne-Cécile')\n",
            "('Duby-Muller', 'Virginie')\n",
            "('Petex', 'Christelle')\n",
            "('Duby-Muller', 'Virginie')\n",
            "('NOEL', 'Sylviane')\n",
            "('ROSEREN', 'xavier')\n",
            "('rolland', 'vincent')\n"
          ]
        }
      ]
    },
    {
      "cell_type": "code",
      "source": [
        "results = perform_query(\"Qui est une Députée de Haute-Savoie?\", 10)\n",
        "for result in results:\n",
        "  print(get_name_surname_from_str_declaration(result))"
      ],
      "metadata": {
        "colab": {
          "base_uri": "https://localhost:8080/"
        },
        "id": "8ztgqCh0skap",
        "outputId": "6e0b1d88-9fe8-4d5b-c906-3e91a01d09a2"
      },
      "execution_count": null,
      "outputs": [
        {
          "output_type": "stream",
          "name": "stdout",
          "text": [
            "('Violland', 'Anne-Cécile')\n",
            "('Violland', 'Anne-Cécile')\n",
            "('Duby-Muller', 'Virginie')\n",
            "('NOEL', 'Sylviane')\n",
            "('Petex', 'Christelle')\n",
            "('NOEL', 'Sylviane')\n",
            "('Petex', 'Christelle')\n",
            "('Duby-Muller', 'Virginie')\n",
            "('Bonnivard', 'Emilie')\n",
            "('Duby-Muller', 'Virginie')\n"
          ]
        }
      ]
    },
    {
      "cell_type": "code",
      "source": [
        "results = perform_query(\"Le conjoint de Antoine ARMAND est il un homme ou une femme?\", 10)\n",
        "for result in results:\n",
        "  print(get_name_surname_from_str_declaration(result))"
      ],
      "metadata": {
        "colab": {
          "base_uri": "https://localhost:8080/"
        },
        "id": "A0nXFoiLm8VC",
        "outputId": "8fa5e475-4802-4e68-97f9-f474d89357e0"
      },
      "execution_count": null,
      "outputs": [
        {
          "output_type": "stream",
          "name": "stdout",
          "text": [
            "('Armand', 'Antoine')\n",
            "('Armand', 'Antoine')\n",
            "('Armand', 'Antoine')\n",
            "('HOAREAU', 'Antoine')\n",
            "('HOAREAU', 'Antoine')\n",
            "('JEAN', 'Antoine')\n",
            "('MADELIN', 'Antoine')\n",
            "('JEAN', 'Antoine')\n",
            "('MADELIN', 'Antoine')\n",
            "('AUDEGOND', 'Armand')\n"
          ]
        }
      ]
    },
    {
      "cell_type": "code",
      "source": [
        "results = perform_query(\"Quel est l'ensemble des revenus perçus par Antoine ARMAND?\", 10)\n",
        "for result in results:\n",
        "  print(get_name_surname_from_str_declaration(result))"
      ],
      "metadata": {
        "colab": {
          "base_uri": "https://localhost:8080/"
        },
        "id": "jqx9fLGvm8Rf",
        "outputId": "223a10a3-9cc6-44de-c602-88e3a4675d4a"
      },
      "execution_count": null,
      "outputs": [
        {
          "output_type": "stream",
          "name": "stdout",
          "text": [
            "('Armand', 'Antoine')\n",
            "('Armand', 'Antoine')\n",
            "('Armand', 'Antoine')\n",
            "('ardouin', 'jean philippe')\n",
            "('ardouin', 'jean philippe')\n",
            "('de Bourrousse', 'Arnaud')\n",
            "('Arrighi de Casanova', 'Jacques')\n",
            "('VERAN', 'ANTOINE')\n",
            "('MADELIN', 'Antoine')\n",
            "('Arciero', 'Anthony')\n"
          ]
        }
      ]
    },
    {
      "cell_type": "code",
      "source": [
        "results = perform_query(\"Le nom du déclarant est Antoine ARMAND?\", 10)\n",
        "for result in results:\n",
        "  print(get_name_surname_from_str_declaration(result))"
      ],
      "metadata": {
        "colab": {
          "base_uri": "https://localhost:8080/"
        },
        "id": "t_rhhSbQtbfN",
        "outputId": "d6a38ade-4441-41c7-f675-aec994b0b3e8"
      },
      "execution_count": null,
      "outputs": [
        {
          "output_type": "stream",
          "name": "stdout",
          "text": [
            "('Armand', 'Antoine')\n",
            "('Armand', 'Antoine')\n",
            "('Armand', 'Antoine')\n",
            "('AUDEGOND', 'Armand')\n",
            "('ARMAND', 'Jean-Luc')\n",
            "('MADELIN', 'Antoine')\n",
            "('Quenette', 'Marc-Antoine')\n",
            "('MADELIN', 'Antoine')\n",
            "('HOAREAU', 'Antoine')\n",
            "('ardouin', 'jean philippe')\n"
          ]
        }
      ]
    },
    {
      "cell_type": "code",
      "source": [
        "results = perform_query(\"Qui est le maire de Bordeaux?\", 10)\n",
        "for result in results:\n",
        "  print(get_name_surname_from_str_declaration(result))"
      ],
      "metadata": {
        "colab": {
          "base_uri": "https://localhost:8080/"
        },
        "id": "gS4LI7Z9soUb",
        "outputId": "4acb9e42-652c-4a3a-9e46-916f7be4fe27"
      },
      "execution_count": null,
      "outputs": [
        {
          "output_type": "stream",
          "name": "stdout",
          "text": [
            "('HURMIC', 'Pierre')\n",
            "('HURMIC', 'Pierre')\n",
            "('Jacotot', 'Sandrine')\n",
            "('JEANJEAN', 'Didier')\n",
            "('HURMIC', 'Pierre')\n",
            "('BLANC', 'BERNARD')\n",
            "('Bouisson', 'Dominique')\n",
            "('maurin', 'vincent')\n",
            "('CAZAUX', 'OLIVIER')\n",
            "('JEANJEAN', 'Didier')\n"
          ]
        }
      ]
    },
    {
      "cell_type": "code",
      "source": [
        "results = perform_query(\"Qui est maire de Bordeaux?\", 10)\n",
        "for result in results:\n",
        "  print(get_name_surname_from_str_declaration(result))"
      ],
      "metadata": {
        "colab": {
          "base_uri": "https://localhost:8080/"
        },
        "id": "ZcIOYbUGsr7k",
        "outputId": "c83f03f7-583e-4d42-c113-21b0110a739c"
      },
      "execution_count": null,
      "outputs": [
        {
          "output_type": "stream",
          "name": "stdout",
          "text": [
            "('Jacotot', 'Sandrine')\n",
            "('HURMIC', 'Pierre')\n",
            "('JEANJEAN', 'Didier')\n",
            "('HURMIC', 'Pierre')\n",
            "('BLANC', 'BERNARD')\n",
            "('Bouisson', 'Dominique')\n",
            "('HURMIC', 'Pierre')\n",
            "('maurin', 'vincent')\n",
            "('CAZAUX', 'OLIVIER')\n",
            "('JEANJEAN', 'Didier')\n"
          ]
        }
      ]
    },
    {
      "cell_type": "code",
      "source": [
        "results = perform_query(\"Qui est pierre hurmic?\", 10)\n",
        "for result in results:\n",
        "  print(get_name_surname_from_str_declaration(result))"
      ],
      "metadata": {
        "colab": {
          "base_uri": "https://localhost:8080/"
        },
        "id": "8tgkEjMGsvRp",
        "outputId": "d29b5bc3-96c0-490a-99d0-612f76d072e5"
      },
      "execution_count": null,
      "outputs": [
        {
          "output_type": "stream",
          "name": "stdout",
          "text": [
            "('HURMIC', 'Pierre')\n",
            "('HURMIC', 'Pierre')\n",
            "('HURMIC', 'Pierre')\n",
            "('HURMIC', 'Pierre')\n",
            "('Huguet', 'Pierre')\n",
            "('MICHEL', 'Pierre')\n",
            "('Giran', 'Jean-Pierre')\n",
            "('meriaux', 'pierre')\n",
            "('Giran', 'Jean-Pierre')\n",
            "('MICHEL', 'Pierre')\n"
          ]
        }
      ]
    },
    {
      "cell_type": "markdown",
      "source": [
        "### Define RAG functions\n",
        "\n",
        "We use the query functions defined previously to populate a context and feed this context with a prompt to a LLM.  "
      ],
      "metadata": {
        "id": "92fr2i1H2oxF"
      }
    },
    {
      "cell_type": "code",
      "source": [
        "from langchain.schema.output_parser import StrOutputParser\n",
        "from langchain_core.prompts import ChatPromptTemplate\n",
        "from langchain_groq import ChatGroq"
      ],
      "metadata": {
        "id": "KHtD5DBDM7CQ"
      },
      "execution_count": null,
      "outputs": []
    },
    {
      "cell_type": "code",
      "source": [
        "def get_answer_to_question_no_context(question, llm_to_use):\n",
        "\n",
        "  system = \"\"\"You are an assistant for question-answering tasks.\n",
        "  Use three sentences maximum and keep the answer concise.\n",
        "  \"\"\"\n",
        "  human = \"{text}\"\n",
        "  prompt = ChatPromptTemplate.from_messages([(\"system\", system), (\"human\", human)])\n",
        "  actual_prompt = f\"\"\"\n",
        "  Question: {question}\n",
        "  Answer:\n",
        "  \"\"\"\n",
        "\n",
        "  chain = prompt | llm_to_use | StrOutputParser()\n",
        "  return chain.invoke({\"text\": actual_prompt})"
      ],
      "metadata": {
        "id": "Or7ZYnO5tqEQ"
      },
      "execution_count": null,
      "outputs": []
    },
    {
      "cell_type": "code",
      "source": [
        "def get_RAG_request(question, llm_to_use):\n",
        "\n",
        "  system = \"\"\"You are an assistant for document retrieval tasks.\n",
        "  You have access to a database of entries related to french politicians.\n",
        "  Each entry is identified by a name and a surname.\n",
        "  When provided with a question, return the name and surname of the most probable data entry.\n",
        "  Only respond with the name and surname.\n",
        "\n",
        "  \"\"\"\n",
        "  human = \"{text}\"\n",
        "  prompt = ChatPromptTemplate.from_messages([(\"system\", system), (\"human\", human)])\n",
        "  actual_prompt = f\"\"\"\n",
        "  Question: {question}\n",
        "  Answer:\n",
        "  \"\"\"\n",
        "\n",
        "  chain = prompt | llm_to_use | StrOutputParser()\n",
        "  return chain.invoke({\"text\": actual_prompt})"
      ],
      "metadata": {
        "id": "ZhZ2MWxpt1WC"
      },
      "execution_count": null,
      "outputs": []
    },
    {
      "cell_type": "code",
      "source": [
        "def get_answer_to_question(question, llm_to_use):\n",
        "\n",
        "  system = \"\"\"You are an assistant for question-answering tasks.\n",
        "  Use the following pieces of retrieved context to answer the question.\n",
        "  If you don't know the answer, just say that you don't know.\n",
        "  Use three sentences maximum and keep the answer concise.\n",
        "  \"\"\"\n",
        "  human = \"{text}\"\n",
        "  prompt = ChatPromptTemplate.from_messages([(\"system\", system), (\"human\", human)])\n",
        "\n",
        "  results = perform_query(question, 1)\n",
        "  context = ''.join(results) #concatenate top 5 results into a context\n",
        "  actual_prompt = f\"\"\"\n",
        "  Question: {question}\n",
        "  Context: {context}\n",
        "  Answer:\n",
        "  \"\"\"\n",
        "\n",
        "  # print(context)\n",
        "  for result in results:\n",
        "    print(get_name_surname_from_str_declaration(result))\n",
        "  chain = prompt | llm_to_use | StrOutputParser()\n",
        "  return chain.invoke({\"text\": actual_prompt})"
      ],
      "metadata": {
        "id": "WiXfVcIQM7Xy"
      },
      "execution_count": null,
      "outputs": []
    },
    {
      "cell_type": "code",
      "source": [
        "def get_answer_to_question_improved(question, llm_to_use):\n",
        "\n",
        "  system = \"\"\"You are an assistant for question-answering tasks.\n",
        "  Use the following pieces of retrieved context to answer the question.\n",
        "  If you don't know the answer, just say that you don't know.\n",
        "  Use three sentences maximum and keep the answer concise.\n",
        "  \"\"\"\n",
        "  human = \"{text}\"\n",
        "  prompt = ChatPromptTemplate.from_messages([(\"system\", system), (\"human\", human)])\n",
        "\n",
        "  retrieval_question = get_RAG_request(question, llm_to_use)\n",
        "  print(f\"Retrieval question : {retrieval_question}\")\n",
        "  print()\n",
        "  results = perform_query(retrieval_question, 1)\n",
        "  context = ''.join(results) #concatenate top 5 results into a context\n",
        "  actual_prompt = f\"\"\"\n",
        "  Question: {question}\n",
        "  Context: {context}\n",
        "  Answer:\n",
        "  \"\"\"\n",
        "\n",
        "  print(\"Most relevant context(s) : \")\n",
        "  for result in results:\n",
        "    print(get_name_surname_from_str_declaration(result))\n",
        "  print()\n",
        "  chain = prompt | llm_to_use | StrOutputParser()\n",
        "  return chain.invoke({\"text\": actual_prompt})"
      ],
      "metadata": {
        "id": "FTuGQTwAwd3y"
      },
      "execution_count": null,
      "outputs": []
    },
    {
      "cell_type": "markdown",
      "source": [
        "### Perform some RAG tests"
      ],
      "metadata": {
        "id": "3NchYU-Q2yCh"
      }
    },
    {
      "cell_type": "code",
      "source": [
        "question = \"Qui est Damien ABAD? Et quel est son salaire en 2019?\""
      ],
      "metadata": {
        "id": "GH9JID6aS-KD"
      },
      "execution_count": null,
      "outputs": []
    },
    {
      "cell_type": "code",
      "source": [
        "mixtral_llm = ChatGroq(temperature=0, model_name=\"mixtral-8x7b-32768\")\n",
        "llm_llama3_70B = ChatGroq(temperature=0, model_name=\"llama3-70b-8192\")\n",
        "llm_llama3_8B = ChatGroq(temperature=0, model_name=\"llama3-8b-8192\")\n",
        "\n",
        "get_answer_to_question(question, llm_llama3_70B)"
      ],
      "metadata": {
        "colab": {
          "base_uri": "https://localhost:8080/",
          "height": 53
        },
        "id": "UDGauA5eNCB0",
        "outputId": "399e4bed-081d-4569-df80-ac9f2d20df97"
      },
      "execution_count": null,
      "outputs": [
        {
          "output_type": "stream",
          "name": "stdout",
          "text": [
            "('ABAD', 'DAMIEN')\n"
          ]
        },
        {
          "output_type": "execute_result",
          "data": {
            "text/plain": [
              "'Damien Abad is a French politician, specifically a Député (Member of Parliament). His salary in 2019 was €71,105.'"
            ],
            "application/vnd.google.colaboratory.intrinsic+json": {
              "type": "string"
            }
          },
          "metadata": {},
          "execution_count": 64
        }
      ]
    },
    {
      "cell_type": "code",
      "source": [
        "get_answer_to_question(question, llm_llama3_8B)"
      ],
      "metadata": {
        "colab": {
          "base_uri": "https://localhost:8080/",
          "height": 53
        },
        "id": "o3VeodVEjhj1",
        "outputId": "6f214cb0-493a-4d92-b395-284d66a38963"
      },
      "execution_count": null,
      "outputs": [
        {
          "output_type": "stream",
          "name": "stdout",
          "text": [
            "('ABAD', 'DAMIEN')\n"
          ]
        },
        {
          "output_type": "execute_result",
          "data": {
            "text/plain": [
              "\"According to the provided context, Damien Abad's salary in 2019 was 71,105 euros.\""
            ],
            "application/vnd.google.colaboratory.intrinsic+json": {
              "type": "string"
            }
          },
          "metadata": {},
          "execution_count": 65
        }
      ]
    },
    {
      "cell_type": "code",
      "source": [
        "get_answer_to_question(\"Combien est payé Damien Abad en 2019?\", llm_llama3_8B)"
      ],
      "metadata": {
        "colab": {
          "base_uri": "https://localhost:8080/",
          "height": 53
        },
        "id": "hqKqEzzUsOON",
        "outputId": "f810aa42-3850-4d64-ec9d-aa4b5ddecfc8"
      },
      "execution_count": null,
      "outputs": [
        {
          "output_type": "stream",
          "name": "stdout",
          "text": [
            "('ABAD', 'DAMIEN')\n"
          ]
        },
        {
          "output_type": "execute_result",
          "data": {
            "text/plain": [
              "'According to the provided context, Damien Abad was paid 71,105 euros in 2019.'"
            ],
            "application/vnd.google.colaboratory.intrinsic+json": {
              "type": "string"
            }
          },
          "metadata": {},
          "execution_count": 66
        }
      ]
    },
    {
      "cell_type": "code",
      "source": [
        "print(get_answer_to_question(\"Quel est l'ensemble des revenus perçus par Damien Abad?\", llm_llama3_8B))"
      ],
      "metadata": {
        "colab": {
          "base_uri": "https://localhost:8080/"
        },
        "id": "fiJAsnpHjhhF",
        "outputId": "b0a08d93-ee23-4337-e6d3-d5c99abea38d"
      },
      "execution_count": null,
      "outputs": [
        {
          "output_type": "stream",
          "name": "stdout",
          "text": [
            "('ABAD', 'DAMIEN')\n",
            "The ensemble des revenus perçus par Damien Abad includes:\n",
            "\n",
            "* Rémunération de député : 67 047 € en 2017, 71 042 € en 2018, 71 105 € en 2019, 70 773 € en 2020, 70 676 € en 2021 et 27 289 € en 2022.\n",
            "* Rémunération de conseiller départemental : 28 007 € en 2017, 24 201 € en 2018, 16 386 € en 2019, 16 386 € en 2020, 16 384 € en 2021 et 6 827 € en 2022.\n",
            "* Rémunération de président du groupe LR à l'Assemblée nationale : 0 € en 2019, 0 € en 2020, 0 € en 2021 et 0 € en 2022.\n",
            "* Rémunération de président du SDIS 01 : 0 € en 2015, 0 € en 2016 et 0 € en 2017.\n",
            "* Rémunération de président d'Aintourisme : 0 € en 2017, 0 € en 2018, 0 € en 2019, 0 € en 2020, 0 € en 2021 et 0 € en 2022.\n",
            "* Rémunération de président du groupe Les Républicains à l'Assemblée nationale : 0 € en 2019, 0 € en 2020, 0 € en 2021 et 0 € en 2022.\n",
            "* Rémunération de président de l'association Saveurs de l'Ain : 0 € en 2019, 0 € en 2020, 0 € en 2021 et 0 € en 2022.\n",
            "* Rémunération de président de l'association Les Amis de Damien Abad : 0 € en 2018, 0 € en 2019, 0 € en 2020, 0 € en 2021 et 0 € en 2022.\n",
            "* Rémunération de conseiller financier : 877 € en 2018, 2910 € en 2019, 1929 € en 2020 et 6552 € en 2021.\n",
            "* Rémunération d'assistant fonctionnel : 0 €.\n",
            "* Rémunération d'assistante parlementaire locale : 0 €.\n"
          ]
        }
      ]
    },
    {
      "cell_type": "code",
      "source": [
        "print(get_answer_to_question(\"Où travaille le conjoint de Damien Abad?\", llm_llama3_8B))"
      ],
      "metadata": {
        "colab": {
          "base_uri": "https://localhost:8080/"
        },
        "id": "53QaYgV0jheF",
        "outputId": "6bee0988-2783-426d-94c9-491086f2136f"
      },
      "execution_count": null,
      "outputs": [
        {
          "output_type": "stream",
          "name": "stdout",
          "text": [
            "('ABAD', 'DAMIEN')\n",
            "Le conjoint de Damien Abad travaille au Centre Hospitalier du Haut-Bugey.\n"
          ]
        }
      ]
    },
    {
      "cell_type": "code",
      "source": [
        "print(get_answer_to_question(\"Où travaille le conjoint de Damien Abad?\", llm_llama3_70B))"
      ],
      "metadata": {
        "colab": {
          "base_uri": "https://localhost:8080/"
        },
        "id": "NJc28gUBkkeI",
        "outputId": "1c2979fa-7167-4fd4-fb96-7502b8340902"
      },
      "execution_count": null,
      "outputs": [
        {
          "output_type": "stream",
          "name": "stdout",
          "text": [
            "('ABAD', 'DAMIEN')\n",
            "Le conjoint de Damien Abad travaille au Centre Hospitalier du Haut-Bugey en tant qu'infirmière.\n"
          ]
        }
      ]
    },
    {
      "cell_type": "code",
      "source": [
        "print(get_answer_to_question(\"Où travaille le conjoint de Damien Abad?\", mixtral_llm))"
      ],
      "metadata": {
        "colab": {
          "base_uri": "https://localhost:8080/"
        },
        "id": "fX67dUQCkuE3",
        "outputId": "180eddfe-ceec-4f76-8cb0-aaecf44125e8"
      },
      "execution_count": null,
      "outputs": [
        {
          "output_type": "stream",
          "name": "stdout",
          "text": [
            "('ABAD', 'DAMIEN')\n",
            "The spouse of Damien Abad works as an \"Infirmière\" (nurse) at the \"CENTRE HOSPITALIER DU HAUT-BUGEY\".\n"
          ]
        }
      ]
    },
    {
      "cell_type": "code",
      "source": [
        "print(get_answer_to_question(\"Qui est une infirmière?\", llm_llama3_8B))\n",
        "\n",
        "# we indeed do find a nurse\n",
        "# but the only LLM that has a high enough token limit\n",
        "# it too stupid to respond correctly"
      ],
      "metadata": {
        "colab": {
          "base_uri": "https://localhost:8080/"
        },
        "id": "LLTuv90dQLng",
        "outputId": "ee769e78-7461-49f4-dc7f-684b58791559"
      },
      "execution_count": null,
      "outputs": [
        {
          "output_type": "stream",
          "name": "stdout",
          "text": [
            "('Hartmann', 'Delphine')\n",
            "An infirmière (nurse) is a healthcare professional who provides medical care to patients.\n"
          ]
        }
      ]
    },
    {
      "cell_type": "code",
      "source": [
        "print(get_answer_to_question(\"Le conjoint de Damien Abad est il un homme ou une femme?\", llm_llama3_8B))"
      ],
      "metadata": {
        "colab": {
          "base_uri": "https://localhost:8080/"
        },
        "id": "f1EnV-4Ekvqn",
        "outputId": "2ec5cfe5-2ae1-4b9c-d670-c12b221e2d6e"
      },
      "execution_count": null,
      "outputs": [
        {
          "output_type": "stream",
          "name": "stdout",
          "text": [
            "('ABAD', 'DAMIEN')\n",
            "Le conjoint de Damien Abad est une femme.\n"
          ]
        }
      ]
    },
    {
      "cell_type": "code",
      "source": [
        "print(get_answer_to_question(\"Le conjoint de Damien Abad est il un homme ou une femme?\", llm_llama3_70B))"
      ],
      "metadata": {
        "colab": {
          "base_uri": "https://localhost:8080/"
        },
        "id": "DSYZIlCAl-Ys",
        "outputId": "3afb5b7e-a6a6-4002-b40c-134fcd95cbec"
      },
      "execution_count": null,
      "outputs": [
        {
          "output_type": "stream",
          "name": "stdout",
          "text": [
            "('ABAD', 'DAMIEN')\n",
            "Le conjoint de Damien Abad est une femme, car il est mentionné que son conjoint est infirmière.\n"
          ]
        }
      ]
    },
    {
      "cell_type": "code",
      "source": [
        "print(get_answer_to_question(\"Le conjoint de Damien Abad est il un homme ou une femme?\", mixtral_llm))"
      ],
      "metadata": {
        "colab": {
          "base_uri": "https://localhost:8080/"
        },
        "id": "zq7lSg5Yl-WT",
        "outputId": "d1d8e701-6cc5-46d2-e5ad-94a34d1d14c6"
      },
      "execution_count": null,
      "outputs": [
        {
          "output_type": "stream",
          "name": "stdout",
          "text": [
            "('ABAD', 'DAMIEN')\n",
            "The context does not provide information on Damien Abad's spouse's gender. The provided document focuses on Damien Abad's professional activities and declarations of interests.\n"
          ]
        }
      ]
    },
    {
      "cell_type": "code",
      "source": [
        "print(get_answer_to_question(\"Où travaille le conjoint de Loïc HERVÉ le sénateur de Haute Savoie?\", mixtral_llm))"
      ],
      "metadata": {
        "colab": {
          "base_uri": "https://localhost:8080/"
        },
        "id": "3G6yNCYMAnz7",
        "outputId": "6e6372b7-09bd-47f8-d2ff-967114acc94a"
      },
      "execution_count": null,
      "outputs": [
        {
          "output_type": "stream",
          "name": "stdout",
          "text": [
            "('HERVE', 'loic')\n",
            "According to the provided context, Loïc HERVÉ's spouse is an Attachée principale (FPT, catégorie A) and works for Collectivités locales.\n"
          ]
        }
      ]
    },
    {
      "cell_type": "code",
      "source": [
        "print(get_answer_to_question(\"Où travaille le conjoint de Antoine Armand?\", mixtral_llm))"
      ],
      "metadata": {
        "colab": {
          "base_uri": "https://localhost:8080/"
        },
        "id": "IyxfZTtnBdnQ",
        "outputId": "df25f6ff-72f8-45b0-d785-d5e172a0af39"
      },
      "execution_count": null,
      "outputs": [
        {
          "output_type": "stream",
          "name": "stdout",
          "text": [
            "('Armand', 'Antoine')\n",
            "The spouse of Antoine Armand works for the \"Ministère de l'Economie et des Finances\" as an \"Inspecteur des finances\".\n"
          ]
        }
      ]
    },
    {
      "cell_type": "code",
      "source": [
        "print(get_answer_to_question(\"Où travaille le conjoint de Eric PARRA\", llm_llama3_70B))"
      ],
      "metadata": {
        "colab": {
          "base_uri": "https://localhost:8080/"
        },
        "id": "hNLVzDfZBdk8",
        "outputId": "75927e70-02b0-4d18-99b2-09545c98dd43"
      },
      "execution_count": null,
      "outputs": [
        {
          "output_type": "stream",
          "name": "stdout",
          "text": [
            "('PARRA', 'ERIC')\n",
            "Le conjoint d'Eric PARRA travaille comme assistante de vie.\n"
          ]
        }
      ]
    },
    {
      "cell_type": "code",
      "source": [
        "print(get_answer_to_question(\"Quel est le plus récent emploi d'Eric PARRA? Et sa rémunération?\", mixtral_llm))"
      ],
      "metadata": {
        "colab": {
          "base_uri": "https://localhost:8080/"
        },
        "id": "GVSRUN-OB9c0",
        "outputId": "4d590ada-da99-4de5-d69c-ddcaf6f88ee8"
      },
      "execution_count": null,
      "outputs": [
        {
          "output_type": "stream",
          "name": "stdout",
          "text": [
            "('PARRA', 'ERIC')\n",
            "Eric PARRA's most recent job is as an assistant of life. His remuneration for this position in 2020 was 7,000. However, if you're asking about his remuneration for his mandates, he received 6,650 as Vice President of the Communauté d'Agglomération du Grand Narbonne and 1,545 as Conseller Municipal of the Ville de Narbonne in 2020.\n"
          ]
        }
      ]
    },
    {
      "cell_type": "code",
      "source": [
        "print(get_answer_to_question(\"Combien gagne le maire de Bordeaux?\", llm_llama3_70B))"
      ],
      "metadata": {
        "colab": {
          "base_uri": "https://localhost:8080/"
        },
        "id": "MOrm2I2OKw-5",
        "outputId": "47365003-a5ed-4414-f702-6cd02e521ffc"
      },
      "execution_count": null,
      "outputs": [
        {
          "output_type": "stream",
          "name": "stdout",
          "text": [
            "('BLANC', 'BERNARD')\n",
            "The mayor of Bordeaux's salary is not explicitly stated in the provided context. However, the remuneration for the \"RESPONSABLE DU SERVICE DES IMPOTS DES PARTICULIERS\" position is mentioned, with annual amounts ranging from €34,134 in 2020 to €68,317 in 2017.\n"
          ]
        }
      ]
    },
    {
      "cell_type": "code",
      "source": [
        "get_answer_to_question_no_context(\"Qui est le maire de Bordeaux\", mixtral_llm)"
      ],
      "metadata": {
        "colab": {
          "base_uri": "https://localhost:8080/",
          "height": 35
        },
        "id": "2x6yA-cluIYy",
        "outputId": "398cf675-3c0c-4135-bb6e-2f6e2d7662d0"
      },
      "execution_count": null,
      "outputs": [
        {
          "output_type": "execute_result",
          "data": {
            "text/plain": [
              "'Pierre Hurmic is the current mayor of Bordeaux, France. He took office on July 4, 2020. He is a member of the Ecologist party.'"
            ],
            "application/vnd.google.colaboratory.intrinsic+json": {
              "type": "string"
            }
          },
          "metadata": {},
          "execution_count": 79
        }
      ]
    },
    {
      "cell_type": "code",
      "source": [
        "get_answer_to_question_no_context(\"Combien gagne le maire de Bordeaux\", mixtral_llm)"
      ],
      "metadata": {
        "colab": {
          "base_uri": "https://localhost:8080/",
          "height": 53
        },
        "id": "esxByDp1uJsB",
        "outputId": "09f20c12-d9ac-4813-8bab-88e33ef903ac"
      },
      "execution_count": null,
      "outputs": [
        {
          "output_type": "execute_result",
          "data": {
            "text/plain": [
              "\"The mayor of Bordeaux, Pierre Hurmic, earns a salary of around 5,257 euros gross per month as of 2022. This amount can vary depending on the mayor's additional responsibilities and the decisions of the municipal council. It's important to note that this figure is subject to change.\""
            ],
            "application/vnd.google.colaboratory.intrinsic+json": {
              "type": "string"
            }
          },
          "metadata": {},
          "execution_count": 80
        }
      ]
    },
    {
      "cell_type": "code",
      "source": [
        "get_RAG_request(\"Qui est le maire de Bordeaux?\", mixtral_llm)"
      ],
      "metadata": {
        "colab": {
          "base_uri": "https://localhost:8080/",
          "height": 35
        },
        "id": "w3dEc47Jv2He",
        "outputId": "457fe5ec-b5f5-4d1e-f233-2353e257044d"
      },
      "execution_count": null,
      "outputs": [
        {
          "output_type": "execute_result",
          "data": {
            "text/plain": [
              "'Pierre Hurmic'"
            ],
            "application/vnd.google.colaboratory.intrinsic+json": {
              "type": "string"
            }
          },
          "metadata": {},
          "execution_count": 81
        }
      ]
    },
    {
      "cell_type": "code",
      "source": [
        "get_RAG_request(\"Combien gagne le maire de Bordeaux\", mixtral_llm)"
      ],
      "metadata": {
        "colab": {
          "base_uri": "https://localhost:8080/",
          "height": 35
        },
        "id": "yWpU9BNJwZV5",
        "outputId": "7f1563b2-efa3-4145-c286-5ba720ebedaf"
      },
      "execution_count": null,
      "outputs": [
        {
          "output_type": "execute_result",
          "data": {
            "text/plain": [
              "'Pierre Hurmic'"
            ],
            "application/vnd.google.colaboratory.intrinsic+json": {
              "type": "string"
            }
          },
          "metadata": {},
          "execution_count": 82
        }
      ]
    },
    {
      "cell_type": "code",
      "source": [
        "get_answer_to_question_improved(\"Combien d'argent est payé le maire de Bordeaux?\", llm_llama3_8B)"
      ],
      "metadata": {
        "colab": {
          "base_uri": "https://localhost:8080/",
          "height": 140
        },
        "id": "22y6QXQGw0cy",
        "outputId": "08c1a89e-9345-4aac-fa5c-7da810131e59"
      },
      "execution_count": null,
      "outputs": [
        {
          "output_type": "stream",
          "name": "stdout",
          "text": [
            "Retrieval question : Gilles Savary\n",
            "\n",
            "Most relevant context(s) : \n",
            "('Savry', 'Gilles')\n",
            "\n"
          ]
        },
        {
          "output_type": "execute_result",
          "data": {
            "text/plain": [
              "'According to the provided context, the mayor of Bordeaux is not mentioned. The context appears to be a declaration of interests for a person named Gilles Savry, who is the mayor of Argenteuil, not Bordeaux.'"
            ],
            "application/vnd.google.colaboratory.intrinsic+json": {
              "type": "string"
            }
          },
          "metadata": {},
          "execution_count": 90
        }
      ]
    },
    {
      "cell_type": "markdown",
      "source": [
        "# Conclusions!\n",
        "\n",
        "All test conclusions go here."
      ],
      "metadata": {
        "id": "Ol75j5ps3RLP"
      }
    },
    {
      "cell_type": "markdown",
      "source": [
        "## CONCLUSION OF THE MARKDOWN TEST\n",
        "\n",
        "\n",
        "- the openai embedding system is very slow (1H for 10k embeddings) but at least it works, unlike the open source lighter ones (in french that is).  \n",
        "\n",
        "- we cannot get interesting information because the retrieval query is very different from the actual query. Eg. What is XXX salary in 2019? The retrieval query will be \"get me XXX data\" while the generative query is the input one.  \n",
        "\n",
        "- we are missing information from the markdown files: after 3 days of intensive attempts to make an SQL, then simple Markdown file, from the input XML files, we still cannot ensure that some entire sections are not missing due to the fickle nature of the context\n",
        "\n",
        "\n",
        "### What to do next:  \n",
        "\n",
        "- find a way to get embeddings faster and cheaper: we need to run the system in a dedicated notebook with enough VRAM, using a quantized version I suppose (given that we do not have enough VRAM, either locally or online)  \n",
        "- Make a new dataset from the XML base declarations that simply converts XML to JSON => this will make the context lighter while not need to have massive OO classes that are not able to parse the thing, even after writing more than 250 if statements on \"None\".  \n",
        "- find a way to execute online : this system will still need a local FAISS index and/or a local embedding for the dataset creation, as well as an acess to an LLM for retrieval => can we get free (or near free) online stuff to perform these operations? (Groq is already a good thing).  "
      ],
      "metadata": {
        "id": "NLdlzHP8PrSZ"
      }
    },
    {
      "cell_type": "markdown",
      "source": [
        "## CONCLUSION OF THE JSON TEST\n",
        "\n",
        "We have complete categories as we cannot possibly fail (we are using XMLTODICT lib to convert XML to JSON).  \n",
        "However, this doesn't seem to prevent problems:  \n",
        "- we cannot match a given person declaration! Even when setting up the query perfectly, we are in 5th position, with 4 irrelevant matches before. Even after analyzing all semantically related text, we cannot explain this weird occurance...\n",
        "- this use of JSON instead of XML decreases char count by an average of 25%; which is nice but not enough to use several declarations in a single context request (only Mixtral was able to process it).  \n",
        "\n",
        "````\n",
        "RateLimitError: Error code: 429 - {'error': {'message': 'Rate limit reached for model `llama3-70b-8192` in organization `org_01hw5634epebfvhswdt88pdsm3` on tokens per minute (TPM): Limit 7000, Used 0, Requested ~7485. Please try again in 4.157142857s. Visit https://console.groq.com/docs/rate-limits for more information.', 'type': 'tokens', 'code': 'rate_limit_exceeded'}}\n",
        "````\n",
        "\n",
        "### What to do next\n",
        "\n",
        "- extract text from JSON so the embeddings are les confused by keys maybe?  \n",
        "- we noticed a change in performance between ALLCAPS and alllower so we will preventively set all text to lowerchars and process all queries to lower chars so this problem is dealt with.\n",
        "- recompute embeddings and test results.  "
      ],
      "metadata": {
        "id": "Ku13766XVdcQ"
      }
    },
    {
      "cell_type": "markdown",
      "source": [
        "## CONCLUSION OF THE TEXT TEST\n",
        "\n",
        "We have better retrieval rates: Damien Abad is perfectly recognized in our tests. However, Antoine Armand is not, at all. It seems that we can also retrieve people by their title, like \"Député de la Haute-Savoie\", but not perfectly, as many will in fact be \"Senateurs\" or \"Député de Savoie\" instead.  \n",
        "\n",
        "We still rely on full JSON inclusion in the context as the text only version is too cryptic for an LLM to analyze its contents.  \n",
        "\n",
        "### What to do next\n",
        "\n",
        "- CHUNKING! We will chunk each declaration into large subsections (the main keys under \"declaration\") and prefix them with the name and work title of the person making the declaration. This way, we will be able to ask precise questions about something related to someone.  \n",
        "- Embedding: it seems that we can pass up to 2048 embedding requests at once (see https://cookbook.openai.com/examples/embedding_wikipedia_articles_for_search ) so we should do that to handle the increased needs due to chunking.  \n",
        "\n",
        "This \"chunking with person name+title prefix\" technique will improve questions about someone, but still not solve the problem of aggregate questions like:  \n",
        "- who is making more than X in year Y ?  \n",
        "- list people working at place X ?\n",
        "- list people affiliated with party X ?\n",
        "etc...\n",
        "\n",
        "These will only get solved by using SQL and a structured database.  "
      ],
      "metadata": {
        "id": "duNeUBuivMIT"
      }
    },
    {
      "cell_type": "markdown",
      "source": [
        "## CONCLUSION OF THE TEXT WITH METADATA TEST\n",
        "\n",
        "It works even better! Now we get 90% succes when naming someone in a query, and we get consistent results.  \n",
        "The only shortcoming is when several people have the same name, either same name+surname, or a shared name as a surname. We can disimbiguate using the current job title, although that is only possible by doing some research.  \n",
        "The special chars are also a problem, their usage is inconsistent in the declarations, eg. Loic VS Loïc.  \n",
        "\n",
        "- adding a name+surname+job title prefix to the context is a great success\n",
        "- we should test the job titles more deeply to see how to exploit them  \n",
        "- the advanced questions are also a great success due to the complete declaration being passed in the context  \n",
        "\n",
        "### What to do next  \n",
        "- find a way to embed a link to the current declaration so our answers come with a URL to fact check the answers  \n",
        "- convert the simple RAG into a discussion by passing the chat history"
      ],
      "metadata": {
        "id": "wE_tAvRQCWQl"
      }
    },
    {
      "cell_type": "markdown",
      "source": [
        "## CONCLUSION OF THE TEXT-INDEX TEST\n",
        "\n",
        "Best results so far, we have a perfect match when asking for a given person.  \n",
        "Now, the problem seems to be the quality of the job titles: XML files contain hazy information, this is not great for creating the index, we will have to rely on a seconday data source to improve this.  \n",
        "\n",
        "- the persons name and surname is a perfect match\n",
        "- we can ask complex questions and still match the correct context\n",
        "\n",
        "### What to do next  \n",
        "\n",
        "- load the extented information (.csv file with actual job titles) and re-create the index from there  \n",
        "- do a second test  "
      ],
      "metadata": {
        "id": "kYa0n86iThRF"
      }
    },
    {
      "cell_type": "markdown",
      "source": [
        "## CONCLUSION OF THE SECOND TEXT-INDEX TEST  \n",
        "\n",
        "Afterr retrieval of the correct job titles, we still cannot get a positive match for the mayor of Bordeaux.  \n",
        "Sadly, the second nin chief is always recognized first.  \n",
        "We then tried making a second guess by first having an LLM ask a retrieval question, then have a final question based on the \"higher\" retrieval quality.  \n",
        "\n",
        "It turns out that the dumb LLM (mixtral) gets the correct answer to the mayor question and returns the correct context, but then, is incapable of answering correctly.  \n",
        "The \"smart\" llm (LLama3) cannot get the correct retrieval query (asks about the previous maire...the change dates back to 2019 when the cutoff date is supposed to be 2023, and the LLM gives the correct answer on huggingface, so Groq might be quantizing a lot here...) so the test fails.  \n",
        "\n",
        "- we have correct identification results, although the exact synthax (eg. a `d'` VS `de` before the name) seems to have a big impact.  \n",
        "- we cannot ask general questions about job titles as a job title containing part of another job title will weight more (no job title hierarchy knowledge in the embedding). Eg. `mayor helper` will be ranked higher than `mayor` when looking for the maire.  \n",
        "\n",
        "### What to do next  \n",
        "\n",
        "- we should use better quality LLMs to ask retrieval questions, as we do not pass documents in the context => the requests will be quite cheap.  \n",
        "- we can add more information in the index? No ideas for now.  "
      ],
      "metadata": {
        "id": "o0qgx7H3yZWo"
      }
    },
    {
      "cell_type": "markdown",
      "source": [
        "## CONCLUSION OF THE THRID TEXT-INDEX TEST\n",
        "\n",
        "This time we used the \"large\" embedding model instead of the \"small\".  \n",
        "The results are spectacular : 10/10 !  \n",
        "\n",
        "````\n",
        "This was a triumph.\n",
        "I'm making a note here:\n",
        "huge success.\n",
        "````"
      ],
      "metadata": {
        "id": "EVZdmxtEnwwm"
      }
    },
    {
      "cell_type": "code",
      "source": [],
      "metadata": {
        "id": "NMM4bnOP3abv"
      },
      "execution_count": null,
      "outputs": []
    }
  ]
}